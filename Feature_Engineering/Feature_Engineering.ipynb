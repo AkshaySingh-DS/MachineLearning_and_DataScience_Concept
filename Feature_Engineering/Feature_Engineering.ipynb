{
 "cells": [
  {
   "cell_type": "markdown",
   "metadata": {},
   "source": [
    "<h1><center>Abhishek Thakur Book Concept<center></h2>"
   ]
  },
  {
   "cell_type": "markdown",
   "metadata": {},
   "source": [
    "###  Chapter - Feature Enginnering/Features_Transform"
   ]
  },
  {
   "cell_type": "markdown",
   "metadata": {},
   "source": [
    "#### Topic-1 KNN imputer\n",
    "* NOTE: available in sckit-learn '0.23.2' version."
   ]
  },
  {
   "cell_type": "markdown",
   "metadata": {},
   "source": [
    "* Theory and some Key aspects of this method:\n",
    "    * This is a fancy way of handling the missing values.\n",
    "    * Each sample’s missing values are imputed using the mean value from n_neighbors nearest neighbors found in the training set. Two samples are close if the features that neither is missing are close.\n",
    " \n",
    "    * Advantage over other imputer's:\n",
    "    Some methods such as droping data points if it has a missing value or replacing the missing values with mean, median or mode values. However, these methods can waste valuable data or reduce the variability of your dataset.\n",
    "     KNN Imputer maintains the value and variability of your datasets and yet it is more precise\n",
    "     \n",
    "     * Limitations:\n",
    "         * One thing to note here is that the KNN Imputer does not recognize text data values Becoz it works on some distance metric like **Euclidean** \n",
    "         * So we have to convert text data into numeric one then apply KNNImputer. \n",
    "    \n",
    "    \n",
    "https://scikit-learn.org/stable/modules/generated/sklearn.impute.KNNImputer.html"
   ]
  },
  {
   "cell_type": "code",
   "execution_count": 1,
   "metadata": {},
   "outputs": [],
   "source": [
    "import numpy as np\n",
    "from sklearn import impute "
   ]
  },
  {
   "cell_type": "code",
   "execution_count": 2,
   "metadata": {},
   "outputs": [
    {
     "data": {
      "text/plain": [
       "array([[12., 17., 17., 18., 19., 11.],\n",
       "       [19., 12., 10., 17., 14., 16.],\n",
       "       [11., 19., 18., 18., 12., 18.],\n",
       "       [10., 18., 12., 15., 13., 19.],\n",
       "       [13., 15., 18., 10., 19., 12.],\n",
       "       [14., 14., 14., 18., 19., 18.],\n",
       "       [14., 11., 11., 19., 10., 14.],\n",
       "       [14., 18., 12., 18., 10., 15.],\n",
       "       [10., 17., 14., 15., 11., 15.],\n",
       "       [10., 10., 14., 12., 13., 19.]])"
      ]
     },
     "execution_count": 2,
     "metadata": {},
     "output_type": "execute_result"
    }
   ],
   "source": [
    "#creating ndarry with 10 rows and 6 columns\n",
    "#values are rangin in b/w 10 to 20\n",
    "X = np.random.randint(10, 20, (10,6))\n",
    "X = X.astype(float)\n",
    "X"
   ]
  },
  {
   "cell_type": "code",
   "execution_count": 3,
   "metadata": {},
   "outputs": [],
   "source": [
    "#randomly assigninging NaN values to 10 numbers into above matrics\n",
    "#NOTE : choice function only works for 1-D array so that is why i\n",
    "#flat the above array using np.ravel()\n",
    "#\"replace=False\" so that nan value assignment can happen without replacemet\n",
    "\n",
    "X.ravel()[np.random.choice(X.size, 10, replace = False)] = np.nan"
   ]
  },
  {
   "cell_type": "code",
   "execution_count": 4,
   "metadata": {
    "code_folding": []
   },
   "outputs": [
    {
     "data": {
      "text/plain": [
       "array([[12., 17., 17., nan, 19., 11.],\n",
       "       [19., 12., nan, 17., 14., 16.],\n",
       "       [11., 19., nan, 18., 12., 18.],\n",
       "       [10., 18., nan, 15., 13., 19.],\n",
       "       [13., nan, 18., 10., 19., 12.],\n",
       "       [14., 14., 14., 18., 19., 18.],\n",
       "       [14., nan, nan, 19., 10., 14.],\n",
       "       [14., 18., 12., 18., 10., 15.],\n",
       "       [10., 17., 14., 15., 11., 15.],\n",
       "       [nan, 10., nan, 12., 13., nan]])"
      ]
     },
     "execution_count": 4,
     "metadata": {},
     "output_type": "execute_result"
    }
   ],
   "source": [
    "#data with NaN/null values\n",
    "X"
   ]
  },
  {
   "cell_type": "code",
   "execution_count": 5,
   "metadata": {},
   "outputs": [
    {
     "data": {
      "text/plain": [
       "array([[12. , 17. , 17. , 14. , 19. , 11. ],\n",
       "       [19. , 12. , 13. , 17. , 14. , 16. ],\n",
       "       [11. , 19. , 13. , 18. , 12. , 18. ],\n",
       "       [10. , 18. , 13. , 15. , 13. , 19. ],\n",
       "       [13. , 13.5, 18. , 10. , 19. , 12. ],\n",
       "       [14. , 14. , 14. , 18. , 19. , 18. ],\n",
       "       [14. , 18.5, 13. , 19. , 10. , 14. ],\n",
       "       [14. , 18. , 12. , 18. , 10. , 15. ],\n",
       "       [10. , 17. , 14. , 15. , 11. , 15. ],\n",
       "       [16. , 10. , 16. , 12. , 13. , 14. ]])"
      ]
     },
     "execution_count": 5,
     "metadata": {},
     "output_type": "execute_result"
    }
   ],
   "source": [
    "#applying knn_imputer with 2 neighbours(not be best but i just use it \n",
    "#for demonstration purpose)\n",
    "knn_imputer = impute.KNNImputer(n_neighbors = 2)\n",
    "knn_imputer.fit_transform(X)"
   ]
  },
  {
   "cell_type": "markdown",
   "metadata": {},
   "source": [
    "NOTE : *Another way of imputing missing values using train a regression model that try to predict the missing value using a column based on others columns, So we try to train our model using non missing values and predict targate value which have missing values, It is more robust.(Model Based imputaion)*"
   ]
  },
  {
   "cell_type": "markdown",
   "metadata": {},
   "source": [
    "#### Topic-2 Feature Transformation Intution"
   ]
  },
  {
   "cell_type": "markdown",
   "metadata": {},
   "source": [
    "In the industry sometimes it might also happen, when we gather some dataset by some stakeholders or may be by own or with some other means we dont have enough features by which our bussiness problem can solve in that case what we've to do, one solution is that we generate some new features from existing one this technique is called as **features Transformation**.\n",
    "\n",
    "Let's take very simple example of XOR popular data set."
   ]
  },
  {
   "cell_type": "markdown",
   "metadata": {},
   "source": [
    "![XOR dataset](xor.png)"
   ]
  },
  {
   "cell_type": "markdown",
   "metadata": {},
   "source": [
    "if above dataset i want to build my classification with linear models such as Logistic Regression(fundamental way not any extension) then first i have to do feature transformation i.e create new features from existing one in such a way that these classes becomes linearly saperable(very good intuitive idea)\n",
    "So this is a simple intutive idea why we do FT's."
   ]
  },
  {
   "cell_type": "code",
   "execution_count": null,
   "metadata": {},
   "outputs": [],
   "source": [
    "* Under Features Transformation generally following :\n",
    "    * Handling Missing Values\n",
    "    * Feature Normalization and scalling\n",
    "    * creating new features from existing one"
   ]
  },
  {
   "cell_type": "markdown",
   "metadata": {},
   "source": [
    "Simple way to create many features just create **polynomial features** for e.g. Let say we have two features namely A,B. From A, B we could end up with new features using FT's A, B, AB, A^2, B^2 features."
   ]
  },
  {
   "cell_type": "code",
   "execution_count": 6,
   "metadata": {},
   "outputs": [],
   "source": [
    "import pandas as pd"
   ]
  },
  {
   "cell_type": "code",
   "execution_count": 7,
   "metadata": {},
   "outputs": [
    {
     "data": {
      "text/html": [
       "<div>\n",
       "<style scoped>\n",
       "    .dataframe tbody tr th:only-of-type {\n",
       "        vertical-align: middle;\n",
       "    }\n",
       "\n",
       "    .dataframe tbody tr th {\n",
       "        vertical-align: top;\n",
       "    }\n",
       "\n",
       "    .dataframe thead th {\n",
       "        text-align: right;\n",
       "    }\n",
       "</style>\n",
       "<table border=\"1\" class=\"dataframe\">\n",
       "  <thead>\n",
       "    <tr style=\"text-align: right;\">\n",
       "      <th></th>\n",
       "      <th>F_1</th>\n",
       "      <th>F_2</th>\n",
       "    </tr>\n",
       "  </thead>\n",
       "  <tbody>\n",
       "    <tr>\n",
       "      <th>0</th>\n",
       "      <td>0.662536</td>\n",
       "      <td>0.279678</td>\n",
       "    </tr>\n",
       "    <tr>\n",
       "      <th>1</th>\n",
       "      <td>0.758826</td>\n",
       "      <td>0.590847</td>\n",
       "    </tr>\n",
       "    <tr>\n",
       "      <th>2</th>\n",
       "      <td>0.511054</td>\n",
       "      <td>0.237119</td>\n",
       "    </tr>\n",
       "    <tr>\n",
       "      <th>3</th>\n",
       "      <td>0.495203</td>\n",
       "      <td>0.278423</td>\n",
       "    </tr>\n",
       "    <tr>\n",
       "      <th>4</th>\n",
       "      <td>0.822360</td>\n",
       "      <td>0.475099</td>\n",
       "    </tr>\n",
       "  </tbody>\n",
       "</table>\n",
       "</div>"
      ],
      "text/plain": [
       "        F_1       F_2\n",
       "0  0.662536  0.279678\n",
       "1  0.758826  0.590847\n",
       "2  0.511054  0.237119\n",
       "3  0.495203  0.278423\n",
       "4  0.822360  0.475099"
      ]
     },
     "execution_count": 7,
     "metadata": {},
     "output_type": "execute_result"
    }
   ],
   "source": [
    "#creating dataframe with 100 rows and two columns\n",
    "df = pd.DataFrame(np.random.rand(100, 2),\n",
    "                  columns=[f\"F_{i}\" for i in range(1, 3)]\n",
    "                )\n",
    "df.head()"
   ]
  },
  {
   "cell_type": "markdown",
   "metadata": {},
   "source": [
    "* Create two-degree polynomial using ***PolynomialFeatures*** from sklearn."
   ]
  },
  {
   "cell_type": "code",
   "execution_count": 8,
   "metadata": {},
   "outputs": [
    {
     "data": {
      "text/html": [
       "<div>\n",
       "<style scoped>\n",
       "    .dataframe tbody tr th:only-of-type {\n",
       "        vertical-align: middle;\n",
       "    }\n",
       "\n",
       "    .dataframe tbody tr th {\n",
       "        vertical-align: top;\n",
       "    }\n",
       "\n",
       "    .dataframe thead th {\n",
       "        text-align: right;\n",
       "    }\n",
       "</style>\n",
       "<table border=\"1\" class=\"dataframe\">\n",
       "  <thead>\n",
       "    <tr style=\"text-align: right;\">\n",
       "      <th></th>\n",
       "      <th>F_1</th>\n",
       "      <th>F_2</th>\n",
       "      <th>F_3</th>\n",
       "      <th>F_4</th>\n",
       "      <th>F_5</th>\n",
       "    </tr>\n",
       "  </thead>\n",
       "  <tbody>\n",
       "    <tr>\n",
       "      <th>0</th>\n",
       "      <td>0.662536</td>\n",
       "      <td>0.279678</td>\n",
       "      <td>0.438953</td>\n",
       "      <td>0.185297</td>\n",
       "      <td>0.078220</td>\n",
       "    </tr>\n",
       "    <tr>\n",
       "      <th>1</th>\n",
       "      <td>0.758826</td>\n",
       "      <td>0.590847</td>\n",
       "      <td>0.575817</td>\n",
       "      <td>0.448350</td>\n",
       "      <td>0.349100</td>\n",
       "    </tr>\n",
       "    <tr>\n",
       "      <th>2</th>\n",
       "      <td>0.511054</td>\n",
       "      <td>0.237119</td>\n",
       "      <td>0.261176</td>\n",
       "      <td>0.121181</td>\n",
       "      <td>0.056226</td>\n",
       "    </tr>\n",
       "    <tr>\n",
       "      <th>3</th>\n",
       "      <td>0.495203</td>\n",
       "      <td>0.278423</td>\n",
       "      <td>0.245226</td>\n",
       "      <td>0.137876</td>\n",
       "      <td>0.077520</td>\n",
       "    </tr>\n",
       "    <tr>\n",
       "      <th>4</th>\n",
       "      <td>0.822360</td>\n",
       "      <td>0.475099</td>\n",
       "      <td>0.676276</td>\n",
       "      <td>0.390702</td>\n",
       "      <td>0.225719</td>\n",
       "    </tr>\n",
       "  </tbody>\n",
       "</table>\n",
       "</div>"
      ],
      "text/plain": [
       "        F_1       F_2       F_3       F_4       F_5\n",
       "0  0.662536  0.279678  0.438953  0.185297  0.078220\n",
       "1  0.758826  0.590847  0.575817  0.448350  0.349100\n",
       "2  0.511054  0.237119  0.261176  0.121181  0.056226\n",
       "3  0.495203  0.278423  0.245226  0.137876  0.077520\n",
       "4  0.822360  0.475099  0.676276  0.390702  0.225719"
      ]
     },
     "execution_count": 8,
     "metadata": {},
     "output_type": "execute_result"
    }
   ],
   "source": [
    "from sklearn.preprocessing import PolynomialFeatures\n",
    "\n",
    "pf = PolynomialFeatures(degree = 2,\n",
    "                        interaction_only = False,\n",
    "                        include_bias = False\n",
    ")\n",
    "\n",
    "#fit to the features\n",
    "pf.fit(df)\n",
    "\n",
    "#create polynomial features\n",
    "poly_features = pf.transform(df)\n",
    "\n",
    "\n",
    "#creating dataframe with above features\n",
    "num_features = poly_features.shape[1]\n",
    "\n",
    "df_transformed = pd.DataFrame(poly_features,\n",
    "                             columns = [f\"F_{i}\" for i in range(1, num_features + 1)]\n",
    ")\n",
    "\n",
    "df_transformed.head()"
   ]
  },
  {
   "cell_type": "markdown",
   "metadata": {},
   "source": [
    "if we want to create 3 degree polynomial then we'd end up with nine total features.\n",
    "like A^2B, AB^2, A^3, B^3 also added in above transformation."
   ]
  },
  {
   "cell_type": "code",
   "execution_count": 9,
   "metadata": {},
   "outputs": [
    {
     "data": {
      "text/html": [
       "<div>\n",
       "<style scoped>\n",
       "    .dataframe tbody tr th:only-of-type {\n",
       "        vertical-align: middle;\n",
       "    }\n",
       "\n",
       "    .dataframe tbody tr th {\n",
       "        vertical-align: top;\n",
       "    }\n",
       "\n",
       "    .dataframe thead th {\n",
       "        text-align: right;\n",
       "    }\n",
       "</style>\n",
       "<table border=\"1\" class=\"dataframe\">\n",
       "  <thead>\n",
       "    <tr style=\"text-align: right;\">\n",
       "      <th></th>\n",
       "      <th>F_1</th>\n",
       "      <th>F_2</th>\n",
       "      <th>F_3</th>\n",
       "      <th>F_4</th>\n",
       "      <th>F_5</th>\n",
       "      <th>F_6</th>\n",
       "      <th>F_7</th>\n",
       "      <th>F_8</th>\n",
       "      <th>F_9</th>\n",
       "    </tr>\n",
       "  </thead>\n",
       "  <tbody>\n",
       "    <tr>\n",
       "      <th>0</th>\n",
       "      <td>0.662536</td>\n",
       "      <td>0.279678</td>\n",
       "      <td>0.438953</td>\n",
       "      <td>0.185297</td>\n",
       "      <td>0.078220</td>\n",
       "      <td>0.290822</td>\n",
       "      <td>0.122766</td>\n",
       "      <td>0.051823</td>\n",
       "      <td>0.021876</td>\n",
       "    </tr>\n",
       "    <tr>\n",
       "      <th>1</th>\n",
       "      <td>0.758826</td>\n",
       "      <td>0.590847</td>\n",
       "      <td>0.575817</td>\n",
       "      <td>0.448350</td>\n",
       "      <td>0.349100</td>\n",
       "      <td>0.436945</td>\n",
       "      <td>0.340220</td>\n",
       "      <td>0.264907</td>\n",
       "      <td>0.206265</td>\n",
       "    </tr>\n",
       "    <tr>\n",
       "      <th>2</th>\n",
       "      <td>0.511054</td>\n",
       "      <td>0.237119</td>\n",
       "      <td>0.261176</td>\n",
       "      <td>0.121181</td>\n",
       "      <td>0.056226</td>\n",
       "      <td>0.133475</td>\n",
       "      <td>0.061930</td>\n",
       "      <td>0.028734</td>\n",
       "      <td>0.013332</td>\n",
       "    </tr>\n",
       "    <tr>\n",
       "      <th>3</th>\n",
       "      <td>0.495203</td>\n",
       "      <td>0.278423</td>\n",
       "      <td>0.245226</td>\n",
       "      <td>0.137876</td>\n",
       "      <td>0.077520</td>\n",
       "      <td>0.121436</td>\n",
       "      <td>0.068277</td>\n",
       "      <td>0.038388</td>\n",
       "      <td>0.021583</td>\n",
       "    </tr>\n",
       "    <tr>\n",
       "      <th>4</th>\n",
       "      <td>0.822360</td>\n",
       "      <td>0.475099</td>\n",
       "      <td>0.676276</td>\n",
       "      <td>0.390702</td>\n",
       "      <td>0.225719</td>\n",
       "      <td>0.556142</td>\n",
       "      <td>0.321298</td>\n",
       "      <td>0.185622</td>\n",
       "      <td>0.107239</td>\n",
       "    </tr>\n",
       "  </tbody>\n",
       "</table>\n",
       "</div>"
      ],
      "text/plain": [
       "        F_1       F_2       F_3       F_4       F_5       F_6       F_7  \\\n",
       "0  0.662536  0.279678  0.438953  0.185297  0.078220  0.290822  0.122766   \n",
       "1  0.758826  0.590847  0.575817  0.448350  0.349100  0.436945  0.340220   \n",
       "2  0.511054  0.237119  0.261176  0.121181  0.056226  0.133475  0.061930   \n",
       "3  0.495203  0.278423  0.245226  0.137876  0.077520  0.121436  0.068277   \n",
       "4  0.822360  0.475099  0.676276  0.390702  0.225719  0.556142  0.321298   \n",
       "\n",
       "        F_8       F_9  \n",
       "0  0.051823  0.021876  \n",
       "1  0.264907  0.206265  \n",
       "2  0.028734  0.013332  \n",
       "3  0.038388  0.021583  \n",
       "4  0.185622  0.107239  "
      ]
     },
     "execution_count": 9,
     "metadata": {},
     "output_type": "execute_result"
    }
   ],
   "source": [
    "df_2 = df.copy()\n",
    "\n",
    "#creating object for 3rd dgree polynomial\n",
    "pf_3 = PolynomialFeatures(degree = 3,\n",
    "                        interaction_only = False,\n",
    "                        include_bias = False\n",
    ")\n",
    "\n",
    "#fitting data \n",
    "pf_3.fit(df_2)\n",
    "poly_degree3 = pf_3.transform(df_2)\n",
    "\n",
    "#converting into df's.\n",
    "new_df = pd.DataFrame(poly_degree3, \n",
    "            columns = [f\"F_{i}\" for i in range(1, poly_degree3.shape[1]+1)]\n",
    ")\n",
    "new_df.head()"
   ]
  },
  {
   "cell_type": "markdown",
   "metadata": {},
   "source": [
    "NOTE: *What i observe, feature enginnering/feat_trans is something we can done in best possible way when we have some knowledge about domain of the problem and as well as we know some basic transformation like log, exp and many more.But we also take care while doing transformation such that data set meaning doesn't change.*"
   ]
  },
  {
   "cell_type": "markdown",
   "metadata": {},
   "source": [
    "#### Binning"
   ]
  },
  {
   "cell_type": "markdown",
   "metadata": {},
   "source": [
    "* Another feature transformation like converts continuous variables into categories. It knows as **binning**. "
   ]
  },
  {
   "cell_type": "markdown",
   "metadata": {},
   "source": [
    "* Converting numbers into the categories using ***binning***(It is Nothing just creating the bins like as histogram we do)"
   ]
  },
  {
   "cell_type": "code",
   "execution_count": 10,
   "metadata": {},
   "outputs": [],
   "source": [
    "#with 10 bins using pandas cut methods.\n",
    "df['F_bin_10'] = pd.cut(df['F_1'], bins = 10, labels = False)\n",
    "\n",
    "#with 100 bins\n",
    "df['F_bin_100'] = pd.cut(df['F_1'], bins = 100, labels = False)"
   ]
  },
  {
   "cell_type": "code",
   "execution_count": 11,
   "metadata": {},
   "outputs": [
    {
     "data": {
      "text/html": [
       "<div>\n",
       "<style scoped>\n",
       "    .dataframe tbody tr th:only-of-type {\n",
       "        vertical-align: middle;\n",
       "    }\n",
       "\n",
       "    .dataframe tbody tr th {\n",
       "        vertical-align: top;\n",
       "    }\n",
       "\n",
       "    .dataframe thead th {\n",
       "        text-align: right;\n",
       "    }\n",
       "</style>\n",
       "<table border=\"1\" class=\"dataframe\">\n",
       "  <thead>\n",
       "    <tr style=\"text-align: right;\">\n",
       "      <th></th>\n",
       "      <th>F_1</th>\n",
       "      <th>F_2</th>\n",
       "      <th>F_bin_10</th>\n",
       "      <th>F_bin_100</th>\n",
       "    </tr>\n",
       "  </thead>\n",
       "  <tbody>\n",
       "    <tr>\n",
       "      <th>0</th>\n",
       "      <td>0.662536</td>\n",
       "      <td>0.279678</td>\n",
       "      <td>6</td>\n",
       "      <td>67</td>\n",
       "    </tr>\n",
       "    <tr>\n",
       "      <th>1</th>\n",
       "      <td>0.758826</td>\n",
       "      <td>0.590847</td>\n",
       "      <td>7</td>\n",
       "      <td>77</td>\n",
       "    </tr>\n",
       "    <tr>\n",
       "      <th>2</th>\n",
       "      <td>0.511054</td>\n",
       "      <td>0.237119</td>\n",
       "      <td>5</td>\n",
       "      <td>51</td>\n",
       "    </tr>\n",
       "    <tr>\n",
       "      <th>3</th>\n",
       "      <td>0.495203</td>\n",
       "      <td>0.278423</td>\n",
       "      <td>5</td>\n",
       "      <td>50</td>\n",
       "    </tr>\n",
       "    <tr>\n",
       "      <th>4</th>\n",
       "      <td>0.822360</td>\n",
       "      <td>0.475099</td>\n",
       "      <td>8</td>\n",
       "      <td>83</td>\n",
       "    </tr>\n",
       "  </tbody>\n",
       "</table>\n",
       "</div>"
      ],
      "text/plain": [
       "        F_1       F_2  F_bin_10  F_bin_100\n",
       "0  0.662536  0.279678         6         67\n",
       "1  0.758826  0.590847         7         77\n",
       "2  0.511054  0.237119         5         51\n",
       "3  0.495203  0.278423         5         50\n",
       "4  0.822360  0.475099         8         83"
      ]
     },
     "execution_count": 11,
     "metadata": {},
     "output_type": "execute_result"
    }
   ],
   "source": [
    "df.head()"
   ]
  },
  {
   "cell_type": "code",
   "execution_count": 12,
   "metadata": {},
   "outputs": [
    {
     "name": "stderr",
     "output_type": "stream",
     "text": [
      "/Users/akshaysingh/opt/anaconda3/lib/python3.7/site-packages/statsmodels/tools/_testing.py:19: FutureWarning: pandas.util.testing is deprecated. Use the functions in the public API at pandas.testing instead.\n",
      "  import pandas.util.testing as tm\n"
     ]
    }
   ],
   "source": [
    "import matplotlib.pyplot as plt\n",
    "%matplotlib inline\n",
    "import seaborn as sns"
   ]
  },
  {
   "cell_type": "code",
   "execution_count": 13,
   "metadata": {},
   "outputs": [
    {
     "data": {
      "text/plain": [
       "(array([13., 11.,  6.,  8.,  6., 14.,  9., 14.,  9., 10.]),\n",
       " array([0. , 0.9, 1.8, 2.7, 3.6, 4.5, 5.4, 6.3, 7.2, 8.1, 9. ]),\n",
       " <a list of 10 Patch objects>)"
      ]
     },
     "execution_count": 13,
     "metadata": {},
     "output_type": "execute_result"
    },
    {
     "data": {
      "image/png": "[encoded data removed]",
      "text/plain": [
       "<Figure size 432x288 with 1 Axes>"
      ]
     },
     "metadata": {
      "needs_background": "light"
     },
     "output_type": "display_data"
    }
   ],
   "source": [
    "plt.hist(df.F_bin_10, histtype = 'barstacked')"
   ]
  },
  {
   "cell_type": "code",
   "execution_count": 14,
   "metadata": {},
   "outputs": [],
   "source": [
    "#creating one more feature F_3 \n",
    "df.loc[: , 'F_3'] = np.random.randint(0,10000, 100)"
   ]
  },
  {
   "cell_type": "code",
   "execution_count": 15,
   "metadata": {},
   "outputs": [
    {
     "data": {
      "text/html": [
       "<div>\n",
       "<style scoped>\n",
       "    .dataframe tbody tr th:only-of-type {\n",
       "        vertical-align: middle;\n",
       "    }\n",
       "\n",
       "    .dataframe tbody tr th {\n",
       "        vertical-align: top;\n",
       "    }\n",
       "\n",
       "    .dataframe thead th {\n",
       "        text-align: right;\n",
       "    }\n",
       "</style>\n",
       "<table border=\"1\" class=\"dataframe\">\n",
       "  <thead>\n",
       "    <tr style=\"text-align: right;\">\n",
       "      <th></th>\n",
       "      <th>F_1</th>\n",
       "      <th>F_2</th>\n",
       "      <th>F_bin_10</th>\n",
       "      <th>F_bin_100</th>\n",
       "      <th>F_3</th>\n",
       "    </tr>\n",
       "  </thead>\n",
       "  <tbody>\n",
       "    <tr>\n",
       "      <th>0</th>\n",
       "      <td>0.662536</td>\n",
       "      <td>0.279678</td>\n",
       "      <td>6</td>\n",
       "      <td>67</td>\n",
       "      <td>8968</td>\n",
       "    </tr>\n",
       "    <tr>\n",
       "      <th>1</th>\n",
       "      <td>0.758826</td>\n",
       "      <td>0.590847</td>\n",
       "      <td>7</td>\n",
       "      <td>77</td>\n",
       "      <td>1769</td>\n",
       "    </tr>\n",
       "    <tr>\n",
       "      <th>2</th>\n",
       "      <td>0.511054</td>\n",
       "      <td>0.237119</td>\n",
       "      <td>5</td>\n",
       "      <td>51</td>\n",
       "      <td>4130</td>\n",
       "    </tr>\n",
       "    <tr>\n",
       "      <th>3</th>\n",
       "      <td>0.495203</td>\n",
       "      <td>0.278423</td>\n",
       "      <td>5</td>\n",
       "      <td>50</td>\n",
       "      <td>6773</td>\n",
       "    </tr>\n",
       "    <tr>\n",
       "      <th>4</th>\n",
       "      <td>0.822360</td>\n",
       "      <td>0.475099</td>\n",
       "      <td>8</td>\n",
       "      <td>83</td>\n",
       "      <td>4360</td>\n",
       "    </tr>\n",
       "  </tbody>\n",
       "</table>\n",
       "</div>"
      ],
      "text/plain": [
       "        F_1       F_2  F_bin_10  F_bin_100   F_3\n",
       "0  0.662536  0.279678         6         67  8968\n",
       "1  0.758826  0.590847         7         77  1769\n",
       "2  0.511054  0.237119         5         51  4130\n",
       "3  0.495203  0.278423         5         50  6773\n",
       "4  0.822360  0.475099         8         83  4360"
      ]
     },
     "execution_count": 15,
     "metadata": {},
     "output_type": "execute_result"
    }
   ],
   "source": [
    "df.head()"
   ]
  },
  {
   "cell_type": "code",
   "execution_count": 16,
   "metadata": {},
   "outputs": [
    {
     "data": {
      "text/plain": [
       "(array([12., 12., 12., 13.,  7.,  7., 12.,  8.,  7., 10.]),\n",
       " array([  35. , 1019.3, 2003.6, 2987.9, 3972.2, 4956.5, 5940.8, 6925.1,\n",
       "        7909.4, 8893.7, 9878. ]),\n",
       " <a list of 10 Patch objects>)"
      ]
     },
     "execution_count": 16,
     "metadata": {},
     "output_type": "execute_result"
    },
    {
     "data": {
      "image/png": "[encoded data removed]",
      "text/plain": [
       "<Figure size 432x288 with 1 Axes>"
      ]
     },
     "metadata": {
      "needs_background": "light"
     },
     "output_type": "display_data"
    }
   ],
   "source": [
    "plt.hist(df.F_3, histtype = 'barstacked')"
   ]
  },
  {
   "cell_type": "markdown",
   "metadata": {},
   "source": [
    "After logarthmatic transformation log(1+x) on F_3 features."
   ]
  },
  {
   "cell_type": "code",
   "execution_count": 17,
   "metadata": {},
   "outputs": [
    {
     "data": {
      "text/html": [
       "<div>\n",
       "<style scoped>\n",
       "    .dataframe tbody tr th:only-of-type {\n",
       "        vertical-align: middle;\n",
       "    }\n",
       "\n",
       "    .dataframe tbody tr th {\n",
       "        vertical-align: top;\n",
       "    }\n",
       "\n",
       "    .dataframe thead th {\n",
       "        text-align: right;\n",
       "    }\n",
       "</style>\n",
       "<table border=\"1\" class=\"dataframe\">\n",
       "  <thead>\n",
       "    <tr style=\"text-align: right;\">\n",
       "      <th></th>\n",
       "      <th>F_1</th>\n",
       "      <th>F_2</th>\n",
       "      <th>F_bin_10</th>\n",
       "      <th>F_bin_100</th>\n",
       "      <th>F_3</th>\n",
       "      <th>Log_F_3</th>\n",
       "    </tr>\n",
       "  </thead>\n",
       "  <tbody>\n",
       "    <tr>\n",
       "      <th>0</th>\n",
       "      <td>0.662536</td>\n",
       "      <td>0.279678</td>\n",
       "      <td>6</td>\n",
       "      <td>67</td>\n",
       "      <td>8968</td>\n",
       "      <td>9.101529</td>\n",
       "    </tr>\n",
       "    <tr>\n",
       "      <th>1</th>\n",
       "      <td>0.758826</td>\n",
       "      <td>0.590847</td>\n",
       "      <td>7</td>\n",
       "      <td>77</td>\n",
       "      <td>1769</td>\n",
       "      <td>7.478735</td>\n",
       "    </tr>\n",
       "    <tr>\n",
       "      <th>2</th>\n",
       "      <td>0.511054</td>\n",
       "      <td>0.237119</td>\n",
       "      <td>5</td>\n",
       "      <td>51</td>\n",
       "      <td>4130</td>\n",
       "      <td>8.326275</td>\n",
       "    </tr>\n",
       "    <tr>\n",
       "      <th>3</th>\n",
       "      <td>0.495203</td>\n",
       "      <td>0.278423</td>\n",
       "      <td>5</td>\n",
       "      <td>50</td>\n",
       "      <td>6773</td>\n",
       "      <td>8.820847</td>\n",
       "    </tr>\n",
       "    <tr>\n",
       "      <th>4</th>\n",
       "      <td>0.822360</td>\n",
       "      <td>0.475099</td>\n",
       "      <td>8</td>\n",
       "      <td>83</td>\n",
       "      <td>4360</td>\n",
       "      <td>8.380457</td>\n",
       "    </tr>\n",
       "  </tbody>\n",
       "</table>\n",
       "</div>"
      ],
      "text/plain": [
       "        F_1       F_2  F_bin_10  F_bin_100   F_3   Log_F_3\n",
       "0  0.662536  0.279678         6         67  8968  9.101529\n",
       "1  0.758826  0.590847         7         77  1769  7.478735\n",
       "2  0.511054  0.237119         5         51  4130  8.326275\n",
       "3  0.495203  0.278423         5         50  6773  8.820847\n",
       "4  0.822360  0.475099         8         83  4360  8.380457"
      ]
     },
     "execution_count": 17,
     "metadata": {},
     "output_type": "execute_result"
    }
   ],
   "source": [
    "df['Log_F_3'] = df.F_3.apply(lambda x: np.log(1 + x))\n",
    "df.head()"
   ]
  },
  {
   "cell_type": "code",
   "execution_count": 18,
   "metadata": {},
   "outputs": [
    {
     "name": "stdout",
     "output_type": "stream",
     "text": [
      "8594176.923131315\n",
      "0.9868717812156007\n"
     ]
    }
   ],
   "source": [
    "#try to check variance before transformation\n",
    "print(df.F_3.var())\n",
    "\n",
    "#after transformation\n",
    "\n",
    "print(df.Log_F_3.var())\n"
   ]
  },
  {
   "cell_type": "markdown",
   "metadata": {},
   "source": [
    "Above we can seen their is a drastic change in variance."
   ]
  },
  {
   "cell_type": "code",
   "execution_count": 19,
   "metadata": {},
   "outputs": [
    {
     "data": {
      "text/plain": [
       "(array([ 1.,  0.,  0.,  2.,  3.,  6.,  9., 20., 19., 40.]),\n",
       " array([3.58351894, 4.1449837 , 4.70644846, 5.26791323, 5.82937799,\n",
       "        6.39084275, 6.95230752, 7.51377228, 8.07523704, 8.63670181,\n",
       "        9.19816657]),\n",
       " <a list of 10 Patch objects>)"
      ]
     },
     "execution_count": 19,
     "metadata": {},
     "output_type": "execute_result"
    },
    {
     "data": {
      "image/png": "[encoded data removed]",
      "text/plain": [
       "<Figure size 432x288 with 1 Axes>"
      ]
     },
     "metadata": {
      "needs_background": "light"
     },
     "output_type": "display_data"
    }
   ],
   "source": [
    "#look at the distribution of Log_F_3\n",
    "plt.hist(df.Log_F_3, histtype = 'barstacked')"
   ]
  },
  {
   "cell_type": "code",
   "execution_count": 20,
   "metadata": {},
   "outputs": [
    {
     "data": {
      "image/png": "[encoded data removed]",
      "text/plain": [
       "<Figure size 432x288 with 1 Axes>"
      ]
     },
     "metadata": {
      "needs_background": "light"
     },
     "output_type": "display_data"
    }
   ],
   "source": [
    "# get first five features distribution\n",
    "for i in new_df.columns[0:5]:\n",
    "    sns.kdeplot(new_df[i])"
   ]
  },
  {
   "cell_type": "markdown",
   "metadata": {},
   "source": [
    "* Moving window to time series data\n",
    "\n",
    "Lets way we are dealing with **date and time data** \n",
    "Let's we have datetime column, then we can create follwing features like below :\n",
    "    - year\n",
    "    - Month\n",
    "    - hour\n",
    "    - weekend\n",
    "    - week of year\n",
    "    - And many more."
   ]
  },
  {
   "cell_type": "code",
   "execution_count": 21,
   "metadata": {
    "code_folding": []
   },
   "outputs": [
    {
     "data": {
      "text/html": [
       "<div>\n",
       "<style scoped>\n",
       "    .dataframe tbody tr th:only-of-type {\n",
       "        vertical-align: middle;\n",
       "    }\n",
       "\n",
       "    .dataframe tbody tr th {\n",
       "        vertical-align: top;\n",
       "    }\n",
       "\n",
       "    .dataframe thead th {\n",
       "        text-align: right;\n",
       "    }\n",
       "</style>\n",
       "<table border=\"1\" class=\"dataframe\">\n",
       "  <thead>\n",
       "    <tr style=\"text-align: right;\">\n",
       "      <th></th>\n",
       "      <th>Date</th>\n",
       "      <th>customers_id</th>\n",
       "      <th>cat_1</th>\n",
       "      <th>cat_2</th>\n",
       "      <th>cat_3</th>\n",
       "      <th>num1</th>\n",
       "    </tr>\n",
       "  </thead>\n",
       "  <tbody>\n",
       "    <tr>\n",
       "      <th>0</th>\n",
       "      <td>2020-01-06 00:00:00</td>\n",
       "      <td>1001</td>\n",
       "      <td>4</td>\n",
       "      <td>1</td>\n",
       "      <td>6</td>\n",
       "      <td>0.134127</td>\n",
       "    </tr>\n",
       "    <tr>\n",
       "      <th>1</th>\n",
       "      <td>2020-01-06 10:00:00</td>\n",
       "      <td>1001</td>\n",
       "      <td>3</td>\n",
       "      <td>0</td>\n",
       "      <td>5</td>\n",
       "      <td>-1.055308</td>\n",
       "    </tr>\n",
       "    <tr>\n",
       "      <th>2</th>\n",
       "      <td>2020-01-06 20:00:00</td>\n",
       "      <td>1002</td>\n",
       "      <td>2</td>\n",
       "      <td>1</td>\n",
       "      <td>6</td>\n",
       "      <td>-1.726648</td>\n",
       "    </tr>\n",
       "    <tr>\n",
       "      <th>3</th>\n",
       "      <td>2020-01-07 06:00:00</td>\n",
       "      <td>1001</td>\n",
       "      <td>3</td>\n",
       "      <td>2</td>\n",
       "      <td>4</td>\n",
       "      <td>0.301749</td>\n",
       "    </tr>\n",
       "    <tr>\n",
       "      <th>4</th>\n",
       "      <td>2020-01-07 16:00:00</td>\n",
       "      <td>1001</td>\n",
       "      <td>2</td>\n",
       "      <td>2</td>\n",
       "      <td>6</td>\n",
       "      <td>0.020451</td>\n",
       "    </tr>\n",
       "  </tbody>\n",
       "</table>\n",
       "</div>"
      ],
      "text/plain": [
       "                 Date  customers_id  cat_1  cat_2  cat_3      num1\n",
       "0 2020-01-06 00:00:00          1001      4      1      6  0.134127\n",
       "1 2020-01-06 10:00:00          1001      3      0      5 -1.055308\n",
       "2 2020-01-06 20:00:00          1002      2      1      6 -1.726648\n",
       "3 2020-01-07 06:00:00          1001      3      2      4  0.301749\n",
       "4 2020-01-07 16:00:00          1001      2      2      6  0.020451"
      ]
     },
     "execution_count": 21,
     "metadata": {},
     "output_type": "execute_result"
    }
   ],
   "source": [
    "#Let's create dummy dataframe\n",
    "features = {\n",
    "    'Date' : pd.date_range('2020-01-06', '2020-01-10', freq = '10H'),\n",
    "    'customers_id': np.random.randint(1000, 1004, 10),\n",
    "    'cat_1' : np.random.randint(2, 5, 10),\n",
    "    'cat_2' : np.random.randint(0, 3, 10),\n",
    "    'cat_3' : np.random.randint(4, 7, 10),\n",
    "    'num1'  : np.random.randn(10)\n",
    "}\n",
    "\n",
    "dummy_df = pd.DataFrame(features)\n",
    "dummy_df.head()"
   ]
  },
  {
   "cell_type": "code",
   "execution_count": 22,
   "metadata": {},
   "outputs": [
    {
     "data": {
      "text/plain": [
       "Date            datetime64[ns]\n",
       "customers_id             int64\n",
       "cat_1                    int64\n",
       "cat_2                    int64\n",
       "cat_3                    int64\n",
       "num1                   float64\n",
       "dtype: object"
      ]
     },
     "execution_count": 22,
     "metadata": {},
     "output_type": "execute_result"
    }
   ],
   "source": [
    "dummy_df.dtypes"
   ]
  },
  {
   "cell_type": "code",
   "execution_count": 23,
   "metadata": {},
   "outputs": [
    {
     "data": {
      "text/plain": [
       "(10, 6)"
      ]
     },
     "execution_count": 23,
     "metadata": {},
     "output_type": "execute_result"
    }
   ],
   "source": [
    "dummy_df.shape"
   ]
  },
  {
   "cell_type": "code",
   "execution_count": 24,
   "metadata": {
    "code_folding": []
   },
   "outputs": [
    {
     "name": "stdout",
     "output_type": "stream",
     "text": [
      "[1001 1002 1000]\n",
      "[4 3 2]\n",
      "[1 0 2]\n",
      "[6 5 4]\n"
     ]
    }
   ],
   "source": [
    "#Let's check unique categories in each columns\n",
    "for col in dummy_df.columns[1:5]:\n",
    "    print(pd.unique(dummy_df[col]))"
   ]
  },
  {
   "cell_type": "code",
   "execution_count": 25,
   "metadata": {
    "code_folding": []
   },
   "outputs": [],
   "source": [
    "##Let's generate more features from date_time\n",
    "\n",
    "def gen_features(df):\n",
    "    \n",
    "    #create some bunch of features\n",
    "    df.loc[:, 'year'] = df.Date.dt.year\n",
    "    df.loc[:, 'month'] = df.Date.dt.month\n",
    "    df.loc[:, 'dayofweek'] = df.Date.dt.dayofweek\n",
    "    \n",
    "    #create aggregate dictionary\n",
    "    \n",
    "    aggs = {}\n",
    "    \n",
    "    aggs['month'] = ['nunique', 'mean']\n",
    "    aggs['num1'] = ['sum', 'mean', 'max', 'min']\n",
    "    aggs['customers_id' ] = ['nunique']\n",
    "    \n",
    "    #apply groupby according to customers_id and then apply aggregation on top of that\n",
    "    \n",
    "    agg_df = df.groupby('customers_id').agg(aggs)\n",
    "    agg_df = agg_df.reset_index()\n",
    "    \n",
    "    return agg_df"
   ]
  },
  {
   "cell_type": "code",
   "execution_count": 26,
   "metadata": {
    "code_folding": []
   },
   "outputs": [
    {
     "data": {
      "text/html": [
       "<div>\n",
       "<style scoped>\n",
       "    .dataframe tbody tr th:only-of-type {\n",
       "        vertical-align: middle;\n",
       "    }\n",
       "\n",
       "    .dataframe tbody tr th {\n",
       "        vertical-align: top;\n",
       "    }\n",
       "\n",
       "    .dataframe thead tr th {\n",
       "        text-align: left;\n",
       "    }\n",
       "</style>\n",
       "<table border=\"1\" class=\"dataframe\">\n",
       "  <thead>\n",
       "    <tr>\n",
       "      <th></th>\n",
       "      <th>customers_id</th>\n",
       "      <th colspan=\"2\" halign=\"left\">month</th>\n",
       "      <th colspan=\"4\" halign=\"left\">num1</th>\n",
       "      <th>customers_id</th>\n",
       "    </tr>\n",
       "    <tr>\n",
       "      <th></th>\n",
       "      <th></th>\n",
       "      <th>nunique</th>\n",
       "      <th>mean</th>\n",
       "      <th>sum</th>\n",
       "      <th>mean</th>\n",
       "      <th>max</th>\n",
       "      <th>min</th>\n",
       "      <th>nunique</th>\n",
       "    </tr>\n",
       "  </thead>\n",
       "  <tbody>\n",
       "    <tr>\n",
       "      <th>0</th>\n",
       "      <td>1000</td>\n",
       "      <td>1</td>\n",
       "      <td>1</td>\n",
       "      <td>0.100803</td>\n",
       "      <td>0.100803</td>\n",
       "      <td>0.100803</td>\n",
       "      <td>0.100803</td>\n",
       "      <td>1</td>\n",
       "    </tr>\n",
       "    <tr>\n",
       "      <th>1</th>\n",
       "      <td>1001</td>\n",
       "      <td>1</td>\n",
       "      <td>1</td>\n",
       "      <td>-0.877910</td>\n",
       "      <td>-0.125416</td>\n",
       "      <td>0.902317</td>\n",
       "      <td>-1.419625</td>\n",
       "      <td>1</td>\n",
       "    </tr>\n",
       "    <tr>\n",
       "      <th>2</th>\n",
       "      <td>1002</td>\n",
       "      <td>1</td>\n",
       "      <td>1</td>\n",
       "      <td>-0.763040</td>\n",
       "      <td>-0.381520</td>\n",
       "      <td>0.963608</td>\n",
       "      <td>-1.726648</td>\n",
       "      <td>1</td>\n",
       "    </tr>\n",
       "  </tbody>\n",
       "</table>\n",
       "</div>"
      ],
      "text/plain": [
       "  customers_id   month           num1                                \\\n",
       "               nunique mean       sum      mean       max       min   \n",
       "0         1000       1    1  0.100803  0.100803  0.100803  0.100803   \n",
       "1         1001       1    1 -0.877910 -0.125416  0.902317 -1.419625   \n",
       "2         1002       1    1 -0.763040 -0.381520  0.963608 -1.726648   \n",
       "\n",
       "  customers_id  \n",
       "       nunique  \n",
       "0            1  \n",
       "1            1  \n",
       "2            1  "
      ]
     },
     "execution_count": 26,
     "metadata": {},
     "output_type": "execute_result"
    }
   ],
   "source": [
    "#i just pass the df.copy becoz my actual data wouldn't change\n",
    "agg_df = gen_features(dummy_df.copy())\n",
    "agg_df"
   ]
  },
  {
   "cell_type": "markdown",
   "metadata": {},
   "source": [
    "We can also join this DF's with our original data frame if we want to do some prediction. "
   ]
  },
  {
   "cell_type": "code",
   "execution_count": null,
   "metadata": {},
   "outputs": [],
   "source": []
  }
 ],
 "metadata": {
  "kernelspec": {
   "display_name": "Python 3",
   "language": "python",
   "name": "python3"
  },
  "language_info": {
   "codemirror_mode": {
    "name": "ipython",
    "version": 3
   },
   "file_extension": ".py",
   "mimetype": "text/x-python",
   "name": "python",
   "nbconvert_exporter": "python",
   "pygments_lexer": "ipython3",
   "version": "3.7.4"
  }
 },
 "nbformat": 4,
 "nbformat_minor": 2
}
