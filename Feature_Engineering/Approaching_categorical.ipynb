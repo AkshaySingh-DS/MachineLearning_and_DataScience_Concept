{
 "cells": [
  {
   "cell_type": "markdown",
   "metadata": {},
   "source": [
    "### Approaching Categorical data/variables\n",
    "\n",
    "* Overview: \n",
    "\n",
    "    * Types of Categorical Variables in General\n",
    "    * Label Encoding and its variant order Label Encoding.\n",
    "    * Binary Encoding \n",
    "    * One Hot Encoding\n",
    "    * Target Label Ecoding\n",
    "    * Difference b/w get_dummy and one hot encoding\n",
    "    * Converting Category To number and binning method also\n",
    "    * Approaching/Handling NaN in categorical data\n",
    "    * Advantages as well as disadvantage of each approach"
   ]
  },
  {
   "cell_type": "markdown",
   "metadata": {},
   "source": [
    "Handling the categorical variable is most critical task, frankly says, There is no single technique which'd be very efficient for every data set/use case, Precisely says it depends on types of the categoroical variable. For E.g whether we have to maintain the relationship between the category or not if it is ordinal variable. Otherwise if it is normal categorical variable then i don't have to look at order b/w them.\n",
    "\n",
    "\n",
    "* More precisely Nominal(No order b/w categories) \n",
    "* ordinal(Some order or relation b/w categories)\n",
    "* binary category\n",
    "* cyclic category (days of week/ months in a year)\n",
    "\n",
    "***Abhishek's Statement(4-GM on kaggle) says that-> \"different people treat categorical data based on the type of category. But almost all problem can be approached in same way.\"***"
   ]
  },
  {
   "cell_type": "code",
   "execution_count": 1,
   "metadata": {},
   "outputs": [
    {
     "name": "stderr",
     "output_type": "stream",
     "text": [
      "/Users/akshaysingh/opt/anaconda3/lib/python3.7/site-packages/statsmodels/tools/_testing.py:19: FutureWarning: pandas.util.testing is deprecated. Use the functions in the public API at pandas.testing instead.\n",
      "  import pandas.util.testing as tm\n"
     ]
    }
   ],
   "source": [
    "import pandas as pd\n",
    "import numpy as np\n",
    "import matplotlib.pyplot as plt\n",
    "import seaborn as sns"
   ]
  },
  {
   "cell_type": "markdown",
   "metadata": {},
   "source": [
    "* The Dataset is **`cat-in-dat data`** which is categorical encoding challange on kaggle."
   ]
  },
  {
   "cell_type": "code",
   "execution_count": 29,
   "metadata": {},
   "outputs": [
    {
     "data": {
      "text/html": [
       "<div>\n",
       "<style scoped>\n",
       "    .dataframe tbody tr th:only-of-type {\n",
       "        vertical-align: middle;\n",
       "    }\n",
       "\n",
       "    .dataframe tbody tr th {\n",
       "        vertical-align: top;\n",
       "    }\n",
       "\n",
       "    .dataframe thead th {\n",
       "        text-align: right;\n",
       "    }\n",
       "</style>\n",
       "<table border=\"1\" class=\"dataframe\">\n",
       "  <thead>\n",
       "    <tr style=\"text-align: right;\">\n",
       "      <th></th>\n",
       "      <th>id</th>\n",
       "      <th>bin_0</th>\n",
       "      <th>bin_1</th>\n",
       "      <th>bin_2</th>\n",
       "      <th>bin_3</th>\n",
       "      <th>bin_4</th>\n",
       "      <th>nom_0</th>\n",
       "      <th>nom_1</th>\n",
       "      <th>nom_2</th>\n",
       "      <th>nom_3</th>\n",
       "      <th>...</th>\n",
       "      <th>nom_9</th>\n",
       "      <th>ord_0</th>\n",
       "      <th>ord_1</th>\n",
       "      <th>ord_2</th>\n",
       "      <th>ord_3</th>\n",
       "      <th>ord_4</th>\n",
       "      <th>ord_5</th>\n",
       "      <th>day</th>\n",
       "      <th>month</th>\n",
       "      <th>target</th>\n",
       "    </tr>\n",
       "  </thead>\n",
       "  <tbody>\n",
       "    <tr>\n",
       "      <th>0</th>\n",
       "      <td>0</td>\n",
       "      <td>0.0</td>\n",
       "      <td>0.0</td>\n",
       "      <td>0.0</td>\n",
       "      <td>F</td>\n",
       "      <td>N</td>\n",
       "      <td>Red</td>\n",
       "      <td>Trapezoid</td>\n",
       "      <td>Hamster</td>\n",
       "      <td>Russia</td>\n",
       "      <td>...</td>\n",
       "      <td>02e7c8990</td>\n",
       "      <td>3.0</td>\n",
       "      <td>Contributor</td>\n",
       "      <td>Hot</td>\n",
       "      <td>c</td>\n",
       "      <td>U</td>\n",
       "      <td>Pw</td>\n",
       "      <td>6.0</td>\n",
       "      <td>3.0</td>\n",
       "      <td>0</td>\n",
       "    </tr>\n",
       "    <tr>\n",
       "      <th>1</th>\n",
       "      <td>1</td>\n",
       "      <td>1.0</td>\n",
       "      <td>1.0</td>\n",
       "      <td>0.0</td>\n",
       "      <td>F</td>\n",
       "      <td>Y</td>\n",
       "      <td>Red</td>\n",
       "      <td>Star</td>\n",
       "      <td>Axolotl</td>\n",
       "      <td>NaN</td>\n",
       "      <td>...</td>\n",
       "      <td>f37df64af</td>\n",
       "      <td>3.0</td>\n",
       "      <td>Grandmaster</td>\n",
       "      <td>Warm</td>\n",
       "      <td>e</td>\n",
       "      <td>X</td>\n",
       "      <td>pE</td>\n",
       "      <td>7.0</td>\n",
       "      <td>7.0</td>\n",
       "      <td>0</td>\n",
       "    </tr>\n",
       "    <tr>\n",
       "      <th>2</th>\n",
       "      <td>2</td>\n",
       "      <td>0.0</td>\n",
       "      <td>1.0</td>\n",
       "      <td>0.0</td>\n",
       "      <td>F</td>\n",
       "      <td>N</td>\n",
       "      <td>Red</td>\n",
       "      <td>NaN</td>\n",
       "      <td>Hamster</td>\n",
       "      <td>Canada</td>\n",
       "      <td>...</td>\n",
       "      <td>NaN</td>\n",
       "      <td>3.0</td>\n",
       "      <td>NaN</td>\n",
       "      <td>Freezing</td>\n",
       "      <td>n</td>\n",
       "      <td>P</td>\n",
       "      <td>eN</td>\n",
       "      <td>5.0</td>\n",
       "      <td>9.0</td>\n",
       "      <td>0</td>\n",
       "    </tr>\n",
       "    <tr>\n",
       "      <th>3</th>\n",
       "      <td>3</td>\n",
       "      <td>NaN</td>\n",
       "      <td>0.0</td>\n",
       "      <td>0.0</td>\n",
       "      <td>F</td>\n",
       "      <td>N</td>\n",
       "      <td>Red</td>\n",
       "      <td>Circle</td>\n",
       "      <td>Hamster</td>\n",
       "      <td>Finland</td>\n",
       "      <td>...</td>\n",
       "      <td>f9d456e57</td>\n",
       "      <td>1.0</td>\n",
       "      <td>Novice</td>\n",
       "      <td>Lava Hot</td>\n",
       "      <td>a</td>\n",
       "      <td>C</td>\n",
       "      <td>NaN</td>\n",
       "      <td>3.0</td>\n",
       "      <td>3.0</td>\n",
       "      <td>0</td>\n",
       "    </tr>\n",
       "    <tr>\n",
       "      <th>4</th>\n",
       "      <td>4</td>\n",
       "      <td>0.0</td>\n",
       "      <td>NaN</td>\n",
       "      <td>0.0</td>\n",
       "      <td>T</td>\n",
       "      <td>N</td>\n",
       "      <td>Red</td>\n",
       "      <td>Triangle</td>\n",
       "      <td>Hamster</td>\n",
       "      <td>Costa Rica</td>\n",
       "      <td>...</td>\n",
       "      <td>c5361037c</td>\n",
       "      <td>3.0</td>\n",
       "      <td>Grandmaster</td>\n",
       "      <td>Cold</td>\n",
       "      <td>h</td>\n",
       "      <td>C</td>\n",
       "      <td>OZ</td>\n",
       "      <td>5.0</td>\n",
       "      <td>12.0</td>\n",
       "      <td>0</td>\n",
       "    </tr>\n",
       "  </tbody>\n",
       "</table>\n",
       "<p>5 rows × 25 columns</p>\n",
       "</div>"
      ],
      "text/plain": [
       "   id  bin_0  bin_1  bin_2 bin_3 bin_4 nom_0      nom_1    nom_2       nom_3  \\\n",
       "0   0    0.0    0.0    0.0     F     N   Red  Trapezoid  Hamster      Russia   \n",
       "1   1    1.0    1.0    0.0     F     Y   Red       Star  Axolotl         NaN   \n",
       "2   2    0.0    1.0    0.0     F     N   Red        NaN  Hamster      Canada   \n",
       "3   3    NaN    0.0    0.0     F     N   Red     Circle  Hamster     Finland   \n",
       "4   4    0.0    NaN    0.0     T     N   Red   Triangle  Hamster  Costa Rica   \n",
       "\n",
       "   ...      nom_9 ord_0        ord_1     ord_2 ord_3 ord_4  ord_5  day month  \\\n",
       "0  ...  02e7c8990   3.0  Contributor       Hot     c     U     Pw  6.0   3.0   \n",
       "1  ...  f37df64af   3.0  Grandmaster      Warm     e     X     pE  7.0   7.0   \n",
       "2  ...        NaN   3.0          NaN  Freezing     n     P     eN  5.0   9.0   \n",
       "3  ...  f9d456e57   1.0       Novice  Lava Hot     a     C    NaN  3.0   3.0   \n",
       "4  ...  c5361037c   3.0  Grandmaster      Cold     h     C     OZ  5.0  12.0   \n",
       "\n",
       "  target  \n",
       "0      0  \n",
       "1      0  \n",
       "2      0  \n",
       "3      0  \n",
       "4      0  \n",
       "\n",
       "[5 rows x 25 columns]"
      ]
     },
     "execution_count": 29,
     "metadata": {},
     "output_type": "execute_result"
    }
   ],
   "source": [
    "df = pd.read_csv('cat_train.csv')\n",
    "df2 = df.copy()\n",
    "df.head()"
   ]
  },
  {
   "cell_type": "markdown",
   "metadata": {},
   "source": [
    "* In this data set we have all types of category. "
   ]
  },
  {
   "cell_type": "code",
   "execution_count": 3,
   "metadata": {},
   "outputs": [
    {
     "data": {
      "text/plain": [
       "(600000, 25)"
      ]
     },
     "execution_count": 3,
     "metadata": {},
     "output_type": "execute_result"
    }
   ],
   "source": [
    "df.shape"
   ]
  },
  {
   "cell_type": "code",
   "execution_count": 4,
   "metadata": {},
   "outputs": [
    {
     "data": {
      "text/plain": [
       "id          int64\n",
       "bin_0     float64\n",
       "bin_1     float64\n",
       "bin_2     float64\n",
       "bin_3      object\n",
       "bin_4      object\n",
       "nom_0      object\n",
       "nom_1      object\n",
       "nom_2      object\n",
       "nom_3      object\n",
       "nom_4      object\n",
       "nom_5      object\n",
       "nom_6      object\n",
       "nom_7      object\n",
       "nom_8      object\n",
       "nom_9      object\n",
       "ord_0     float64\n",
       "ord_1      object\n",
       "ord_2      object\n",
       "ord_3      object\n",
       "ord_4      object\n",
       "ord_5      object\n",
       "day       float64\n",
       "month     float64\n",
       "target      int64\n",
       "dtype: object"
      ]
     },
     "execution_count": 4,
     "metadata": {},
     "output_type": "execute_result"
    }
   ],
   "source": [
    "df.dtypes"
   ]
  },
  {
   "cell_type": "code",
   "execution_count": 5,
   "metadata": {},
   "outputs": [
    {
     "data": {
      "text/plain": [
       "array([0, 1])"
      ]
     },
     "execution_count": 5,
     "metadata": {},
     "output_type": "execute_result"
    }
   ],
   "source": [
    "#Target variable type(binary)\n",
    "np.unique(df.target)"
   ]
  },
  {
   "cell_type": "code",
   "execution_count": 6,
   "metadata": {},
   "outputs": [
    {
     "data": {
      "text/plain": [
       "0    487677\n",
       "1    112323\n",
       "Name: target, dtype: int64"
      ]
     },
     "execution_count": 6,
     "metadata": {},
     "output_type": "execute_result"
    }
   ],
   "source": [
    "#check dataset distribution along the target\n",
    "df.target.value_counts()"
   ]
  },
  {
   "cell_type": "code",
   "execution_count": 7,
   "metadata": {},
   "outputs": [
    {
     "data": {
      "text/plain": [
       "Index(['id', 'bin_0', 'bin_1', 'bin_2', 'bin_3', 'bin_4', 'nom_0', 'nom_1',\n",
       "       'nom_2', 'nom_3', 'nom_4', 'nom_5', 'nom_6', 'nom_7', 'nom_8', 'nom_9',\n",
       "       'ord_0', 'ord_1', 'ord_2', 'ord_3', 'ord_4', 'ord_5', 'day', 'month',\n",
       "       'target'],\n",
       "      dtype='object')"
      ]
     },
     "execution_count": 7,
     "metadata": {},
     "output_type": "execute_result"
    }
   ],
   "source": [
    "df.columns"
   ]
  },
  {
   "cell_type": "code",
   "execution_count": 8,
   "metadata": {},
   "outputs": [
    {
     "data": {
      "text/plain": [
       "[Hot, Warm, Freezing, Lava Hot, Cold, ..., Freezing, Boiling Hot, Freezing, Warm, Boiling Hot]\n",
       "Length: 600000\n",
       "Categories (6, object): [Boiling Hot, Cold, Freezing, Hot, Lava Hot, Warm]"
      ]
     },
     "execution_count": 8,
     "metadata": {},
     "output_type": "execute_result"
    }
   ],
   "source": [
    "#all categories in 'ord-2'\n",
    "pd.Categorical(df['ord_2'])"
   ]
  },
  {
   "cell_type": "code",
   "execution_count": 30,
   "metadata": {},
   "outputs": [
    {
     "data": {
      "text/plain": [
       "Freezing       142726\n",
       "Warm           124239\n",
       "Cold            97822\n",
       "Boiling Hot     84790\n",
       "Hot             67508\n",
       "Lava Hot        64840\n",
       "Name: ord_2, dtype: int64"
      ]
     },
     "execution_count": 30,
     "metadata": {},
     "output_type": "execute_result"
    }
   ],
   "source": [
    "#frequency count in each category in col 'ord_2'\n",
    "df.ord_2.value_counts()"
   ]
  },
  {
   "cell_type": "markdown",
   "metadata": {},
   "source": [
    "**Label Encoding:**\n",
    "   * Assign each category with a number with assumption it is nominal varaible.\n",
    "   * If there are N categories we map each category from 0 to N-1.\n",
    "   * Order Label Encoding (Using dictionary mapping) where we keep relation b/w the categories.\n",
    "   \n",
    "        * Where to use : ** Not used in distance based method for e.g Tree based Models we can use it.  \n",
    "   Not Use :Linear Models, svm,knn where data need to be normalized(or standarized) becoz they are distance based.Because it try to create realtion b/w the categories i.e weight of category.\n",
    "\n",
    " * Advantage :  \n",
    "    \n",
    "    * couldn't create feature space.(Curse of Dimensionality)"
   ]
  },
  {
   "cell_type": "markdown",
   "metadata": {},
   "source": [
    "* Diffenece B/w Normalization & standarization:\n",
    "    * What is Normalization?\n",
    "        * Normalization is a scaling where we end up our feature with range 0 to 1. It is also known as Min-Max scaling.\n",
    "          * x' = x - xmin / xmax - xmin.\n",
    "    * What is Standarization?\n",
    "         * Standardization is another scaling technique where the values are centered around the mean with a unit standard deviation.\n",
    "         * x' = x - x(mean) / std(sigma)."
   ]
  },
  {
   "cell_type": "code",
   "execution_count": 10,
   "metadata": {
    "code_folding": []
   },
   "outputs": [
    {
     "data": {
      "text/plain": [
       "1.0    142726\n",
       "4.0    124239\n",
       "5.0     97822\n",
       "6.0     84790\n",
       "2.0     67508\n",
       "3.0     64840\n",
       "Name: ord_2, dtype: int64"
      ]
     },
     "execution_count": 10,
     "metadata": {},
     "output_type": "execute_result"
    }
   ],
   "source": [
    "#1st Method(Label Encoding)\n",
    "mapping = {\n",
    "    'Freezing': 1,\n",
    "    'Hot': 2,\n",
    "    'Lava Hot': 3,\n",
    "    'Warm' : 4,\n",
    "    'Cold' : 5,\n",
    "    'Boiling Hot' : 6\n",
    " }\n",
    "\n",
    "df.loc[:, 'ord_2'] = df['ord_2'].map(mapping)\n",
    "df.ord_2.value_counts()"
   ]
  },
  {
   "cell_type": "code",
   "execution_count": 31,
   "metadata": {},
   "outputs": [
    {
     "data": {
      "text/plain": [
       "id            0\n",
       "bin_0     17894\n",
       "bin_1     18003\n",
       "bin_2     17930\n",
       "bin_3     18014\n",
       "bin_4     18047\n",
       "nom_0     18252\n",
       "nom_1     18156\n",
       "nom_2     18035\n",
       "nom_3     18121\n",
       "nom_4     18035\n",
       "nom_5     17778\n",
       "nom_6     18131\n",
       "nom_7     18003\n",
       "nom_8     17755\n",
       "nom_9     18073\n",
       "ord_0     18288\n",
       "ord_1     18041\n",
       "ord_2     18075\n",
       "ord_3     17916\n",
       "ord_4     17930\n",
       "ord_5     17713\n",
       "day       17952\n",
       "month     17988\n",
       "target        0\n",
       "dtype: int64"
      ]
     },
     "execution_count": 31,
     "metadata": {},
     "output_type": "execute_result"
    }
   ],
   "source": [
    "df.isnull().sum()"
   ]
  },
  {
   "cell_type": "markdown",
   "metadata": {},
   "source": [
    "* So here i'm going to treat nan. values as sapertate category like we used in NLP based Models."
   ]
  },
  {
   "cell_type": "code",
   "execution_count": 32,
   "metadata": {},
   "outputs": [],
   "source": [
    "df.ord_2.fillna(\"NONE\",inplace = True)"
   ]
  },
  {
   "cell_type": "code",
   "execution_count": 33,
   "metadata": {
    "scrolled": true
   },
   "outputs": [
    {
     "data": {
      "text/plain": [
       "Freezing       142726\n",
       "Warm           124239\n",
       "Cold            97822\n",
       "Boiling Hot     84790\n",
       "Hot             67508\n",
       "Lava Hot        64840\n",
       "NONE            18075\n",
       "Name: ord_2, dtype: int64"
      ]
     },
     "execution_count": 33,
     "metadata": {},
     "output_type": "execute_result"
    }
   ],
   "source": [
    "df.ord_2.value_counts()"
   ]
  },
  {
   "cell_type": "code",
   "execution_count": 14,
   "metadata": {
    "scrolled": true
   },
   "outputs": [
    {
     "data": {
      "text/plain": [
       "2    142726\n",
       "6    124239\n",
       "1     97822\n",
       "0     84790\n",
       "3     67508\n",
       "4     64840\n",
       "5     18075\n",
       "Name: ord_2, dtype: int64"
      ]
     },
     "execution_count": 14,
     "metadata": {},
     "output_type": "execute_result"
    }
   ],
   "source": [
    "from sklearn.preprocessing import LabelEncoder\n",
    "lbl_enc = LabelEncoder()\n",
    "df2.ord_2.fillna(\"NONE\",inplace = True)\n",
    "df2.loc[: , 'ord_2'] = lbl_enc.fit_transform(df2.ord_2.values)\n",
    "df2.ord_2.value_counts()"
   ]
  },
  {
   "cell_type": "markdown",
   "metadata": {},
   "source": [
    "* We can use this directly in Tree Based Models."
   ]
  },
  {
   "cell_type": "code",
   "execution_count": 15,
   "metadata": {},
   "outputs": [
    {
     "name": "stdout",
     "output_type": "stream",
     "text": [
      "72 : Bytes consued\n"
     ]
    }
   ],
   "source": [
    "#2nd Approach(binarization)\n",
    "example = np.array([\n",
    "    [0,0,1],\n",
    "    [1,0,0],\n",
    "    [1,0,1]\n",
    "])\n",
    "print(example.nbytes, \": Bytes consued\")"
   ]
  },
  {
   "cell_type": "code",
   "execution_count": 16,
   "metadata": {},
   "outputs": [
    {
     "name": "stdout",
     "output_type": "stream",
     "text": [
      "  (0, 2)\t1\n",
      "  (1, 0)\t1\n",
      "  (2, 0)\t1\n",
      "  (2, 2)\t1\n",
      "----------------------------------------\n",
      "32 : Bytes Consumed\n"
     ]
    }
   ],
   "source": [
    "#using sparse matrix (Why called sparse?)\n",
    "from scipy import sparse\n",
    "example = np.array([\n",
    "    [0,0,1],\n",
    "    [1,0,0],\n",
    "    [1,0,1]\n",
    "])  \n",
    "sparse_example = sparse.csr_matrix(example)\n",
    "\n",
    "print(sparse_example)\n",
    "print('--'*20)\n",
    "print(sparse_example.data.nbytes, \": Bytes Consumed\")"
   ]
  },
  {
   "cell_type": "markdown",
   "metadata": {},
   "source": [
    "* So less from dense array.\n",
    "* So there are many ways to reperesent sparse array this is most popular one."
   ]
  },
  {
   "cell_type": "code",
   "execution_count": 17,
   "metadata": {},
   "outputs": [
    {
     "name": "stdout",
     "output_type": "stream",
     "text": [
      "Overall Bytes consumed:  64\n"
     ]
    }
   ],
   "source": [
    "#number of bytes consumed\n",
    "print(\"Overall Bytes consumed: \", sparse_example.data.nbytes + \n",
    "     sparse_example.indptr.nbytes + \n",
    "     sparse_example.indices.nbytes)"
   ]
  },
  {
   "cell_type": "code",
   "execution_count": 18,
   "metadata": {},
   "outputs": [
    {
     "name": "stdout",
     "output_type": "stream",
     "text": [
      "matrix : [[0 1 0 ... 0 1 0]\n",
      " [0 0 0 ... 0 0 0]\n",
      " [0 0 0 ... 0 0 0]\n",
      " ...\n",
      " [0 0 0 ... 0 0 0]\n",
      " [0 0 0 ... 0 0 0]\n",
      " [0 0 1 ... 1 0 0]]\n",
      "dense array size: 80000000\n",
      "size of the sparse array with values only: 4005584\n",
      "full size of sparse arrray: 6012380\n"
     ]
    }
   ],
   "source": [
    "#lets take for more data to see the huge difference\n",
    "n_rows = 1000\n",
    "n_cols = 10000\n",
    "\n",
    "#create random binary matrix with only 5% 1's.\n",
    "example = np.random.binomial(1, \n",
    "                             p=0.05,\n",
    "                             size=(n_rows, n_cols)  \n",
    ")\n",
    "print(f\"matrix : {example}\")\n",
    "print(f\"dense array size: {example.nbytes}\")\n",
    "\n",
    "sparse_example = sparse.csr_matrix(example)\n",
    "print(f\"size of the sparse array with values only: {sparse_example.data.nbytes}\")\n",
    "\n",
    "full_size = (sparse_example.data.nbytes + \n",
    "             sparse_example.indptr.nbytes + \n",
    "             sparse_example.indices.nbytes)\n",
    "print(\"full size of sparse arrray: {0}\".format(full_size))"
   ]
  },
  {
   "cell_type": "markdown",
   "metadata": {},
   "source": [
    "* Huge difference we got here. So that's why we prefer sparse array than dense array, and its faster than dense array iff situation is like this.\n",
    "* More Optimized than sparse"
   ]
  },
  {
   "cell_type": "code",
   "execution_count": 19,
   "metadata": {},
   "outputs": [
    {
     "name": "stdout",
     "output_type": "stream",
     "text": [
      "Bytes Consumed by dense array : 144\n",
      "Bytes Consumed by Sparse array : 24\n",
      "full size of sparse arrray: 52\n"
     ]
    }
   ],
   "source": [
    "#Lets take for six category i.e r six feature\n",
    "#3rd Method(One hot Encoding HOW MUCH MEMORY CONSUMED)\n",
    "example = np.array([\n",
    "        [0, 0, 0, 0, 1, 0 ],\n",
    "        [0, 1, 0, 0, 0, 0 ],\n",
    "        [1, 0, 0, 0, 0, 0 ]\n",
    "     ]\n",
    ")\n",
    "print(f\"Bytes Consumed by dense array : {example.nbytes}\")\n",
    "\n",
    "sparse_exm = sparse.csr_matrix(example)\n",
    "\n",
    "print(f\"Bytes Consumed by Sparse array : {sparse_exm.data.nbytes}\")\n",
    "\n",
    "full_size = (sparse_exm.data.nbytes + \n",
    "             sparse_exm.indptr.nbytes + \n",
    "             sparse_exm.indices.nbytes)\n",
    "\n",
    "print(\"full size of sparse arrray: {0}\".format(full_size))"
   ]
  },
  {
   "cell_type": "markdown",
   "metadata": {},
   "source": [
    "* One hot Encoding much better than binarization(IN THE SEMSE OF SPARSE), Although One hot Encoding is also not a binnarization method."
   ]
  },
  {
   "cell_type": "code",
   "execution_count": 20,
   "metadata": {},
   "outputs": [
    {
     "name": "stdout",
     "output_type": "stream",
     "text": [
      "[[82]\n",
      " [56]\n",
      " [62]\n",
      " [41]\n",
      " [96]]\n",
      "========================================\n",
      "[[40]\n",
      " [52]\n",
      " [57]\n",
      " [95]\n",
      " [68]]\n"
     ]
    }
   ],
   "source": [
    "#5 rows and one column(column vector)\n",
    "print(np.random.randint(10, 100, size = 5).reshape(5, 1))\n",
    "\n",
    "print('=='* 20)\n",
    "\n",
    "#or more Precisely\n",
    "print(np.random.randint(10, 100, size = 5).reshape(-1, 1))"
   ]
  },
  {
   "cell_type": "markdown",
   "metadata": {},
   "source": [
    "**One Hot Encoding:**\n",
    "   * In general, Number of columns we w'd end up with N categories to N columns.\n",
    "   * we create sparse matrix for better performance of the algorithm.(time saving + memory saving also.)\n",
    "    \n",
    "   \n",
    "   **Where to use : Where distance based method used for e.g KNN, SVM we can use it.**\n",
    "   \n",
    "   Variants:\n",
    "       N colmn -> Tree based method to capture all the categories.\n",
    "       **N - 1 colm -> For Regression Models(linear_models) so one category(col) is by deafault correlated to the columns.(Dummy Variable Trap)**\n",
    "       \n",
    " * DisAdvantage :  \n",
    "    * Curse of Dimensionality.\n",
    "    \n",
    "* `Difference b/w get_dummy and One Hot Encoding`:\n",
    "   get_dummies method by default drop the one correlated feature and overcome to the double variable trap. "
   ]
  },
  {
   "cell_type": "code",
   "execution_count": 21,
   "metadata": {},
   "outputs": [
    {
     "name": "stdout",
     "output_type": "stream",
     "text": [
      "Number of bytes Consumed by OHE : 800000000\n",
      "Number of bytes consumed by OHEnc: 800000\n",
      "number of bytes Consumed y OHEnc by Sparse: 1600004\n"
     ]
    }
   ],
   "source": [
    "from sklearn.preprocessing import OneHotEncoder\n",
    "exmp = np.random.randint(1000, size = 100000)\n",
    "ohe = OneHotEncoder(sparse = False)\n",
    "ohe_example= ohe.fit_transform(exmp.reshape(-1, 1))\n",
    "#print\n",
    "\n",
    "print(f\"Number of bytes Consumed by OHE : {ohe_example.data.nbytes}\")\n",
    "\n",
    "#deault is True\n",
    "ohe = OneHotEncoder(sparse = True)\n",
    "ohe_example= ohe.fit_transform(exmp.reshape(-1, 1))\n",
    "\n",
    "#print\n",
    "print(f\"Number of bytes consumed by OHEnc: {ohe_example.data.nbytes}\")\n",
    "\n",
    "full_Size = (ohe_example.data.nbytes + \n",
    "            ohe_example.indices.nbytes + \n",
    "            ohe_example.indptr.nbytes)\n",
    "print(f\"number of bytes Consumed y OHEnc by Sparse: {full_Size}\")"
   ]
  },
  {
   "cell_type": "markdown",
   "metadata": {},
   "source": [
    "* Huge Difference we can see here."
   ]
  },
  {
   "cell_type": "code",
   "execution_count": 25,
   "metadata": {},
   "outputs": [
    {
     "data": {
      "text/plain": [
       "[2, 4, 1, 3, 5, ..., 1, 6, 1, 4, 6]\n",
       "Length: 600000\n",
       "Categories (7, object): [1, 2, 3, 4, 5, 6, NONE]"
      ]
     },
     "execution_count": 25,
     "metadata": {},
     "output_type": "execute_result"
    }
   ],
   "source": [
    "#number of categories in ord_2 as well as unique category present in ord_2.\n",
    "pd.Categorical(df.ord_2)"
   ]
  },
  {
   "cell_type": "code",
   "execution_count": 45,
   "metadata": {},
   "outputs": [
    {
     "data": {
      "text/plain": [
       "0          67508.0\n",
       "1         124239.0\n",
       "2         142726.0\n",
       "3          64840.0\n",
       "4          97822.0\n",
       "            ...   \n",
       "599995    142726.0\n",
       "599996     84790.0\n",
       "599997    142726.0\n",
       "599998    124239.0\n",
       "599999     84790.0\n",
       "Name: id, Length: 600000, dtype: float64"
      ]
     },
     "execution_count": 45,
     "metadata": {},
     "output_type": "execute_result"
    }
   ],
   "source": [
    "#4th method\n",
    "#Converting Category to count(based on their frequency)\n",
    "df.groupby('ord_2')['id'].transform('count')\n",
    "\n",
    "#for changing permanently ord_2 categories into numbers.\n",
    "#df.loc[:, 'ord_2'] = df.groupby('ord_2')['id'].transform('count')"
   ]
  },
  {
   "cell_type": "code",
   "execution_count": 48,
   "metadata": {},
   "outputs": [
    {
     "data": {
      "text/plain": [
       "[Contributor, Grandmaster, NaN, Novice, Grandmaster, ..., Novice, Novice, Contributor, Master, Contributor]\n",
       "Length: 600000\n",
       "Categories (5, object): [Contributor, Expert, Grandmaster, Master, Novice]"
      ]
     },
     "execution_count": 48,
     "metadata": {},
     "output_type": "execute_result"
    }
   ],
   "source": [
    "pd.Categorical(df.ord_1)"
   ]
  },
  {
   "cell_type": "code",
   "execution_count": 52,
   "metadata": {},
   "outputs": [
    {
     "data": {
      "text/html": [
       "<div>\n",
       "<style scoped>\n",
       "    .dataframe tbody tr th:only-of-type {\n",
       "        vertical-align: middle;\n",
       "    }\n",
       "\n",
       "    .dataframe tbody tr th {\n",
       "        vertical-align: top;\n",
       "    }\n",
       "\n",
       "    .dataframe thead th {\n",
       "        text-align: right;\n",
       "    }\n",
       "</style>\n",
       "<table border=\"1\" class=\"dataframe\">\n",
       "  <thead>\n",
       "    <tr style=\"text-align: right;\">\n",
       "      <th></th>\n",
       "      <th>ord_1</th>\n",
       "      <th>ord_2</th>\n",
       "      <th>Count_categories</th>\n",
       "    </tr>\n",
       "  </thead>\n",
       "  <tbody>\n",
       "    <tr>\n",
       "      <th>0</th>\n",
       "      <td>Contributor</td>\n",
       "      <td>Boiling Hot</td>\n",
       "      <td>15634</td>\n",
       "    </tr>\n",
       "    <tr>\n",
       "      <th>1</th>\n",
       "      <td>Contributor</td>\n",
       "      <td>Cold</td>\n",
       "      <td>17734</td>\n",
       "    </tr>\n",
       "    <tr>\n",
       "      <th>2</th>\n",
       "      <td>Contributor</td>\n",
       "      <td>Freezing</td>\n",
       "      <td>26082</td>\n",
       "    </tr>\n",
       "    <tr>\n",
       "      <th>3</th>\n",
       "      <td>Contributor</td>\n",
       "      <td>Hot</td>\n",
       "      <td>12428</td>\n",
       "    </tr>\n",
       "    <tr>\n",
       "      <th>4</th>\n",
       "      <td>Contributor</td>\n",
       "      <td>Lava Hot</td>\n",
       "      <td>11919</td>\n",
       "    </tr>\n",
       "    <tr>\n",
       "      <th>5</th>\n",
       "      <td>Contributor</td>\n",
       "      <td>Warm</td>\n",
       "      <td>22774</td>\n",
       "    </tr>\n",
       "    <tr>\n",
       "      <th>6</th>\n",
       "      <td>Expert</td>\n",
       "      <td>Boiling Hot</td>\n",
       "      <td>19477</td>\n",
       "    </tr>\n",
       "    <tr>\n",
       "      <th>7</th>\n",
       "      <td>Expert</td>\n",
       "      <td>Cold</td>\n",
       "      <td>22956</td>\n",
       "    </tr>\n",
       "    <tr>\n",
       "      <th>8</th>\n",
       "      <td>Expert</td>\n",
       "      <td>Freezing</td>\n",
       "      <td>33249</td>\n",
       "    </tr>\n",
       "    <tr>\n",
       "      <th>9</th>\n",
       "      <td>Expert</td>\n",
       "      <td>Hot</td>\n",
       "      <td>15792</td>\n",
       "    </tr>\n",
       "    <tr>\n",
       "      <th>10</th>\n",
       "      <td>Expert</td>\n",
       "      <td>Lava Hot</td>\n",
       "      <td>15078</td>\n",
       "    </tr>\n",
       "    <tr>\n",
       "      <th>11</th>\n",
       "      <td>Expert</td>\n",
       "      <td>Warm</td>\n",
       "      <td>28900</td>\n",
       "    </tr>\n",
       "    <tr>\n",
       "      <th>12</th>\n",
       "      <td>Grandmaster</td>\n",
       "      <td>Boiling Hot</td>\n",
       "      <td>13623</td>\n",
       "    </tr>\n",
       "    <tr>\n",
       "      <th>13</th>\n",
       "      <td>Grandmaster</td>\n",
       "      <td>Cold</td>\n",
       "      <td>15464</td>\n",
       "    </tr>\n",
       "    <tr>\n",
       "      <th>14</th>\n",
       "      <td>Grandmaster</td>\n",
       "      <td>Freezing</td>\n",
       "      <td>22818</td>\n",
       "    </tr>\n",
       "    <tr>\n",
       "      <th>15</th>\n",
       "      <td>Grandmaster</td>\n",
       "      <td>Hot</td>\n",
       "      <td>10805</td>\n",
       "    </tr>\n",
       "    <tr>\n",
       "      <th>16</th>\n",
       "      <td>Grandmaster</td>\n",
       "      <td>Lava Hot</td>\n",
       "      <td>10363</td>\n",
       "    </tr>\n",
       "    <tr>\n",
       "      <th>17</th>\n",
       "      <td>Grandmaster</td>\n",
       "      <td>Warm</td>\n",
       "      <td>19899</td>\n",
       "    </tr>\n",
       "    <tr>\n",
       "      <th>18</th>\n",
       "      <td>Master</td>\n",
       "      <td>Boiling Hot</td>\n",
       "      <td>10800</td>\n",
       "    </tr>\n",
       "    <tr>\n",
       "      <th>19</th>\n",
       "      <td>Master</td>\n",
       "      <td>Cold</td>\n",
       "      <td>12364</td>\n",
       "    </tr>\n",
       "    <tr>\n",
       "      <th>20</th>\n",
       "      <td>Master</td>\n",
       "      <td>Freezing</td>\n",
       "      <td>18035</td>\n",
       "    </tr>\n",
       "    <tr>\n",
       "      <th>21</th>\n",
       "      <td>Master</td>\n",
       "      <td>Hot</td>\n",
       "      <td>8594</td>\n",
       "    </tr>\n",
       "    <tr>\n",
       "      <th>22</th>\n",
       "      <td>Master</td>\n",
       "      <td>Lava Hot</td>\n",
       "      <td>8209</td>\n",
       "    </tr>\n",
       "    <tr>\n",
       "      <th>23</th>\n",
       "      <td>Master</td>\n",
       "      <td>Warm</td>\n",
       "      <td>15734</td>\n",
       "    </tr>\n",
       "    <tr>\n",
       "      <th>24</th>\n",
       "      <td>Novice</td>\n",
       "      <td>Boiling Hot</td>\n",
       "      <td>22718</td>\n",
       "    </tr>\n",
       "    <tr>\n",
       "      <th>25</th>\n",
       "      <td>Novice</td>\n",
       "      <td>Cold</td>\n",
       "      <td>26271</td>\n",
       "    </tr>\n",
       "    <tr>\n",
       "      <th>26</th>\n",
       "      <td>Novice</td>\n",
       "      <td>Freezing</td>\n",
       "      <td>38233</td>\n",
       "    </tr>\n",
       "    <tr>\n",
       "      <th>27</th>\n",
       "      <td>Novice</td>\n",
       "      <td>Hot</td>\n",
       "      <td>17850</td>\n",
       "    </tr>\n",
       "    <tr>\n",
       "      <th>28</th>\n",
       "      <td>Novice</td>\n",
       "      <td>Lava Hot</td>\n",
       "      <td>17373</td>\n",
       "    </tr>\n",
       "    <tr>\n",
       "      <th>29</th>\n",
       "      <td>Novice</td>\n",
       "      <td>Warm</td>\n",
       "      <td>33263</td>\n",
       "    </tr>\n",
       "  </tbody>\n",
       "</table>\n",
       "</div>"
      ],
      "text/plain": [
       "          ord_1        ord_2  Count_categories\n",
       "0   Contributor  Boiling Hot             15634\n",
       "1   Contributor         Cold             17734\n",
       "2   Contributor     Freezing             26082\n",
       "3   Contributor          Hot             12428\n",
       "4   Contributor     Lava Hot             11919\n",
       "5   Contributor         Warm             22774\n",
       "6        Expert  Boiling Hot             19477\n",
       "7        Expert         Cold             22956\n",
       "8        Expert     Freezing             33249\n",
       "9        Expert          Hot             15792\n",
       "10       Expert     Lava Hot             15078\n",
       "11       Expert         Warm             28900\n",
       "12  Grandmaster  Boiling Hot             13623\n",
       "13  Grandmaster         Cold             15464\n",
       "14  Grandmaster     Freezing             22818\n",
       "15  Grandmaster          Hot             10805\n",
       "16  Grandmaster     Lava Hot             10363\n",
       "17  Grandmaster         Warm             19899\n",
       "18       Master  Boiling Hot             10800\n",
       "19       Master         Cold             12364\n",
       "20       Master     Freezing             18035\n",
       "21       Master          Hot              8594\n",
       "22       Master     Lava Hot              8209\n",
       "23       Master         Warm             15734\n",
       "24       Novice  Boiling Hot             22718\n",
       "25       Novice         Cold             26271\n",
       "26       Novice     Freezing             38233\n",
       "27       Novice          Hot             17850\n",
       "28       Novice     Lava Hot             17373\n",
       "29       Novice         Warm             33263"
      ]
     },
     "execution_count": 52,
     "metadata": {},
     "output_type": "execute_result"
    }
   ],
   "source": [
    "df.groupby([\n",
    "     'ord_1',\n",
    "     'ord_2'\n",
    "])['id'].count().reset_index(name = \"Count_categories\")"
   ]
  },
  {
   "cell_type": "markdown",
   "metadata": {},
   "source": [
    "* ONE more trick to create a categoricals feature by combining them using domain knowledge/using some common sense and then apply encoding technique on top that."
   ]
  },
  {
   "cell_type": "code",
   "execution_count": 54,
   "metadata": {},
   "outputs": [
    {
     "data": {
      "text/html": [
       "<div>\n",
       "<style scoped>\n",
       "    .dataframe tbody tr th:only-of-type {\n",
       "        vertical-align: middle;\n",
       "    }\n",
       "\n",
       "    .dataframe tbody tr th {\n",
       "        vertical-align: top;\n",
       "    }\n",
       "\n",
       "    .dataframe thead th {\n",
       "        text-align: right;\n",
       "    }\n",
       "</style>\n",
       "<table border=\"1\" class=\"dataframe\">\n",
       "  <thead>\n",
       "    <tr style=\"text-align: right;\">\n",
       "      <th></th>\n",
       "      <th>id</th>\n",
       "      <th>bin_0</th>\n",
       "      <th>bin_1</th>\n",
       "      <th>bin_2</th>\n",
       "      <th>bin_3</th>\n",
       "      <th>bin_4</th>\n",
       "      <th>nom_0</th>\n",
       "      <th>nom_1</th>\n",
       "      <th>nom_2</th>\n",
       "      <th>nom_3</th>\n",
       "      <th>...</th>\n",
       "      <th>ord_0</th>\n",
       "      <th>ord_1</th>\n",
       "      <th>ord_2</th>\n",
       "      <th>ord_3</th>\n",
       "      <th>ord_4</th>\n",
       "      <th>ord_5</th>\n",
       "      <th>day</th>\n",
       "      <th>month</th>\n",
       "      <th>target</th>\n",
       "      <th>new_feature</th>\n",
       "    </tr>\n",
       "  </thead>\n",
       "  <tbody>\n",
       "    <tr>\n",
       "      <th>0</th>\n",
       "      <td>0</td>\n",
       "      <td>0.0</td>\n",
       "      <td>0.0</td>\n",
       "      <td>0.0</td>\n",
       "      <td>F</td>\n",
       "      <td>N</td>\n",
       "      <td>Red</td>\n",
       "      <td>Trapezoid</td>\n",
       "      <td>Hamster</td>\n",
       "      <td>Russia</td>\n",
       "      <td>...</td>\n",
       "      <td>3.0</td>\n",
       "      <td>Contributor</td>\n",
       "      <td>Hot</td>\n",
       "      <td>c</td>\n",
       "      <td>U</td>\n",
       "      <td>Pw</td>\n",
       "      <td>6.0</td>\n",
       "      <td>3.0</td>\n",
       "      <td>0</td>\n",
       "      <td>Hot_Contributor</td>\n",
       "    </tr>\n",
       "    <tr>\n",
       "      <th>1</th>\n",
       "      <td>1</td>\n",
       "      <td>1.0</td>\n",
       "      <td>1.0</td>\n",
       "      <td>0.0</td>\n",
       "      <td>F</td>\n",
       "      <td>Y</td>\n",
       "      <td>Red</td>\n",
       "      <td>Star</td>\n",
       "      <td>Axolotl</td>\n",
       "      <td>NaN</td>\n",
       "      <td>...</td>\n",
       "      <td>3.0</td>\n",
       "      <td>Grandmaster</td>\n",
       "      <td>Warm</td>\n",
       "      <td>e</td>\n",
       "      <td>X</td>\n",
       "      <td>pE</td>\n",
       "      <td>7.0</td>\n",
       "      <td>7.0</td>\n",
       "      <td>0</td>\n",
       "      <td>Warm_Grandmaster</td>\n",
       "    </tr>\n",
       "    <tr>\n",
       "      <th>2</th>\n",
       "      <td>2</td>\n",
       "      <td>0.0</td>\n",
       "      <td>1.0</td>\n",
       "      <td>0.0</td>\n",
       "      <td>F</td>\n",
       "      <td>N</td>\n",
       "      <td>Red</td>\n",
       "      <td>NaN</td>\n",
       "      <td>Hamster</td>\n",
       "      <td>Canada</td>\n",
       "      <td>...</td>\n",
       "      <td>3.0</td>\n",
       "      <td>NaN</td>\n",
       "      <td>Freezing</td>\n",
       "      <td>n</td>\n",
       "      <td>P</td>\n",
       "      <td>eN</td>\n",
       "      <td>5.0</td>\n",
       "      <td>9.0</td>\n",
       "      <td>0</td>\n",
       "      <td>Freezing_nan</td>\n",
       "    </tr>\n",
       "    <tr>\n",
       "      <th>3</th>\n",
       "      <td>3</td>\n",
       "      <td>NaN</td>\n",
       "      <td>0.0</td>\n",
       "      <td>0.0</td>\n",
       "      <td>F</td>\n",
       "      <td>N</td>\n",
       "      <td>Red</td>\n",
       "      <td>Circle</td>\n",
       "      <td>Hamster</td>\n",
       "      <td>Finland</td>\n",
       "      <td>...</td>\n",
       "      <td>1.0</td>\n",
       "      <td>Novice</td>\n",
       "      <td>Lava Hot</td>\n",
       "      <td>a</td>\n",
       "      <td>C</td>\n",
       "      <td>NaN</td>\n",
       "      <td>3.0</td>\n",
       "      <td>3.0</td>\n",
       "      <td>0</td>\n",
       "      <td>Lava Hot_Novice</td>\n",
       "    </tr>\n",
       "    <tr>\n",
       "      <th>4</th>\n",
       "      <td>4</td>\n",
       "      <td>0.0</td>\n",
       "      <td>NaN</td>\n",
       "      <td>0.0</td>\n",
       "      <td>T</td>\n",
       "      <td>N</td>\n",
       "      <td>Red</td>\n",
       "      <td>Triangle</td>\n",
       "      <td>Hamster</td>\n",
       "      <td>Costa Rica</td>\n",
       "      <td>...</td>\n",
       "      <td>3.0</td>\n",
       "      <td>Grandmaster</td>\n",
       "      <td>Cold</td>\n",
       "      <td>h</td>\n",
       "      <td>C</td>\n",
       "      <td>OZ</td>\n",
       "      <td>5.0</td>\n",
       "      <td>12.0</td>\n",
       "      <td>0</td>\n",
       "      <td>Cold_Grandmaster</td>\n",
       "    </tr>\n",
       "  </tbody>\n",
       "</table>\n",
       "<p>5 rows × 26 columns</p>\n",
       "</div>"
      ],
      "text/plain": [
       "   id  bin_0  bin_1  bin_2 bin_3 bin_4 nom_0      nom_1    nom_2       nom_3  \\\n",
       "0   0    0.0    0.0    0.0     F     N   Red  Trapezoid  Hamster      Russia   \n",
       "1   1    1.0    1.0    0.0     F     Y   Red       Star  Axolotl         NaN   \n",
       "2   2    0.0    1.0    0.0     F     N   Red        NaN  Hamster      Canada   \n",
       "3   3    NaN    0.0    0.0     F     N   Red     Circle  Hamster     Finland   \n",
       "4   4    0.0    NaN    0.0     T     N   Red   Triangle  Hamster  Costa Rica   \n",
       "\n",
       "   ... ord_0        ord_1     ord_2 ord_3 ord_4 ord_5  day month target  \\\n",
       "0  ...   3.0  Contributor       Hot     c     U    Pw  6.0   3.0      0   \n",
       "1  ...   3.0  Grandmaster      Warm     e     X    pE  7.0   7.0      0   \n",
       "2  ...   3.0          NaN  Freezing     n     P    eN  5.0   9.0      0   \n",
       "3  ...   1.0       Novice  Lava Hot     a     C   NaN  3.0   3.0      0   \n",
       "4  ...   3.0  Grandmaster      Cold     h     C    OZ  5.0  12.0      0   \n",
       "\n",
       "        new_feature  \n",
       "0   Hot_Contributor  \n",
       "1  Warm_Grandmaster  \n",
       "2      Freezing_nan  \n",
       "3   Lava Hot_Novice  \n",
       "4  Cold_Grandmaster  \n",
       "\n",
       "[5 rows x 26 columns]"
      ]
     },
     "execution_count": 54,
     "metadata": {},
     "output_type": "execute_result"
    }
   ],
   "source": [
    "df.loc[: , 'new_feature'] = df.ord_2.astype(str) + \"_\" + df.ord_1.astype(str)\n",
    "df.head()"
   ]
  },
  {
   "cell_type": "markdown",
   "metadata": {},
   "source": [
    "* Note that NaN also combined with this. How Treatment has been done with NaN values But no worries treatment of NaN has been done in same way. "
   ]
  },
  {
   "cell_type": "code",
   "execution_count": 56,
   "metadata": {},
   "outputs": [
    {
     "data": {
      "text/plain": [
       "[c, e, n, a, h, ..., a, n, n, m, b]\n",
       "Length: 600000\n",
       "Categories (15, object): [a, b, c, d, ..., l, m, n, o]"
      ]
     },
     "execution_count": 56,
     "metadata": {},
     "output_type": "execute_result"
    }
   ],
   "source": [
    "pd.Categorical(df.ord_3)"
   ]
  },
  {
   "cell_type": "code",
   "execution_count": 59,
   "metadata": {},
   "outputs": [
    {
     "data": {
      "text/html": [
       "<div>\n",
       "<style scoped>\n",
       "    .dataframe tbody tr th:only-of-type {\n",
       "        vertical-align: middle;\n",
       "    }\n",
       "\n",
       "    .dataframe tbody tr th {\n",
       "        vertical-align: top;\n",
       "    }\n",
       "\n",
       "    .dataframe thead th {\n",
       "        text-align: right;\n",
       "    }\n",
       "</style>\n",
       "<table border=\"1\" class=\"dataframe\">\n",
       "  <thead>\n",
       "    <tr style=\"text-align: right;\">\n",
       "      <th></th>\n",
       "      <th>id</th>\n",
       "      <th>bin_0</th>\n",
       "      <th>bin_1</th>\n",
       "      <th>bin_2</th>\n",
       "      <th>bin_3</th>\n",
       "      <th>bin_4</th>\n",
       "      <th>nom_0</th>\n",
       "      <th>nom_1</th>\n",
       "      <th>nom_2</th>\n",
       "      <th>nom_3</th>\n",
       "      <th>...</th>\n",
       "      <th>ord_1</th>\n",
       "      <th>ord_2</th>\n",
       "      <th>ord_3</th>\n",
       "      <th>ord_4</th>\n",
       "      <th>ord_5</th>\n",
       "      <th>day</th>\n",
       "      <th>month</th>\n",
       "      <th>target</th>\n",
       "      <th>new_feature</th>\n",
       "      <th>new_feature2</th>\n",
       "    </tr>\n",
       "  </thead>\n",
       "  <tbody>\n",
       "    <tr>\n",
       "      <th>0</th>\n",
       "      <td>0</td>\n",
       "      <td>0.0</td>\n",
       "      <td>0.0</td>\n",
       "      <td>0.0</td>\n",
       "      <td>F</td>\n",
       "      <td>N</td>\n",
       "      <td>Red</td>\n",
       "      <td>Trapezoid</td>\n",
       "      <td>Hamster</td>\n",
       "      <td>Russia</td>\n",
       "      <td>...</td>\n",
       "      <td>Contributor</td>\n",
       "      <td>Hot</td>\n",
       "      <td>c</td>\n",
       "      <td>U</td>\n",
       "      <td>Pw</td>\n",
       "      <td>6.0</td>\n",
       "      <td>3.0</td>\n",
       "      <td>0</td>\n",
       "      <td>Hot_Contributor</td>\n",
       "      <td>Contributor_Hot_c</td>\n",
       "    </tr>\n",
       "    <tr>\n",
       "      <th>1</th>\n",
       "      <td>1</td>\n",
       "      <td>1.0</td>\n",
       "      <td>1.0</td>\n",
       "      <td>0.0</td>\n",
       "      <td>F</td>\n",
       "      <td>Y</td>\n",
       "      <td>Red</td>\n",
       "      <td>Star</td>\n",
       "      <td>Axolotl</td>\n",
       "      <td>NaN</td>\n",
       "      <td>...</td>\n",
       "      <td>Grandmaster</td>\n",
       "      <td>Warm</td>\n",
       "      <td>e</td>\n",
       "      <td>X</td>\n",
       "      <td>pE</td>\n",
       "      <td>7.0</td>\n",
       "      <td>7.0</td>\n",
       "      <td>0</td>\n",
       "      <td>Warm_Grandmaster</td>\n",
       "      <td>Grandmaster_Warm_e</td>\n",
       "    </tr>\n",
       "    <tr>\n",
       "      <th>2</th>\n",
       "      <td>2</td>\n",
       "      <td>0.0</td>\n",
       "      <td>1.0</td>\n",
       "      <td>0.0</td>\n",
       "      <td>F</td>\n",
       "      <td>N</td>\n",
       "      <td>Red</td>\n",
       "      <td>NaN</td>\n",
       "      <td>Hamster</td>\n",
       "      <td>Canada</td>\n",
       "      <td>...</td>\n",
       "      <td>NaN</td>\n",
       "      <td>Freezing</td>\n",
       "      <td>n</td>\n",
       "      <td>P</td>\n",
       "      <td>eN</td>\n",
       "      <td>5.0</td>\n",
       "      <td>9.0</td>\n",
       "      <td>0</td>\n",
       "      <td>Freezing_nan</td>\n",
       "      <td>nan_Freezing_n</td>\n",
       "    </tr>\n",
       "    <tr>\n",
       "      <th>3</th>\n",
       "      <td>3</td>\n",
       "      <td>NaN</td>\n",
       "      <td>0.0</td>\n",
       "      <td>0.0</td>\n",
       "      <td>F</td>\n",
       "      <td>N</td>\n",
       "      <td>Red</td>\n",
       "      <td>Circle</td>\n",
       "      <td>Hamster</td>\n",
       "      <td>Finland</td>\n",
       "      <td>...</td>\n",
       "      <td>Novice</td>\n",
       "      <td>Lava Hot</td>\n",
       "      <td>a</td>\n",
       "      <td>C</td>\n",
       "      <td>NaN</td>\n",
       "      <td>3.0</td>\n",
       "      <td>3.0</td>\n",
       "      <td>0</td>\n",
       "      <td>Lava Hot_Novice</td>\n",
       "      <td>Novice_Lava Hot_a</td>\n",
       "    </tr>\n",
       "    <tr>\n",
       "      <th>4</th>\n",
       "      <td>4</td>\n",
       "      <td>0.0</td>\n",
       "      <td>NaN</td>\n",
       "      <td>0.0</td>\n",
       "      <td>T</td>\n",
       "      <td>N</td>\n",
       "      <td>Red</td>\n",
       "      <td>Triangle</td>\n",
       "      <td>Hamster</td>\n",
       "      <td>Costa Rica</td>\n",
       "      <td>...</td>\n",
       "      <td>Grandmaster</td>\n",
       "      <td>Cold</td>\n",
       "      <td>h</td>\n",
       "      <td>C</td>\n",
       "      <td>OZ</td>\n",
       "      <td>5.0</td>\n",
       "      <td>12.0</td>\n",
       "      <td>0</td>\n",
       "      <td>Cold_Grandmaster</td>\n",
       "      <td>Grandmaster_Cold_h</td>\n",
       "    </tr>\n",
       "  </tbody>\n",
       "</table>\n",
       "<p>5 rows × 27 columns</p>\n",
       "</div>"
      ],
      "text/plain": [
       "   id  bin_0  bin_1  bin_2 bin_3 bin_4 nom_0      nom_1    nom_2       nom_3  \\\n",
       "0   0    0.0    0.0    0.0     F     N   Red  Trapezoid  Hamster      Russia   \n",
       "1   1    1.0    1.0    0.0     F     Y   Red       Star  Axolotl         NaN   \n",
       "2   2    0.0    1.0    0.0     F     N   Red        NaN  Hamster      Canada   \n",
       "3   3    NaN    0.0    0.0     F     N   Red     Circle  Hamster     Finland   \n",
       "4   4    0.0    NaN    0.0     T     N   Red   Triangle  Hamster  Costa Rica   \n",
       "\n",
       "   ...        ord_1     ord_2 ord_3 ord_4 ord_5  day  month target  \\\n",
       "0  ...  Contributor       Hot     c     U    Pw  6.0    3.0      0   \n",
       "1  ...  Grandmaster      Warm     e     X    pE  7.0    7.0      0   \n",
       "2  ...          NaN  Freezing     n     P    eN  5.0    9.0      0   \n",
       "3  ...       Novice  Lava Hot     a     C   NaN  3.0    3.0      0   \n",
       "4  ...  Grandmaster      Cold     h     C    OZ  5.0   12.0      0   \n",
       "\n",
       "        new_feature        new_feature2  \n",
       "0   Hot_Contributor   Contributor_Hot_c  \n",
       "1  Warm_Grandmaster  Grandmaster_Warm_e  \n",
       "2      Freezing_nan      nan_Freezing_n  \n",
       "3   Lava Hot_Novice   Novice_Lava Hot_a  \n",
       "4  Cold_Grandmaster  Grandmaster_Cold_h  \n",
       "\n",
       "[5 rows x 27 columns]"
      ]
     },
     "execution_count": 59,
     "metadata": {},
     "output_type": "execute_result"
    }
   ],
   "source": [
    "df['new_feature2'] = (df.ord_1.astype(str) + '_' + \n",
    "                      df.ord_2.astype(str) + '_' + \n",
    "                      df.ord_3.astype(str)\n",
    "                )\n",
    "df.head()"
   ]
  },
  {
   "cell_type": "markdown",
   "metadata": {},
   "source": [
    "## Handling NaN Category by different-2 way."
   ]
  },
  {
   "cell_type": "markdown",
   "metadata": {},
   "source": [
    "* Drop them if we have significant data or less number of categories.(High chances of loss of information)\n",
    "* Using Mode or frequency(High chances of model becomne biased)\n",
    "* Model based imputraion predicting categories.(preferable tress method)\n",
    "* Treating nan as new/unknown/rare category.\n",
    "* ignore if that feature already not important for our objective/Target.(more focused one)"
   ]
  },
  {
   "cell_type": "markdown",
   "metadata": {},
   "source": [
    "ALL other methods are straight forward, we focus more on unknown method."
   ]
  },
  {
   "cell_type": "code",
   "execution_count": 62,
   "metadata": {},
   "outputs": [
    {
     "data": {
      "text/plain": [
       "Freezing       142726\n",
       "Warm           124239\n",
       "Cold            97822\n",
       "Boiling Hot     84790\n",
       "Hot             67508\n",
       "Lava Hot        64840\n",
       "Name: ord_2, dtype: int64"
      ]
     },
     "execution_count": 62,
     "metadata": {},
     "output_type": "execute_result"
    }
   ],
   "source": [
    "#read the data one more time\n",
    "df2.ord_2.value_counts()"
   ]
  },
  {
   "cell_type": "code",
   "execution_count": 64,
   "metadata": {},
   "outputs": [
    {
     "data": {
      "text/plain": [
       "Freezing       142726\n",
       "Warm           124239\n",
       "Cold            97822\n",
       "Boiling Hot     84790\n",
       "Hot             67508\n",
       "Lava Hot        64840\n",
       "None            18075\n",
       "Name: ord_2, dtype: int64"
      ]
     },
     "execution_count": 64,
     "metadata": {},
     "output_type": "execute_result"
    }
   ],
   "source": [
    "df2.ord_2.fillna(\"None\").value_counts()"
   ]
  },
  {
   "cell_type": "markdown",
   "metadata": {},
   "source": [
    "* Almost 18000 values are NULL.\n",
    "* Rare Category Concept"
   ]
  },
  {
   "cell_type": "code",
   "execution_count": 9,
   "metadata": {},
   "outputs": [
    {
     "data": {
      "text/plain": [
       "Freezing       142726\n",
       "Warm           124239\n",
       "Cold            97822\n",
       "Boiling Hot     84790\n",
       "Hot             67508\n",
       "Lava Hot        64840\n",
       "NONE            18075\n",
       "Name: ord_2, dtype: int64"
      ]
     },
     "execution_count": 9,
     "metadata": {},
     "output_type": "execute_result"
    }
   ],
   "source": [
    "df.ord_2.fillna('NONE').value_counts()"
   ]
  },
  {
   "cell_type": "markdown",
   "metadata": {},
   "source": [
    "* In Test set we also have null and and train we also have null Now these null can be traeted as saperated category in training data and can be easily understand by the model in live data process treating unknown category as rare one.(do refinement on this statement)"
   ]
  },
  {
   "cell_type": "code",
   "execution_count": 17,
   "metadata": {},
   "outputs": [],
   "source": [
    "import pandas as pd\n",
    "from sklearn.preprocessing import LabelEncoder\n",
    "\n",
    "#train set\n",
    "train = pd.read_csv('cat_train.csv')\n",
    "\n",
    "#testing data\n",
    "test = pd.read_csv('cat_test.csv')\n",
    "\n",
    "#create target variable in test set(trick one two separate test and train after handling NaN)\n",
    "test.loc[: , 'target'] = -1\n",
    "\n",
    "#concatinating the train and test set\n",
    "full_data = pd.concat([train, test]).reset_index(drop = True)\n",
    "\n",
    "#get features except id and target \n",
    "features = [f for f in full_data.columns if f not in ['target', 'id']]\n",
    "\n",
    "#loop over the featurte list\n",
    "for feature in features:\n",
    "    \n",
    "    #before apply label encoder first handle the missing value\n",
    "    temp_col = full_data[feature].fillna('NONE').astype(str).values\n",
    "    lbl_enc = LabelEncoder()\n",
    "    full_data.loc[ : , feature] = lbl_enc.fit_transform(temp_col)\n",
    "\n",
    "#now split train and test based on target so that test data exclusive towards \n",
    "#my train data no data leakage issue\n",
    "\n",
    "train = full_data[full_data.target != 1].reset_index(drop=True) \n",
    "test = full_data[full_data.target == 1].reset_index(drop =True)"
   ]
  },
  {
   "cell_type": "markdown",
   "metadata": {},
   "source": [
    "* One more thing if we have data like below- \n",
    "* Now we can treat J, L as Rare category becoz they are very less as compared to other. We can also include somewhat V and G also."
   ]
  },
  {
   "cell_type": "code",
   "execution_count": 19,
   "metadata": {},
   "outputs": [
    {
     "data": {
      "text/plain": [
       "N    39978\n",
       "P    37890\n",
       "Y    36657\n",
       "A    36633\n",
       "R    33045\n",
       "U    32897\n",
       "M    32504\n",
       "X    32347\n",
       "C    32112\n",
       "H    31189\n",
       "Q    30145\n",
       "T    29723\n",
       "O    25610\n",
       "B    25212\n",
       "E    21871\n",
       "K    21676\n",
       "I    19805\n",
       "D    17284\n",
       "F    16721\n",
       "W     8268\n",
       "Z     5790\n",
       "S     4595\n",
       "G     3404\n",
       "V     3107\n",
       "J     1950\n",
       "L     1657\n",
       "Name: ord_4, dtype: int64"
      ]
     },
     "execution_count": 19,
     "metadata": {},
     "output_type": "execute_result"
    }
   ],
   "source": [
    "df.ord_4.value_counts()"
   ]
  },
  {
   "cell_type": "code",
   "execution_count": 1,
   "metadata": {},
   "outputs": [
    {
     "ename": "NameError",
     "evalue": "name 'df' is not defined",
     "output_type": "error",
     "traceback": [
      "\u001b[0;31m---------------------------------------------------------------------------\u001b[0m",
      "\u001b[0;31mNameError\u001b[0m                                 Traceback (most recent call last)",
      "\u001b[0;32m<ipython-input-1-79792886841d>\u001b[0m in \u001b[0;36m<module>\u001b[0;34m\u001b[0m\n\u001b[1;32m      1\u001b[0m \u001b[0;31m#covert NaN as NONE\u001b[0m\u001b[0;34m\u001b[0m\u001b[0;34m\u001b[0m\u001b[0;34m\u001b[0m\u001b[0m\n\u001b[0;32m----> 2\u001b[0;31m \u001b[0mdf\u001b[0m\u001b[0;34m.\u001b[0m\u001b[0mord_4\u001b[0m\u001b[0;34m.\u001b[0m\u001b[0mfillna\u001b[0m\u001b[0;34m(\u001b[0m\u001b[0;34m'NONE'\u001b[0m\u001b[0;34m,\u001b[0m \u001b[0minplace\u001b[0m \u001b[0;34m=\u001b[0m \u001b[0;32mTrue\u001b[0m\u001b[0;34m)\u001b[0m\u001b[0;34m\u001b[0m\u001b[0;34m\u001b[0m\u001b[0m\n\u001b[0m",
      "\u001b[0;31mNameError\u001b[0m: name 'df' is not defined"
     ]
    }
   ],
   "source": [
    "#covert NaN as NONE \n",
    "df.ord_4.fillna('NONE', inplace = True)"
   ]
  },
  {
   "cell_type": "code",
   "execution_count": 54,
   "metadata": {
    "scrolled": true
   },
   "outputs": [
    {
     "data": {
      "text/plain": [
       "N       39978\n",
       "P       37890\n",
       "Y       36657\n",
       "A       36633\n",
       "R       33045\n",
       "U       32897\n",
       "M       32504\n",
       "X       32347\n",
       "C       32112\n",
       "H       31189\n",
       "Q       30145\n",
       "T       29723\n",
       "O       25610\n",
       "B       25212\n",
       "E       21871\n",
       "K       21676\n",
       "I       19805\n",
       "NONE    17930\n",
       "D       17284\n",
       "F       16721\n",
       "W        8268\n",
       "Z        5790\n",
       "S        4595\n",
       "RARE     3607\n",
       "G        3404\n",
       "V        3107\n",
       "Name: ord_4, dtype: int64"
      ]
     },
     "execution_count": 54,
     "metadata": {},
     "output_type": "execute_result"
    }
   ],
   "source": [
    "df.loc[df.ord_4.value_counts()[df.ord_4].values < 2000, 'ord_4'] = 'RARE'\n",
    "df.ord_4.value_counts()\n",
    "#we can also do by using J and L vategoty and convert them as \"RARE\".\n",
    "#df.loc[np.where((df2.ord_4 == 'J') | (df.ord_4 == 'L')), \"ord_4\"]  = 'RARE'(chained warning may be generated)."
   ]
  },
  {
   "cell_type": "markdown",
   "metadata": {},
   "source": [
    "* Now this is super duper approach to handle categorical data in live settings and model performance would be very high."
   ]
  },
  {
   "cell_type": "raw",
   "metadata": {},
   "source": [
    "So this is all about that we need to know about approaching to categorical data."
   ]
  },
  {
   "cell_type": "markdown",
   "metadata": {},
   "source": [
    "### Let's try to build Model "
   ]
  },
  {
   "cell_type": "markdown",
   "metadata": {},
   "source": [
    "* Since my data has imbalaced/skewed Target then i have to apply stratified k_fold CV. So the ratio of data set should be change in each fold."
   ]
  },
  {
   "cell_type": "code",
   "execution_count": 8,
   "metadata": {},
   "outputs": [],
   "source": [
    "from sklearn.model_selection import StratifiedKFold\n",
    "\n",
    "#read the csv data\n",
    "df = pd.read_csv('cat_train.csv')\n",
    "\n",
    "#create on more column with name as k_fold\n",
    "df['k_fold'] = -1\n",
    "\n",
    "#get target\n",
    "Y = df.target.values\n",
    "\n",
    "#data rndomization\n",
    "df = df.sample(frac = 1).reset_index(drop = True)\n",
    "\n",
    "\n",
    "#create object of kfold\n",
    "kf = StratifiedKFold(n_splits= 5)\n",
    "\n",
    "\n",
    "#fill the k_fold column\n",
    "#fold_no varies from 0 to 4 \n",
    "#becoz we initailize olds with only 5 folds \n",
    "for fold_no, (t_, i_) in enumerate(kf.split(X = df, y = Y)):\n",
    "    df.loc[i_, 'k_fold'] = fold_no\n",
    "\n",
    "    \n",
    "#save the new csv with k_fold column\n",
    "df.to_csv('cat_train_folds.csv', index = False)"
   ]
  },
  {
   "cell_type": "code",
   "execution_count": 13,
   "metadata": {},
   "outputs": [
    {
     "name": "stdout",
     "output_type": "stream",
     "text": [
      "0    0\n",
      "1    0\n",
      "2    0\n",
      "3    0\n",
      "4    0\n",
      "Name: k_fold, dtype: int64\n"
     ]
    },
    {
     "data": {
      "text/plain": [
       "4    120000\n",
       "3    120000\n",
       "2    120000\n",
       "1    120000\n",
       "0    120000\n",
       "Name: k_fold, dtype: int64"
      ]
     },
     "execution_count": 13,
     "metadata": {},
     "output_type": "execute_result"
    }
   ],
   "source": [
    "df_fold = pd.read_csv('cat_train_folds.csv')\n",
    "print(df_fold.k_fold.head())\n",
    "df_fold.k_fold.value_counts()"
   ]
  },
  {
   "cell_type": "markdown",
   "metadata": {},
   "source": [
    "* So here we equally devided our data in Four Folds. \n",
    "* Now lets check the data distribution w.r.t classes we have before kfolds and after k_folds"
   ]
  },
  {
   "cell_type": "markdown",
   "metadata": {},
   "source": [
    "### Understanding StratifiedKFold Cross Validation code wise"
   ]
  },
  {
   "cell_type": "code",
   "execution_count": 10,
   "metadata": {},
   "outputs": [
    {
     "name": "stdout",
     "output_type": "stream",
     "text": [
      "0 -> [3 4 5 6 7 8 9], [0 1 2]\n",
      "1 -> [0 1 2 6 7 8 9], [3 4 5]\n",
      "2 -> [0 1 2 3 4 5 8 9], [6 7]\n",
      "3 -> [0 1 2 3 4 5 6 7], [8 9]\n"
     ]
    }
   ],
   "source": [
    "X = np.array([[1, 2], [3, 4], [1, 2], [3, 4], [2, 3], [7, 9], [9, 2], [3, 4], [1, 9], [5, 6]])\n",
    "y = np.array([0, 0, 1, 1, 0, 1 ,0 ,1, 0, 1])\n",
    "\n",
    "from sklearn.model_selection import StratifiedKFold\n",
    "\n",
    "skf = StratifiedKFold(n_splits = 4)\n",
    "for folds_ , (train_index, test_index) in enumerate(skf.split(X, y)):\n",
    "    print(f\"{folds_} -> {train_index}, {test_index}\")"
   ]
  },
  {
   "cell_type": "code",
   "execution_count": null,
   "metadata": {},
   "outputs": [],
   "source": [
    "* Test_indices are "
   ]
  },
  {
   "cell_type": "code",
   "execution_count": 17,
   "metadata": {},
   "outputs": [
    {
     "data": {
      "text/plain": [
       "4.3417376672631605"
      ]
     },
     "execution_count": 17,
     "metadata": {},
     "output_type": "execute_result"
    }
   ],
   "source": [
    "#so we have almost 4:1 ratio before CV.\n",
    "df.target.value_counts()[0] / df.target.value_counts()[1]"
   ]
  },
  {
   "cell_type": "code",
   "execution_count": 19,
   "metadata": {
    "scrolled": true
   },
   "outputs": [
    {
     "name": "stdout",
     "output_type": "stream",
     "text": [
      "Fold_1: 4.310204442871051\n",
      "Fold_2: 4.312320155828058\n",
      "Fold_3: 4.355469272995046\n",
      "Fold_4: 4.375862377923125\n",
      "Fold_5: 4.355469272995046\n"
     ]
    }
   ],
   "source": [
    "Fold_1 = df[df_fold.k_fold == 0].target.value_counts()\n",
    "print(f\"Fold_1: {Fold_1[0]/Fold_1[1]}\")\n",
    "\n",
    "Fold_2 = df[df_fold.k_fold == 1].target.value_counts()\n",
    "print(f\"Fold_2: {Fold_2[0]/Fold_2[1]}\")\n",
    "\n",
    "Fold_3 = df[df_fold.k_fold == 2].target.value_counts()\n",
    "print(f\"Fold_3: {Fold_3[0]/Fold_3[1]}\")\n",
    "\n",
    "Fold_4 = df[df_fold.k_fold == 3].target.value_counts()\n",
    "print(f\"Fold_4: {Fold_4[0]/Fold_4[1]}\")\n",
    "\n",
    "Fold_5 = df[df_fold.k_fold == 4].target.value_counts()\n",
    "print(f\"Fold_5: {Fold_5[0]/Fold_5[1]}\")"
   ]
  },
  {
   "cell_type": "code",
   "execution_count": 20,
   "metadata": {},
   "outputs": [
    {
     "data": {
      "text/plain": [
       "k_fold  target\n",
       "0       0         97402\n",
       "        1         22598\n",
       "1       0         97411\n",
       "        1         22589\n",
       "2       0         97593\n",
       "        1         22407\n",
       "3       0         97678\n",
       "        1         22322\n",
       "4       0         97593\n",
       "        1         22407\n",
       "Name: target, dtype: int64"
      ]
     },
     "execution_count": 20,
     "metadata": {},
     "output_type": "execute_result"
    }
   ],
   "source": [
    "#alternative using the group by\n",
    "df_fold.groupby('k_fold')['target'].value_counts()"
   ]
  },
  {
   "cell_type": "markdown",
   "metadata": {},
   "source": [
    "* Almost equivalant ratio in each fold as well as target distribution before folding"
   ]
  },
  {
   "cell_type": "markdown",
   "metadata": {},
   "source": [
    "### Building our First Model After K-fold"
   ]
  },
  {
   "cell_type": "code",
   "execution_count": 33,
   "metadata": {},
   "outputs": [
    {
     "name": "stderr",
     "output_type": "stream",
     "text": [
      "/Users/akshaysingh/opt/anaconda3/lib/python3.7/site-packages/sklearn/linear_model/_logistic.py:764: ConvergenceWarning: lbfgs failed to converge (status=1):\n",
      "STOP: TOTAL NO. of ITERATIONS REACHED LIMIT.\n",
      "\n",
      "Increase the number of iterations (max_iter) or scale the data as shown in:\n",
      "    https://scikit-learn.org/stable/modules/preprocessing.html\n",
      "Please also refer to the documentation for alternative solver options:\n",
      "    https://scikit-learn.org/stable/modules/linear_model.html#logistic-regression\n",
      "  extra_warning_msg=_LOGISTIC_SOLVER_CONVERGENCE_MSG)\n"
     ]
    },
    {
     "name": "stdout",
     "output_type": "stream",
     "text": [
      "ROC_AUC with Fold_0 : 0.7867284701922801\n"
     ]
    }
   ],
   "source": [
    "from sklearn.preprocessing import OneHotEncoder\n",
    "from sklearn.linear_model import LogisticRegression\n",
    "from sklearn.metrics import roc_auc_score\n",
    "\n",
    "def run_model(fold):\n",
    "    #get data\n",
    "    df = pd.read_csv('cat_train_folds.csv')\n",
    "    \n",
    "    #get features\n",
    "    features = [f for f in df.columns if f not in ['target', 'id', 'k_fold']]\n",
    "    \n",
    "    #Handle the missing value\n",
    "    #its not neded becoz all are categories.\n",
    "    #but for making without any mistake it can treat numeric category features such as\n",
    "    #rating and movie  score also as same way.\n",
    "    for feature in features:\n",
    "        df.loc[: , feature] = df[feature].astype(str).fillna('NONE')\n",
    "\n",
    "    #Split train and validation set(consist all features)\n",
    "    df_valid = df[df.k_fold == fold]\n",
    "    df_train = df[df.k_fold != fold]\n",
    "    \n",
    "    #cocatenate above dataset(It is equivalant to above but it have relevant fetures)\n",
    "    full_data = pd.concat([df_train[features], df_valid[features]])\n",
    "    \n",
    "    #Apply Encoding towrads category on entire data(Live setting for rare)\n",
    "    ohe = OneHotEncoder()\n",
    "    \n",
    "    #Fitting Encoding on entire data(Taker care of RARE category)\n",
    "    ohe.fit(full_data[features])\n",
    "    \n",
    "    #training data\n",
    "    x_train = ohe.transform(df_train[features])\n",
    "    \n",
    "    #validation data\n",
    "    x_valid = ohe.transform(df_valid[features])\n",
    "\n",
    "    #now start building model\n",
    "    lr = LogisticRegression()\n",
    "    \n",
    "    #fit my data\n",
    "    lr.fit(x_train, df_train.target.values)\n",
    "    \n",
    "    #predict my data\n",
    "    valid_predict = lr.predict_proba(x_valid)[:, 1]\n",
    "    \n",
    "    #check the roc_auc\n",
    "    auc = roc_auc_score(df_valid.target.values, valid_predict)\n",
    "    \n",
    "    print(f\"ROC_AUC with Fold_{fold} : {auc}\")\n",
    "\n",
    "if __name__== \"__main__\":\n",
    "    for fold_ in range(5):\n",
    "        run_model(fold_)"
   ]
  },
  {
   "cell_type": "markdown",
   "metadata": {},
   "source": [
    "* Warning is important look at it why it is so?\n",
    "* We haven't play with hyperparameter \n",
    "* Lets apply this on all folds"
   ]
  },
  {
   "cell_type": "markdown",
   "metadata": {},
   "source": [
    "### Building our 2nd Model After K-fold"
   ]
  },
  {
   "cell_type": "code",
   "execution_count": 15,
   "metadata": {
    "code_folding": []
   },
   "outputs": [
    {
     "name": "stdout",
     "output_type": "stream",
     "text": [
      "Fold 0 Auc_score is: 0.717353070718682\n",
      "Fold 1 Auc_score is: 0.7152479868567682\n",
      "Fold 2 Auc_score is: 0.7162863777301647\n",
      "Fold 3 Auc_score is: 0.7178895267436091\n",
      "Fold 4 Auc_score is: 0.713762869218395\n"
     ]
    }
   ],
   "source": [
    "from sklearn.preprocessing import LabelEncoder\n",
    "from sklearn.ensemble import RandomForestClassifier\n",
    "import pandas as pd\n",
    "from sklearn.metrics import  roc_auc_score\n",
    "\n",
    "def run_model_rf(fold):\n",
    "     \n",
    "        df = pd.read_csv('cat_train_folds.csv')\n",
    "        \n",
    "        #select appropriate features\n",
    "        features = [f for f in df.columns if f not in ['target', 'id', 'k_fold']]\n",
    "        \n",
    "        #convert all  data into string\n",
    "        #handling missing using unknown category\n",
    "        for feature in features:\n",
    "            df.loc[: , feature] = df[feature].astype(str).fillna('NONE')\n",
    "            \n",
    "        #Encoding for each feature\n",
    "        for col in features:\n",
    "            lbl = LabelEncoder()\n",
    "            lbl.fit(df[col])\n",
    "            df.loc[: , col] = lbl.transform(df[col])\n",
    "            \n",
    "        #splitting data into train and validation\n",
    "        df_valid = df[df.k_fold == fold]\n",
    "        df_train = df[df.k_fold != fold]\n",
    "        \n",
    "        #traing the algo\n",
    "        rf = RandomForestClassifier()\n",
    "        rf.fit(df_train[features].values, df_train.target.values)\n",
    "        \n",
    "        #prediction\n",
    "        valid_pred = rf.predict_proba(df_valid[features].values)[:, 1]\n",
    "        \n",
    "        #get score\n",
    "        auc = roc_auc_score(df_valid.target.values, valid_pred)\n",
    "        \n",
    "        print(f\"Fold {fold} Auc_score is: {auc}\")\n",
    "\n",
    "if __name__ == \"__main__\":\n",
    "    for fold_ in range(5):\n",
    "        run_model_rf(fold_)\n",
    "        "
   ]
  },
  {
   "cell_type": "markdown",
   "metadata": {},
   "source": [
    "* It's looks worse than simple logistic Regression.(without doing any tuning of hyperparameter)\n",
    "* And this is why we always start with simplest model.\n",
    "\n",
    "* folds taking to much time in training as well So not only score but also Training cost is too high and also taking larger space to store trees.\n",
    "\n",
    "* we can also apply random forest using sparse OneHotEncoded data. But that is also take a lot of time. We can also try reducing the sparse one hot encoded data metrices using singular value decomposition(TruncatedSVD) -> ***This method use a lot in NLP to get topics.***   "
   ]
  },
  {
   "cell_type": "raw",
   "metadata": {},
   "source": [
    "Maybe we can give **XGBOOST** a try. But it looks Logistic Regression is doing good here."
   ]
  },
  {
   "cell_type": "markdown",
   "metadata": {},
   "source": [
    "### Building our 3rd Model After K-fold"
   ]
  },
  {
   "cell_type": "markdown",
   "metadata": {},
   "source": [
    "* Since it's a tree based algorithm we have to used label encoded data."
   ]
  },
  {
   "cell_type": "code",
   "execution_count": 14,
   "metadata": {},
   "outputs": [
    {
     "name": "stdout",
     "output_type": "stream",
     "text": [
      "fold = 0 , AUC_score = 0.7516287463733953\n",
      "fold = 1 , AUC_score = 0.7489627997020287\n",
      "fold = 2 , AUC_score = 0.7504584690767451\n",
      "fold = 3 , AUC_score = 0.7514120013473906\n",
      "fold = 4 , AUC_score = 0.747496466301717\n"
     ]
    }
   ],
   "source": [
    "import pandas as pd\n",
    "import xgboost as xgb\n",
    "from sklearn.preprocessing import LabelEncoder\n",
    "from sklearn.metrics import roc_auc_score\n",
    "\n",
    "def run_model_XGB(fold):\n",
    "    df = pd.read_csv('cat_train_folds.csv')\n",
    "    \n",
    "    #get features\n",
    "    features = [f for f in df.columns if f not in ['target', 'k_fold', 'id']]\n",
    "    \n",
    "    #handling missing values\n",
    "    for feature in features:\n",
    "        df.loc[:, feature] = df[feature].astype(str).fillna('NONE')\n",
    "        \n",
    "    #apply Label Encoder\n",
    "    for feature in features:\n",
    "        lbl = LabelEncoder()\n",
    "        lbl.fit(df[feature])\n",
    "        df.loc[:, feature] = lbl.transform(df[feature])\n",
    "        \n",
    "    #train and validation split\n",
    "    df_valid = df[df.k_fold == fold]\n",
    "    df_train = df[df.k_fold != fold]\n",
    "    \n",
    "    #training my model\n",
    "    model = xgb.XGBClassifier(max_depth = 4, \n",
    "                              n_estimators = 100\n",
    "            )\n",
    "    model.fit(df_train[features].values, df_train.target.values)\n",
    "    \n",
    "    #testing phase\n",
    "    valid_pred = model.predict_proba(df_valid[features].values)[:, 1]\n",
    "    auc = roc_auc_score(df_valid.target.values, valid_pred)\n",
    "    \n",
    "    print(f\"fold = {fold} , AUC_score = {auc}\")    \n",
    "    \n",
    "if __name__ == \"__main__\":\n",
    "    for fold_ in range(5):\n",
    "        run_model_XGB(fold_)"
   ]
  },
  {
   "cell_type": "markdown",
   "metadata": {},
   "source": [
    "* In this we have good score than random Forest.\n",
    "* If we apply hyperParameter Optimization We can improve much more thing. \n",
    "* we can also improove above model Just doing some EDA to see data pattern and getting some insights about data and feature selection may also improve the accuracy of model."
   ]
  },
  {
   "cell_type": "raw",
   "metadata": {},
   "source": [
    "Our next task to improve our model to get good accuracy by using some hyperparameter optimization."
   ]
  },
  {
   "cell_type": "markdown",
   "metadata": {},
   "source": [
    "### Model - 2 Building 2nd Model"
   ]
  },
  {
   "cell_type": "code",
   "execution_count": 36,
   "metadata": {},
   "outputs": [
    {
     "data": {
      "text/html": [
       "<div>\n",
       "<style scoped>\n",
       "    .dataframe tbody tr th:only-of-type {\n",
       "        vertical-align: middle;\n",
       "    }\n",
       "\n",
       "    .dataframe tbody tr th {\n",
       "        vertical-align: top;\n",
       "    }\n",
       "\n",
       "    .dataframe thead th {\n",
       "        text-align: right;\n",
       "    }\n",
       "</style>\n",
       "<table border=\"1\" class=\"dataframe\">\n",
       "  <thead>\n",
       "    <tr style=\"text-align: right;\">\n",
       "      <th></th>\n",
       "      <th>age</th>\n",
       "      <th>workclass</th>\n",
       "      <th>fnlwgt</th>\n",
       "      <th>education</th>\n",
       "      <th>educational-num</th>\n",
       "      <th>marital-status</th>\n",
       "      <th>occupation</th>\n",
       "      <th>relationship</th>\n",
       "      <th>race</th>\n",
       "      <th>gender</th>\n",
       "      <th>capital-gain</th>\n",
       "      <th>capital-loss</th>\n",
       "      <th>hours-per-week</th>\n",
       "      <th>native-country</th>\n",
       "      <th>income</th>\n",
       "    </tr>\n",
       "  </thead>\n",
       "  <tbody>\n",
       "    <tr>\n",
       "      <th>0</th>\n",
       "      <td>25</td>\n",
       "      <td>Private</td>\n",
       "      <td>226802</td>\n",
       "      <td>11th</td>\n",
       "      <td>7</td>\n",
       "      <td>Never-married</td>\n",
       "      <td>Machine-op-inspct</td>\n",
       "      <td>Own-child</td>\n",
       "      <td>Black</td>\n",
       "      <td>Male</td>\n",
       "      <td>0</td>\n",
       "      <td>0</td>\n",
       "      <td>40</td>\n",
       "      <td>United-States</td>\n",
       "      <td>&lt;=50K</td>\n",
       "    </tr>\n",
       "    <tr>\n",
       "      <th>1</th>\n",
       "      <td>38</td>\n",
       "      <td>Private</td>\n",
       "      <td>89814</td>\n",
       "      <td>HS-grad</td>\n",
       "      <td>9</td>\n",
       "      <td>Married-civ-spouse</td>\n",
       "      <td>Farming-fishing</td>\n",
       "      <td>Husband</td>\n",
       "      <td>White</td>\n",
       "      <td>Male</td>\n",
       "      <td>0</td>\n",
       "      <td>0</td>\n",
       "      <td>50</td>\n",
       "      <td>United-States</td>\n",
       "      <td>&lt;=50K</td>\n",
       "    </tr>\n",
       "    <tr>\n",
       "      <th>2</th>\n",
       "      <td>28</td>\n",
       "      <td>Local-gov</td>\n",
       "      <td>336951</td>\n",
       "      <td>Assoc-acdm</td>\n",
       "      <td>12</td>\n",
       "      <td>Married-civ-spouse</td>\n",
       "      <td>Protective-serv</td>\n",
       "      <td>Husband</td>\n",
       "      <td>White</td>\n",
       "      <td>Male</td>\n",
       "      <td>0</td>\n",
       "      <td>0</td>\n",
       "      <td>40</td>\n",
       "      <td>United-States</td>\n",
       "      <td>&gt;50K</td>\n",
       "    </tr>\n",
       "    <tr>\n",
       "      <th>3</th>\n",
       "      <td>44</td>\n",
       "      <td>Private</td>\n",
       "      <td>160323</td>\n",
       "      <td>Some-college</td>\n",
       "      <td>10</td>\n",
       "      <td>Married-civ-spouse</td>\n",
       "      <td>Machine-op-inspct</td>\n",
       "      <td>Husband</td>\n",
       "      <td>Black</td>\n",
       "      <td>Male</td>\n",
       "      <td>7688</td>\n",
       "      <td>0</td>\n",
       "      <td>40</td>\n",
       "      <td>United-States</td>\n",
       "      <td>&gt;50K</td>\n",
       "    </tr>\n",
       "    <tr>\n",
       "      <th>4</th>\n",
       "      <td>18</td>\n",
       "      <td>?</td>\n",
       "      <td>103497</td>\n",
       "      <td>Some-college</td>\n",
       "      <td>10</td>\n",
       "      <td>Never-married</td>\n",
       "      <td>?</td>\n",
       "      <td>Own-child</td>\n",
       "      <td>White</td>\n",
       "      <td>Female</td>\n",
       "      <td>0</td>\n",
       "      <td>0</td>\n",
       "      <td>30</td>\n",
       "      <td>United-States</td>\n",
       "      <td>&lt;=50K</td>\n",
       "    </tr>\n",
       "  </tbody>\n",
       "</table>\n",
       "</div>"
      ],
      "text/plain": [
       "   age  workclass  fnlwgt     education  educational-num      marital-status  \\\n",
       "0   25    Private  226802          11th                7       Never-married   \n",
       "1   38    Private   89814       HS-grad                9  Married-civ-spouse   \n",
       "2   28  Local-gov  336951    Assoc-acdm               12  Married-civ-spouse   \n",
       "3   44    Private  160323  Some-college               10  Married-civ-spouse   \n",
       "4   18          ?  103497  Some-college               10       Never-married   \n",
       "\n",
       "          occupation relationship   race  gender  capital-gain  capital-loss  \\\n",
       "0  Machine-op-inspct    Own-child  Black    Male             0             0   \n",
       "1    Farming-fishing      Husband  White    Male             0             0   \n",
       "2    Protective-serv      Husband  White    Male             0             0   \n",
       "3  Machine-op-inspct      Husband  Black    Male          7688             0   \n",
       "4                  ?    Own-child  White  Female             0             0   \n",
       "\n",
       "   hours-per-week native-country income  \n",
       "0              40  United-States  <=50K  \n",
       "1              50  United-States  <=50K  \n",
       "2              40  United-States   >50K  \n",
       "3              40  United-States   >50K  \n",
       "4              30  United-States  <=50K  "
      ]
     },
     "execution_count": 36,
     "metadata": {},
     "output_type": "execute_result"
    }
   ],
   "source": [
    "df = pd.read_csv('adult.csv')\n",
    "df.head(5)"
   ]
  },
  {
   "cell_type": "code",
   "execution_count": 63,
   "metadata": {},
   "outputs": [
    {
     "data": {
      "text/plain": [
       "<seaborn.axisgrid.PairGrid at 0x7fd45b204c50>"
      ]
     },
     "execution_count": 63,
     "metadata": {},
     "output_type": "execute_result"
    },
    {
     "data": {
      "image/png": "[encoded data removed]",
      "text/plain": [
       "<Figure size 1331.75x1260 with 56 Axes>"
      ]
     },
     "metadata": {
      "needs_background": "light"
     },
     "output_type": "display_data"
    }
   ],
   "source": [
    "sns.pairplot(df, hue = 'income')"
   ]
  },
  {
   "cell_type": "markdown",
   "metadata": {},
   "source": [
    "* However null values are present with '?' in this dataset"
   ]
  },
  {
   "cell_type": "code",
   "execution_count": 37,
   "metadata": {
    "code_folding": [],
    "scrolled": true
   },
   "outputs": [
    {
     "name": "stdout",
     "output_type": "stream",
     "text": [
      "age : 0\n",
      "workclass : 2799\n",
      "fnlwgt : 0\n",
      "education : 0\n",
      "educational-num : 0\n",
      "marital-status : 0\n",
      "occupation : 2809\n",
      "relationship : 0\n",
      "race : 0\n",
      "gender : 0\n",
      "capital-gain : 0\n",
      "capital-loss : 0\n",
      "hours-per-week : 0\n",
      "native-country : 857\n",
      "income : 0\n"
     ]
    },
    {
     "name": "stderr",
     "output_type": "stream",
     "text": [
      "/Users/akshaysingh/opt/anaconda3/lib/python3.7/site-packages/pandas/core/ops/array_ops.py:253: FutureWarning: elementwise comparison failed; returning scalar instead, but in the future will perform elementwise comparison\n",
      "  res_values = method(rvalues)\n"
     ]
    }
   ],
   "source": [
    "#get the missing value count\n",
    "for col in df.columns:\n",
    "    print(f\"{col} : {len(np.where(df[col] == '?')[0])}\")"
   ]
  },
  {
   "cell_type": "code",
   "execution_count": 39,
   "metadata": {},
   "outputs": [
    {
     "data": {
      "text/html": [
       "<div>\n",
       "<style scoped>\n",
       "    .dataframe tbody tr th:only-of-type {\n",
       "        vertical-align: middle;\n",
       "    }\n",
       "\n",
       "    .dataframe tbody tr th {\n",
       "        vertical-align: top;\n",
       "    }\n",
       "\n",
       "    .dataframe thead th {\n",
       "        text-align: right;\n",
       "    }\n",
       "</style>\n",
       "<table border=\"1\" class=\"dataframe\">\n",
       "  <thead>\n",
       "    <tr style=\"text-align: right;\">\n",
       "      <th></th>\n",
       "      <th>age</th>\n",
       "      <th>workclass</th>\n",
       "      <th>fnlwgt</th>\n",
       "      <th>education</th>\n",
       "      <th>educational-num</th>\n",
       "      <th>marital-status</th>\n",
       "      <th>occupation</th>\n",
       "      <th>relationship</th>\n",
       "      <th>race</th>\n",
       "      <th>gender</th>\n",
       "      <th>capital-gain</th>\n",
       "      <th>capital-loss</th>\n",
       "      <th>hours-per-week</th>\n",
       "      <th>native-country</th>\n",
       "      <th>income</th>\n",
       "    </tr>\n",
       "  </thead>\n",
       "  <tbody>\n",
       "    <tr>\n",
       "      <th>0</th>\n",
       "      <td>25</td>\n",
       "      <td>Private</td>\n",
       "      <td>226802</td>\n",
       "      <td>11th</td>\n",
       "      <td>7</td>\n",
       "      <td>Never-married</td>\n",
       "      <td>Machine-op-inspct</td>\n",
       "      <td>Own-child</td>\n",
       "      <td>Black</td>\n",
       "      <td>Male</td>\n",
       "      <td>0</td>\n",
       "      <td>0</td>\n",
       "      <td>40</td>\n",
       "      <td>United-States</td>\n",
       "      <td>&lt;=50K</td>\n",
       "    </tr>\n",
       "    <tr>\n",
       "      <th>1</th>\n",
       "      <td>38</td>\n",
       "      <td>Private</td>\n",
       "      <td>89814</td>\n",
       "      <td>HS-grad</td>\n",
       "      <td>9</td>\n",
       "      <td>Married-civ-spouse</td>\n",
       "      <td>Farming-fishing</td>\n",
       "      <td>Husband</td>\n",
       "      <td>White</td>\n",
       "      <td>Male</td>\n",
       "      <td>0</td>\n",
       "      <td>0</td>\n",
       "      <td>50</td>\n",
       "      <td>United-States</td>\n",
       "      <td>&lt;=50K</td>\n",
       "    </tr>\n",
       "    <tr>\n",
       "      <th>2</th>\n",
       "      <td>28</td>\n",
       "      <td>Local-gov</td>\n",
       "      <td>336951</td>\n",
       "      <td>Assoc-acdm</td>\n",
       "      <td>12</td>\n",
       "      <td>Married-civ-spouse</td>\n",
       "      <td>Protective-serv</td>\n",
       "      <td>Husband</td>\n",
       "      <td>White</td>\n",
       "      <td>Male</td>\n",
       "      <td>0</td>\n",
       "      <td>0</td>\n",
       "      <td>40</td>\n",
       "      <td>United-States</td>\n",
       "      <td>&gt;50K</td>\n",
       "    </tr>\n",
       "    <tr>\n",
       "      <th>3</th>\n",
       "      <td>44</td>\n",
       "      <td>Private</td>\n",
       "      <td>160323</td>\n",
       "      <td>Some-college</td>\n",
       "      <td>10</td>\n",
       "      <td>Married-civ-spouse</td>\n",
       "      <td>Machine-op-inspct</td>\n",
       "      <td>Husband</td>\n",
       "      <td>Black</td>\n",
       "      <td>Male</td>\n",
       "      <td>7688</td>\n",
       "      <td>0</td>\n",
       "      <td>40</td>\n",
       "      <td>United-States</td>\n",
       "      <td>&gt;50K</td>\n",
       "    </tr>\n",
       "    <tr>\n",
       "      <th>4</th>\n",
       "      <td>18</td>\n",
       "      <td>NONE</td>\n",
       "      <td>103497</td>\n",
       "      <td>Some-college</td>\n",
       "      <td>10</td>\n",
       "      <td>Never-married</td>\n",
       "      <td>?</td>\n",
       "      <td>Own-child</td>\n",
       "      <td>White</td>\n",
       "      <td>Female</td>\n",
       "      <td>0</td>\n",
       "      <td>0</td>\n",
       "      <td>30</td>\n",
       "      <td>United-States</td>\n",
       "      <td>&lt;=50K</td>\n",
       "    </tr>\n",
       "  </tbody>\n",
       "</table>\n",
       "</div>"
      ],
      "text/plain": [
       "   age  workclass  fnlwgt     education  educational-num      marital-status  \\\n",
       "0   25    Private  226802          11th                7       Never-married   \n",
       "1   38    Private   89814       HS-grad                9  Married-civ-spouse   \n",
       "2   28  Local-gov  336951    Assoc-acdm               12  Married-civ-spouse   \n",
       "3   44    Private  160323  Some-college               10  Married-civ-spouse   \n",
       "4   18       NONE  103497  Some-college               10       Never-married   \n",
       "\n",
       "          occupation relationship   race  gender  capital-gain  capital-loss  \\\n",
       "0  Machine-op-inspct    Own-child  Black    Male             0             0   \n",
       "1    Farming-fishing      Husband  White    Male             0             0   \n",
       "2    Protective-serv      Husband  White    Male             0             0   \n",
       "3  Machine-op-inspct      Husband  Black    Male          7688             0   \n",
       "4                  ?    Own-child  White  Female             0             0   \n",
       "\n",
       "   hours-per-week native-country income  \n",
       "0              40  United-States  <=50K  \n",
       "1              50  United-States  <=50K  \n",
       "2              40  United-States   >50K  \n",
       "3              40  United-States   >50K  \n",
       "4              30  United-States  <=50K  "
      ]
     },
     "execution_count": 39,
     "metadata": {},
     "output_type": "execute_result"
    }
   ],
   "source": [
    "#copy versues view issue or chained index warning in pandas \n",
    "#where assignment will not work and we have to use \"mask\" i.e. -> df['workclass']=='?' rather than assignment\n",
    "#df[np.where(df['workclass'] == '?')]['workclass'] = 'NONE'\n",
    "df.loc[df['workclass'] == '?', 'workclass'] = \"NONE\"\n",
    "df.head(5)"
   ]
  },
  {
   "cell_type": "code",
   "execution_count": 40,
   "metadata": {
    "scrolled": true
   },
   "outputs": [
    {
     "data": {
      "text/plain": [
       "workclass         object\n",
       "education         object\n",
       "marital-status    object\n",
       "occupation        object\n",
       "relationship      object\n",
       "race              object\n",
       "gender            object\n",
       "native-country    object\n",
       "income            object\n",
       "dtype: object"
      ]
     },
     "execution_count": 40,
     "metadata": {},
     "output_type": "execute_result"
    }
   ],
   "source": [
    "#get all feature which are object type\n",
    "df.dtypes[df.dtypes == 'object']"
   ]
  },
  {
   "cell_type": "code",
   "execution_count": 41,
   "metadata": {},
   "outputs": [
    {
     "data": {
      "text/plain": [
       "['age',\n",
       " 'fnlwgt',\n",
       " 'educational-num',\n",
       " 'capital-gain',\n",
       " 'capital-loss',\n",
       " 'hours-per-week']"
      ]
     },
     "execution_count": 41,
     "metadata": {},
     "output_type": "execute_result"
    }
   ],
   "source": [
    "#get numeric features\n",
    "df.dtypes[df.dtypes == 'int64'].index.to_list()"
   ]
  },
  {
   "cell_type": "code",
   "execution_count": 42,
   "metadata": {},
   "outputs": [
    {
     "data": {
      "text/plain": [
       "<=50K    37155\n",
       ">50K     11687\n",
       "Name: income, dtype: int64"
      ]
     },
     "execution_count": 42,
     "metadata": {},
     "output_type": "execute_result"
    }
   ],
   "source": [
    "df.income.value_counts()"
   ]
  },
  {
   "cell_type": "code",
   "execution_count": 43,
   "metadata": {},
   "outputs": [
    {
     "name": "stdout",
     "output_type": "stream",
     "text": [
      "0.23928176569346055\n"
     ]
    }
   ],
   "source": [
    "print(11687/( 37155+11687))"
   ]
  },
  {
   "cell_type": "markdown",
   "metadata": {},
   "source": [
    ">=>50k class have 24% ALL OF THE ENTIRE DATA AND 76% WHICH IS <= 50K is mojority So data set again imbalanced."
   ]
  },
  {
   "cell_type": "code",
   "execution_count": 44,
   "metadata": {},
   "outputs": [
    {
     "data": {
      "text/plain": [
       "(48842, 15)"
      ]
     },
     "execution_count": 44,
     "metadata": {},
     "output_type": "execute_result"
    }
   ],
   "source": [
    "df.shape"
   ]
  },
  {
   "cell_type": "markdown",
   "metadata": {},
   "source": [
    "* Create fold like previouse case."
   ]
  },
  {
   "cell_type": "code",
   "execution_count": 45,
   "metadata": {},
   "outputs": [],
   "source": [
    "from sklearn.model_selection import StratifiedKFold \n",
    "skf = StratifiedKFold(n_splits = 5) \n",
    "\n",
    "#create fold column\n",
    "df['kfold'] = -1\n",
    "\n",
    "#creating the folds\n",
    "for f_, (t_,i_) in enumerate(skf.split(X = df, y = df.income.values)):\n",
    "    df.loc[i_, 'kfold'] = f_\n",
    "    \n",
    "#save the csv file\n",
    "df.to_csv('adults_folds.csv', index = False)"
   ]
  },
  {
   "cell_type": "code",
   "execution_count": 46,
   "metadata": {
    "scrolled": false
   },
   "outputs": [
    {
     "data": {
      "text/plain": [
       "kfold  income\n",
       "0      <=50K     7431\n",
       "       >50K      2338\n",
       "1      <=50K     7431\n",
       "       >50K      2338\n",
       "2      <=50K     7431\n",
       "       >50K      2337\n",
       "3      <=50K     7431\n",
       "       >50K      2337\n",
       "4      <=50K     7431\n",
       "       >50K      2337\n",
       "Name: income, dtype: int64"
      ]
     },
     "execution_count": 46,
     "metadata": {},
     "output_type": "execute_result"
    }
   ],
   "source": [
    "#check all folds equally devided or not towards the target\n",
    "df.groupby('kfold')['income'].value_counts()"
   ]
  },
  {
   "cell_type": "markdown",
   "metadata": {},
   "source": [
    "* Try to build the Model using one hot encoder with simple logistic Regression."
   ]
  },
  {
   "cell_type": "code",
   "execution_count": 50,
   "metadata": {
    "code_folding": [],
    "scrolled": false
   },
   "outputs": [
    {
     "name": "stderr",
     "output_type": "stream",
     "text": [
      "/Users/akshaysingh/opt/anaconda3/lib/python3.7/site-packages/sklearn/linear_model/_logistic.py:764: ConvergenceWarning: lbfgs failed to converge (status=1):\n",
      "STOP: TOTAL NO. of ITERATIONS REACHED LIMIT.\n",
      "\n",
      "Increase the number of iterations (max_iter) or scale the data as shown in:\n",
      "    https://scikit-learn.org/stable/modules/preprocessing.html\n",
      "Please also refer to the documentation for alternative solver options:\n",
      "    https://scikit-learn.org/stable/modules/linear_model.html#logistic-regression\n",
      "  extra_warning_msg=_LOGISTIC_SOLVER_CONVERGENCE_MSG)\n"
     ]
    },
    {
     "name": "stdout",
     "output_type": "stream",
     "text": [
      "Fold = 0, with ROC_AUC 0.8798800403691147\n",
      "None\n"
     ]
    },
    {
     "name": "stderr",
     "output_type": "stream",
     "text": [
      "/Users/akshaysingh/opt/anaconda3/lib/python3.7/site-packages/sklearn/linear_model/_logistic.py:764: ConvergenceWarning: lbfgs failed to converge (status=1):\n",
      "STOP: TOTAL NO. of ITERATIONS REACHED LIMIT.\n",
      "\n",
      "Increase the number of iterations (max_iter) or scale the data as shown in:\n",
      "    https://scikit-learn.org/stable/modules/preprocessing.html\n",
      "Please also refer to the documentation for alternative solver options:\n",
      "    https://scikit-learn.org/stable/modules/linear_model.html#logistic-regression\n",
      "  extra_warning_msg=_LOGISTIC_SOLVER_CONVERGENCE_MSG)\n"
     ]
    },
    {
     "name": "stdout",
     "output_type": "stream",
     "text": [
      "Fold = 1, with ROC_AUC 0.8785595082399938\n",
      "None\n"
     ]
    },
    {
     "name": "stderr",
     "output_type": "stream",
     "text": [
      "/Users/akshaysingh/opt/anaconda3/lib/python3.7/site-packages/sklearn/linear_model/_logistic.py:764: ConvergenceWarning: lbfgs failed to converge (status=1):\n",
      "STOP: TOTAL NO. of ITERATIONS REACHED LIMIT.\n",
      "\n",
      "Increase the number of iterations (max_iter) or scale the data as shown in:\n",
      "    https://scikit-learn.org/stable/modules/preprocessing.html\n",
      "Please also refer to the documentation for alternative solver options:\n",
      "    https://scikit-learn.org/stable/modules/linear_model.html#logistic-regression\n",
      "  extra_warning_msg=_LOGISTIC_SOLVER_CONVERGENCE_MSG)\n"
     ]
    },
    {
     "name": "stdout",
     "output_type": "stream",
     "text": [
      "Fold = 2, with ROC_AUC 0.8731868779708132\n",
      "None\n"
     ]
    },
    {
     "name": "stderr",
     "output_type": "stream",
     "text": [
      "/Users/akshaysingh/opt/anaconda3/lib/python3.7/site-packages/sklearn/linear_model/_logistic.py:764: ConvergenceWarning: lbfgs failed to converge (status=1):\n",
      "STOP: TOTAL NO. of ITERATIONS REACHED LIMIT.\n",
      "\n",
      "Increase the number of iterations (max_iter) or scale the data as shown in:\n",
      "    https://scikit-learn.org/stable/modules/preprocessing.html\n",
      "Please also refer to the documentation for alternative solver options:\n",
      "    https://scikit-learn.org/stable/modules/linear_model.html#logistic-regression\n",
      "  extra_warning_msg=_LOGISTIC_SOLVER_CONVERGENCE_MSG)\n"
     ]
    },
    {
     "name": "stdout",
     "output_type": "stream",
     "text": [
      "Fold = 3, with ROC_AUC 0.8789306060198269\n",
      "None\n",
      "Fold = 4, with ROC_AUC 0.8833881897453145\n",
      "None\n"
     ]
    },
    {
     "name": "stderr",
     "output_type": "stream",
     "text": [
      "/Users/akshaysingh/opt/anaconda3/lib/python3.7/site-packages/sklearn/linear_model/_logistic.py:764: ConvergenceWarning: lbfgs failed to converge (status=1):\n",
      "STOP: TOTAL NO. of ITERATIONS REACHED LIMIT.\n",
      "\n",
      "Increase the number of iterations (max_iter) or scale the data as shown in:\n",
      "    https://scikit-learn.org/stable/modules/preprocessing.html\n",
      "Please also refer to the documentation for alternative solver options:\n",
      "    https://scikit-learn.org/stable/modules/linear_model.html#logistic-regression\n",
      "  extra_warning_msg=_LOGISTIC_SOLVER_CONVERGENCE_MSG)\n"
     ]
    }
   ],
   "source": [
    "#get all dependencies\n",
    "import pandas as pd\n",
    "from sklearn.preprocessing import OneHotEncoder\n",
    "from sklearn.linear_model import LogisticRegression\n",
    "from sklearn.metrics import roc_auc_score\n",
    "\n",
    "#create function\n",
    "def run_model_LR(fold):\n",
    "    df = pd.read_csv('adults_folds.csv')\n",
    "    \n",
    "    #get numerics feature and drop it\n",
    "    numerical = [\n",
    "        'age',\n",
    "        'fnlwgt',\n",
    "        'educational-num',\n",
    "        'capital-gain',\n",
    "        'capital-loss',\n",
    "        'hours-per-week'\n",
    "    ]\n",
    "    df = df.drop(numerical, axis = 1)\n",
    "    \n",
    "    #Mapping the target\n",
    "    target_mapping={\n",
    "        '<=50K': 0,\n",
    "        '>50K': 1\n",
    "    }\n",
    "    \n",
    "    #replace target\n",
    "    df.loc[:, 'income'] = df['income'].map(target_mapping)\n",
    "    \n",
    "    #get valid categorical features\n",
    "    features = [\n",
    "            feature for feature in df.columns if feature not in ['income', 'kfold']\n",
    "    ]\n",
    "    \n",
    "    #Handle missing value if any(Doubt in '?')\n",
    "    for feat in features:\n",
    "        df.loc[df[feat] == '?' , feat] = 'NONE'\n",
    "    \n",
    "    #get train and validation set\n",
    "    df_train = df[df.kfold != fold].reset_index(drop = True)\n",
    "    df_valid = df[df.kfold == fold].reset_index(drop = True)\n",
    "    \n",
    "    #Apply ONE HOT ENCODER\n",
    "    ohe = OneHotEncoder()\n",
    "    \n",
    "full_data = pd.concat([df_train[features], df_valid[features]],\n",
    "                          axis = 0)\n",
    "    \n",
    "    #fit my algorithm\n",
    "    ohe.fit(full_data[features])\n",
    "    \n",
    "    #transformed tarining data\n",
    "    x_train = ohe.transform(df_train[features])\n",
    "    \n",
    "    #transformed my validation data\n",
    "    x_valid = ohe.transform(df_valid[features])\n",
    "    \n",
    "    #build the simple LR classifier(Without tuning)\n",
    "    model = LogisticRegression()\n",
    "    \n",
    "    model.fit(x_train, df.income.values)\n",
    "    \n",
    "    valid_predict = model.predict_proba(x_valid)[:, 1]\n",
    "    \n",
    "    #get score_\n",
    "    auc_score = roc_auc_score(df.valid.income.values, valid_predict) \n",
    "                \n",
    "    print(f\"Fold = {fold}, with ROC_AUC {auc_score}\")\n",
    "    \n",
    "if __name__== \"__main__\":\n",
    "    for fold_ in range(5):\n",
    "        print(run_model_LR(fold_))"
   ]
  },
  {
   "cell_type": "markdown",
   "metadata": {},
   "source": [
    "* Convergence warning becoz we are not doing any kind of hyperparamter tuning."
   ]
  },
  {
   "cell_type": "markdown",
   "metadata": {},
   "source": [
    " ### Build Model Including Numerical Features"
   ]
  },
  {
   "cell_type": "code",
   "execution_count": 57,
   "metadata": {
    "code_folding": []
   },
   "outputs": [
    {
     "name": "stdout",
     "output_type": "stream",
     "text": [
      "Fold = 0, with ROC_AUC 0.8799825517659531\n",
      "None\n",
      "Fold = 1, with ROC_AUC 0.8793659293098445\n",
      "None\n",
      "Fold = 2, with ROC_AUC 0.8739433741786582\n",
      "None\n",
      "Fold = 3, with ROC_AUC 0.879012028332892\n",
      "None\n",
      "Fold = 4, with ROC_AUC 0.8821946964131052\n",
      "None\n"
     ]
    }
   ],
   "source": [
    "#get all dependencies\n",
    "import pandas as pd\n",
    "from sklearn.preprocessing import LabelEncoder\n",
    "import xgboost as xgb\n",
    "from sklearn.metrics import roc_auc_score\n",
    "\n",
    "#create function\n",
    "def run_model_LR(fold):\n",
    "    df = pd.read_csv('adults_folds.csv')\n",
    "    \n",
    "    #get numerics feature and drop it\n",
    "    numerical = [\n",
    "        'age',\n",
    "        'fnlwgt',\n",
    "        'educational-num',\n",
    "        'capital-gain',\n",
    "        'capital-loss',\n",
    "        'hours-per-week'\n",
    "    ]\n",
    "    df = df.drop(numerical, axis = 1)\n",
    "    \n",
    "    #Mapping the target\n",
    "    target_mapping={\n",
    "        '<=50K': 0,\n",
    "        '>50K': 1\n",
    "    }\n",
    "    \n",
    "    #replace target\n",
    "    df.loc[:, 'income'] = df['income'].map(target_mapping)\n",
    "    \n",
    "    #get valid categorical features\n",
    "    features = [\n",
    "            feature for feature in df.columns if feature not in ['income', 'kfold']\n",
    "    ]\n",
    "    \n",
    "    #Handle missing value if any(Doubt in '?')\n",
    "    for feat in features:\n",
    "        df.loc[df[feat] == '?' , feat] = 'NONE'\n",
    "        \n",
    "    #Apply LABEL ENCODER\n",
    "    for feature in features:\n",
    "        lbl = LabelEncoder()\n",
    "        lbl.fit(df[feature])\n",
    "        df.loc[: , feature]= lbl.transform(df[feature])  \n",
    "        \n",
    "    #get train and validation set\n",
    "    df_train = df[df.kfold != fold].reset_index(drop = True)\n",
    "    df_valid = df[df.kfold == fold].reset_index(drop = True)\n",
    "    \n",
    "    \n",
    "    #modelling\n",
    "    model = xgb.XGBClassifier(max_depth = 4,\n",
    "                            n_estimators=100\n",
    "            )\n",
    "    \n",
    "    model.fit(df_train[features].values, df_train.income.values)\n",
    "    \n",
    "    valid_predict = model.predict_proba(df_valid[features].values)[:, 1]\n",
    "    \n",
    "    #get score_\n",
    "    auc_score = roc_auc_score(df_valid.income.values, valid_predict) \n",
    "                \n",
    "    print(f\"Fold = {fold}, with ROC_AUC {auc_score}\")\n",
    "    \n",
    "if __name__== \"__main__\":\n",
    "    for fold_ in range(5):\n",
    "        print(run_model_LR(fold_))"
   ]
  },
  {
   "cell_type": "markdown",
   "metadata": {},
   "source": [
    "* We don't get much more good score it almost same as above logistic model."
   ]
  },
  {
   "cell_type": "markdown",
   "metadata": {},
   "source": [
    "### Let's try to Build model  including numeric feature also."
   ]
  },
  {
   "cell_type": "code",
   "execution_count": 62,
   "metadata": {
    "code_folding": [],
    "scrolled": true
   },
   "outputs": [
    {
     "name": "stdout",
     "output_type": "stream",
     "text": [
      "Fold = 0, with ROC_AUC 0.9256568758785562\n",
      "None\n"
     ]
    },
    {
     "name": "stderr",
     "output_type": "stream",
     "text": [
      "/Users/akshaysingh/opt/anaconda3/lib/python3.7/site-packages/pandas/core/ops/array_ops.py:253: FutureWarning: elementwise comparison failed; returning scalar instead, but in the future will perform elementwise comparison\n",
      "  res_values = method(rvalues)\n"
     ]
    },
    {
     "name": "stdout",
     "output_type": "stream",
     "text": [
      "Fold = 1, with ROC_AUC 0.9232666220704677\n",
      "None\n"
     ]
    },
    {
     "name": "stderr",
     "output_type": "stream",
     "text": [
      "/Users/akshaysingh/opt/anaconda3/lib/python3.7/site-packages/pandas/core/ops/array_ops.py:253: FutureWarning: elementwise comparison failed; returning scalar instead, but in the future will perform elementwise comparison\n",
      "  res_values = method(rvalues)\n"
     ]
    },
    {
     "name": "stdout",
     "output_type": "stream",
     "text": [
      "Fold = 2, with ROC_AUC 0.9216466286584545\n",
      "None\n"
     ]
    },
    {
     "name": "stderr",
     "output_type": "stream",
     "text": [
      "/Users/akshaysingh/opt/anaconda3/lib/python3.7/site-packages/pandas/core/ops/array_ops.py:253: FutureWarning: elementwise comparison failed; returning scalar instead, but in the future will perform elementwise comparison\n",
      "  res_values = method(rvalues)\n"
     ]
    },
    {
     "name": "stdout",
     "output_type": "stream",
     "text": [
      "Fold = 3, with ROC_AUC 0.927326583573296\n",
      "None\n"
     ]
    },
    {
     "name": "stderr",
     "output_type": "stream",
     "text": [
      "/Users/akshaysingh/opt/anaconda3/lib/python3.7/site-packages/pandas/core/ops/array_ops.py:253: FutureWarning: elementwise comparison failed; returning scalar instead, but in the future will perform elementwise comparison\n",
      "  res_values = method(rvalues)\n"
     ]
    },
    {
     "name": "stdout",
     "output_type": "stream",
     "text": [
      "Fold = 4, with ROC_AUC 0.9279865131481775\n",
      "None\n"
     ]
    }
   ],
   "source": [
    "#get all dependencies\n",
    "import pandas as pd\n",
    "from sklearn.preprocessing import LabelEncoder\n",
    "import xgboost as xgb\n",
    "from sklearn.metrics import roc_auc_score\n",
    "\n",
    "#create function\n",
    "def run_model_LR(fold):\n",
    "    df = pd.read_csv('adults_folds.csv')\n",
    "    \n",
    "    #get numerics feature and drop it\n",
    "    numerical_cols = [\n",
    "        'age',\n",
    "        'fnlwgt',\n",
    "        'educational-num',\n",
    "        'capital-gain',\n",
    "        'capital-loss',\n",
    "        'hours-per-week'\n",
    "    ]\n",
    "    \n",
    "    #Mapping the target\n",
    "    target_mapping={\n",
    "        '<=50K': 0,\n",
    "        '>50K': 1\n",
    "    }\n",
    "    \n",
    "    #replace target\n",
    "    df.loc[:, 'income'] = df['income'].map(target_mapping)\n",
    "    \n",
    "    #get valid categorical features\n",
    "    features = [\n",
    "            feature for feature in df.columns if feature not in ['income', 'kfold']\n",
    "    ]\n",
    "    \n",
    "    #Handle missing value if any(No null values in numeric features)\n",
    "    for feat in features:\n",
    "        df.loc[df[feat] == '?' , feat] = 'NONE'\n",
    "        \n",
    "    #Apply LABEL ENCODER\n",
    "    for feature in features:\n",
    "        if feature not in numerical_cols:\n",
    "            lbl = LabelEncoder()\n",
    "            lbl.fit(df[feature])\n",
    "            df.loc[: , feature]= lbl.transform(df[feature])  \n",
    "        \n",
    "    #get train and validation set\n",
    "    df_train = df[df.kfold != fold].reset_index(drop = True)\n",
    "    df_valid = df[df.kfold == fold].reset_index(drop = True)\n",
    "    \n",
    "    \n",
    "    #modelling(Without hyper parameter optimization)\n",
    "    model = xgb.XGBClassifier(max_depth = 4,\n",
    "                            n_estimators=100\n",
    "            )\n",
    "    \n",
    "    model.fit(df_train[features].values, df_train.income.values)\n",
    "    \n",
    "    valid_predict = model.predict_proba(df_valid[features].values)[:, 1]\n",
    "    \n",
    "    #get score_\n",
    "    auc_score = roc_auc_score(df_valid.income.values, valid_predict) \n",
    "                \n",
    "    print(f\"Fold = {fold}, with ROC_AUC {auc_score}\")\n",
    "    \n",
    "if __name__== \"__main__\":\n",
    "    for fold_ in range(5):\n",
    "        print(run_model_LR(fold_))"
   ]
  },
  {
   "cell_type": "markdown",
   "metadata": {},
   "source": [
    "* Finally we got high ROC-Score which is quite good without hyperparameter optimization.\n",
    "* We can also do some feature selection.\n",
    "\n",
    "* NOTE:\n",
    "    * Out of the box thing we can do here by concatinating the categorical features and then applying some feature selection approach on top of that. \n",
    "    * This method is kind of greedy and brute force if we don't have too many features."
   ]
  },
  {
   "cell_type": "code",
   "execution_count": 64,
   "metadata": {
    "scrolled": false
   },
   "outputs": [
    {
     "name": "stderr",
     "output_type": "stream",
     "text": [
      "/Users/akshaysingh/opt/anaconda3/lib/python3.7/site-packages/pandas/core/ops/array_ops.py:253: FutureWarning: elementwise comparison failed; returning scalar instead, but in the future will perform elementwise comparison\n",
      "  res_values = method(rvalues)\n"
     ]
    },
    {
     "name": "stdout",
     "output_type": "stream",
     "text": [
      "Fold = 0, with ROC_AUC 0.928936060631491\n",
      "None\n"
     ]
    },
    {
     "name": "stderr",
     "output_type": "stream",
     "text": [
      "/Users/akshaysingh/opt/anaconda3/lib/python3.7/site-packages/pandas/core/ops/array_ops.py:253: FutureWarning: elementwise comparison failed; returning scalar instead, but in the future will perform elementwise comparison\n",
      "  res_values = method(rvalues)\n"
     ]
    },
    {
     "name": "stdout",
     "output_type": "stream",
     "text": [
      "Fold = 1, with ROC_AUC 0.9263067958321779\n",
      "None\n"
     ]
    },
    {
     "name": "stderr",
     "output_type": "stream",
     "text": [
      "/Users/akshaysingh/opt/anaconda3/lib/python3.7/site-packages/pandas/core/ops/array_ops.py:253: FutureWarning: elementwise comparison failed; returning scalar instead, but in the future will perform elementwise comparison\n",
      "  res_values = method(rvalues)\n"
     ]
    },
    {
     "name": "stdout",
     "output_type": "stream",
     "text": [
      "Fold = 2, with ROC_AUC 0.926789449672114\n",
      "None\n"
     ]
    },
    {
     "name": "stderr",
     "output_type": "stream",
     "text": [
      "/Users/akshaysingh/opt/anaconda3/lib/python3.7/site-packages/pandas/core/ops/array_ops.py:253: FutureWarning: elementwise comparison failed; returning scalar instead, but in the future will perform elementwise comparison\n",
      "  res_values = method(rvalues)\n"
     ]
    },
    {
     "name": "stdout",
     "output_type": "stream",
     "text": [
      "Fold = 3, with ROC_AUC 0.9297966624567762\n",
      "None\n"
     ]
    },
    {
     "name": "stderr",
     "output_type": "stream",
     "text": [
      "/Users/akshaysingh/opt/anaconda3/lib/python3.7/site-packages/pandas/core/ops/array_ops.py:253: FutureWarning: elementwise comparison failed; returning scalar instead, but in the future will perform elementwise comparison\n",
      "  res_values = method(rvalues)\n"
     ]
    },
    {
     "name": "stdout",
     "output_type": "stream",
     "text": [
      "Fold = 4, with ROC_AUC 0.9317812593590312\n",
      "None\n"
     ]
    }
   ],
   "source": [
    "#let's try to increase some cost to our model and check it works for me or not.\n",
    "#get all dependencies\n",
    "import pandas as pd\n",
    "from sklearn.preprocessing import LabelEncoder\n",
    "import xgboost as xgb\n",
    "from sklearn.metrics import roc_auc_score\n",
    "\n",
    "#create function\n",
    "def run_model_LR(fold):\n",
    "    df = pd.read_csv('adults_folds.csv')\n",
    "    \n",
    "    #get numerics feature and drop it\n",
    "    numerical_cols = [\n",
    "        'age',\n",
    "        'fnlwgt',\n",
    "        'educational-num',\n",
    "        'capital-gain',\n",
    "        'capital-loss',\n",
    "        'hours-per-week'\n",
    "    ]\n",
    "    \n",
    "    #Mapping the target\n",
    "    target_mapping={\n",
    "        '<=50K': 0,\n",
    "        '>50K': 1\n",
    "    }\n",
    "    \n",
    "    #replace target\n",
    "    df.loc[:, 'income'] = df['income'].map(target_mapping)\n",
    "    \n",
    "    #get valid categorical features\n",
    "    features = [\n",
    "            feature for feature in df.columns if feature not in ['income', 'kfold']\n",
    "    ]\n",
    "    \n",
    "    #Handle missing value if any(No null values in numeric features)\n",
    "    for feat in features:\n",
    "        df.loc[df[feat] == '?' , feat] = 'NONE'\n",
    "        \n",
    "    #Apply LABEL ENCODER\n",
    "    for feature in features:\n",
    "        if feature not in numerical_cols:\n",
    "            lbl = LabelEncoder()\n",
    "            lbl.fit(df[feature])\n",
    "            df.loc[: , feature]= lbl.transform(df[feature])  \n",
    "        \n",
    "    #get train and validation set\n",
    "    df_train = df[df.kfold != fold].reset_index(drop = True)\n",
    "    df_valid = df[df.kfold == fold].reset_index(drop = True)\n",
    "    \n",
    "    \n",
    "    #modelling(Without hyper parameter optimization)\n",
    "    model = xgb.XGBClassifier(max_depth = 8,\n",
    "                            n_estimators=200\n",
    "            )\n",
    "    \n",
    "    model.fit(df_train[features].values, df_train.income.values)\n",
    "    \n",
    "    valid_predict = model.predict_proba(df_valid[features].values)[:, 1]\n",
    "    \n",
    "    #get score_\n",
    "    auc_score = roc_auc_score(df_valid.income.values, valid_predict) \n",
    "                \n",
    "    print(f\"Fold = {fold}, with ROC_AUC {auc_score}\")\n",
    "    \n",
    "if __name__== \"__main__\":\n",
    "    for fold_ in range(5):\n",
    "        print(run_model_LR(fold_))"
   ]
  },
  {
   "cell_type": "markdown",
   "metadata": {},
   "source": [
    "* again we have increase our score. At least for kaggle comptetion .92 to .93 matter a lot.\n",
    "* But for production wise it's not that much hike. \n",
    "* we can also try **Target Encoding** on this and it can increase our score much more but skip it for now."
   ]
  },
  {
   "cell_type": "code",
   "execution_count": 1,
   "metadata": {},
   "outputs": [
    {
     "data": {
      "text/plain": [
       "'\\n1.get data\\n2.drop numeric col\\n3.change target\\n4.get features\\n5.handle missing data\\n6.Apply Encoded method\\n7.Build Model\\n8.Test Model\\n'"
      ]
     },
     "execution_count": 1,
     "metadata": {},
     "output_type": "execute_result"
    }
   ],
   "source": [
    "#flow->\n",
    "\"\"\"\n",
    "1.get data\n",
    "2.drop numeric col\n",
    "3.change target\n",
    "4.get features\n",
    "5.handle missing data\n",
    "6.Apply Encoded method\n",
    "7.Build Model\n",
    "8.Test Model\n",
    "\"\"\""
   ]
  },
  {
   "cell_type": "markdown",
   "metadata": {},
   "source": [
    "### Target Encoding"
   ]
  },
  {
   "cell_type": "markdown",
   "metadata": {},
   "source": [
    "* Target Encoding is a technique in which we have to map each category in a given feature to its mean target.\n",
    "* In target mean encoding we are assigning target mean to the each category.\n",
    "**NOTE:**\n",
    "    * Target Encoding is more prone to overfitting.\n",
    "    * Target Encoding always be done using CV.\n",
    "    * Smoothning parameter needed to avoid."
   ]
  },
  {
   "cell_type": "code",
   "execution_count": null,
   "metadata": {},
   "outputs": [],
   "source": [
    "from sklearn.preprocessing import LabelEncoder\n",
    "numeric_cols = [\n",
    "        'age',\n",
    "        'fnlwgt',\n",
    "        'educational-num',\n",
    "        'capital-gain',\n",
    "        'capital-loss',\n",
    "        'hours-per-week'  \n",
    "]\n",
    "\n",
    "for col in df.columns:\n",
    "    if col not in numeric_cols:\n",
    "        lbl = LabelEncoder()\n",
    "        df.loc[:, col] = lbl.fit_transform(df[col])\n",
    "        \n",
    "\n",
    "for feature in df.columns\n",
    "        mapping_dict = {\n",
    "        df.groupby()\n",
    "}       "
   ]
  },
  {
   "cell_type": "code",
   "execution_count": 3,
   "metadata": {},
   "outputs": [
    {
     "data": {
      "text/html": [
       "<div>\n",
       "<style scoped>\n",
       "    .dataframe tbody tr th:only-of-type {\n",
       "        vertical-align: middle;\n",
       "    }\n",
       "\n",
       "    .dataframe tbody tr th {\n",
       "        vertical-align: top;\n",
       "    }\n",
       "\n",
       "    .dataframe thead th {\n",
       "        text-align: right;\n",
       "    }\n",
       "</style>\n",
       "<table border=\"1\" class=\"dataframe\">\n",
       "  <thead>\n",
       "    <tr style=\"text-align: right;\">\n",
       "      <th></th>\n",
       "      <th>age</th>\n",
       "      <th>workclass</th>\n",
       "      <th>fnlwgt</th>\n",
       "      <th>education</th>\n",
       "      <th>educational-num</th>\n",
       "      <th>marital-status</th>\n",
       "      <th>occupation</th>\n",
       "      <th>relationship</th>\n",
       "      <th>race</th>\n",
       "      <th>gender</th>\n",
       "      <th>capital-gain</th>\n",
       "      <th>capital-loss</th>\n",
       "      <th>hours-per-week</th>\n",
       "      <th>native-country</th>\n",
       "      <th>income</th>\n",
       "      <th>kfold</th>\n",
       "    </tr>\n",
       "  </thead>\n",
       "  <tbody>\n",
       "    <tr>\n",
       "      <th>0</th>\n",
       "      <td>25</td>\n",
       "      <td>Private</td>\n",
       "      <td>226802</td>\n",
       "      <td>11th</td>\n",
       "      <td>7</td>\n",
       "      <td>Never-married</td>\n",
       "      <td>Machine-op-inspct</td>\n",
       "      <td>Own-child</td>\n",
       "      <td>Black</td>\n",
       "      <td>Male</td>\n",
       "      <td>0</td>\n",
       "      <td>0</td>\n",
       "      <td>40</td>\n",
       "      <td>United-States</td>\n",
       "      <td>0</td>\n",
       "      <td>0</td>\n",
       "    </tr>\n",
       "    <tr>\n",
       "      <th>1</th>\n",
       "      <td>38</td>\n",
       "      <td>Private</td>\n",
       "      <td>89814</td>\n",
       "      <td>HS-grad</td>\n",
       "      <td>9</td>\n",
       "      <td>Married-civ-spouse</td>\n",
       "      <td>Farming-fishing</td>\n",
       "      <td>Husband</td>\n",
       "      <td>White</td>\n",
       "      <td>Male</td>\n",
       "      <td>0</td>\n",
       "      <td>0</td>\n",
       "      <td>50</td>\n",
       "      <td>United-States</td>\n",
       "      <td>0</td>\n",
       "      <td>0</td>\n",
       "    </tr>\n",
       "    <tr>\n",
       "      <th>2</th>\n",
       "      <td>28</td>\n",
       "      <td>Local-gov</td>\n",
       "      <td>336951</td>\n",
       "      <td>Assoc-acdm</td>\n",
       "      <td>12</td>\n",
       "      <td>Married-civ-spouse</td>\n",
       "      <td>Protective-serv</td>\n",
       "      <td>Husband</td>\n",
       "      <td>White</td>\n",
       "      <td>Male</td>\n",
       "      <td>0</td>\n",
       "      <td>0</td>\n",
       "      <td>40</td>\n",
       "      <td>United-States</td>\n",
       "      <td>1</td>\n",
       "      <td>0</td>\n",
       "    </tr>\n",
       "    <tr>\n",
       "      <th>3</th>\n",
       "      <td>44</td>\n",
       "      <td>Private</td>\n",
       "      <td>160323</td>\n",
       "      <td>Some-college</td>\n",
       "      <td>10</td>\n",
       "      <td>Married-civ-spouse</td>\n",
       "      <td>Machine-op-inspct</td>\n",
       "      <td>Husband</td>\n",
       "      <td>Black</td>\n",
       "      <td>Male</td>\n",
       "      <td>7688</td>\n",
       "      <td>0</td>\n",
       "      <td>40</td>\n",
       "      <td>United-States</td>\n",
       "      <td>1</td>\n",
       "      <td>0</td>\n",
       "    </tr>\n",
       "    <tr>\n",
       "      <th>4</th>\n",
       "      <td>18</td>\n",
       "      <td>NONE</td>\n",
       "      <td>103497</td>\n",
       "      <td>Some-college</td>\n",
       "      <td>10</td>\n",
       "      <td>Never-married</td>\n",
       "      <td>?</td>\n",
       "      <td>Own-child</td>\n",
       "      <td>White</td>\n",
       "      <td>Female</td>\n",
       "      <td>0</td>\n",
       "      <td>0</td>\n",
       "      <td>30</td>\n",
       "      <td>United-States</td>\n",
       "      <td>0</td>\n",
       "      <td>0</td>\n",
       "    </tr>\n",
       "  </tbody>\n",
       "</table>\n",
       "</div>"
      ],
      "text/plain": [
       "   age  workclass  fnlwgt     education  educational-num      marital-status  \\\n",
       "0   25    Private  226802          11th                7       Never-married   \n",
       "1   38    Private   89814       HS-grad                9  Married-civ-spouse   \n",
       "2   28  Local-gov  336951    Assoc-acdm               12  Married-civ-spouse   \n",
       "3   44    Private  160323  Some-college               10  Married-civ-spouse   \n",
       "4   18       NONE  103497  Some-college               10       Never-married   \n",
       "\n",
       "          occupation relationship   race  gender  capital-gain  capital-loss  \\\n",
       "0  Machine-op-inspct    Own-child  Black    Male             0             0   \n",
       "1    Farming-fishing      Husband  White    Male             0             0   \n",
       "2    Protective-serv      Husband  White    Male             0             0   \n",
       "3  Machine-op-inspct      Husband  Black    Male          7688             0   \n",
       "4                  ?    Own-child  White  Female             0             0   \n",
       "\n",
       "   hours-per-week native-country  income  kfold  \n",
       "0              40  United-States       0      0  \n",
       "1              50  United-States       0      0  \n",
       "2              40  United-States       1      0  \n",
       "3              40  United-States       1      0  \n",
       "4              30  United-States       0      0  "
      ]
     },
     "execution_count": 3,
     "metadata": {},
     "output_type": "execute_result"
    }
   ],
   "source": [
    "df = pd.read_csv('adults_folds.csv')\n",
    "mapping_target = {\n",
    "    '<=50K': 0,\n",
    "    '>50K' : 1\n",
    "}\n",
    "df.loc[:, 'income'] = df.income.map(mapping_target)\n",
    "df.head()"
   ]
  },
  {
   "cell_type": "markdown",
   "metadata": {},
   "source": [
    "* Below is the way how to do Target encoding."
   ]
  },
  {
   "cell_type": "code",
   "execution_count": 5,
   "metadata": {},
   "outputs": [
    {
     "data": {
      "text/plain": [
       "race\n",
       "Amer-Indian-Eskimo      470\n",
       "Asian-Pac-Islander     1519\n",
       "Black                  4685\n",
       "Other                   406\n",
       "White                 41762\n",
       "Name: income, dtype: int64"
      ]
     },
     "execution_count": 5,
     "metadata": {},
     "output_type": "execute_result"
    }
   ],
   "source": [
    "df.groupby('race')['income'].count()"
   ]
  },
  {
   "cell_type": "code",
   "execution_count": 35,
   "metadata": {},
   "outputs": [
    {
     "data": {
      "text/plain": [
       "{'Amer-Indian-Eskimo': 0.11702127659574468,\n",
       " 'Asian-Pac-Islander': 0.26925608953258723,\n",
       " 'Black': 0.1208110992529349,\n",
       " 'Other': 0.12315270935960591,\n",
       " 'White': 0.2539868780230832}"
      ]
     },
     "execution_count": 35,
     "metadata": {},
     "output_type": "execute_result"
    }
   ],
   "source": [
    "dict(df.groupby('race')['income'].())"
   ]
  },
  {
   "cell_type": "code",
   "execution_count": 36,
   "metadata": {
    "scrolled": true
   },
   "outputs": [
    {
     "data": {
      "text/plain": [
       "0        0.120811\n",
       "1        0.253987\n",
       "2        0.253987\n",
       "3        0.120811\n",
       "4        0.253987\n",
       "           ...   \n",
       "48837    0.253987\n",
       "48838    0.253987\n",
       "48839    0.253987\n",
       "48840    0.253987\n",
       "48841    0.253987\n",
       "Name: race, Length: 48842, dtype: float64"
      ]
     },
     "execution_count": 36,
     "metadata": {},
     "output_type": "execute_result"
    }
   ],
   "source": [
    "#this is how we have to assign the value to each category by loop through.\n",
    "df.race.map(dict(df.groupby('race')['income'].mean()))"
   ]
  },
  {
   "cell_type": "code",
   "execution_count": null,
   "metadata": {},
   "outputs": [],
   "source": []
  }
 ],
 "metadata": {
  "kernelspec": {
   "display_name": "Python 3",
   "language": "python",
   "name": "python3"
  },
  "language_info": {
   "codemirror_mode": {
    "name": "ipython",
    "version": 3
   },
   "file_extension": ".py",
   "mimetype": "text/x-python",
   "name": "python",
   "nbconvert_exporter": "python",
   "pygments_lexer": "ipython3",
   "version": "3.7.4"
  }
 },
 "nbformat": 4,
 "nbformat_minor": 2
}
