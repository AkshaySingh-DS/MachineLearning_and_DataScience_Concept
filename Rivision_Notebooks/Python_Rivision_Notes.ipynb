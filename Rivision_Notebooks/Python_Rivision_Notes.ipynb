{
  "nbformat": 4,
  "nbformat_minor": 0,
  "metadata": {
    "kernelspec": {
      "display_name": "Python 3",
      "language": "python",
      "name": "python3"
    },
    "language_info": {
      "codemirror_mode": {
        "name": "ipython",
        "version": 3
      },
      "file_extension": ".py",
      "mimetype": "text/x-python",
      "name": "python",
      "nbconvert_exporter": "python",
      "pygments_lexer": "ipython3",
      "version": "3.7.4"
    },
    "colab": {
      "name": "Python_Rivision_Notes.ipynb",
      "provenance": []
    }
  },
  "cells": [
    {
      "cell_type": "markdown",
      "metadata": {
        "id": "MExHtPGP_s4N"
      },
      "source": [
        "# <center>Complete_Python_Basic_To_Advance</center>"
      ]
    },
    {
      "cell_type": "markdown",
      "metadata": {
        "id": "o7-sdBle_s4i"
      },
      "source": [
        "## String(PART 1)"
      ]
    },
    {
      "cell_type": "markdown",
      "metadata": {
        "id": "BPeQHXMm_s4j"
      },
      "source": [
        "### Basic_Level_1 :"
      ]
    },
    {
      "cell_type": "code",
      "metadata": {
        "id": "_rUWygxK_s4j"
      },
      "source": [
        "name = ' Akshay Singh '"
      ],
      "execution_count": null,
      "outputs": []
    },
    {
      "cell_type": "code",
      "metadata": {
        "colab": {
          "base_uri": "https://localhost:8080/",
          "height": 58
        },
        "id": "H3ukX3iD_s4k",
        "outputId": "bfced756-9918-408d-d80e-6cd3e82982b1"
      },
      "source": [
        "name[::-1]"
      ],
      "execution_count": null,
      "outputs": [
        {
          "output_type": "execute_result",
          "data": {
            "application/vnd.google.colaboratory.intrinsic+json": {
              "type": "string"
            },
            "text/plain": [
              "' hgniS yahskA '"
            ]
          },
          "metadata": {
            "tags": []
          },
          "execution_count": 2
        }
      ]
    },
    {
      "cell_type": "code",
      "metadata": {
        "colab": {
          "base_uri": "https://localhost:8080/"
        },
        "id": "3NYexbv9_s4k",
        "outputId": "fbc69092-3266-474f-ec8a-2cebcf9ddaf6"
      },
      "source": [
        "for i in name:\n",
        "    print(i, end =\"\")"
      ],
      "execution_count": null,
      "outputs": [
        {
          "output_type": "stream",
          "text": [
            " Akshay Singh "
          ],
          "name": "stdout"
        }
      ]
    },
    {
      "cell_type": "code",
      "metadata": {
        "colab": {
          "base_uri": "https://localhost:8080/"
        },
        "id": "yi4U-v2__s4l",
        "outputId": "67b4f78c-4354-47b9-b46c-c37f75079596"
      },
      "source": [
        "len(name)"
      ],
      "execution_count": null,
      "outputs": [
        {
          "output_type": "execute_result",
          "data": {
            "text/plain": [
              "14"
            ]
          },
          "metadata": {
            "tags": []
          },
          "execution_count": 4
        }
      ]
    },
    {
      "cell_type": "markdown",
      "metadata": {
        "id": "mMRr10ZV_s4l"
      },
      "source": [
        "### upper() and lower()"
      ]
    },
    {
      "cell_type": "code",
      "metadata": {
        "colab": {
          "base_uri": "https://localhost:8080/",
          "height": 58
        },
        "id": "xkKsIN4W_s4m",
        "outputId": "c88bb66c-0a36-4dbb-c90d-82ddb89f920f"
      },
      "source": [
        "name.upper()"
      ],
      "execution_count": null,
      "outputs": [
        {
          "output_type": "execute_result",
          "data": {
            "application/vnd.google.colaboratory.intrinsic+json": {
              "type": "string"
            },
            "text/plain": [
              "' AKSHAY SINGH '"
            ]
          },
          "metadata": {
            "tags": []
          },
          "execution_count": 5
        }
      ]
    },
    {
      "cell_type": "code",
      "metadata": {
        "colab": {
          "base_uri": "https://localhost:8080/",
          "height": 58
        },
        "id": "nGAfcr0w_s4m",
        "outputId": "198eb4c9-6324-405a-a431-3ddbbb3aa93e"
      },
      "source": [
        "#actual string doesn't change \n",
        "name"
      ],
      "execution_count": null,
      "outputs": [
        {
          "output_type": "execute_result",
          "data": {
            "application/vnd.google.colaboratory.intrinsic+json": {
              "type": "string"
            },
            "text/plain": [
              "' Akshay Singh '"
            ]
          },
          "metadata": {
            "tags": []
          },
          "execution_count": 6
        }
      ]
    },
    {
      "cell_type": "code",
      "metadata": {
        "colab": {
          "base_uri": "https://localhost:8080/",
          "height": 58
        },
        "id": "Jb-FQGHY_s4n",
        "outputId": "9905dc23-8b35-471a-93ea-f7466e873e2c"
      },
      "source": [
        "name.lower()"
      ],
      "execution_count": null,
      "outputs": [
        {
          "output_type": "execute_result",
          "data": {
            "application/vnd.google.colaboratory.intrinsic+json": {
              "type": "string"
            },
            "text/plain": [
              "' akshay singh '"
            ]
          },
          "metadata": {
            "tags": []
          },
          "execution_count": 7
        }
      ]
    },
    {
      "cell_type": "markdown",
      "metadata": {
        "id": "fTZSeAfo_s4n"
      },
      "source": [
        "### strip()"
      ]
    },
    {
      "cell_type": "markdown",
      "metadata": {
        "id": "G3UC3U_1Dbel"
      },
      "source": [
        "Remove spaces at the beginning and at the end of the string"
      ]
    },
    {
      "cell_type": "code",
      "metadata": {
        "colab": {
          "base_uri": "https://localhost:8080/",
          "height": 58
        },
        "id": "9qgyLgJi_s4n",
        "outputId": "28a35df9-366b-4b23-d027-66a7caed2d54"
      },
      "source": [
        "name.strip()"
      ],
      "execution_count": null,
      "outputs": [
        {
          "output_type": "execute_result",
          "data": {
            "application/vnd.google.colaboratory.intrinsic+json": {
              "type": "string"
            },
            "text/plain": [
              "'Akshay Singh'"
            ]
          },
          "metadata": {
            "tags": []
          },
          "execution_count": 8
        }
      ]
    },
    {
      "cell_type": "code",
      "metadata": {
        "colab": {
          "base_uri": "https://localhost:8080/",
          "height": 58
        },
        "id": "8sunRYVV_s4o",
        "outputId": "a313e22d-8f81-44ae-c446-5cd3a804035a"
      },
      "source": [
        "#but Actual string doesn't change due to immutable property\n",
        "name"
      ],
      "execution_count": null,
      "outputs": [
        {
          "output_type": "execute_result",
          "data": {
            "application/vnd.google.colaboratory.intrinsic+json": {
              "type": "string"
            },
            "text/plain": [
              "' Akshay Singh '"
            ]
          },
          "metadata": {
            "tags": []
          },
          "execution_count": 9
        }
      ]
    },
    {
      "cell_type": "markdown",
      "metadata": {
        "id": "CvJWAF0q_s4p"
      },
      "source": [
        "### replace() "
      ]
    },
    {
      "cell_type": "code",
      "metadata": {
        "colab": {
          "base_uri": "https://localhost:8080/",
          "height": 58
        },
        "id": "3Xxni5Oo_s4p",
        "outputId": "93d4f763-10a3-439e-a26c-058220e6ab3f"
      },
      "source": [
        "name1 = 'AAkashSinha'\n",
        "name1.replace('A','a',1)"
      ],
      "execution_count": null,
      "outputs": [
        {
          "output_type": "execute_result",
          "data": {
            "application/vnd.google.colaboratory.intrinsic+json": {
              "type": "string"
            },
            "text/plain": [
              "'aAkashSinha'"
            ]
          },
          "metadata": {
            "tags": []
          },
          "execution_count": 70
        }
      ]
    },
    {
      "cell_type": "code",
      "metadata": {
        "colab": {
          "base_uri": "https://localhost:8080/",
          "height": 58
        },
        "id": "v7hL9u9j_s4q",
        "outputId": "aceb069b-02bc-4f50-d5b2-479ec154083e"
      },
      "source": [
        "#immutable property\n",
        "name1"
      ],
      "execution_count": null,
      "outputs": [
        {
          "output_type": "execute_result",
          "data": {
            "application/vnd.google.colaboratory.intrinsic+json": {
              "type": "string"
            },
            "text/plain": [
              "'AAkashSinha'"
            ]
          },
          "metadata": {
            "tags": []
          },
          "execution_count": 71
        }
      ]
    },
    {
      "cell_type": "code",
      "metadata": {
        "colab": {
          "base_uri": "https://localhost:8080/",
          "height": 58
        },
        "id": "YIingb7B_s4q",
        "outputId": "906cc9a1-e58e-4f61-e0f7-0680608ca4a0"
      },
      "source": [
        "name3 = name1 + ' Arora'\n",
        "name3"
      ],
      "execution_count": null,
      "outputs": [
        {
          "output_type": "execute_result",
          "data": {
            "application/vnd.google.colaboratory.intrinsic+json": {
              "type": "string"
            },
            "text/plain": [
              "'AAkashSinha Arora'"
            ]
          },
          "metadata": {
            "tags": []
          },
          "execution_count": 72
        }
      ]
    },
    {
      "cell_type": "code",
      "metadata": {
        "colab": {
          "base_uri": "https://localhost:8080/",
          "height": 58
        },
        "id": "WuvBayF1E4DW",
        "outputId": "c7b8d0bf-aeb5-4d91-a90b-03b8ed490a12"
      },
      "source": [
        "name1 = name1+' arora'\n",
        "name1\n",
        "#doubt on immutability"
      ],
      "execution_count": null,
      "outputs": [
        {
          "output_type": "execute_result",
          "data": {
            "application/vnd.google.colaboratory.intrinsic+json": {
              "type": "string"
            },
            "text/plain": [
              "'AAkashSinha arora'"
            ]
          },
          "metadata": {
            "tags": []
          },
          "execution_count": 73
        }
      ]
    },
    {
      "cell_type": "markdown",
      "metadata": {
        "id": "xY0BoGRKdm3h"
      },
      "source": [
        "* Here string is immutable but varaible is mutable, we haven't change string at all"
      ]
    },
    {
      "cell_type": "markdown",
      "metadata": {
        "id": "dhLPH4T2_s4r"
      },
      "source": [
        "### split()"
      ]
    },
    {
      "cell_type": "code",
      "metadata": {
        "colab": {
          "base_uri": "https://localhost:8080/"
        },
        "id": "ib9xbaQy_s4r",
        "outputId": "aff2ebc5-eb44-4ee7-8113-b78981f42465"
      },
      "source": [
        "name3.split()"
      ],
      "execution_count": null,
      "outputs": [
        {
          "output_type": "execute_result",
          "data": {
            "text/plain": [
              "['AAkashSinha', 'Arora']"
            ]
          },
          "metadata": {
            "tags": []
          },
          "execution_count": 13
        }
      ]
    },
    {
      "cell_type": "code",
      "metadata": {
        "colab": {
          "base_uri": "https://localhost:8080/"
        },
        "id": "PXNDVPWg_s4s",
        "outputId": "933fc074-f44c-4f04-e375-d47930e4b50b"
      },
      "source": [
        "print(name3[0: ])\n",
        "print(name3[: -2 ])\n",
        "print(name3[:: -1 ]) #step size 1\n",
        "print(name3[:: -3 ]) # step size 3"
      ],
      "execution_count": null,
      "outputs": [
        {
          "output_type": "stream",
          "text": [
            "AAkashSinha Arora\n",
            "AAkashSinha Aro\n",
            "arorA ahniShsakAA\n",
            "araisA\n"
          ],
          "name": "stdout"
        }
      ]
    },
    {
      "cell_type": "code",
      "metadata": {
        "id": "hi3PPc_F_s4s"
      },
      "source": [
        "string1 = 'I love reading the technical books'"
      ],
      "execution_count": null,
      "outputs": []
    },
    {
      "cell_type": "markdown",
      "metadata": {
        "id": "hBAo4Gf5_s4t"
      },
      "source": [
        "find( ) function returns the index value of the given data that is to found in the string. If it is not found it returns -1."
      ]
    },
    {
      "cell_type": "markdown",
      "metadata": {
        "id": "HsoZBVgw_s4t"
      },
      "source": [
        "### Searching substring"
      ]
    },
    {
      "cell_type": "markdown",
      "metadata": {
        "id": "NPaLWlgr_s4u"
      },
      "source": [
        "* **find()**\n",
        "* **index()**\n",
        "* **not used widely private method str.__contains()__**"
      ]
    },
    {
      "cell_type": "markdown",
      "metadata": {
        "id": "Smn_zXRk_s4u"
      },
      "source": [
        "***find and index both return index value but a little bit difference way when substring not found***"
      ]
    },
    {
      "cell_type": "markdown",
      "metadata": {
        "id": "gqCutm12_s4u"
      },
      "source": [
        "### find()"
      ]
    },
    {
      "cell_type": "code",
      "metadata": {
        "colab": {
          "base_uri": "https://localhost:8080/"
        },
        "id": "98xA0cqe_s4v",
        "outputId": "5113421c-c571-4287-af8e-0da29a300a68"
      },
      "source": [
        "print(string1)\n",
        "print(string1.find('reading'))# starting index\n",
        "print(string1.find('tech'))\n",
        "print(string1.find('beautiful'))# return -1 if not found"
      ],
      "execution_count": null,
      "outputs": [
        {
          "output_type": "stream",
          "text": [
            "I love reading the technical books\n",
            "7\n",
            "19\n",
            "-1\n"
          ],
          "name": "stdout"
        }
      ]
    },
    {
      "cell_type": "markdown",
      "metadata": {
        "id": "veh3UBqj_s4v"
      },
      "source": [
        "**One can also input find( ) function between which index values it has to search.**"
      ]
    },
    {
      "cell_type": "code",
      "metadata": {
        "colab": {
          "base_uri": "https://localhost:8080/"
        },
        "id": "yymiVhey_s4w",
        "outputId": "7e004858-403e-4f3f-c3e2-b9511947c369"
      },
      "source": [
        "print(string1.find('love', 10)) #start searching from 10th index\n",
        "print(string1.find('love', 2)) #start searching from 2nd index"
      ],
      "execution_count": null,
      "outputs": [
        {
          "output_type": "stream",
          "text": [
            "-1\n",
            "2\n"
          ],
          "name": "stdout"
        }
      ]
    },
    {
      "cell_type": "code",
      "metadata": {
        "colab": {
          "base_uri": "https://localhost:8080/"
        },
        "id": "NAWkNUCB_s4w",
        "outputId": "c1239c08-898e-4bfe-f13b-d901445611ee"
      },
      "source": [
        "#finding substring very effectively\n",
        "'Good Morining'.find('Mo')"
      ],
      "execution_count": null,
      "outputs": [
        {
          "output_type": "execute_result",
          "data": {
            "text/plain": [
              "5"
            ]
          },
          "metadata": {
            "tags": []
          },
          "execution_count": 18
        }
      ]
    },
    {
      "cell_type": "markdown",
      "metadata": {
        "id": "LOwvDo1E_s4x"
      },
      "source": [
        "### index()"
      ]
    },
    {
      "cell_type": "code",
      "metadata": {
        "colab": {
          "base_uri": "https://localhost:8080/"
        },
        "id": "JI7ecYC6_s4x",
        "outputId": "1245f90a-a95a-41af-8d99-09fc6b242a9b"
      },
      "source": [
        "print(string1)\n",
        "print(string1.index('love'))"
      ],
      "execution_count": null,
      "outputs": [
        {
          "output_type": "stream",
          "text": [
            "I love reading the technical books\n",
            "2\n"
          ],
          "name": "stdout"
        }
      ]
    },
    {
      "cell_type": "code",
      "metadata": {
        "colab": {
          "base_uri": "https://localhost:8080/"
        },
        "id": "SH0wgcbV_s4y",
        "outputId": "70d431e2-227f-4fdf-811f-582f745af455"
      },
      "source": [
        "print(string1.index('love',1, 10)) #searching from 1 to 10(1 and 10 are inclusive)\n",
        "#NOTE: index method will raise an error if sustring not found(difference of find() and index()) "
      ],
      "execution_count": null,
      "outputs": [
        {
          "output_type": "stream",
          "text": [
            "2\n"
          ],
          "name": "stdout"
        }
      ]
    },
    {
      "cell_type": "markdown",
      "metadata": {
        "id": "BFAz9JctLR9x"
      },
      "source": [
        "However we are looking for exact word here rather than substring"
      ]
    },
    {
      "cell_type": "code",
      "metadata": {
        "colab": {
          "base_uri": "https://localhost:8080/"
        },
        "id": "EietwxWnLQny",
        "outputId": "65a1e124-b8e3-4fe9-cfd0-50132a745031"
      },
      "source": [
        "#let say i'm looking for 'love' exact word\n",
        "print(string1.find('lov'))\n",
        "print(string1.find('love'))\n",
        "#get the same result"
      ],
      "execution_count": null,
      "outputs": [
        {
          "output_type": "stream",
          "text": [
            "2\n",
            "2\n"
          ],
          "name": "stdout"
        }
      ]
    },
    {
      "cell_type": "markdown",
      "metadata": {
        "id": "LqikqUxVLs-T"
      },
      "source": [
        "**For the specific pattern regex is \"The\" best approach**\n",
        "\n",
        "\n"
      ]
    },
    {
      "cell_type": "markdown",
      "metadata": {
        "id": "irn4xrCW_s4z"
      },
      "source": [
        "### join()"
      ]
    },
    {
      "cell_type": "markdown",
      "metadata": {
        "id": "Ut8WrXw4_s40"
      },
      "source": [
        "**join is used to convert list of item into a string.**"
      ]
    },
    {
      "cell_type": "markdown",
      "metadata": {
        "id": "pi-DdIdh_s40"
      },
      "source": [
        "***NOTE: join( ) function is used add a char in between the elements of the input string.***\n",
        "***also used for conversion from list to string(IMP)***"
      ]
    },
    {
      "cell_type": "code",
      "metadata": {
        "colab": {
          "base_uri": "https://localhost:8080/"
        },
        "id": "rxDh5HwP_s41",
        "outputId": "3ecc4227-8726-44c1-b23a-4ae1a2edaa5c"
      },
      "source": [
        "list_string = list('akshay Singh is a good boy')\n",
        "print(list_string)"
      ],
      "execution_count": null,
      "outputs": [
        {
          "output_type": "stream",
          "text": [
            "['a', 'k', 's', 'h', 'a', 'y', ' ', 'S', 'i', 'n', 'g', 'h', ' ', 'i', 's', ' ', 'a', ' ', 'g', 'o', 'o', 'd', ' ', 'b', 'o', 'y']\n"
          ],
          "name": "stdout"
        }
      ]
    },
    {
      "cell_type": "code",
      "metadata": {
        "colab": {
          "base_uri": "https://localhost:8080/",
          "height": 58
        },
        "id": "2oTEl9Ao_s42",
        "outputId": "fcdab4ec-74c8-45d0-e391-1cc1a90fecd4"
      },
      "source": [
        "string_list = ''.join(list_string)\n",
        "string_list"
      ],
      "execution_count": null,
      "outputs": [
        {
          "output_type": "execute_result",
          "data": {
            "application/vnd.google.colaboratory.intrinsic+json": {
              "type": "string"
            },
            "text/plain": [
              "'akshay Singh is a good boy'"
            ]
          },
          "metadata": {
            "tags": []
          },
          "execution_count": 79
        }
      ]
    },
    {
      "cell_type": "code",
      "metadata": {
        "colab": {
          "base_uri": "https://localhost:8080/"
        },
        "id": "ez51ezJY_s43",
        "outputId": "1db63b7d-0ab4-4499-dfb8-371833d3f8db"
      },
      "source": [
        "print(type(string_list))"
      ],
      "execution_count": null,
      "outputs": [
        {
          "output_type": "stream",
          "text": [
            "<class 'str'>\n"
          ],
          "name": "stdout"
        }
      ]
    },
    {
      "cell_type": "code",
      "metadata": {
        "colab": {
          "base_uri": "https://localhost:8080/"
        },
        "id": "FAzE__Z9_s43",
        "outputId": "c8094c77-903c-40c9-c3c5-93b4cb174593"
      },
      "source": [
        "print(string_list.replace('is a good boy', 'become a good boy'))# temporary changes\n",
        "print(string_list) #immutable property"
      ],
      "execution_count": null,
      "outputs": [
        {
          "output_type": "stream",
          "text": [
            "akshay Singh become a good boy\n",
            "akshay Singh is a good boy\n"
          ],
          "name": "stdout"
        }
      ]
    },
    {
      "cell_type": "code",
      "metadata": {
        "colab": {
          "base_uri": "https://localhost:8080/",
          "height": 58
        },
        "id": "OUAY4d-b_s44",
        "outputId": "126e0516-9d0e-4433-9e02-490ce41999a4"
      },
      "source": [
        "#join is used to convert list of item into a string.\n",
        "' '.join(['This','will','join','a','string','based','on','given','join','character']) "
      ],
      "execution_count": null,
      "outputs": [
        {
          "output_type": "execute_result",
          "data": {
            "application/vnd.google.colaboratory.intrinsic+json": {
              "type": "string"
            },
            "text/plain": [
              "'This will join a string based on given join character'"
            ]
          },
          "metadata": {
            "tags": []
          },
          "execution_count": 82
        }
      ]
    },
    {
      "cell_type": "code",
      "metadata": {
        "colab": {
          "base_uri": "https://localhost:8080/",
          "height": 58
        },
        "id": "LD1O4lmF_s45",
        "outputId": "e29130b3-7abb-4d64-c5f5-2544874265d7"
      },
      "source": [
        "','.join(['This','will','join','a','string','based','on','given','join','character']) "
      ],
      "execution_count": null,
      "outputs": [
        {
          "output_type": "execute_result",
          "data": {
            "application/vnd.google.colaboratory.intrinsic+json": {
              "type": "string"
            },
            "text/plain": [
              "'This,will,join,a,string,based,on,given,join,character'"
            ]
          },
          "metadata": {
            "tags": []
          },
          "execution_count": 83
        }
      ]
    },
    {
      "cell_type": "code",
      "metadata": {
        "colab": {
          "base_uri": "https://localhost:8080/",
          "height": 58
        },
        "id": "CfIz7ze0_s46",
        "outputId": "29a34e5e-9425-4a33-84c1-3b695241b372"
      },
      "source": [
        "'-'.join(['This','will','join','a','string','based','on','given','join','character']) "
      ],
      "execution_count": null,
      "outputs": [
        {
          "output_type": "execute_result",
          "data": {
            "application/vnd.google.colaboratory.intrinsic+json": {
              "type": "string"
            },
            "text/plain": [
              "'This-will-join-a-string-based-on-given-join-character'"
            ]
          },
          "metadata": {
            "tags": []
          },
          "execution_count": 84
        }
      ]
    },
    {
      "cell_type": "markdown",
      "metadata": {
        "id": "aa-nDc2i_s47"
      },
      "source": [
        "### Basic_Level_2:"
      ]
    },
    {
      "cell_type": "markdown",
      "metadata": {
        "id": "HRYL9t40_s48"
      },
      "source": [
        "### isalpha()"
      ]
    },
    {
      "cell_type": "code",
      "metadata": {
        "colab": {
          "base_uri": "https://localhost:8080/"
        },
        "id": "DHiJKQjZ_s48",
        "outputId": "28eebcfc-f765-4d1b-8465-ab3bf4dbe855"
      },
      "source": [
        "name = 'Akahaymanu123'\n",
        "name.isalpha()# space not count as alphabates"
      ],
      "execution_count": null,
      "outputs": [
        {
          "output_type": "execute_result",
          "data": {
            "text/plain": [
              "False"
            ]
          },
          "metadata": {
            "tags": []
          },
          "execution_count": 28
        }
      ]
    },
    {
      "cell_type": "code",
      "metadata": {
        "colab": {
          "base_uri": "https://localhost:8080/"
        },
        "id": "QXLJdDgU_s4_",
        "outputId": "a3829b1f-2bdd-4b8a-c61e-d2db4b08f070"
      },
      "source": [
        "name2=\"Asgfdghiy\"\n",
        "name2.isalpha() #only alphabates -> NO "
      ],
      "execution_count": null,
      "outputs": [
        {
          "output_type": "execute_result",
          "data": {
            "text/plain": [
              "True"
            ]
          },
          "metadata": {
            "tags": []
          },
          "execution_count": 29
        }
      ]
    },
    {
      "cell_type": "markdown",
      "metadata": {
        "id": "X7Itxdzg_s5A"
      },
      "source": [
        "### isalnum()"
      ]
    },
    {
      "cell_type": "code",
      "metadata": {
        "colab": {
          "base_uri": "https://localhost:8080/"
        },
        "id": "mdMSa8OE_s5B",
        "outputId": "2ac58514-8f30-4d22-fc15-794435f7710d"
      },
      "source": [
        "name.isalnum() #(alhabates \"or\" numeric)"
      ],
      "execution_count": null,
      "outputs": [
        {
          "output_type": "execute_result",
          "data": {
            "text/plain": [
              "True"
            ]
          },
          "metadata": {
            "tags": []
          },
          "execution_count": 30
        }
      ]
    },
    {
      "cell_type": "code",
      "metadata": {
        "colab": {
          "base_uri": "https://localhost:8080/"
        },
        "id": "cIKwyTbC_s5B",
        "outputId": "13e51188-54e0-4943-af17-1f9fbb79c6cb"
      },
      "source": [
        "\" Akshay   \".isalnum()# space must not involved"
      ],
      "execution_count": null,
      "outputs": [
        {
          "output_type": "execute_result",
          "data": {
            "text/plain": [
              "False"
            ]
          },
          "metadata": {
            "tags": []
          },
          "execution_count": 31
        }
      ]
    },
    {
      "cell_type": "markdown",
      "metadata": {
        "id": "z-c4rKE9_s5C"
      },
      "source": [
        "***NOTE: character is also a string in python.***"
      ]
    },
    {
      "cell_type": "code",
      "metadata": {
        "colab": {
          "base_uri": "https://localhost:8080/"
        },
        "id": "DvycvPaK_s5D",
        "outputId": "a3a9c6c5-49fc-4cbb-b326-3434ac20e195"
      },
      "source": [
        "#1\n",
        "sent='Deep learning is the future'\n",
        "list_words=sent.split()\n",
        "print(list_words)\n",
        "\n",
        "#2\n",
        "temp=sent.split('i')\n",
        "print(temp)\n",
        "\n",
        "#NOTE: Split method returns \"list\" of words in string not containing the split character.\n",
        "\n",
        "dumy=sent.partition('i')\n",
        "print(dumy)\n",
        "\n",
        "#NOTE: partition method returns \"tuple\" of words in string including the separator."
      ],
      "execution_count": null,
      "outputs": [
        {
          "output_type": "stream",
          "text": [
            "['Deep', 'learning', 'is', 'the', 'future']\n",
            "['Deep learn', 'ng ', 's the future']\n",
            "('Deep learn', 'i', 'ng is the future')\n"
          ],
          "name": "stdout"
        }
      ]
    },
    {
      "cell_type": "code",
      "metadata": {
        "colab": {
          "base_uri": "https://localhost:8080/"
        },
        "id": "ng8c8erZ_s5D",
        "outputId": "945c83a5-edb3-48a3-81b8-64bb54b219cf"
      },
      "source": [
        "#Practicle_Example_(1):\n",
        "#Count number of alphabates in a string and return that string also\n",
        "\n",
        "\n",
        "#CODE:\n",
        "name4='Akahaymanu123'\n",
        "print('string:', name4)\n",
        "count_alp = 0\n",
        "new_alp =''\n",
        "for i in name4:\n",
        "    if i.isalpha() == True:\n",
        "        count_alp += 1\n",
        "        new_alp += i\n",
        "print('number of aplhabates: ', count_alp)\n",
        "print('aplhabates string : ', new_alp) "
      ],
      "execution_count": null,
      "outputs": [
        {
          "output_type": "stream",
          "text": [
            "string: Akahaymanu123\n",
            "number of aplhabates:  10\n",
            "aplhabates string :  Akahaymanu\n"
          ],
          "name": "stdout"
        }
      ]
    },
    {
      "cell_type": "markdown",
      "metadata": {
        "id": "gnC8X7mC_s5E"
      },
      "source": [
        "### isspace()"
      ]
    },
    {
      "cell_type": "code",
      "metadata": {
        "colab": {
          "base_uri": "https://localhost:8080/"
        },
        "id": "2xog4SfL_s5F",
        "outputId": "159287c0-7638-467d-8632-c96a3f3b9106"
      },
      "source": [
        "print(\"   \".isspace())#return true if all characters are space\n",
        "print(\" a  \".isspace())"
      ],
      "execution_count": null,
      "outputs": [
        {
          "output_type": "stream",
          "text": [
            "True\n",
            "False\n"
          ],
          "name": "stdout"
        }
      ]
    },
    {
      "cell_type": "code",
      "metadata": {
        "colab": {
          "base_uri": "https://localhost:8080/"
        },
        "id": "fVay7ua3_s5F",
        "outputId": "f66cb17a-408c-4de2-fda6-c17b96b957b2"
      },
      "source": [
        "#Practicle_Example_(2):(\n",
        "#Count number of spaces in a string\n",
        "#CODE:\n",
        "name=\"  Akshay Singh \"\n",
        "print('String :', name)\n",
        "count_space = 0\n",
        "for i in name:\n",
        "    if i.isspace():\n",
        "       count_space += 1\n",
        "print(\"number of space:\", count_space)\n",
        "\n"
      ],
      "execution_count": null,
      "outputs": [
        {
          "output_type": "stream",
          "text": [
            "String :   Akshay Singh \n",
            "number of space: 4\n"
          ],
          "name": "stdout"
        }
      ]
    },
    {
      "cell_type": "code",
      "metadata": {
        "colab": {
          "base_uri": "https://localhost:8080/"
        },
        "id": "UYb0rfVW_s5G",
        "outputId": "828a649c-b48d-4f7b-e35b-92cc91fd235a"
      },
      "source": [
        "#Practicle_Example_(3):\n",
        "#Count number of words in a sentence\n",
        "\n",
        "#code:\n",
        "sent='Akshay learnt pyhton using jupyter notebook'\n",
        "print(sent)\n",
        "words_list=sent.split()#split takes default as space\n",
        "print(len(words_list))"
      ],
      "execution_count": null,
      "outputs": [
        {
          "output_type": "stream",
          "text": [
            "Akshay learnt pyhton using jupyter notebook\n",
            "6\n"
          ],
          "name": "stdout"
        }
      ]
    },
    {
      "cell_type": "code",
      "metadata": {
        "colab": {
          "base_uri": "https://localhost:8080/"
        },
        "id": "sCdpSipl_s5G",
        "outputId": "a367009a-2940-499e-97b3-5aa5e50e2357"
      },
      "source": [
        "#Practicle_Example_(4):\n",
        "#Check Palindrome\n",
        "\n",
        "\n",
        "#CODE(1):\n",
        "string = '12321'\n",
        "if string[0:] == string[ :: -1]:\n",
        "    print('palindrome')\n",
        "else:\n",
        "    print(\"not palindrome\")\n",
        "    \n",
        "    \n",
        "#CODE(2):\n",
        "str1 = ''\n",
        "for i in string:\n",
        "    str1 = i + str1   #reverse concatenation\n",
        "if str1 == string:\n",
        "    print('palindrome')\n",
        "else:\n",
        "    print(\"not palindrome\")"
      ],
      "execution_count": null,
      "outputs": [
        {
          "output_type": "stream",
          "text": [
            "palindrome\n",
            "palindrome\n"
          ],
          "name": "stdout"
        }
      ]
    },
    {
      "cell_type": "code",
      "metadata": {
        "colab": {
          "base_uri": "https://localhost:8080/"
        },
        "id": "iP-Pa-i2_s5H",
        "outputId": "d5142256-b6b3-48a6-e1d7-ee5ad0d61d7f"
      },
      "source": [
        "#Practicle_Example_(5):\n",
        "#reverse a senetence but word doesn't reversed \n",
        "\n",
        "\n",
        "#CODE(3):\n",
        "sent='Akshay learnt pyhton using jupyter notebook .'\n",
        "print(sent)\n",
        "rev_sent =''#empty string\n",
        "words_list=sent.split()\n",
        "words_list.reverse()\n",
        "words_list.remove('.')\n",
        "for i in words_list:\n",
        "    rev_sent = rev_sent + i + ' '#append\n",
        "    \n",
        "print(rev_sent)\n",
        "\n",
        "#2nd method\n",
        "print('------2nd Way------')\n",
        "words = sent.split()\n",
        "words.reverse()\n",
        "words.remove('.')\n",
        "print(' '.join(words))\n"
      ],
      "execution_count": null,
      "outputs": [
        {
          "output_type": "stream",
          "text": [
            "Akshay learnt pyhton using jupyter notebook .\n",
            "notebook jupyter using pyhton learnt Akshay \n",
            "------2nd Way------\n",
            "notebook jupyter using pyhton learnt Akshay\n"
          ],
          "name": "stdout"
        }
      ]
    },
    {
      "cell_type": "code",
      "metadata": {
        "colab": {
          "base_uri": "https://localhost:8080/"
        },
        "id": "fPB5AbxX_s5I",
        "outputId": "fd912b64-1d7d-42ca-b78f-9189b92b5b64"
      },
      "source": [
        "#Practicle_Example_(6):\n",
        "#Count number of vowels and remove them\n",
        "\n",
        "\n",
        "#CODE:\n",
        "name=\"Unix operating system is best\"\n",
        "print(name)\n",
        "Vowels = set('aeiouAEIOU')\n",
        "name2 = ''\n",
        "count_vow = 0\n",
        "for i in name:\n",
        "    if i in Vowels:\n",
        "        count_vow += 1\n",
        "    else:\n",
        "        name2 += i \n",
        "print('Number of vowels: ', count_vow)\n",
        "print(name2)"
      ],
      "execution_count": null,
      "outputs": [
        {
          "output_type": "stream",
          "text": [
            "Unix operating system is best\n",
            "Number of vowels:  9\n",
            "nx prtng systm s bst\n"
          ],
          "name": "stdout"
        }
      ]
    },
    {
      "cell_type": "code",
      "metadata": {
        "scrolled": true,
        "colab": {
          "base_uri": "https://localhost:8080/"
        },
        "id": "gsxzBhU9_s5L",
        "outputId": "11a82b62-e358-4d7e-9cc1-5b957b0aa6c9"
      },
      "source": [
        "#Practicle_Example_(7):\n",
        "#count maximum word length\n",
        "\n",
        "\n",
        "#CODE(1):\n",
        "print(sent)\n",
        "words_list=sent.split()\n",
        "words_ = []\n",
        "for i in words_list:\n",
        "    words_.append(len(i))\n",
        "print('max len word: ', max(words_))\n",
        "\n",
        "#second more efficient method(2)\n",
        "max_word=0\n",
        "for i in words_list:\n",
        "    if len(i) > max_word:\n",
        "        max_word=len(i)\n",
        "print(max_word)"
      ],
      "execution_count": null,
      "outputs": [
        {
          "output_type": "stream",
          "text": [
            "Akshay learnt pyhton using jupyter notebook .\n",
            "max len word:  8\n",
            "8\n"
          ],
          "name": "stdout"
        }
      ]
    },
    {
      "cell_type": "markdown",
      "metadata": {
        "id": "6x4NEmI0_s5S"
      },
      "source": [
        "## Data Structures in python"
      ]
    },
    {
      "cell_type": "markdown",
      "metadata": {
        "id": "7TOV7sMY_s5T"
      },
      "source": [
        "#### Tuple"
      ]
    },
    {
      "cell_type": "code",
      "metadata": {
        "colab": {
          "base_uri": "https://localhost:8080/"
        },
        "id": "_8Wd8nVs_s5V",
        "outputId": "df7e92d1-7d5d-4915-965a-914d30ae0824"
      },
      "source": [
        "tup_num = tuple('12345612539864')\n",
        "tup_num"
      ],
      "execution_count": null,
      "outputs": [
        {
          "output_type": "execute_result",
          "data": {
            "text/plain": [
              "('1', '2', '3', '4', '5', '6', '1', '2', '5', '3', '9', '8', '6', '4')"
            ]
          },
          "metadata": {
            "tags": []
          },
          "execution_count": 41
        }
      ]
    },
    {
      "cell_type": "code",
      "metadata": {
        "colab": {
          "base_uri": "https://localhost:8080/"
        },
        "id": "F7PeeG7U_s5W",
        "outputId": "d2081503-8681-4700-a460-c2a892474af6"
      },
      "source": [
        "t=(1,2,3)\n",
        "print(type(t))\n",
        "print(t)"
      ],
      "execution_count": null,
      "outputs": [
        {
          "output_type": "stream",
          "text": [
            "<class 'tuple'>\n",
            "(1, 2, 3)\n"
          ],
          "name": "stdout"
        }
      ]
    },
    {
      "cell_type": "code",
      "metadata": {
        "colab": {
          "base_uri": "https://localhost:8080/"
        },
        "id": "Mlc3lbCb_s5W",
        "outputId": "7d36890c-b14b-4d7a-c4f5-3b1ef2107c34"
      },
      "source": [
        "#only one element, then is tuple\n",
        "#(boundary case)\n",
        "tup=(\"string\")\n",
        "type(tup)"
      ],
      "execution_count": null,
      "outputs": [
        {
          "output_type": "execute_result",
          "data": {
            "text/plain": [
              "str"
            ]
          },
          "metadata": {
            "tags": []
          },
          "execution_count": 43
        }
      ]
    },
    {
      "cell_type": "markdown",
      "metadata": {
        "id": "UAJHA3af_s5Y"
      },
      "source": [
        "#### only parenthesis not enough"
      ]
    },
    {
      "cell_type": "code",
      "metadata": {
        "colab": {
          "base_uri": "https://localhost:8080/"
        },
        "id": "SKzs8viF_s5Y",
        "outputId": "14e9822f-9569-4f77-d471-b3935a0a468e"
      },
      "source": [
        "#need , (boundary case)\n",
        "tupl=(\"string123\",)\n",
        "print(type(tupl))\n",
        "print(tupl)"
      ],
      "execution_count": null,
      "outputs": [
        {
          "output_type": "stream",
          "text": [
            "<class 'tuple'>\n",
            "('string123',)\n"
          ],
          "name": "stdout"
        }
      ]
    },
    {
      "cell_type": "code",
      "metadata": {
        "colab": {
          "base_uri": "https://localhost:8080/",
          "height": 58
        },
        "id": "zYX4VLRm_s5Y",
        "outputId": "01252353-1c2d-4def-d7ac-a3f7bedc2257"
      },
      "source": [
        "#indexing within a nested tuple\n",
        "tup=(2,('ram','shyam','pankaj'))\n",
        "#inorder to get \"shyam\" in nested tuple\n",
        "tup[1][1]"
      ],
      "execution_count": null,
      "outputs": [
        {
          "output_type": "execute_result",
          "data": {
            "application/vnd.google.colaboratory.intrinsic+json": {
              "type": "string"
            },
            "text/plain": [
              "'shyam'"
            ]
          },
          "metadata": {
            "tags": []
          },
          "execution_count": 45
        }
      ]
    },
    {
      "cell_type": "code",
      "metadata": {
        "colab": {
          "base_uri": "https://localhost:8080/"
        },
        "id": "g16IJI6g_s5a",
        "outputId": "a9154fac-ff03-4a4f-f668-4a293397e224"
      },
      "source": [
        "#repeat a tuple for a given number of times\n",
        "t=((\"string\",) *3)\n",
        "t "
      ],
      "execution_count": null,
      "outputs": [
        {
          "output_type": "execute_result",
          "data": {
            "text/plain": [
              "('string', 'string', 'string')"
            ]
          },
          "metadata": {
            "tags": []
          },
          "execution_count": 46
        }
      ]
    },
    {
      "cell_type": "markdown",
      "metadata": {
        "id": "AHR0Fcdg_s5b"
      },
      "source": [
        "### Count()"
      ]
    },
    {
      "cell_type": "code",
      "metadata": {
        "colab": {
          "base_uri": "https://localhost:8080/"
        },
        "id": "vaC6cB8g_s5d",
        "outputId": "32795b00-5b99-4e20-ff36-0aca93a1d9c5"
      },
      "source": [
        "print(tup_num)\n",
        "tup_num.count('2')"
      ],
      "execution_count": null,
      "outputs": [
        {
          "output_type": "stream",
          "text": [
            "('1', '2', '3', '4', '5', '6', '1', '2', '5', '3', '9', '8', '6', '4')\n"
          ],
          "name": "stdout"
        },
        {
          "output_type": "execute_result",
          "data": {
            "text/plain": [
              "2"
            ]
          },
          "metadata": {
            "tags": []
          },
          "execution_count": 47
        }
      ]
    },
    {
      "cell_type": "markdown",
      "metadata": {
        "id": "nD1_5MH-_s5d"
      },
      "source": [
        "### min() and max() in tuple"
      ]
    },
    {
      "cell_type": "code",
      "metadata": {
        "colab": {
          "base_uri": "https://localhost:8080/"
        },
        "id": "N8BmNcJ5_s5d",
        "outputId": "d73bca2e-672e-4087-b5e3-970542fe0bcf"
      },
      "source": [
        "print(max(tup_num))\n",
        "print(min(tup_num))"
      ],
      "execution_count": null,
      "outputs": [
        {
          "output_type": "stream",
          "text": [
            "9\n",
            "1\n"
          ],
          "name": "stdout"
        }
      ]
    },
    {
      "cell_type": "code",
      "metadata": {
        "colab": {
          "base_uri": "https://localhost:8080/"
        },
        "id": "_aKxZK1o_s5e",
        "outputId": "1c7111eb-2410-4eb4-e4af-5d6db76685cf"
      },
      "source": [
        "#list_Conversion into tuple\n",
        "print(words_list)\n",
        "tup2 = tuple(words_list)\n",
        "print(tup2)"
      ],
      "execution_count": null,
      "outputs": [
        {
          "output_type": "stream",
          "text": [
            "['Akshay', 'learnt', 'pyhton', 'using', 'jupyter', 'notebook', '.']\n",
            "('Akshay', 'learnt', 'pyhton', 'using', 'jupyter', 'notebook', '.')\n"
          ],
          "name": "stdout"
        }
      ]
    },
    {
      "cell_type": "code",
      "metadata": {
        "colab": {
          "base_uri": "https://localhost:8080/"
        },
        "id": "W37QsGGu_s5e",
        "outputId": "715d9ae2-1063-4b6d-f976-3a0c6bc6d4c3"
      },
      "source": [
        "#string_Conversion into tuple\n",
        "print('String :', name1)\n",
        "tup3 = tuple(name1) \n",
        "print(tup3)"
      ],
      "execution_count": null,
      "outputs": [
        {
          "output_type": "stream",
          "text": [
            "String : AAkashSinha\n",
            "('A', 'A', 'k', 'a', 's', 'h', 'S', 'i', 'n', 'h', 'a')\n"
          ],
          "name": "stdout"
        }
      ]
    },
    {
      "cell_type": "code",
      "metadata": {
        "colab": {
          "base_uri": "https://localhost:8080/"
        },
        "id": "vBzx-DuW_s5e",
        "outputId": "73b8ae62-c2aa-4ba1-e754-f65d50a0cbbb"
      },
      "source": [
        "listP = [10,20,30]\n",
        "listN = [-10,-20,-30]\n",
        "tupP_N = (listP, listN)\n",
        "tupP_N"
      ],
      "execution_count": null,
      "outputs": [
        {
          "output_type": "execute_result",
          "data": {
            "text/plain": [
              "([10, 20, 30], [-10, -20, -30])"
            ]
          },
          "metadata": {
            "tags": []
          },
          "execution_count": 51
        }
      ]
    },
    {
      "cell_type": "code",
      "metadata": {
        "colab": {
          "base_uri": "https://localhost:8080/"
        },
        "id": "7k9H91Vl_s5e",
        "outputId": "4c2c6581-6309-4b77-9e54-6f8255e00a3e"
      },
      "source": [
        "#nested access inside tuple\n",
        "for i in tupP_N:\n",
        "    for j in i:\n",
        "        print(j,end=\" \")\n",
        "    print()"
      ],
      "execution_count": null,
      "outputs": [
        {
          "output_type": "stream",
          "text": [
            "10 20 30 \n",
            "-10 -20 -30 \n"
          ],
          "name": "stdout"
        }
      ]
    },
    {
      "cell_type": "markdown",
      "metadata": {
        "id": "0E2o3_K7_s5g"
      },
      "source": [
        "### List_Concept"
      ]
    },
    {
      "cell_type": "markdown",
      "metadata": {
        "id": "eLeEM3Rr_s5h"
      },
      "source": [
        "### Basic_Level_1:"
      ]
    },
    {
      "cell_type": "code",
      "metadata": {
        "colab": {
          "base_uri": "https://localhost:8080/"
        },
        "id": "UB70XO9i_s5h",
        "outputId": "94d3d0ad-3a04-46df-f86f-7e0a6b6a22aa"
      },
      "source": [
        "#Hetrogenuis elements in list\n",
        "temp_list = [2,3,4,3,2,4,5,6,7,'@akshaySingh','@Ram']\n",
        "temp_list"
      ],
      "execution_count": null,
      "outputs": [
        {
          "output_type": "execute_result",
          "data": {
            "text/plain": [
              "[2, 3, 4, 3, 2, 4, 5, 6, 7, '@akshaySingh', '@Ram']"
            ]
          },
          "metadata": {
            "tags": []
          },
          "execution_count": 53
        }
      ]
    },
    {
      "cell_type": "markdown",
      "metadata": {
        "id": "9PQkAein_s5i"
      },
      "source": [
        "### append"
      ]
    },
    {
      "cell_type": "code",
      "metadata": {
        "colab": {
          "base_uri": "https://localhost:8080/"
        },
        "id": "WA8uC0da_s5i",
        "outputId": "6dfb9fd6-e725-444e-f002-133a43ac6ed4"
      },
      "source": [
        "#insert at end\n",
        "temp_list.append('kashu')\n",
        "print(temp_list)"
      ],
      "execution_count": null,
      "outputs": [
        {
          "output_type": "stream",
          "text": [
            "[2, 3, 4, 3, 2, 4, 5, 6, 7, '@akshaySingh', '@Ram', 'kashu']\n"
          ],
          "name": "stdout"
        }
      ]
    },
    {
      "cell_type": "markdown",
      "metadata": {
        "id": "KVxCet-0_s5i"
      },
      "source": [
        "### insert"
      ]
    },
    {
      "cell_type": "code",
      "metadata": {
        "colab": {
          "base_uri": "https://localhost:8080/"
        },
        "id": "Pta2PS9x_s5i",
        "outputId": "b6a63245-4fa9-4808-e524-e4f0539d69ec"
      },
      "source": [
        "#insert at specific position\n",
        "temp_list.insert(4,90)\n",
        "print(temp_list)"
      ],
      "execution_count": null,
      "outputs": [
        {
          "output_type": "stream",
          "text": [
            "[2, 3, 4, 3, 90, 2, 4, 5, 6, 7, '@akshaySingh', '@Ram', 'kashu']\n"
          ],
          "name": "stdout"
        }
      ]
    },
    {
      "cell_type": "markdown",
      "metadata": {
        "id": "jhFyVasX_s5i"
      },
      "source": [
        "### remove"
      ]
    },
    {
      "cell_type": "code",
      "metadata": {
        "colab": {
          "base_uri": "https://localhost:8080/"
        },
        "id": "yzd_O7Xb_s5j",
        "outputId": "d652dcdb-1d94-450e-9146-ecaafe635684"
      },
      "source": [
        "#item which we want to remove\n",
        "temp_list.remove(90) # removes takes item \n",
        "print(temp_list)"
      ],
      "execution_count": null,
      "outputs": [
        {
          "output_type": "stream",
          "text": [
            "[2, 3, 4, 3, 2, 4, 5, 6, 7, '@akshaySingh', '@Ram', 'kashu']\n"
          ],
          "name": "stdout"
        }
      ]
    },
    {
      "cell_type": "markdown",
      "metadata": {
        "id": "1lHiVQGz_s5j"
      },
      "source": [
        "### pop"
      ]
    },
    {
      "cell_type": "code",
      "metadata": {
        "colab": {
          "base_uri": "https://localhost:8080/"
        },
        "id": "3qYkjBBs_s5j",
        "outputId": "41ad3729-4e90-4a65-ef8f-4311570d5bbb"
      },
      "source": [
        "temp_list.pop() #remove from last \n",
        "print(temp_list)\n",
        "\n",
        "#OR\n",
        "\n",
        "temp_list.pop(0) #pop also takes index number\n",
        "temp_list"
      ],
      "execution_count": null,
      "outputs": [
        {
          "output_type": "stream",
          "text": [
            "[2, 3, 4, 3, 2, 4, 5, 6, 7, '@akshaySingh', '@Ram']\n"
          ],
          "name": "stdout"
        },
        {
          "output_type": "execute_result",
          "data": {
            "text/plain": [
              "[3, 4, 3, 2, 4, 5, 6, 7, '@akshaySingh', '@Ram']"
            ]
          },
          "metadata": {
            "tags": []
          },
          "execution_count": 57
        }
      ]
    },
    {
      "cell_type": "markdown",
      "metadata": {
        "id": "MfPl5N9K_s5k"
      },
      "source": [
        "### reverse"
      ]
    },
    {
      "cell_type": "code",
      "metadata": {
        "colab": {
          "base_uri": "https://localhost:8080/"
        },
        "id": "wMhH_p8O_s5l",
        "outputId": "c7969cdb-2b83-4fe3-f464-a5494a2fd022"
      },
      "source": [
        "temp_list.reverse()\n",
        "print(temp_list)"
      ],
      "execution_count": null,
      "outputs": [
        {
          "output_type": "stream",
          "text": [
            "['@Ram', '@akshaySingh', 7, 6, 5, 4, 2, 3, 4, 3]\n"
          ],
          "name": "stdout"
        }
      ]
    },
    {
      "cell_type": "markdown",
      "metadata": {
        "id": "3BXPd5hF_s5l"
      },
      "source": [
        "### count"
      ]
    },
    {
      "cell_type": "code",
      "metadata": {
        "colab": {
          "base_uri": "https://localhost:8080/"
        },
        "id": "Lcvi_AV9_s5l",
        "outputId": "d06edb77-836b-4c27-95e5-4c8ac9e75858"
      },
      "source": [
        "print(temp_list)\n",
        "print(temp_list.count(3))"
      ],
      "execution_count": null,
      "outputs": [
        {
          "output_type": "stream",
          "text": [
            "['@Ram', '@akshaySingh', 7, 6, 5, 4, 2, 3, 4, 3]\n",
            "2\n"
          ],
          "name": "stdout"
        }
      ]
    },
    {
      "cell_type": "markdown",
      "metadata": {
        "id": "fA5NAnzk_s5o"
      },
      "source": [
        "### sort"
      ]
    },
    {
      "cell_type": "code",
      "metadata": {
        "colab": {
          "base_uri": "https://localhost:8080/"
        },
        "id": "YnWaH8cH_s5o",
        "outputId": "54287599-4337-495d-ea29-3db874221b6b"
      },
      "source": [
        "temp_list.remove('@Ram')\n",
        "temp_list.pop(0)\n",
        "\n",
        "########\n",
        "\n",
        "#permanent sort \n",
        "temp_list.sort()\n",
        "temp_list"
      ],
      "execution_count": null,
      "outputs": [
        {
          "output_type": "execute_result",
          "data": {
            "text/plain": [
              "[2, 3, 3, 4, 4, 5, 6, 7]"
            ]
          },
          "metadata": {
            "tags": []
          },
          "execution_count": 60
        }
      ]
    },
    {
      "cell_type": "markdown",
      "metadata": {
        "id": "M9KJGC1C_s5p"
      },
      "source": [
        "### sorted"
      ]
    },
    {
      "cell_type": "code",
      "metadata": {
        "colab": {
          "base_uri": "https://localhost:8080/"
        },
        "id": "Kk6Rjwif_s5q",
        "outputId": "b6f9ffba-7f9e-410d-e020-ee61ecc6d891"
      },
      "source": [
        "#temorary sort\n",
        "temp_list = [3,4,1,2,1,8,0,1,9]\n",
        "print(sorted(temp_list)) \n",
        "print(temp_list)# Actual list doesn't change "
      ],
      "execution_count": null,
      "outputs": [
        {
          "output_type": "stream",
          "text": [
            "[0, 1, 1, 1, 2, 3, 4, 8, 9]\n",
            "[3, 4, 1, 2, 1, 8, 0, 1, 9]\n"
          ],
          "name": "stdout"
        }
      ]
    },
    {
      "cell_type": "markdown",
      "metadata": {
        "id": "4LWvqAB1_s5q"
      },
      "source": [
        "### extend"
      ]
    },
    {
      "cell_type": "code",
      "metadata": {
        "colab": {
          "base_uri": "https://localhost:8080/"
        },
        "id": "i3qb2-ee_s5q",
        "outputId": "e0a3d71b-8c57-4925-b089-49b8c3996ee1"
      },
      "source": [
        "list_new = ['raju', 'ram', 'shyam', 'ramu']\n",
        "temp_list.extend(list_new)\n",
        "print(temp_list)\n",
        "\n",
        "print('--see difference from append--')\n",
        "temp_list.append(list_new)\n",
        "print(temp_list)"
      ],
      "execution_count": null,
      "outputs": [
        {
          "output_type": "stream",
          "text": [
            "[3, 4, 1, 2, 1, 8, 0, 1, 9, 'raju', 'ram', 'shyam', 'ramu']\n",
            "--see difference from append--\n",
            "[3, 4, 1, 2, 1, 8, 0, 1, 9, 'raju', 'ram', 'shyam', 'ramu', ['raju', 'ram', 'shyam', 'ramu']]\n"
          ],
          "name": "stdout"
        }
      ]
    },
    {
      "cell_type": "markdown",
      "metadata": {
        "id": "jtyGX-cO_s5q"
      },
      "source": [
        "### list Slicing "
      ]
    },
    {
      "cell_type": "code",
      "metadata": {
        "colab": {
          "base_uri": "https://localhost:8080/"
        },
        "id": "Kepwus44_s5r",
        "outputId": "dc990b63-8d3f-48fb-9b4d-ad1a4d6a06ae"
      },
      "source": [
        "print(temp_list[0:])\n",
        "print(temp_list[2:5]) # 5 is exclusive \n",
        "print(temp_list[:-2]) #-2 is exclusive\n",
        "print(temp_list[-3:])\n",
        "print(temp_list[::-1]) # -1 step\n",
        "print(temp_list[::-3])\n",
        "print(temp_list[3])"
      ],
      "execution_count": null,
      "outputs": [
        {
          "output_type": "stream",
          "text": [
            "[3, 4, 1, 2, 1, 8, 0, 1, 9, 'raju', 'ram', 'shyam', 'ramu', ['raju', 'ram', 'shyam', 'ramu']]\n",
            "[1, 2, 1]\n",
            "[3, 4, 1, 2, 1, 8, 0, 1, 9, 'raju', 'ram', 'shyam']\n",
            "['shyam', 'ramu', ['raju', 'ram', 'shyam', 'ramu']]\n",
            "[['raju', 'ram', 'shyam', 'ramu'], 'ramu', 'shyam', 'ram', 'raju', 9, 1, 0, 8, 1, 2, 1, 4, 3]\n",
            "[['raju', 'ram', 'shyam', 'ramu'], 'ram', 1, 1, 4]\n",
            "2\n"
          ],
          "name": "stdout"
        }
      ]
    },
    {
      "cell_type": "markdown",
      "metadata": {
        "id": "LMueI2Br_s5r"
      },
      "source": [
        "### In operator in list iteration"
      ]
    },
    {
      "cell_type": "code",
      "metadata": {
        "colab": {
          "base_uri": "https://localhost:8080/"
        },
        "id": "597WerDc_s5r",
        "outputId": "e8cd78e1-d754-40ae-d123-44466f4ef0a2"
      },
      "source": [
        "company_list = ['TCS', 'Infosys', 'Google', 'Flipkart', 'Accenture', 'Wipro','Deloitte']\n",
        "print('Flipkart' in company_list)\n",
        "print('twitter' not in company_list)\n",
        "print('Mahindra' in company_list)"
      ],
      "execution_count": null,
      "outputs": [
        {
          "output_type": "stream",
          "text": [
            "True\n",
            "True\n",
            "False\n"
          ],
          "name": "stdout"
        }
      ]
    },
    {
      "cell_type": "code",
      "metadata": {
        "colab": {
          "base_uri": "https://localhost:8080/"
        },
        "id": "pk7zm1T7_s5x",
        "outputId": "71ac9259-be7c-4375-a844-f2fc28ca54f4"
      },
      "source": [
        "tup1 = (1,2,3)\n",
        "tup2 = (4,5,6)\n",
        "lis_tup = [tup1, tup2]\n",
        "print(lis_tup)"
      ],
      "execution_count": null,
      "outputs": [
        {
          "output_type": "stream",
          "text": [
            "[(1, 2, 3), (4, 5, 6)]\n"
          ],
          "name": "stdout"
        }
      ]
    },
    {
      "cell_type": "code",
      "metadata": {
        "colab": {
          "base_uri": "https://localhost:8080/"
        },
        "id": "zKHJ-Jnj_s5y",
        "outputId": "f5b538fc-b212-48a1-c18f-e778ec51c203"
      },
      "source": [
        "#access nested list \n",
        "for i in lis_tup:\n",
        "    for j in i:\n",
        "        print(j, end=\" \")\n",
        "    print()"
      ],
      "execution_count": null,
      "outputs": [
        {
          "output_type": "stream",
          "text": [
            "1 2 3 \n",
            "4 5 6 \n"
          ],
          "name": "stdout"
        }
      ]
    },
    {
      "cell_type": "markdown",
      "metadata": {
        "id": "PyWWyxF2_s5y"
      },
      "source": [
        "### Comarison traditional vs Comrehension"
      ]
    },
    {
      "cell_type": "code",
      "metadata": {
        "colab": {
          "base_uri": "https://localhost:8080/"
        },
        "id": "t_WwEipE_s5y",
        "outputId": "494499cd-e744-4017-f2fe-bd5f8444d686"
      },
      "source": [
        "l1=[1,2,3]\n",
        "l2=[4,5,6]\n",
        "l3=[7,8,9]\n",
        "new=list()\n",
        "new.append(l1)\n",
        "new.append(l2)\n",
        "new.append(l3)\n",
        "print(new)\n",
        "\n",
        "li=[]\n",
        "for i in new:\n",
        "  li.append(i[0])\n",
        "print(li)\n",
        "\n",
        "#OR(Using Comprehension)\n",
        "\n",
        "li=[i[0] for i in new]\n",
        "print(li)\n",
        "\n"
      ],
      "execution_count": null,
      "outputs": [
        {
          "output_type": "stream",
          "text": [
            "[[1, 2, 3], [4, 5, 6], [7, 8, 9]]\n",
            "[1, 4, 7]\n",
            "[1, 4, 7]\n"
          ],
          "name": "stdout"
        }
      ]
    },
    {
      "cell_type": "code",
      "metadata": {
        "colab": {
          "base_uri": "https://localhost:8080/"
        },
        "id": "3m386uc9_s5z",
        "outputId": "4f5a3199-bb03-4b58-f372-713dbe7fdfea"
      },
      "source": [
        "#reversing only string list of element by place as well as there position\n",
        "\n",
        "dumy=[1,2,3,4,5,6,7,8,['abc','def','xyz']]\n",
        "temp=[]\n",
        "for i in dumy:\n",
        "  if type(i) == list:\n",
        "      for s in i:\n",
        "        temp.append(s[::-1])\n",
        "temp[::-1]"
      ],
      "execution_count": null,
      "outputs": [
        {
          "output_type": "execute_result",
          "data": {
            "text/plain": [
              "['zyx', 'fed', 'cba']"
            ]
          },
          "metadata": {
            "tags": []
          },
          "execution_count": 68
        }
      ]
    },
    {
      "cell_type": "markdown",
      "metadata": {
        "id": "LSClFPxH_s5z"
      },
      "source": [
        "### Basic_Level_2:"
      ]
    },
    {
      "cell_type": "markdown",
      "metadata": {
        "id": "T_rRNwwd_s5z"
      },
      "source": [
        "### max"
      ]
    },
    {
      "cell_type": "code",
      "metadata": {
        "colab": {
          "base_uri": "https://localhost:8080/"
        },
        "id": "xVlca2wz_s5z",
        "outputId": "e4721c94-1ee3-415c-ded7-dc35b868d903"
      },
      "source": [
        "list1 = [2,3,4,1,2,3,9,8]\n",
        "max(list1)"
      ],
      "execution_count": null,
      "outputs": [
        {
          "output_type": "execute_result",
          "data": {
            "text/plain": [
              "9"
            ]
          },
          "metadata": {
            "tags": []
          },
          "execution_count": 8
        }
      ]
    },
    {
      "cell_type": "markdown",
      "metadata": {
        "id": "QDtbTplN_s5z"
      },
      "source": [
        "### len"
      ]
    },
    {
      "cell_type": "code",
      "metadata": {
        "id": "0Mr-TakD_s5z"
      },
      "source": [
        "len(temp_list)"
      ],
      "execution_count": null,
      "outputs": []
    },
    {
      "cell_type": "markdown",
      "metadata": {
        "id": "ITlXvgVq_s50"
      },
      "source": [
        "### sum"
      ]
    },
    {
      "cell_type": "code",
      "metadata": {
        "id": "F-a4SIAs_s50"
      },
      "source": [
        "sum(temp_list)"
      ],
      "execution_count": null,
      "outputs": []
    },
    {
      "cell_type": "markdown",
      "metadata": {
        "id": "2UeF3Nyf_s51"
      },
      "source": [
        "### Pyhton Advance Swapping"
      ]
    },
    {
      "cell_type": "code",
      "metadata": {
        "colab": {
          "base_uri": "https://localhost:8080/"
        },
        "id": "8QgUb5VY_s51",
        "outputId": "56a37e0d-0ce2-4057-ddea-71f811dfcb06"
      },
      "source": [
        "#Practicle_Example_(1):\n",
        "#Swapping inside list\n",
        "\n",
        "\n",
        "#CODE (1):\n",
        "print(temp_list)\n",
        "pos1 = 0 \n",
        "pos2 = 7\n",
        "temp_list[pos1], temp_list[pos1] = temp_list[pos2], temp_list[pos2]\n",
        "print(temp_list)\n",
        "\n",
        "\n",
        "#CODE (2): Much appropriate way\n",
        "temp = temp_list[3], temp_list[5]\n",
        "temp_list[5], temp_list[3] = temp\n",
        "print(temp_list)"
      ],
      "execution_count": null,
      "outputs": [
        {
          "output_type": "stream",
          "text": [
            "[3, 4, 1, 2, 1, 8, 0, 1, 9, 'raju', 'ram', 'shyam', 'ramu', ['raju', 'ram', 'shyam', 'ramu']]\n",
            "[1, 4, 1, 2, 1, 8, 0, 1, 9, 'raju', 'ram', 'shyam', 'ramu', ['raju', 'ram', 'shyam', 'ramu']]\n",
            "[1, 4, 1, 8, 1, 2, 0, 1, 9, 'raju', 'ram', 'shyam', 'ramu', ['raju', 'ram', 'shyam', 'ramu']]\n"
          ],
          "name": "stdout"
        }
      ]
    },
    {
      "cell_type": "code",
      "metadata": {
        "id": "zNLva5Tw_s51"
      },
      "source": [
        "#Practicle_Example_(2):\n",
        "#Number of +ve and -ve elements are in the list\n",
        "\n",
        "\n",
        "#CODE (1):\n",
        "list1 = [-1, -2, -3, 4, 5, 6, 7]\n",
        "listN = list(i for i in list1 if i < 0) #Comprehension Method(IMP.)\n",
        "print(listN)\n",
        "print('Number of +ve elements and -ve elements are: ',len(listN),'and',  len(list1) - len(listN))\n",
        "\n",
        "#CODE (2):\n",
        "listP = list(filter(lambda i: i > 0,list1))\n",
        "print(listP)"
      ],
      "execution_count": null,
      "outputs": []
    },
    {
      "cell_type": "code",
      "metadata": {
        "id": "DVUtuBHO_s51"
      },
      "source": [
        "#Practicle_Example_(3):\n",
        "#Number of even and odd elements in the list\n",
        "\n",
        "\n",
        "#CODE:\n",
        "list2 = [1,2,3,4,5,6,7,8,9]\n",
        "evenList = list(filter(lambda i : i%2 == 0 , list2))\n",
        "print(evenList)\n",
        "print(len(evenList))"
      ],
      "execution_count": null,
      "outputs": []
    },
    {
      "cell_type": "code",
      "metadata": {
        "id": "NrkVg_NV_s52"
      },
      "source": [
        "#Practicle_Example_(4):\n",
        "#Map method\n",
        "\n",
        "\n",
        "#CODE:\n",
        "map_list = list(map(lambda i : i*2, list2))\n",
        "print(map_list)"
      ],
      "execution_count": null,
      "outputs": []
    },
    {
      "cell_type": "markdown",
      "metadata": {
        "id": "jCasp0vs_s52"
      },
      "source": [
        "### not in operator"
      ]
    },
    {
      "cell_type": "code",
      "metadata": {
        "id": "OUlv_Va__s52"
      },
      "source": [
        "#Practicle_Example_(5):\n",
        "#Removing Elements from known List\n",
        " \n",
        "#CODE (1):\n",
        "print(temp_list)\n",
        "re_item = [3, 4]\n",
        "for i in re_item:\n",
        "    temp_list.remove(i) # basic method\n",
        "print(temp_list)\n",
        "\n",
        "\n",
        "#CODE (2):\n",
        "list3 = [7, 3, 5, 4, 6, 7]\n",
        "list_new = [i for i in list3 if i not in re_item ] # Comprehensive method \n",
        "print(list_new)"
      ],
      "execution_count": null,
      "outputs": []
    },
    {
      "cell_type": "code",
      "metadata": {
        "colab": {
          "base_uri": "https://localhost:8080/"
        },
        "id": "WqzKzLWj_s52",
        "outputId": "d3f673bd-5e1c-494d-dbcf-eaca26364d55"
      },
      "source": [
        "#Practicle_Example_(5):\n",
        "#Removing Duplicates (Using NOT IN operator)\n",
        "\n",
        "\n",
        "#CODE:\n",
        "Duplicates_list = [1,1,2,2,3,4,5,6,7,7,8,8,8,9,10]\n",
        "dummy =[]\n",
        "for i in Duplicates_list:\n",
        "    if i not in dummy:\n",
        "        dummy.append(i)\n",
        "print(Duplicates_list)\n",
        "print(dummy)\n",
        "# CODE:\n",
        "#using set\n",
        "print(list(set(Duplicates_list)))\n"
      ],
      "execution_count": null,
      "outputs": [
        {
          "output_type": "stream",
          "text": [
            "[1, 1, 2, 2, 3, 4, 5, 6, 7, 7, 8, 8, 8, 9, 10]\n",
            "[1, 2, 3, 4, 5, 6, 7, 8, 9, 10]\n",
            "[1, 2, 3, 4, 5, 6, 7, 8, 9, 10]\n"
          ],
          "name": "stdout"
        }
      ]
    },
    {
      "cell_type": "markdown",
      "metadata": {
        "id": "QiooMnvL_s52"
      },
      "source": [
        "### Advance Concepts :-"
      ]
    },
    {
      "cell_type": "markdown",
      "metadata": {
        "id": "fGw5dGWP_s53"
      },
      "source": [
        "* 1. difference between extend and append\n",
        "* 2. append(): appends whole object at end"
      ]
    },
    {
      "cell_type": "code",
      "metadata": {
        "id": "46PnFfES_s53"
      },
      "source": [
        "a = [1,3,2,4]\n",
        "a.append([5,6])\n",
        "a"
      ],
      "execution_count": null,
      "outputs": []
    },
    {
      "cell_type": "markdown",
      "metadata": {
        "id": "O_A73Glm_s53"
      },
      "source": [
        "* extend: extends list by appending elements from the iterable:"
      ]
    },
    {
      "cell_type": "code",
      "metadata": {
        "id": "Qsj5-RtX_s53"
      },
      "source": [
        "b = [10,30,20,40]\n",
        "b.extend([50,60])\n",
        "b"
      ],
      "execution_count": null,
      "outputs": []
    },
    {
      "cell_type": "markdown",
      "metadata": {
        "id": "-PYX-8-Q_s54"
      },
      "source": [
        "* Note this occurs in place! Meaning it affects your list permanently."
      ]
    },
    {
      "cell_type": "code",
      "metadata": {
        "id": "AbJt8YK0_s54"
      },
      "source": [
        "b.reverse()\n",
        "b"
      ],
      "execution_count": null,
      "outputs": []
    },
    {
      "cell_type": "code",
      "metadata": {
        "id": "vATf0cbg_s54"
      },
      "source": [
        "b.sort()\n",
        "b"
      ],
      "execution_count": null,
      "outputs": []
    },
    {
      "cell_type": "markdown",
      "metadata": {
        "id": "SeHOf_pi_s54"
      },
      "source": [
        "### list comprehension"
      ]
    },
    {
      "cell_type": "code",
      "metadata": {
        "id": "QUIBZsWf_s54"
      },
      "source": [
        "sqr=[i**2 for i in range(2,11)]\n",
        "sqr"
      ],
      "execution_count": null,
      "outputs": []
    },
    {
      "cell_type": "code",
      "metadata": {
        "colab": {
          "base_uri": "https://localhost:8080/"
        },
        "id": "wIHoN4dN_s54",
        "outputId": "0d387cc0-c026-4f10-a6dd-cb79f4de33b6"
      },
      "source": [
        "#define nested list as matrix\n",
        "matrix=[\n",
        "        [1,2,3,4],\n",
        "        [5,6,7,8],\n",
        "        [9,8,10,11]\n",
        "]\n",
        "matrix"
      ],
      "execution_count": null,
      "outputs": [
        {
          "output_type": "execute_result",
          "data": {
            "text/plain": [
              "[[1, 2, 3, 4], [5, 6, 7, 8], [9, 8, 10, 11]]"
            ]
          },
          "metadata": {
            "tags": []
          },
          "execution_count": 12
        }
      ]
    },
    {
      "cell_type": "code",
      "metadata": {
        "colab": {
          "base_uri": "https://localhost:8080/"
        },
        "id": "lksnum0h_s55",
        "outputId": "29718e0e-770a-4898-c79c-45f84cdfe6bc"
      },
      "source": [
        "#transpose in pyhton as trditional ways\n",
        "transpose=[]\n",
        "for column in range(4):\n",
        "  col=[]\n",
        "  for row in matrix:\n",
        "    col.append(row[column])\n",
        "  transpose.append(col)\n",
        "\n",
        "transpose"
      ],
      "execution_count": null,
      "outputs": [
        {
          "output_type": "execute_result",
          "data": {
            "text/plain": [
              "[[1, 5, 9], [2, 6, 8], [3, 7, 10], [4, 8, 11]]"
            ]
          },
          "metadata": {
            "tags": []
          },
          "execution_count": 13
        }
      ]
    },
    {
      "cell_type": "markdown",
      "metadata": {
        "id": "7I2nikM8_s55"
      },
      "source": [
        "* **why list comprehension**\n",
        "    * **Pros: more effective and less line of code**\n",
        "    * **Cons: readability of code may goes decrease**"
      ]
    },
    {
      "cell_type": "code",
      "metadata": {
        "colab": {
          "base_uri": "https://localhost:8080/"
        },
        "id": "m71E9VP8_s55",
        "outputId": "8b2feebd-c897-4366-fce3-e70550fd22e0"
      },
      "source": [
        "#using list comprehension \n",
        "tr=[[r[i] for r in matrix] for i in range(4)]\n",
        "tr"
      ],
      "execution_count": null,
      "outputs": [
        {
          "output_type": "execute_result",
          "data": {
            "text/plain": [
              "[[1, 5, 9], [2, 6, 8], [3, 7, 10], [4, 8, 11]]"
            ]
          },
          "metadata": {
            "tags": []
          },
          "execution_count": 14
        }
      ]
    },
    {
      "cell_type": "markdown",
      "metadata": {
        "id": "h5uz8jTV_s56"
      },
      "source": [
        "### conversion of list<->tuple<->set for use cases"
      ]
    },
    {
      "cell_type": "code",
      "metadata": {
        "colab": {
          "base_uri": "https://localhost:8080/"
        },
        "id": "GRiObbtt_s56",
        "outputId": "32bc6e9e-eae0-4d92-8d53-ad7565a37c3f"
      },
      "source": [
        "tup=(1,2,3,4,5,['Aks','Hay','is','Learn','Machine'],7,8,9)\n",
        "tup"
      ],
      "execution_count": null,
      "outputs": [
        {
          "output_type": "execute_result",
          "data": {
            "text/plain": [
              "(1, 2, 3, 4, 5, ['Aks', 'Hay', 'is', 'Learn', 'Machine'], 7, 8, 9)"
            ]
          },
          "metadata": {
            "tags": []
          },
          "execution_count": 16
        }
      ]
    },
    {
      "cell_type": "code",
      "metadata": {
        "colab": {
          "base_uri": "https://localhost:8080/"
        },
        "id": "g_5IHw8z_s56",
        "outputId": "ccad34a4-4344-4671-bcfe-14bc82738648"
      },
      "source": [
        "#for the updation in tuple\n",
        "lis=list(tup)\n",
        "lis[2]=20\n",
        "lis"
      ],
      "execution_count": null,
      "outputs": [
        {
          "output_type": "execute_result",
          "data": {
            "text/plain": [
              "[1, 2, 20, 4, 5, ['Aks', 'Hay', 'is', 'Learn', 'Machine'], 7, 8, 9]"
            ]
          },
          "metadata": {
            "tags": []
          },
          "execution_count": 17
        }
      ]
    },
    {
      "cell_type": "code",
      "metadata": {
        "colab": {
          "base_uri": "https://localhost:8080/"
        },
        "id": "Q5b45Td9_s56",
        "outputId": "d0cc3e73-f3f3-4850-e4f9-aeb350383650"
      },
      "source": [
        "set1=set(\"123456789\")\n",
        "set1"
      ],
      "execution_count": null,
      "outputs": [
        {
          "output_type": "execute_result",
          "data": {
            "text/plain": [
              "{'1', '2', '3', '4', '5', '6', '7', '8', '9'}"
            ]
          },
          "metadata": {
            "tags": []
          },
          "execution_count": 18
        }
      ]
    },
    {
      "cell_type": "markdown",
      "metadata": {
        "id": "BMcIV0ZC_s56"
      },
      "source": [
        "**NOTE:**"
      ]
    },
    {
      "cell_type": "code",
      "metadata": {
        "id": "geXttOA6_s56"
      },
      "source": [
        "#slicing or scripting not allowed in sets due to unorderd property of sets\n",
        "#but we can perforn scripting by using for loop i.e. set1[1] gives you an error \n",
        "for i in set1:\n",
        "    print(i,end=\" \")"
      ],
      "execution_count": null,
      "outputs": []
    },
    {
      "cell_type": "markdown",
      "metadata": {
        "id": "zTZeacfo_s56"
      },
      "source": [
        "* **Set may be  quite handy inoder to remove duplicates from list or tuple**"
      ]
    },
    {
      "cell_type": "code",
      "metadata": {
        "id": "kFvUWfFx_s57"
      },
      "source": [
        "#for duplicay\n",
        "lis=list(set1)\n",
        "print(lis)\n",
        "lis.insert(3,12)\n",
        "print(lis)"
      ],
      "execution_count": null,
      "outputs": []
    },
    {
      "cell_type": "code",
      "metadata": {
        "id": "0mgANsjv_s57"
      },
      "source": [
        "dumySet={0,False,1,2,2,2,2,3,3,3,6,True,1}\n",
        "dumySet\n",
        "#false ==> 0 and True ==> 1"
      ],
      "execution_count": null,
      "outputs": []
    },
    {
      "cell_type": "markdown",
      "metadata": {
        "id": "3WiZ3YLs_s58"
      },
      "source": [
        "### Dictionary in Python :-"
      ]
    },
    {
      "cell_type": "markdown",
      "metadata": {
        "id": "l8wnZpwf_s59"
      },
      "source": [
        "### creating a dictionary"
      ]
    },
    {
      "cell_type": "code",
      "metadata": {
        "colab": {
          "base_uri": "https://localhost:8080/"
        },
        "id": "Wai7Bgzm_s59",
        "outputId": "1fbc3a75-a17f-49ab-b777-82057ca85424"
      },
      "source": [
        "temp_dict = {\"101AB\": \"Ramu\",\n",
        "         \"100AC\": \"Raja\",\n",
        "             \"111AU\": \"Shyam\"\n",
        "}\n",
        "temp_dict"
      ],
      "execution_count": null,
      "outputs": [
        {
          "output_type": "execute_result",
          "data": {
            "text/plain": [
              "{'100AC': 'Raja', '101AB': 'Ramu', '111AU': 'Shyam'}"
            ]
          },
          "metadata": {
            "tags": []
          },
          "execution_count": 28
        }
      ]
    },
    {
      "cell_type": "markdown",
      "metadata": {
        "id": "CKvqQgnh_s59"
      },
      "source": [
        "### Accessing elements"
      ]
    },
    {
      "cell_type": "code",
      "metadata": {
        "scrolled": true,
        "colab": {
          "base_uri": "https://localhost:8080/",
          "height": 58
        },
        "id": "OVWA0sAN_s59",
        "outputId": "4dd628a8-4641-44db-d227-53e2cdfb1902"
      },
      "source": [
        "temp_dict[\"101AB\"]"
      ],
      "execution_count": null,
      "outputs": [
        {
          "output_type": "execute_result",
          "data": {
            "application/vnd.google.colaboratory.intrinsic+json": {
              "type": "string"
            },
            "text/plain": [
              "'Ramu'"
            ]
          },
          "metadata": {
            "tags": []
          },
          "execution_count": 20
        }
      ]
    },
    {
      "cell_type": "code",
      "metadata": {
        "scrolled": false,
        "colab": {
          "base_uri": "https://localhost:8080/",
          "height": 58
        },
        "id": "nTPsAyk9_s59",
        "outputId": "913df7bf-b65e-48d2-94bc-67a92575db87"
      },
      "source": [
        "temp_dict.get(\"100AC\")"
      ],
      "execution_count": null,
      "outputs": [
        {
          "output_type": "execute_result",
          "data": {
            "application/vnd.google.colaboratory.intrinsic+json": {
              "type": "string"
            },
            "text/plain": [
              "'Raja'"
            ]
          },
          "metadata": {
            "tags": []
          },
          "execution_count": 21
        }
      ]
    },
    {
      "cell_type": "code",
      "metadata": {
        "colab": {
          "base_uri": "https://localhost:8080/",
          "height": 199
        },
        "id": "xUP2RIOR_s6A",
        "outputId": "e4176223-8bee-44ef-b349-b4e376a7d0e5"
      },
      "source": [
        "#wrong key(generate bad error)\n",
        "temp_dict['Cc']"
      ],
      "execution_count": null,
      "outputs": [
        {
          "output_type": "error",
          "ename": "KeyError",
          "evalue": "ignored",
          "traceback": [
            "\u001b[0;31m---------------------------------------------------------------------------\u001b[0m",
            "\u001b[0;31mKeyError\u001b[0m                                  Traceback (most recent call last)",
            "\u001b[0;32m<ipython-input-22-a036f92fa702>\u001b[0m in \u001b[0;36m<module>\u001b[0;34m()\u001b[0m\n\u001b[1;32m      1\u001b[0m \u001b[0;31m#wrong key(generate bad error)\u001b[0m\u001b[0;34m\u001b[0m\u001b[0;34m\u001b[0m\u001b[0;34m\u001b[0m\u001b[0m\n\u001b[0;32m----> 2\u001b[0;31m \u001b[0mtemp_dict\u001b[0m\u001b[0;34m[\u001b[0m\u001b[0;34m'Cc'\u001b[0m\u001b[0;34m]\u001b[0m\u001b[0;34m\u001b[0m\u001b[0;34m\u001b[0m\u001b[0m\n\u001b[0m",
            "\u001b[0;31mKeyError\u001b[0m: 'Cc'"
          ]
        }
      ]
    },
    {
      "cell_type": "markdown",
      "metadata": {
        "id": "JavrsldJ_s6A"
      },
      "source": [
        "* in handle such situation we use **get** methods which works more precisely\n",
        "* return None if key doesn't exist"
      ]
    },
    {
      "cell_type": "code",
      "metadata": {
        "colab": {
          "base_uri": "https://localhost:8080/"
        },
        "id": "DqrVpv7L_s6A",
        "outputId": "cb3ce73a-0377-4f83-d6ff-7ce659328216"
      },
      "source": [
        "val=temp_dict.get('Cc')\n",
        "print(True) if val == None else print(val)\n",
        "#ternary operator in pyhton"
      ],
      "execution_count": null,
      "outputs": [
        {
          "output_type": "stream",
          "text": [
            "True\n"
          ],
          "name": "stdout"
        }
      ]
    },
    {
      "cell_type": "markdown",
      "metadata": {
        "id": "IZaEGixO_s6E"
      },
      "source": [
        "### insertion or overwrite the key value"
      ]
    },
    {
      "cell_type": "code",
      "metadata": {
        "scrolled": true,
        "id": "YsXWK1Yd_s6F"
      },
      "source": [
        "temp_dict[\"111AU\"] = \"Rakesh\"\n",
        "temp_dict"
      ],
      "execution_count": null,
      "outputs": []
    },
    {
      "cell_type": "markdown",
      "metadata": {
        "id": "5TpLY9Yv_s6F"
      },
      "source": [
        "### iteration over the dictinary"
      ]
    },
    {
      "cell_type": "code",
      "metadata": {
        "id": "AAb_dXeN_s6F"
      },
      "source": [
        "print(temp_dict)\n",
        "for i in temp_dict:\n",
        "    print(i,\": \", temp_dict[i])"
      ],
      "execution_count": null,
      "outputs": []
    },
    {
      "cell_type": "markdown",
      "metadata": {
        "id": "cqgl-gkd_s6F"
      },
      "source": [
        "### values()"
      ]
    },
    {
      "cell_type": "code",
      "metadata": {
        "id": "SvODN2my_s6G"
      },
      "source": [
        "print(temp_dict.values())\n",
        "for i in temp_dict.values():\n",
        "    print(i)"
      ],
      "execution_count": null,
      "outputs": []
    },
    {
      "cell_type": "markdown",
      "metadata": {
        "id": "M9SqLbVp_s6I"
      },
      "source": [
        "### items()  \n",
        "* return list of tuple with key-value pair"
      ]
    },
    {
      "cell_type": "code",
      "metadata": {
        "id": "Q-xKwPz8_s6I"
      },
      "source": [
        "print(temp_dict.items())\n",
        "for i,j in temp_dict.items():\n",
        "    print(i, j)"
      ],
      "execution_count": null,
      "outputs": []
    },
    {
      "cell_type": "markdown",
      "metadata": {
        "id": "zMTQtc1k_s6I"
      },
      "source": [
        "### Searching 'key' without iteration"
      ]
    },
    {
      "cell_type": "code",
      "metadata": {
        "id": "6aAyOhfL_s6I"
      },
      "source": [
        "print('True') if '100AC' in temp_dict else print('False')"
      ],
      "execution_count": null,
      "outputs": []
    },
    {
      "cell_type": "markdown",
      "metadata": {
        "id": "e1X0zaPz_s6I"
      },
      "source": [
        "### Searching 'value' without iteration"
      ]
    },
    {
      "cell_type": "code",
      "metadata": {
        "id": "SH5leHWY_s6I"
      },
      "source": [
        "print('True') if 'Rakesh' in temp_dict.values() else print('False')"
      ],
      "execution_count": null,
      "outputs": []
    },
    {
      "cell_type": "markdown",
      "metadata": {
        "id": "kXCJhx6__s6J"
      },
      "source": [
        "### len: \n",
        "* length of dictionary"
      ]
    },
    {
      "cell_type": "code",
      "metadata": {
        "id": "J-MUJ0rv_s6J"
      },
      "source": [
        "len(temp_dict)"
      ],
      "execution_count": null,
      "outputs": []
    },
    {
      "cell_type": "code",
      "metadata": {
        "id": "dLzc4Saa_s6J"
      },
      "source": [
        "print(temp_dict)\n",
        "temp_dict[\"101AQ\"] = \"Wahab\" #insertion\n",
        "temp_dict"
      ],
      "execution_count": null,
      "outputs": []
    },
    {
      "cell_type": "markdown",
      "metadata": {
        "id": "vR7zLZux_s6L"
      },
      "source": [
        "### Remove Elements from Dictionary\n",
        "* Popular methods are:\n",
        "    * 1.pop() \n",
        "    * 2.popitems()"
      ]
    },
    {
      "cell_type": "markdown",
      "metadata": {
        "id": "OWBvfPT0_s6L"
      },
      "source": [
        "### pop \n",
        "* **Difference between list pop and dictionary pop**\n",
        "    * in list pop takes one argument as index or also work for without argument but in dictionary it also takes  index but as a 'key' "
      ]
    },
    {
      "cell_type": "code",
      "metadata": {
        "id": "6MAGHALH_s6M",
        "colab": {
          "base_uri": "https://localhost:8080/"
        },
        "outputId": "2aa9bf0a-1e5b-4958-ee0c-dbaac903fa83"
      },
      "source": [
        "print(temp_dict)\n",
        "temp_dict.pop(\"101AB\")\n",
        "temp_dict\n"
      ],
      "execution_count": null,
      "outputs": [
        {
          "output_type": "stream",
          "text": [
            "{'101AB': 'Ramu', '100AC': 'Raja', '111AU': 'Shyam'}\n"
          ],
          "name": "stdout"
        },
        {
          "output_type": "execute_result",
          "data": {
            "text/plain": [
              "{'100AC': 'Raja', '111AU': 'Shyam'}"
            ]
          },
          "metadata": {
            "tags": []
          },
          "execution_count": 31
        }
      ]
    },
    {
      "cell_type": "markdown",
      "metadata": {
        "id": "NdotxOnI_s6M"
      },
      "source": [
        "### popitem"
      ]
    },
    {
      "cell_type": "markdown",
      "metadata": {
        "id": "bnTq5DRB_s6M"
      },
      "source": [
        "* Remove last key-value pair"
      ]
    },
    {
      "cell_type": "code",
      "metadata": {
        "id": "Jy7Zhu3Q_s6M"
      },
      "source": [
        "temp_dict.popitem()"
      ],
      "execution_count": null,
      "outputs": []
    },
    {
      "cell_type": "markdown",
      "metadata": {
        "id": "65ulVfi603B5"
      },
      "source": [
        "NOTE: Use of del"
      ]
    },
    {
      "cell_type": "code",
      "metadata": {
        "colab": {
          "base_uri": "https://localhost:8080/"
        },
        "id": "jL6aU1w805-a",
        "outputId": "e365c0de-e207-4e0c-9d4e-e4a5c973d974"
      },
      "source": [
        "del temp_dict['100AC']\n",
        "print(temp_dict)"
      ],
      "execution_count": null,
      "outputs": [
        {
          "output_type": "stream",
          "text": [
            "{'111AU': 'Shyam'}\n"
          ],
          "name": "stdout"
        }
      ]
    },
    {
      "cell_type": "markdown",
      "metadata": {
        "id": "tO9zOWUW_s6M"
      },
      "source": [
        "### clear"
      ]
    },
    {
      "cell_type": "code",
      "metadata": {
        "id": "9jqS7dHJ_s6M",
        "colab": {
          "base_uri": "https://localhost:8080/"
        },
        "outputId": "8460b3e7-996c-4cb4-8ab2-bdc367e3b997"
      },
      "source": [
        "temp_dict.clear()\n",
        "print(temp_dict)\n",
        "del temp_dict #permanently delete the dictionary variable"
      ],
      "execution_count": null,
      "outputs": [
        {
          "output_type": "stream",
          "text": [
            "{}\n"
          ],
          "name": "stdout"
        }
      ]
    },
    {
      "cell_type": "code",
      "metadata": {
        "id": "p8nfKUlL_s6M",
        "colab": {
          "base_uri": "https://localhost:8080/"
        },
        "outputId": "dbb78edb-9c8b-4725-c4da-32802ea0bf4e"
      },
      "source": [
        "temp_dict = {\"101AB\": \"Ramu\",\n",
        "         \"100AC\": \"Raja\",\n",
        "             \"111AU\": \"Shyam\"\n",
        "}\n",
        "temp_dict"
      ],
      "execution_count": null,
      "outputs": [
        {
          "output_type": "execute_result",
          "data": {
            "text/plain": [
              "{'100AC': 'Raja', '101AB': 'Ramu', '111AU': 'Shyam'}"
            ]
          },
          "metadata": {
            "tags": []
          },
          "execution_count": 34
        }
      ]
    },
    {
      "cell_type": "code",
      "metadata": {
        "id": "9MCGKI75_s6N"
      },
      "source": [
        "temp_dict2 = {\"10AB\": \"Ru\",\n",
        "         \"100C\": \"Ra\",\n",
        "             \"111U\": \"Shm\"\n",
        "}"
      ],
      "execution_count": null,
      "outputs": []
    },
    {
      "cell_type": "markdown",
      "metadata": {
        "id": "JxyFlFUG_s6N"
      },
      "source": [
        "### update\n",
        "* use for concatination\n",
        "* use for updating values of key\n",
        "* use for extending dictionary"
      ]
    },
    {
      "cell_type": "markdown",
      "metadata": {
        "id": "Xf0tIdkB_s6N"
      },
      "source": [
        "* **The update() method adds element(s) to the dictionary if the key is not in the dictionary. If the key is in the dictionary, it updates the key with the new value.** \n",
        "* **Update arguments:**\n",
        "    * The update() method takes either a dictionary or an iterable object of key/value pairs**"
      ]
    },
    {
      "cell_type": "code",
      "metadata": {
        "id": "gwHNhLoE_s6N"
      },
      "source": [
        "temp_dict.update(temp_dict2)\n",
        "temp_dict"
      ],
      "execution_count": null,
      "outputs": []
    },
    {
      "cell_type": "code",
      "metadata": {
        "id": "M4lzvJlm_s6P"
      },
      "source": [
        "#also the way of estension of dictionary\n",
        "di={'e':8, 'f': 9 }\n",
        "temp_dict.update(di)\n",
        "print(temp_dict)"
      ],
      "execution_count": null,
      "outputs": []
    },
    {
      "cell_type": "code",
      "metadata": {
        "id": "3VknngMO_s6Q"
      },
      "source": [
        "#Updating key value\n",
        "temp_dict.update(e=5)\n",
        "temp_dict"
      ],
      "execution_count": null,
      "outputs": []
    },
    {
      "cell_type": "markdown",
      "metadata": {
        "id": "Glt1V6mt_s6Q"
      },
      "source": [
        "### sorted\n",
        "* takes list of value as input"
      ]
    },
    {
      "cell_type": "code",
      "metadata": {
        "id": "rkIWXd22_s6R",
        "colab": {
          "base_uri": "https://localhost:8080/"
        },
        "outputId": "a2a692b9-6417-4c76-ee45-74a522ca2283"
      },
      "source": [
        "print(temp_dict)\n",
        "print(sorted(temp_dict))\n",
        "print(temp_dict.keys())"
      ],
      "execution_count": null,
      "outputs": [
        {
          "output_type": "stream",
          "text": [
            "{'101AB': 'Ramu', '100AC': 'Raja', '111AU': 'Shyam'}\n",
            "['100AC', '101AB', '111AU']\n",
            "dict_keys(['101AB', '100AC', '111AU'])\n"
          ],
          "name": "stdout"
        }
      ]
    },
    {
      "cell_type": "code",
      "metadata": {
        "id": "nHJKwedT_s6R"
      },
      "source": [
        "for i in sorted(temp_dict.values()):\n",
        "    print(i, end=\" \")"
      ],
      "execution_count": null,
      "outputs": []
    },
    {
      "cell_type": "markdown",
      "metadata": {
        "id": "c7BK02Cr_s6R"
      },
      "source": [
        "* **Use Cases**\n",
        "    * one key with multiple values"
      ]
    },
    {
      "cell_type": "code",
      "metadata": {
        "id": "vCwStYzo_s6R",
        "colab": {
          "base_uri": "https://localhost:8080/"
        },
        "outputId": "c8f1199c-2d22-4eab-a2ca-669fd707e53c"
      },
      "source": [
        "temp_di = {\"101AB\": (\"Ramu\", 32 , \"Male\"),\n",
        "         \"100AC\": (\"Raja\", 31 , \"Male\"),\n",
        "             \"111AU\": (\"Shyam\", 33 , \"Male\"),\n",
        "           \"101AQ\": (\"Radha\" , 29, \"Female\")\n",
        "}\n",
        "temp_di"
      ],
      "execution_count": null,
      "outputs": [
        {
          "output_type": "execute_result",
          "data": {
            "text/plain": [
              "{'100AC': ('Raja', 31, 'Male'),\n",
              " '101AB': ('Ramu', 32, 'Male'),\n",
              " '101AQ': ('Radha', 29, 'Female'),\n",
              " '111AU': ('Shyam', 33, 'Male')}"
            ]
          },
          "metadata": {
            "tags": []
          },
          "execution_count": 37
        }
      ]
    },
    {
      "cell_type": "code",
      "metadata": {
        "id": "_u8hOpPs_s6R",
        "colab": {
          "base_uri": "https://localhost:8080/"
        },
        "outputId": "02cda450-afdc-44aa-d97f-f8af62a2667f"
      },
      "source": [
        "#return tuple \n",
        "temp_di[\"101AB\"]"
      ],
      "execution_count": null,
      "outputs": [
        {
          "output_type": "execute_result",
          "data": {
            "text/plain": [
              "('Ramu', 32, 'Male')"
            ]
          },
          "metadata": {
            "tags": []
          },
          "execution_count": 38
        }
      ]
    },
    {
      "cell_type": "code",
      "metadata": {
        "id": "6673kzxE_s6R"
      },
      "source": [
        "for i in temp_di[\"101AB\"]:\n",
        "    print(i)"
      ],
      "execution_count": null,
      "outputs": []
    },
    {
      "cell_type": "code",
      "metadata": {
        "id": "YW_FD-BY_s6R",
        "colab": {
          "base_uri": "https://localhost:8080/"
        },
        "outputId": "e569a390-ddb8-4de8-82a7-1b1ee2f84faa"
      },
      "source": [
        "for i in temp_di:\n",
        "    print(i,\": \",end=\"\")\n",
        "    for j in temp_di[i]:\n",
        "        print(j, end=\" \")\n",
        "    print()"
      ],
      "execution_count": null,
      "outputs": [
        {
          "output_type": "stream",
          "text": [
            "101AB : Ramu 32 Male \n",
            "100AC : Raja 31 Male \n",
            "111AU : Shyam 33 Male \n",
            "101AQ : Radha 29 Female \n"
          ],
          "name": "stdout"
        }
      ]
    },
    {
      "cell_type": "code",
      "metadata": {
        "id": "W8qJodbK_s6S"
      },
      "source": [
        "dic = {'key1': 1 , 'key2': 2 , 'key3': 3}\n",
        "sum(dic.values())"
      ],
      "execution_count": null,
      "outputs": []
    },
    {
      "cell_type": "markdown",
      "metadata": {
        "id": "0YSjTdyM_s6S"
      },
      "source": [
        "### Use of Zip \n",
        "* method returns a tuple where\n",
        "* the i-th element comes from the i-th iterable argument."
      ]
    },
    {
      "cell_type": "code",
      "metadata": {
        "id": "JXqt8ozm_s6S"
      },
      "source": [
        "name = ['aakash', 'raju', 'madhav']\n",
        "marks = [92, 89, 91]\n",
        "roll_no = ['00cs10', '00cs13', '00cs17']"
      ],
      "execution_count": null,
      "outputs": []
    },
    {
      "cell_type": "code",
      "metadata": {
        "id": "VcO7-Zkp_s6S",
        "colab": {
          "base_uri": "https://localhost:8080/"
        },
        "outputId": "38a46130-afb1-4e40-aa6f-96dd82dc2232"
      },
      "source": [
        "#crearting zip object\n",
        "mapp = zip(roll_no, name, marks)\n",
        "print(mapp)"
      ],
      "execution_count": null,
      "outputs": [
        {
          "output_type": "stream",
          "text": [
            "<zip object at 0x7f3b9c9f1bc8>\n"
          ],
          "name": "stdout"
        }
      ]
    },
    {
      "cell_type": "markdown",
      "metadata": {
        "id": "5fuMZjnG_s6S"
      },
      "source": [
        "**Note: We will get list containing tuples**"
      ]
    },
    {
      "cell_type": "code",
      "metadata": {
        "id": "Gs3zy4g__s6S",
        "colab": {
          "base_uri": "https://localhost:8080/"
        },
        "outputId": "b949fcdc-0b58-43f9-8615-94c9707ceae2"
      },
      "source": [
        "#converting into list makes use of it\n",
        "mapping = list(mapp)\n",
        "print(mapping)"
      ],
      "execution_count": null,
      "outputs": [
        {
          "output_type": "stream",
          "text": [
            "[('00cs10', 'aakash', 92), ('00cs13', 'raju', 89), ('00cs17', 'madhav', 91)]\n"
          ],
          "name": "stdout"
        }
      ]
    },
    {
      "cell_type": "code",
      "metadata": {
        "id": "d_C1L5fw_s6S",
        "colab": {
          "base_uri": "https://localhost:8080/"
        },
        "outputId": "d47e1c0e-c425-4864-a7ca-1cd89baab586"
      },
      "source": [
        "for r,n,m in zip(roll_no,name,marks):\n",
        "    print(\"Roll_no- {} : Name - {} : Marks- {} \".format(r,n,m))"
      ],
      "execution_count": null,
      "outputs": [
        {
          "output_type": "stream",
          "text": [
            "Roll_no- 00cs10 : Name - aakash : Marks- 92 \n",
            "Roll_no- 00cs13 : Name - raju : Marks- 89 \n",
            "Roll_no- 00cs17 : Name - madhav : Marks- 91 \n"
          ],
          "name": "stdout"
        }
      ]
    },
    {
      "cell_type": "markdown",
      "metadata": {
        "id": "VNqbPqqF_s6U"
      },
      "source": [
        "### Unzipping\n",
        "* return tuples object"
      ]
    },
    {
      "cell_type": "code",
      "metadata": {
        "id": "_SzWOaBq_s6U",
        "colab": {
          "base_uri": "https://localhost:8080/"
        },
        "outputId": "9290ecf5-558d-4498-d4d6-681d3796c62e"
      },
      "source": [
        "roll_, name_,marks_ = zip(mapping)\n",
        "print(roll_)\n",
        "print(name_)\n",
        "print(marks_)"
      ],
      "execution_count": null,
      "outputs": [
        {
          "output_type": "stream",
          "text": [
            "(('00cs10', 'aakash', 92),)\n",
            "(('00cs13', 'raju', 89),)\n",
            "(('00cs17', 'madhav', 91),)\n"
          ],
          "name": "stdout"
        }
      ]
    },
    {
      "cell_type": "code",
      "metadata": {
        "id": "bFEEgIBO_s6U",
        "colab": {
          "base_uri": "https://localhost:8080/"
        },
        "outputId": "7a6d6ed6-5a27-4e07-b9d1-ebd84277ac40"
      },
      "source": [
        "#Practicle Example of ZIP\n",
        "#CODE:\n",
        "\n",
        "teamName = ['MI', 'RCB', 'CSK',' HYD']\n",
        "scorePoint = [43, 41, 46, 49]\n",
        "rate = [1.231, 1.001, 2.789, 2.781]\n",
        "\n",
        "for i,j,k in zip(teamName, scorePoint, rate):\n",
        "    print('TEAM:',i, 'SCORE:', j ,'RATE: ', k)"
      ],
      "execution_count": null,
      "outputs": [
        {
          "output_type": "stream",
          "text": [
            "TEAM: MI SCORE: 43 RATE:  1.231\n",
            "TEAM: RCB SCORE: 41 RATE:  1.001\n",
            "TEAM: CSK SCORE: 46 RATE:  2.789\n",
            "TEAM:  HYD SCORE: 49 RATE:  2.781\n"
          ],
          "name": "stdout"
        }
      ]
    },
    {
      "cell_type": "markdown",
      "metadata": {
        "id": "nfZq--Xv_s6U"
      },
      "source": [
        "### Dictionary Comprehension"
      ]
    },
    {
      "cell_type": "markdown",
      "metadata": {
        "id": "Suatdbi4_s6U"
      },
      "source": [
        "**unlike list, instead taking value only it takes key+value** "
      ]
    },
    {
      "cell_type": "code",
      "metadata": {
        "id": "_zYeAQuY_s6U"
      },
      "source": [
        "cub={i: i**3 for i in range(2,11)}\n",
        "cub"
      ],
      "execution_count": null,
      "outputs": []
    },
    {
      "cell_type": "code",
      "metadata": {
        "id": "g4HEKXYI_s6V",
        "colab": {
          "base_uri": "https://localhost:8080/"
        },
        "outputId": "d313bb56-d574-4623-800f-0fa978873b8d"
      },
      "source": [
        "d={'a':1, 'b':2, 'c':3, 'd': 4, 'e': 5, 'f': 6}\n",
        "d"
      ],
      "execution_count": null,
      "outputs": [
        {
          "output_type": "execute_result",
          "data": {
            "text/plain": [
              "{'a': 1, 'b': 2, 'c': 3, 'd': 4, 'e': 5, 'f': 6}"
            ]
          },
          "metadata": {
            "tags": []
          },
          "execution_count": 49
        }
      ]
    },
    {
      "cell_type": "code",
      "metadata": {
        "id": "FihP9XLU_s6V",
        "colab": {
          "base_uri": "https://localhost:8080/"
        },
        "outputId": "a75b93e3-af0c-4f1f-a3ff-0f212029d13c"
      },
      "source": [
        "#complex Code\n",
        "new_dic={}\n",
        "for key,val in d.items():\n",
        "  if val > 2:\n",
        "    new_dic[key] = val ** 2\n",
        "new_dic"
      ],
      "execution_count": null,
      "outputs": [
        {
          "output_type": "execute_result",
          "data": {
            "text/plain": [
              "{'c': 9, 'd': 16, 'e': 25, 'f': 36}"
            ]
          },
          "metadata": {
            "tags": []
          },
          "execution_count": 50
        }
      ]
    },
    {
      "cell_type": "code",
      "metadata": {
        "id": "mJxsIfvQ_s6V",
        "colab": {
          "base_uri": "https://localhost:8080/"
        },
        "outputId": "405663f3-5023-48e5-97e3-8ce4e91ce8ea"
      },
      "source": [
        "#using dictionary comprehension avoiding many lines of code just like list comprehension\n",
        "sq_dic=dict()\n",
        "sq_dic={key:val ** 2 for key,val in d.items() if val > 2}\n",
        "sq_dic"
      ],
      "execution_count": null,
      "outputs": [
        {
          "output_type": "execute_result",
          "data": {
            "text/plain": [
              "{'c': 9, 'd': 16, 'e': 25, 'f': 36}"
            ]
          },
          "metadata": {
            "tags": []
          },
          "execution_count": 51
        }
      ]
    },
    {
      "cell_type": "code",
      "metadata": {
        "id": "EgLBl6yn_s6V",
        "colab": {
          "base_uri": "https://localhost:8080/"
        },
        "outputId": "9fc83867-4cc2-4f49-9da9-e121f735e763"
      },
      "source": [
        "#more complex operartion\n",
        "cube_dic=dict()\n",
        "cube_dic={key+'c':val ** 3 for key,val in d.items() if val > 2}\n",
        "cube_dic"
      ],
      "execution_count": null,
      "outputs": [
        {
          "output_type": "execute_result",
          "data": {
            "text/plain": [
              "{'cc': 27, 'dc': 64, 'ec': 125, 'fc': 216}"
            ]
          },
          "metadata": {
            "tags": []
          },
          "execution_count": 52
        }
      ]
    },
    {
      "cell_type": "markdown",
      "metadata": {
        "id": "wJtwOuJM_s6V"
      },
      "source": [
        "### Gives all methods related to dictionary"
      ]
    },
    {
      "cell_type": "code",
      "metadata": {
        "id": "zw3dhKgG_s6V",
        "colab": {
          "base_uri": "https://localhost:8080/"
        },
        "outputId": "f649dd64-fb70-4ca6-b1a4-2cd0669dade6"
      },
      "source": [
        "print(dir(cube_dic))"
      ],
      "execution_count": null,
      "outputs": [
        {
          "output_type": "stream",
          "text": [
            "['__class__', '__contains__', '__delattr__', '__delitem__', '__dir__', '__doc__', '__eq__', '__format__', '__ge__', '__getattribute__', '__getitem__', '__gt__', '__hash__', '__init__', '__init_subclass__', '__iter__', '__le__', '__len__', '__lt__', '__ne__', '__new__', '__reduce__', '__reduce_ex__', '__repr__', '__setattr__', '__setitem__', '__sizeof__', '__str__', '__subclasshook__', 'clear', 'copy', 'fromkeys', 'get', 'items', 'keys', 'pop', 'popitem', 'setdefault', 'update', 'values']\n"
          ],
          "name": "stdout"
        }
      ]
    },
    {
      "cell_type": "markdown",
      "metadata": {
        "id": "H6t8bvmw_s6W"
      },
      "source": [
        "## Basic Functions in Python"
      ]
    },
    {
      "cell_type": "markdown",
      "metadata": {
        "id": "L8bCVKia_s6W"
      },
      "source": [
        "### (1) Lambda Function :-"
      ]
    },
    {
      "cell_type": "markdown",
      "metadata": {
        "id": "jWNcPsOD_s6W"
      },
      "source": [
        "* ***no exlplicit return required***"
      ]
    },
    {
      "cell_type": "code",
      "metadata": {
        "id": "yQERudGY_s6W"
      },
      "source": [
        "sqr=lambda k: k**2"
      ],
      "execution_count": null,
      "outputs": []
    },
    {
      "cell_type": "code",
      "metadata": {
        "id": "Auj8lpHn_s6W",
        "outputId": "259c6403-20f7-4d79-e937-7fecc39f6413"
      },
      "source": [
        "sqr(16)"
      ],
      "execution_count": null,
      "outputs": [
        {
          "output_type": "execute_result",
          "data": {
            "text/plain": [
              "256"
            ]
          },
          "metadata": {
            "tags": []
          },
          "execution_count": 65
        }
      ]
    },
    {
      "cell_type": "code",
      "metadata": {
        "id": "TaDKUN8E_s6W",
        "outputId": "e1de254d-66fe-498a-9166-be9f046a8642"
      },
      "source": [
        "#Code:\n",
        "#Finding greater number between two numbers\n",
        "\n",
        "def greater(x,y):\n",
        "     print(x) if x > y else print(y) \n",
        "greater(3,5)\n",
        "\n",
        "\n",
        "#code(Lambda Function):\n",
        "sml = lambda x,y: x if x < y else y \n",
        "sml(3,5)"
      ],
      "execution_count": null,
      "outputs": [
        {
          "output_type": "stream",
          "text": [
            "5\n"
          ],
          "name": "stdout"
        },
        {
          "output_type": "execute_result",
          "data": {
            "text/plain": [
              "3"
            ]
          },
          "metadata": {
            "tags": []
          },
          "execution_count": 66
        }
      ]
    },
    {
      "cell_type": "markdown",
      "metadata": {
        "id": "3oTlo9CF_s6W"
      },
      "source": [
        "### (2)Reduce Function :-"
      ]
    },
    {
      "cell_type": "markdown",
      "metadata": {
        "id": "VH8Yhmrl_s6W"
      },
      "source": [
        "*  **signature of both map and reduce are same**\n",
        "*  **reduce perform aggreagtion operation over a sequence or iterable object**"
      ]
    },
    {
      "cell_type": "markdown",
      "metadata": {
        "id": "fVDRnUcy_s6W"
      },
      "source": [
        "* ***aggregation function only required two arguments So reduce only work with two arguments***"
      ]
    },
    {
      "cell_type": "code",
      "metadata": {
        "id": "SSgOhQht_s6X",
        "outputId": "e62404c6-df92-4afd-9d7e-fda935de873f"
      },
      "source": [
        "#code:\n",
        "#Summing all elements of a list\n",
        "\n",
        "\n",
        "from functools import reduce  \n",
        "list1 = [1,2,3,4,5,6,7,8,9,10]\n",
        "summ = reduce(lambda x,y : x + y, list1) \n",
        "print(summ)"
      ],
      "execution_count": null,
      "outputs": [
        {
          "output_type": "stream",
          "text": [
            "55\n"
          ],
          "name": "stdout"
        }
      ]
    },
    {
      "cell_type": "code",
      "metadata": {
        "id": "_S01OGxo_s6X",
        "outputId": "62471397-9c76-4b3d-c097-e6a9f7a80f2c"
      },
      "source": [
        "from functools import reduce\n",
        "l=[1,2,3,4,5]\n",
        "reduce(lambda x,y:x+y,l)"
      ],
      "execution_count": null,
      "outputs": [
        {
          "output_type": "execute_result",
          "data": {
            "text/plain": [
              "15"
            ]
          },
          "metadata": {
            "tags": []
          },
          "execution_count": 68
        }
      ]
    },
    {
      "cell_type": "code",
      "metadata": {
        "id": "_GLnet_1_s6X",
        "outputId": "fc89defc-dba2-4409-d8f1-8a8a91c5104d"
      },
      "source": [
        "def test(m,n):\n",
        "  return m*n\n",
        "\n",
        "#aggregation output for a single iterable list\n",
        "reduce(test,l)"
      ],
      "execution_count": null,
      "outputs": [
        {
          "output_type": "execute_result",
          "data": {
            "text/plain": [
              "120"
            ]
          },
          "metadata": {
            "tags": []
          },
          "execution_count": 69
        }
      ]
    },
    {
      "cell_type": "code",
      "metadata": {
        "id": "yQw5qk9K_s6X",
        "outputId": "46b56ea6-e5a7-4bf3-e19f-e9e43a2c3ec3"
      },
      "source": [
        "max_find = lambda a,b: a if a>b else b\n",
        "l=[10,2,3,4,5]\n",
        "reduce(max_find,l)"
      ],
      "execution_count": null,
      "outputs": [
        {
          "output_type": "execute_result",
          "data": {
            "text/plain": [
              "10"
            ]
          },
          "metadata": {
            "tags": []
          },
          "execution_count": 70
        }
      ]
    },
    {
      "cell_type": "code",
      "metadata": {
        "id": "lJUgQwMY_s6X",
        "outputId": "3f08f2c8-621d-464e-ed3e-4fa19e5f50b3"
      },
      "source": [
        "#or\n",
        "reduce(lambda x,y: x if x < y else y , l)"
      ],
      "execution_count": null,
      "outputs": [
        {
          "output_type": "execute_result",
          "data": {
            "text/plain": [
              "2"
            ]
          },
          "metadata": {
            "tags": []
          },
          "execution_count": 71
        }
      ]
    },
    {
      "cell_type": "markdown",
      "metadata": {
        "id": "cD23AxYc_s6X"
      },
      "source": [
        "### Filter Function :-"
      ]
    },
    {
      "cell_type": "markdown",
      "metadata": {
        "id": "Mc3ewbto_s6X"
      },
      "source": [
        "*  **Filter() function works on some condition and give you the required list object**\n",
        "*  **Filter return true condition data value**\n",
        "*  **filter and map both have same signature**"
      ]
    },
    {
      "cell_type": "code",
      "metadata": {
        "id": "JgfVfXK8_s6X",
        "outputId": "133b4cb5-311f-4be9-b8f5-346aa1a0c33d"
      },
      "source": [
        "#Code:\n",
        "#getting odd values\n",
        "\n",
        "\n",
        "odd = list(filter(lambda x: x % 2 != 0 ,list1)) \n",
        "odd"
      ],
      "execution_count": null,
      "outputs": [
        {
          "output_type": "execute_result",
          "data": {
            "text/plain": [
              "[1, 3, 5, 7, 9]"
            ]
          },
          "metadata": {
            "tags": []
          },
          "execution_count": 72
        }
      ]
    },
    {
      "cell_type": "code",
      "metadata": {
        "id": "z9oifYVz_s6Y",
        "outputId": "dfc3c6ee-653b-42e1-8b98-3c471a0b6952"
      },
      "source": [
        "def is_even(num):\n",
        "  if num % 2 == 0:\n",
        "    return True\n",
        "\n",
        "print(l)\n",
        "list(filter(is_even,l))"
      ],
      "execution_count": null,
      "outputs": [
        {
          "output_type": "stream",
          "text": [
            "[10, 2, 3, 4, 5]\n"
          ],
          "name": "stdout"
        },
        {
          "output_type": "execute_result",
          "data": {
            "text/plain": [
              "[10, 2, 4]"
            ]
          },
          "metadata": {
            "tags": []
          },
          "execution_count": 73
        }
      ]
    },
    {
      "cell_type": "code",
      "metadata": {
        "id": "2zNnJSRd_s6Y",
        "outputId": "9381675b-73a4-45c3-c1d7-46eada3f7208"
      },
      "source": [
        "list(filter(lambda num: num % 2 != 0, l))"
      ],
      "execution_count": null,
      "outputs": [
        {
          "output_type": "execute_result",
          "data": {
            "text/plain": [
              "[3, 5]"
            ]
          },
          "metadata": {
            "tags": []
          },
          "execution_count": 74
        }
      ]
    },
    {
      "cell_type": "markdown",
      "metadata": {
        "id": "MUN21bse_s6Y"
      },
      "source": [
        "## iterator vs iterable\n",
        "    * in iterable objects all values fed up with the memory \n",
        "    * but in iterator objects all values doesn't stored in the memory at the same time\n",
        "    * list is iterable\n",
        "    * generator function is used to create iterator"
      ]
    },
    {
      "cell_type": "markdown",
      "metadata": {
        "id": "pbkQbVOJ_s6Y"
      },
      "source": [
        "* **__iter__ or iter() is used to make iterable object into iterator**"
      ]
    },
    {
      "cell_type": "markdown",
      "metadata": {
        "id": "JEnKE7bo_s6Y"
      },
      "source": [
        "### iter"
      ]
    },
    {
      "cell_type": "code",
      "metadata": {
        "id": "o2gsAAJO_s6Y",
        "outputId": "f9ec1485-df90-453a-ebe7-37a8fb379945"
      },
      "source": [
        "l.__iter__()"
      ],
      "execution_count": null,
      "outputs": [
        {
          "output_type": "execute_result",
          "data": {
            "text/plain": [
              "<list_iterator at 0x10c699f90>"
            ]
          },
          "metadata": {
            "tags": []
          },
          "execution_count": 76
        }
      ]
    },
    {
      "cell_type": "code",
      "metadata": {
        "id": "cz06wbUq_s6Y"
      },
      "source": [
        "obj=l.__iter__()"
      ],
      "execution_count": null,
      "outputs": []
    },
    {
      "cell_type": "code",
      "metadata": {
        "id": "cYLzCZO0_s6Y",
        "outputId": "3e5eaa73-b25f-46f9-b6b7-d9c95904f138"
      },
      "source": [
        "for i in obj:\n",
        "  print(i)"
      ],
      "execution_count": null,
      "outputs": [
        {
          "output_type": "stream",
          "text": [
            "10\n",
            "2\n",
            "3\n",
            "4\n",
            "5\n"
          ],
          "name": "stdout"
        }
      ]
    },
    {
      "cell_type": "code",
      "metadata": {
        "id": "D1TcYOvv_s6Y"
      },
      "source": [
        "#or\n",
        "b=iter(l)"
      ],
      "execution_count": null,
      "outputs": []
    },
    {
      "cell_type": "code",
      "metadata": {
        "id": "EgxWbLj6_s6Y",
        "outputId": "3d5c6626-3f8b-4161-fd9b-ced986cab7d9"
      },
      "source": [
        "for i in b:\n",
        "  print(i)"
      ],
      "execution_count": null,
      "outputs": [
        {
          "output_type": "stream",
          "text": [
            "10\n",
            "2\n",
            "3\n",
            "4\n",
            "5\n"
          ],
          "name": "stdout"
        }
      ]
    },
    {
      "cell_type": "code",
      "metadata": {
        "id": "FQyFa6A9_s6Z",
        "outputId": "67db4f8d-c8d0-47bf-fdc4-eb440bcd6471"
      },
      "source": [
        "type(iter(l))"
      ],
      "execution_count": null,
      "outputs": [
        {
          "output_type": "execute_result",
          "data": {
            "text/plain": [
              "list_iterator"
            ]
          },
          "metadata": {
            "tags": []
          },
          "execution_count": 81
        }
      ]
    },
    {
      "cell_type": "markdown",
      "metadata": {
        "id": "BhNeSNRn_s6Z"
      },
      "source": [
        "### Map Fuction :- "
      ]
    },
    {
      "cell_type": "markdown",
      "metadata": {
        "id": "A67bHrJQ_s6Z"
      },
      "source": [
        "* **Map is commonly used with lambda function inorder to avoid manually or extra coding like looping and outside function kind of thing**"
      ]
    },
    {
      "cell_type": "code",
      "metadata": {
        "id": "dumGXG1L_s6Z"
      },
      "source": [
        "#traditional looping"
      ],
      "execution_count": null,
      "outputs": []
    },
    {
      "cell_type": "code",
      "metadata": {
        "id": "sfvPOJhu_s6Z"
      },
      "source": [
        "def fahrenheit(T):\n",
        "  return ((float(9)/5)*T + 32)\n",
        "\n",
        "def celseuis(T):\n",
        "  return ((float(5)/9)*(T-32))"
      ],
      "execution_count": null,
      "outputs": []
    },
    {
      "cell_type": "code",
      "metadata": {
        "id": "Zluinswy_s6Z",
        "outputId": "300e321d-fece-4996-84f5-ae3ef7fdc95f"
      },
      "source": [
        "temp=[0,22,5,40,100]\n",
        "a=[]\n",
        "for i in temp:\n",
        "  a.append(fahrenheit(i))\n",
        "\n",
        "a"
      ],
      "execution_count": null,
      "outputs": [
        {
          "output_type": "execute_result",
          "data": {
            "text/plain": [
              "[32.0, 71.6, 41.0, 104.0, 212.0]"
            ]
          },
          "metadata": {
            "tags": []
          },
          "execution_count": 83
        }
      ]
    },
    {
      "cell_type": "markdown",
      "metadata": {
        "id": "34C6LXaH_s6Z"
      },
      "source": [
        "* **USE OF MAP ignoring loop**"
      ]
    },
    {
      "cell_type": "code",
      "metadata": {
        "id": "zEojU07h_s6Z"
      },
      "source": [
        "li_temp=list(map(fahrenheit,temp))"
      ],
      "execution_count": null,
      "outputs": []
    },
    {
      "cell_type": "code",
      "metadata": {
        "id": "B6cUQ0IU_s6Z",
        "outputId": "f97d690b-d78f-47cd-a4b6-b612f746ed93"
      },
      "source": [
        "li_temp"
      ],
      "execution_count": null,
      "outputs": [
        {
          "output_type": "execute_result",
          "data": {
            "text/plain": [
              "[32.0, 71.6, 41.0, 104.0, 212.0]"
            ]
          },
          "metadata": {
            "tags": []
          },
          "execution_count": 86
        }
      ]
    },
    {
      "cell_type": "code",
      "metadata": {
        "id": "KuoaiL3u_s6Z",
        "outputId": "20c302af-2657-49f3-96da-4c6b4d2f22b3"
      },
      "source": [
        "list(map(celseuis,li_temp))"
      ],
      "execution_count": null,
      "outputs": [
        {
          "output_type": "execute_result",
          "data": {
            "text/plain": [
              "[0.0, 21.999999999999996, 5.0, 40.0, 100.0]"
            ]
          },
          "metadata": {
            "tags": []
          },
          "execution_count": 91
        }
      ]
    },
    {
      "cell_type": "code",
      "metadata": {
        "id": "SdSKyPQ1_s6a",
        "outputId": "b2afebc6-bbe8-4456-a237-d23e811e5949"
      },
      "source": [
        "#code:\n",
        "#mapping each value of the list\n",
        "\n",
        "Mul_list = list(map(lambda i : i * 2 ,list1))\n",
        "print(Mul_list)\n",
        "\n",
        "#or also do this by list comprehesion\n",
        "lis_sqr=[i * 2 for i in list1] #but it includes looping\n",
        "lis_sqr"
      ],
      "execution_count": null,
      "outputs": [
        {
          "output_type": "stream",
          "text": [
            "[2, 4, 6, 8, 10, 12, 14, 16, 18, 20]\n"
          ],
          "name": "stdout"
        },
        {
          "output_type": "execute_result",
          "data": {
            "text/plain": [
              "[2, 4, 6, 8, 10, 12, 14, 16, 18, 20]"
            ]
          },
          "metadata": {
            "tags": []
          },
          "execution_count": 90
        }
      ]
    },
    {
      "cell_type": "code",
      "metadata": {
        "id": "iWII5FYd_s6a",
        "outputId": "d9b5eb36-dc93-478a-e4fb-23723751621d"
      },
      "source": [
        "#traditional approach\n",
        "l=[\"sudhanshu\",\"Akshay\",\"singh\",\"kumar\",\"avadhesh\"]\n",
        "k=[]\n",
        "for i in l:\n",
        "  k.append(i.upper())\n",
        "\n",
        "k"
      ],
      "execution_count": null,
      "outputs": [
        {
          "output_type": "execute_result",
          "data": {
            "text/plain": [
              "['SUDHANSHU', 'AKSHAY', 'SINGH', 'KUMAR', 'AVADHESH']"
            ]
          },
          "metadata": {
            "tags": []
          },
          "execution_count": 92
        }
      ]
    },
    {
      "cell_type": "code",
      "metadata": {
        "id": "R4XH5FrQ_s6a",
        "outputId": "6a99a7d3-a528-4ef1-fa20-d57f08f6c13d"
      },
      "source": [
        "#map methods\n",
        "def Upper(string):\n",
        "  return string.upper()\n",
        "\n",
        "list(map(Upper,l))"
      ],
      "execution_count": null,
      "outputs": [
        {
          "output_type": "execute_result",
          "data": {
            "text/plain": [
              "['SUDHANSHU', 'AKSHAY', 'SINGH', 'KUMAR', 'AVADHESH']"
            ]
          },
          "metadata": {
            "tags": []
          },
          "execution_count": 93
        }
      ]
    },
    {
      "cell_type": "code",
      "metadata": {
        "id": "PvgD33c__s6a",
        "outputId": "2e874c39-c77d-450f-da48-db4f72ba1a9b"
      },
      "source": [
        "#or much more handy with lambda\n",
        "list(map(lambda a: a.upper() ,l))"
      ],
      "execution_count": null,
      "outputs": [
        {
          "output_type": "execute_result",
          "data": {
            "text/plain": [
              "['SUDHANSHU', 'AKSHAY', 'SINGH', 'KUMAR', 'AVADHESH']"
            ]
          },
          "metadata": {
            "tags": []
          },
          "execution_count": 94
        }
      ]
    },
    {
      "cell_type": "markdown",
      "metadata": {
        "id": "QtCENDNp_s6a"
      },
      "source": [
        "**NOTE:Lamda Function adavanatge is that, we don't need to create an outside function**"
      ]
    },
    {
      "cell_type": "code",
      "metadata": {
        "id": "Kr2v5Dta_s6a",
        "outputId": "69c254e0-37eb-4c3d-824f-2356700d4837"
      },
      "source": [
        "#best example\n",
        "#map with lambda with two arguments i.e we need two list\n",
        "a=[1,2,3,4]\n",
        "b=[5,6,7,8]\n",
        "\n",
        "list(map(lambda x,y: x+y,a,b))"
      ],
      "execution_count": null,
      "outputs": [
        {
          "output_type": "execute_result",
          "data": {
            "text/plain": [
              "[6, 8, 10, 12]"
            ]
          },
          "metadata": {
            "tags": []
          },
          "execution_count": 95
        }
      ]
    },
    {
      "cell_type": "code",
      "metadata": {
        "id": "Zx73Jcqu_s6a",
        "outputId": "26c8cd92-97c2-4302-f9af-7eccf4224c36"
      },
      "source": [
        "#Map is now much more handy rather than list comrehension and without saparatte function with the power of lambda \n",
        "c=[7,8,9,3]\n",
        "list(map(lambda x,y,z:x+y+z,a,b,c))"
      ],
      "execution_count": null,
      "outputs": [
        {
          "output_type": "execute_result",
          "data": {
            "text/plain": [
              "[13, 16, 19, 15]"
            ]
          },
          "metadata": {
            "tags": []
          },
          "execution_count": 96
        }
      ]
    },
    {
      "cell_type": "code",
      "metadata": {
        "id": "zHmo4QxF_s6b",
        "outputId": "4f2d8ab6-56af-4fdc-e1ce-f4b4b3e8899b"
      },
      "source": [
        "def test(m,n):\n",
        "  return m+n\n",
        "\n",
        "list(map(test,a,b))"
      ],
      "execution_count": null,
      "outputs": [
        {
          "output_type": "execute_result",
          "data": {
            "text/plain": [
              "[6, 8, 10, 12]"
            ]
          },
          "metadata": {
            "tags": []
          },
          "execution_count": 97
        }
      ]
    },
    {
      "cell_type": "markdown",
      "metadata": {
        "id": "3VqG9d9t_s6b"
      },
      "source": [
        "#### NOTE: lambda provide more flexibility; map always perform row wise operation on list"
      ]
    },
    {
      "cell_type": "code",
      "metadata": {
        "id": "5YTpDIOu_s6b"
      },
      "source": [
        "a=map(test,a,b)"
      ],
      "execution_count": null,
      "outputs": []
    },
    {
      "cell_type": "code",
      "metadata": {
        "id": "l4YV2Amb_s6b",
        "outputId": "21dc22bd-f413-4343-9ec3-e5c686d21ac8"
      },
      "source": [
        "next(a)"
      ],
      "execution_count": null,
      "outputs": [
        {
          "output_type": "execute_result",
          "data": {
            "text/plain": [
              "8"
            ]
          },
          "metadata": {
            "tags": []
          },
          "execution_count": 25
        }
      ]
    },
    {
      "cell_type": "code",
      "metadata": {
        "id": "XPlopoRu_s6b",
        "outputId": "bfb6e355-78cc-4918-a564-5bb3104a8ee6"
      },
      "source": [
        "next(a)"
      ],
      "execution_count": null,
      "outputs": [
        {
          "output_type": "execute_result",
          "data": {
            "text/plain": [
              "6"
            ]
          },
          "metadata": {
            "tags": []
          },
          "execution_count": 24
        }
      ]
    },
    {
      "cell_type": "markdown",
      "metadata": {
        "id": "V5h_AYlB_s6b"
      },
      "source": [
        "## Function Agrguments: "
      ]
    },
    {
      "cell_type": "code",
      "metadata": {
        "id": "B-yDUWsx_s6b",
        "outputId": "3698eab0-16b3-4049-9805-8e10a39a29ed"
      },
      "source": [
        "#arbitary argument(varArgs)\n",
        "def great(*args):\n",
        "  print(args)\n",
        "  print(type(args))#very important\n",
        "  \n",
        "  for i in args:\n",
        "    print(i,end=\" \")\n",
        "\n",
        "great(\"Akshay\",\"Singh\",'is ','very','imotional')"
      ],
      "execution_count": null,
      "outputs": [
        {
          "output_type": "stream",
          "text": [
            "('Akshay', 'Singh', 'is ', 'very', 'imotional')\n",
            "<class 'tuple'>\n",
            "Akshay Singh is  very imotional "
          ],
          "name": "stdout"
        }
      ]
    },
    {
      "cell_type": "code",
      "metadata": {
        "id": "ImO_rHyi_s6b",
        "outputId": "84e87f09-0df2-41dd-c335-97f1568f7371"
      },
      "source": [
        "#default Argument\n",
        "def great(name,msg=\"Good morning\"):\n",
        "\n",
        "    print(\"Hello {0}, {1} \".format(name,msg))\n",
        "\n",
        "great(\"Akshay\",\"Goodnight\")\n",
        "great(\"manu\")"
      ],
      "execution_count": null,
      "outputs": [
        {
          "output_type": "stream",
          "text": [
            "Hello Akshay, Goodnight \n",
            "Hello manu, Good morning \n"
          ],
          "name": "stdout"
        }
      ]
    },
    {
      "cell_type": "code",
      "metadata": {
        "id": "KH_mTy0H_s6b",
        "outputId": "300958df-25bc-47ff-df69-69d2a478b1e0"
      },
      "source": [
        "#key words arguments(Most Popular)\n",
        "#**kwargs is dictionary\n",
        "def great(**kwargs):\n",
        "    print(kwargs)\n",
        "    print(\"hello {0} , {1}\".format(kwargs['name'],kwargs['msg']))\n",
        "\n",
        "  \n",
        "great(name=\"Akshay\", msg=\"Good Morning\")"
      ],
      "execution_count": null,
      "outputs": [
        {
          "output_type": "stream",
          "text": [
            "{'name': 'Akshay', 'msg': 'Good Morning'}\n",
            "hello Akshay , Good Morning\n"
          ],
          "name": "stdout"
        }
      ]
    },
    {
      "cell_type": "markdown",
      "metadata": {
        "id": "CFgNA4Tz_s6c"
      },
      "source": [
        "### Example"
      ]
    },
    {
      "cell_type": "code",
      "metadata": {
        "id": "f_79C_2U_s6c",
        "outputId": "b7687de1-ed36-4ce4-c278-987c05970e9e"
      },
      "source": [
        "#less efficient\n",
        "def add_N(*var_args):\n",
        "    summ = 0 \n",
        "    for i in var_args:\n",
        "        summ += i\n",
        "    print('the sum is',summ)\n",
        "    \n",
        "add_N(1,2,3,4,5)   \n",
        "\n",
        "\n",
        "#second method(more efficient)\n",
        "\n",
        "def add_N(*var_args):\n",
        "    print(\"type of variable length argument: \", type(var_args))\n",
        "    print(sum(var_args))\n",
        "    \n",
        "    \n",
        "add_N(1,2,3,4,5)    "
      ],
      "execution_count": null,
      "outputs": [
        {
          "output_type": "stream",
          "text": [
            "the sum is 15\n",
            "type of variable length argument:  <class 'tuple'>\n",
            "15\n"
          ],
          "name": "stdout"
        }
      ]
    },
    {
      "cell_type": "markdown",
      "metadata": {
        "id": "eNfR1edP_s6c"
      },
      "source": [
        "### Airthmatic Basic Function:-"
      ]
    },
    {
      "cell_type": "markdown",
      "metadata": {
        "id": "_w9II4ig_s6c"
      },
      "source": [
        "### round"
      ]
    },
    {
      "cell_type": "code",
      "metadata": {
        "id": "OKk6tP24_s6c",
        "outputId": "577f4230-b581-41da-bb6b-f87b27c7a53a"
      },
      "source": [
        "print(round(3.567))\n",
        "print(round(3.56751,3))\n",
        "print(round(3.467))"
      ],
      "execution_count": null,
      "outputs": [
        {
          "output_type": "stream",
          "text": [
            "4\n",
            "3.568\n",
            "3\n"
          ],
          "name": "stdout"
        }
      ]
    },
    {
      "cell_type": "markdown",
      "metadata": {
        "id": "NTSi-YUI_s6c"
      },
      "source": [
        "### pow"
      ]
    },
    {
      "cell_type": "code",
      "metadata": {
        "id": "GW6mH0no_s6c",
        "outputId": "28dfc20b-1fae-4e01-9c05-3317b0635c9a"
      },
      "source": [
        "print(pow(2,3))\n",
        "print(pow(2,3,3)) #(remainder) 2^3 % 3 ==> 2"
      ],
      "execution_count": null,
      "outputs": [
        {
          "output_type": "stream",
          "text": [
            "8\n",
            "2\n"
          ],
          "name": "stdout"
        }
      ]
    },
    {
      "cell_type": "markdown",
      "metadata": {
        "id": "KEu9h7Hi_s6c"
      },
      "source": [
        "### divmod"
      ]
    },
    {
      "cell_type": "code",
      "metadata": {
        "id": "QI7N5Igs_s6c",
        "outputId": "5d8c5d84-452f-4e9a-8bd2-bb650993938e"
      },
      "source": [
        "div_mod=divmod(11,3) # return (Quoitient , remainder)\n",
        "print(div_mod)\n",
        "print(div_mod[0])\n",
        "print(div_mod[1])"
      ],
      "execution_count": null,
      "outputs": [
        {
          "output_type": "stream",
          "text": [
            "(3, 2)\n",
            "3\n",
            "2\n"
          ],
          "name": "stdout"
        }
      ]
    },
    {
      "cell_type": "markdown",
      "metadata": {
        "id": "0QHRXX9t_s6c"
      },
      "source": [
        "### range"
      ]
    },
    {
      "cell_type": "code",
      "metadata": {
        "id": "pZZnPz0R_s6d",
        "outputId": "056788bc-9e9f-45d1-fb5b-c2f00ec68f59"
      },
      "source": [
        "for i in range(3):# default start from 0\n",
        "    print(i, end=\" \")\n",
        "print('\\n')\n",
        "\n",
        "for k in range(2,6): # 2 is inclusive and 6 is exclusive\n",
        "    print(k, end=\" \")\n",
        "print('\\n')\n",
        "\n",
        "for l in range(1,10,2): #2 is step size\n",
        "    print(l, end=\" \")\n",
        "    "
      ],
      "execution_count": null,
      "outputs": [
        {
          "output_type": "stream",
          "text": [
            "0 1 2 \n",
            "\n",
            "2 3 4 5 \n",
            "\n",
            "1 3 5 7 9 "
          ],
          "name": "stdout"
        }
      ]
    },
    {
      "cell_type": "markdown",
      "metadata": {
        "id": "KZRFT5dD_s6d"
      },
      "source": [
        "### complex and abs"
      ]
    },
    {
      "cell_type": "code",
      "metadata": {
        "id": "KPygG9MH_s6d",
        "outputId": "785c1f62-d04a-4738-8916-ff0e42392645"
      },
      "source": [
        "comp = complex('4+3j')\n",
        "print(abs(comp))\n",
        "print(abs(-1000))"
      ],
      "execution_count": null,
      "outputs": [
        {
          "output_type": "stream",
          "text": [
            "5.0\n",
            "1000\n"
          ],
          "name": "stdout"
        }
      ]
    },
    {
      "cell_type": "markdown",
      "metadata": {
        "id": "TE1yvnMt_s6d"
      },
      "source": [
        "### floor Division"
      ]
    },
    {
      "cell_type": "code",
      "metadata": {
        "id": "G3MCafv6_s6d",
        "outputId": "dd146863-e617-4eb6-f249-32becc999103"
      },
      "source": [
        "print(1/2)\n",
        "print(3//2)\n",
        "print(2.0/2)\n",
        "print(2.0//2)\n",
        "print(2//2)"
      ],
      "execution_count": null,
      "outputs": [
        {
          "output_type": "stream",
          "text": [
            "0.5\n",
            "1\n",
            "1.0\n",
            "1.0\n",
            "1\n"
          ],
          "name": "stdout"
        }
      ]
    },
    {
      "cell_type": "markdown",
      "metadata": {
        "id": "mzNN9X7U_s6d"
      },
      "source": [
        "### Taking Multiple input at a time :-\n",
        "* Using split() method\n",
        "* Using List comprehension\n"
      ]
    },
    {
      "cell_type": "markdown",
      "metadata": {
        "id": "fUapDwkU_s6d"
      },
      "source": [
        "### Method 1 split"
      ]
    },
    {
      "cell_type": "code",
      "metadata": {
        "id": "qJZEsqs9_s6d",
        "outputId": "b84c1832-89ff-4589-e299-27c79625cf25"
      },
      "source": [
        "x,y,z = input().split()"
      ],
      "execution_count": null,
      "outputs": [
        {
          "output_type": "stream",
          "text": [
            "1 2 4\n"
          ],
          "name": "stdout"
        }
      ]
    },
    {
      "cell_type": "code",
      "metadata": {
        "id": "VGx45eKl_s6e",
        "outputId": "94bc3433-0497-4c89-ab9d-a749fe2b7620"
      },
      "source": [
        "print(x,y,z)"
      ],
      "execution_count": null,
      "outputs": [
        {
          "output_type": "stream",
          "text": [
            "1 2 4\n"
          ],
          "name": "stdout"
        }
      ]
    },
    {
      "cell_type": "code",
      "metadata": {
        "id": "RpSh0NsM_s6e",
        "outputId": "8f66d3ab-9545-4e89-8ee3-bfbf778be639"
      },
      "source": [
        "k = list(map(int, input().split()))"
      ],
      "execution_count": null,
      "outputs": [
        {
          "output_type": "stream",
          "text": [
            "1 2 3 4 5 6 7 8\n"
          ],
          "name": "stdout"
        }
      ]
    },
    {
      "cell_type": "code",
      "metadata": {
        "id": "oGxXqR6U_s6e",
        "outputId": "47ab2ade-1467-4721-a04b-9ecd6d400ad0"
      },
      "source": [
        "k"
      ],
      "execution_count": null,
      "outputs": [
        {
          "output_type": "execute_result",
          "data": {
            "text/plain": [
              "[1, 2, 3, 4, 5, 6, 7, 8]"
            ]
          },
          "metadata": {
            "tags": []
          },
          "execution_count": 113
        }
      ]
    },
    {
      "cell_type": "markdown",
      "metadata": {
        "id": "EZu-A-1B_s6e"
      },
      "source": [
        "### Method 2 list comprehension"
      ]
    },
    {
      "cell_type": "code",
      "metadata": {
        "id": "cair1IJT_s6e",
        "outputId": "68dd38e2-ff4e-4a62-c96b-dda3c7a95e12"
      },
      "source": [
        "y = [int(x) for x in input(\"Enter multiple value: \").split()] "
      ],
      "execution_count": null,
      "outputs": [
        {
          "output_type": "stream",
          "text": [
            "Enter multiple value: 7 8 9 12\n"
          ],
          "name": "stdout"
        }
      ]
    },
    {
      "cell_type": "code",
      "metadata": {
        "id": "9tngz18x_s6e",
        "outputId": "f706cc1b-9532-4e00-af55-3aeef52b669d"
      },
      "source": [
        "print(y)"
      ],
      "execution_count": null,
      "outputs": [
        {
          "output_type": "stream",
          "text": [
            "[7, 8, 9, 12]\n"
          ],
          "name": "stdout"
        }
      ]
    },
    {
      "cell_type": "markdown",
      "metadata": {
        "id": "zzfpkR5D_s6e"
      },
      "source": [
        "### retrun multiple value"
      ]
    },
    {
      "cell_type": "code",
      "metadata": {
        "id": "62zDhzrA_s6e",
        "outputId": "dae89ffe-670b-4a6a-f02d-8d0e3045da84"
      },
      "source": [
        "def test(name):\n",
        "  return  name*3 , name*2\n",
        "\n",
        "\n",
        "a,b=test(\"Aks\")\n",
        "print(a,b)"
      ],
      "execution_count": null,
      "outputs": [
        {
          "output_type": "stream",
          "text": [
            "AksAksAks AksAks\n"
          ],
          "name": "stdout"
        }
      ]
    },
    {
      "cell_type": "code",
      "metadata": {
        "id": "QajekVnS_s6f",
        "outputId": "516e8a22-873f-4094-cbe2-fa2885b0b23f"
      },
      "source": [
        "def test1(k):\n",
        "  return k+2,k**3\n",
        "\n",
        "\n",
        "a,_=test1(2)\n",
        "a"
      ],
      "execution_count": null,
      "outputs": [
        {
          "output_type": "execute_result",
          "data": {
            "text/plain": [
              "4"
            ]
          },
          "metadata": {
            "tags": []
          },
          "execution_count": 118
        }
      ]
    },
    {
      "cell_type": "code",
      "metadata": {
        "id": "HM5C4vQk_s6f",
        "outputId": "ae3a4ab0-0bb0-4960-ad0f-8c9861c254e1"
      },
      "source": [
        "def test():\n",
        "  return [1,2,3,4], {'A':'Akshay','B':'Singh'}\n",
        "\n",
        "\n",
        "_,dic=test()\n",
        "dic"
      ],
      "execution_count": null,
      "outputs": [
        {
          "output_type": "execute_result",
          "data": {
            "text/plain": [
              "{'A': 'Akshay', 'B': 'Singh'}"
            ]
          },
          "metadata": {
            "tags": []
          },
          "execution_count": 119
        }
      ]
    },
    {
      "cell_type": "markdown",
      "metadata": {
        "id": "m5qcpqzL_s6f"
      },
      "source": [
        "### C like Approach"
      ]
    },
    {
      "cell_type": "code",
      "metadata": {
        "id": "JQ5_q1Ek_s6f",
        "outputId": "042abd67-dc4b-4bdc-bcd5-c99a826bff7f"
      },
      "source": [
        "def greeting(name):\n",
        "  print('Hello %s !' %name)\n",
        "\n",
        "greeting(\"Akshay Singh\")"
      ],
      "execution_count": null,
      "outputs": [
        {
          "output_type": "stream",
          "text": [
            "Hello Akshay Singh !\n"
          ],
          "name": "stdout"
        }
      ]
    },
    {
      "cell_type": "markdown",
      "metadata": {
        "id": "5AdMm2rO_s6f"
      },
      "source": [
        "### Basic For Else Loop"
      ]
    },
    {
      "cell_type": "code",
      "metadata": {
        "id": "dGR0-An7_s6f",
        "outputId": "0f9b9ff8-da1d-4fc8-9c93-493aa5c8c848"
      },
      "source": [
        "for i in [1,2,'Aks',3,4,5,6]:\n",
        "  if type(i) == str:\n",
        "    break\n",
        "  print(i,end=\" \")\n",
        "else:\n",
        "  print('\\nItems Exausted')\n",
        "print('\\nEnd of Program\\n\\n')\n",
        "\n",
        "#and\n",
        "\n",
        "for i in [1,2,'Aks',3,4,5,6]:\n",
        "  if type(i) == int :\n",
        "      print(i,end=\" \")\n",
        "else:\n",
        "  print('\\nItems Exausted')\n",
        "print('\\nEnd of Program')\n",
        "\n",
        "#NOTE: else only executed when for loop never interrupted"
      ],
      "execution_count": null,
      "outputs": [
        {
          "output_type": "stream",
          "text": [
            "1 2 \n",
            "End of Program\n",
            "\n",
            "\n",
            "1 2 3 4 5 6 \n",
            "Items Exausted\n",
            "\n",
            "End of Program\n"
          ],
          "name": "stdout"
        }
      ]
    },
    {
      "cell_type": "markdown",
      "metadata": {
        "id": "WaVy9Ote_s6f"
      },
      "source": [
        "### iterator vs iterable vs generator"
      ]
    },
    {
      "cell_type": "markdown",
      "metadata": {
        "id": "keLkNGi1_s6f"
      },
      "source": [
        "* NOTE: 'str' object is not an iterator"
      ]
    },
    {
      "cell_type": "markdown",
      "metadata": {
        "id": "hG4oBYGB_s6f"
      },
      "source": [
        "* string is iterable not iterator so we have to use iter to make it iterator"
      ]
    },
    {
      "cell_type": "markdown",
      "metadata": {
        "id": "JI8Z13G0_s6g"
      },
      "source": [
        "* but int is not an iterable"
      ]
    },
    {
      "cell_type": "markdown",
      "metadata": {
        "id": "_-cl2Vew_s6g"
      },
      "source": [
        "* NOTE: for loop is only able to iterate the iterable objects because internally iter() function make it iterator"
      ]
    },
    {
      "cell_type": "markdown",
      "metadata": {
        "id": "cioIdKHx_s6g"
      },
      "source": [
        "* range(0,num) is also not iterator its only iterable object"
      ]
    },
    {
      "cell_type": "markdown",
      "metadata": {
        "id": "unw-kKey_s6g"
      },
      "source": [
        "**next and iter() working into the backend of for loop to make iterable object into iterator**"
      ]
    },
    {
      "cell_type": "markdown",
      "metadata": {
        "id": "5pc4Uf4L_s6g"
      },
      "source": [
        "Doubt1 : partition \n",
        "    sent=\"Deep learning is the future\"\n",
        "sent.partition('i')"
      ]
    },
    {
      "cell_type": "code",
      "metadata": {
        "id": "KVdnrwPV_s6g",
        "outputId": "66be62c6-322c-4276-bdec-bf6395561b02"
      },
      "source": [
        "#string object is not iterator\n",
        "next(\"Akshay Singh\")"
      ],
      "execution_count": null,
      "outputs": [
        {
          "output_type": "error",
          "ename": "TypeError",
          "evalue": "'str' object is not an iterator",
          "traceback": [
            "\u001b[0;31m---------------------------------------------------------------------------\u001b[0m",
            "\u001b[0;31mTypeError\u001b[0m                                 Traceback (most recent call last)",
            "\u001b[0;32m<ipython-input-123-8b4a904d1881>\u001b[0m in \u001b[0;36m<module>\u001b[0;34m\u001b[0m\n\u001b[1;32m      1\u001b[0m \u001b[0;31m#string object is not iterator\u001b[0m\u001b[0;34m\u001b[0m\u001b[0;34m\u001b[0m\u001b[0;34m\u001b[0m\u001b[0m\n\u001b[0;32m----> 2\u001b[0;31m \u001b[0mnext\u001b[0m\u001b[0;34m(\u001b[0m\u001b[0;34m\"Akshay Singh\"\u001b[0m\u001b[0;34m)\u001b[0m\u001b[0;34m\u001b[0m\u001b[0;34m\u001b[0m\u001b[0m\n\u001b[0m",
            "\u001b[0;31mTypeError\u001b[0m: 'str' object is not an iterator"
          ]
        }
      ]
    },
    {
      "cell_type": "code",
      "metadata": {
        "id": "g9gYCFDK_s6g",
        "outputId": "2ec7d0e0-80ff-4a93-9760-565bdaba0b83"
      },
      "source": [
        "a=iter(\"Akshay\")\n",
        "next(a)"
      ],
      "execution_count": null,
      "outputs": [
        {
          "output_type": "execute_result",
          "data": {
            "text/plain": [
              "'A'"
            ]
          },
          "metadata": {
            "tags": []
          },
          "execution_count": 8
        }
      ]
    },
    {
      "cell_type": "code",
      "metadata": {
        "id": "XIAXNhzu_s6g",
        "outputId": "ce11a2db-62eb-4bc2-b3f2-7eefe70e2add"
      },
      "source": [
        "next(a)"
      ],
      "execution_count": null,
      "outputs": [
        {
          "output_type": "execute_result",
          "data": {
            "text/plain": [
              "'s'"
            ]
          },
          "metadata": {
            "tags": []
          },
          "execution_count": 10
        }
      ]
    },
    {
      "cell_type": "code",
      "metadata": {
        "id": "938k69ST_s6g",
        "outputId": "b6ab172d-9f31-45fe-850f-4350b502f805"
      },
      "source": [
        "a=iter(5)"
      ],
      "execution_count": null,
      "outputs": [
        {
          "output_type": "error",
          "ename": "TypeError",
          "evalue": "'int' object is not iterable",
          "traceback": [
            "\u001b[0;31m---------------------------------------------------------------------------\u001b[0m",
            "\u001b[0;31mTypeError\u001b[0m                                 Traceback (most recent call last)",
            "\u001b[0;32m<ipython-input-11-794229bb7d6e>\u001b[0m in \u001b[0;36m<module>\u001b[0;34m\u001b[0m\n\u001b[0;32m----> 1\u001b[0;31m \u001b[0ma\u001b[0m\u001b[0;34m=\u001b[0m\u001b[0miter\u001b[0m\u001b[0;34m(\u001b[0m\u001b[0;36m5\u001b[0m\u001b[0;34m)\u001b[0m\u001b[0;34m\u001b[0m\u001b[0;34m\u001b[0m\u001b[0m\n\u001b[0m",
            "\u001b[0;31mTypeError\u001b[0m: 'int' object is not iterable"
          ]
        }
      ]
    },
    {
      "cell_type": "markdown",
      "metadata": {
        "id": "mOZ48ScH_s6h"
      },
      "source": [
        "****NOTE: Make Sure in order to make anything object iterator first it should be iterable****"
      ]
    },
    {
      "cell_type": "code",
      "metadata": {
        "id": "VyRfkKJS_s6h",
        "outputId": "ada4299b-fbda-4cf6-e02d-af3745f753eb"
      },
      "source": [
        "lis=iter(\"Akshay\")\n",
        "for i in range(len(\"Akshay\")):\n",
        "  print(next(lis))"
      ],
      "execution_count": null,
      "outputs": [
        {
          "output_type": "stream",
          "text": [
            "A\n",
            "k\n",
            "s\n",
            "h\n",
            "a\n",
            "y\n"
          ],
          "name": "stdout"
        }
      ]
    },
    {
      "cell_type": "code",
      "metadata": {
        "id": "LdYMfixL_s6h",
        "outputId": "37448396-6326-4828-c46a-688acfc33324"
      },
      "source": [
        "a=range(0,4)\n",
        "a"
      ],
      "execution_count": null,
      "outputs": [
        {
          "output_type": "execute_result",
          "data": {
            "text/plain": [
              "range(0, 4)"
            ]
          },
          "metadata": {
            "tags": []
          },
          "execution_count": 127
        }
      ]
    },
    {
      "cell_type": "code",
      "metadata": {
        "id": "9HLxmBb-_s6h",
        "outputId": "94654c94-5854-4336-90fc-b14eb155682d"
      },
      "source": [
        "next(a)"
      ],
      "execution_count": null,
      "outputs": [
        {
          "output_type": "error",
          "ename": "TypeError",
          "evalue": "'range' object is not an iterator",
          "traceback": [
            "\u001b[0;31m---------------------------------------------------------------------------\u001b[0m",
            "\u001b[0;31mTypeError\u001b[0m                                 Traceback (most recent call last)",
            "\u001b[0;32m<ipython-input-128-15841f3f11d4>\u001b[0m in \u001b[0;36m<module>\u001b[0;34m\u001b[0m\n\u001b[0;32m----> 1\u001b[0;31m \u001b[0mnext\u001b[0m\u001b[0;34m(\u001b[0m\u001b[0ma\u001b[0m\u001b[0;34m)\u001b[0m\u001b[0;34m\u001b[0m\u001b[0;34m\u001b[0m\u001b[0m\n\u001b[0m",
            "\u001b[0;31mTypeError\u001b[0m: 'range' object is not an iterator"
          ]
        }
      ]
    },
    {
      "cell_type": "code",
      "metadata": {
        "id": "NrHw_zI3_s6h",
        "outputId": "60f77e99-f1ce-4c6a-85d7-9ead763030c4"
      },
      "source": [
        "itr=iter(range(0,4))\n",
        "print(type(itr))\n",
        "for i in itr:\n",
        "  print(i)"
      ],
      "execution_count": null,
      "outputs": [
        {
          "output_type": "stream",
          "text": [
            "0\n",
            "1\n",
            "2\n",
            "3\n"
          ],
          "name": "stdout"
        }
      ]
    },
    {
      "cell_type": "markdown",
      "metadata": {
        "id": "PpdfTWqU_s6h"
      },
      "source": [
        "#### NOTE: making generator object using yield"
      ]
    },
    {
      "cell_type": "code",
      "metadata": {
        "id": "BCUsma4W_s6h"
      },
      "source": [
        "#generator\n",
        "def genCube(n):\n",
        "  for x in range(n):\n",
        "    yield x**3\n",
        "\n",
        "#yield is used to generator type of object when we dont wnat to allocate memory at the same time"
      ],
      "execution_count": 1,
      "outputs": []
    },
    {
      "cell_type": "code",
      "metadata": {
        "id": "5OoaYw2R_s6h"
      },
      "source": [
        "def test_gen():\n",
        "  for i in range(3):\n",
        "    yield i**2"
      ],
      "execution_count": 2,
      "outputs": []
    },
    {
      "cell_type": "code",
      "metadata": {
        "id": "-618t-AN_s6h",
        "colab": {
          "base_uri": "https://localhost:8080/"
        },
        "outputId": "87f87b7f-234a-4158-945c-f9286de90365"
      },
      "source": [
        "gen=test_gen()\n",
        "type(gen)"
      ],
      "execution_count": 3,
      "outputs": [
        {
          "output_type": "execute_result",
          "data": {
            "text/plain": [
              "generator"
            ]
          },
          "metadata": {
            "tags": []
          },
          "execution_count": 3
        }
      ]
    },
    {
      "cell_type": "code",
      "metadata": {
        "id": "6XsuFfbh_s6i",
        "colab": {
          "base_uri": "https://localhost:8080/"
        },
        "outputId": "d4458f4b-e7cb-43d7-c5b8-448616be8163"
      },
      "source": [
        "print(gen)"
      ],
      "execution_count": 4,
      "outputs": [
        {
          "output_type": "stream",
          "text": [
            "<generator object test_gen at 0x7f66383e4570>\n"
          ],
          "name": "stdout"
        }
      ]
    },
    {
      "cell_type": "code",
      "metadata": {
        "id": "aDhD2jEA_s6i",
        "colab": {
          "base_uri": "https://localhost:8080/"
        },
        "outputId": "1a46a753-ea1b-4a1e-a391-79572d24e0fe"
      },
      "source": [
        "for i in gen:\n",
        "  print(i)"
      ],
      "execution_count": 5,
      "outputs": [
        {
          "output_type": "stream",
          "text": [
            "0\n",
            "1\n",
            "4\n"
          ],
          "name": "stdout"
        }
      ]
    },
    {
      "cell_type": "markdown",
      "metadata": {
        "id": "w-xaFp5E_s6i"
      },
      "source": [
        "### Swapping"
      ]
    },
    {
      "cell_type": "code",
      "metadata": {
        "id": "jLQod58v_s6i",
        "outputId": "5521c1bd-bb09-4aa4-d0f5-9c039460cd7b"
      },
      "source": [
        "a,b,c,numbers=5,6,7,[1,2,3,3]\n",
        "print(a)\n",
        "print(b)\n",
        "print(c)\n",
        "print(numbers)"
      ],
      "execution_count": null,
      "outputs": [
        {
          "output_type": "stream",
          "text": [
            "5\n",
            "6\n",
            "7\n",
            "[1, 2, 3, 3]\n"
          ],
          "name": "stdout"
        }
      ]
    },
    {
      "cell_type": "code",
      "metadata": {
        "id": "JrCPlNzB_s6i"
      },
      "source": [
        "def genFibonacci(n):\n",
        "  a=1\n",
        "  b=1\n",
        "  for i in range(n):\n",
        "    yield a\n",
        "    a,b=b,a+b"
      ],
      "execution_count": 6,
      "outputs": []
    },
    {
      "cell_type": "code",
      "metadata": {
        "id": "J_WW7Y-h_s6i",
        "colab": {
          "base_uri": "https://localhost:8080/"
        },
        "outputId": "18d0d5aa-36c7-4716-d404-4c926dd11503"
      },
      "source": [
        "for i in genFibonacci(8):\n",
        "  print(i)"
      ],
      "execution_count": 7,
      "outputs": [
        {
          "output_type": "stream",
          "text": [
            "1\n",
            "1\n",
            "2\n",
            "3\n",
            "5\n",
            "8\n",
            "13\n",
            "21\n"
          ],
          "name": "stdout"
        }
      ]
    },
    {
      "cell_type": "markdown",
      "metadata": {
        "id": "54OyNhhG_s6i"
      },
      "source": [
        "### formatted String like positional parameter :-"
      ]
    },
    {
      "cell_type": "code",
      "metadata": {
        "id": "2vRjJrfx_s6i"
      },
      "source": [
        "#positional \n",
        "#and keyword argument (we need to pass key + value in the function in case of kwargs)\n",
        "def greeting(name,age):\n",
        "  print('my name is {} and my age is {}'.format(name,age))"
      ],
      "execution_count": 8,
      "outputs": []
    },
    {
      "cell_type": "code",
      "metadata": {
        "id": "IFywkDoQ_s6i",
        "colab": {
          "base_uri": "https://localhost:8080/"
        },
        "outputId": "d39fc961-62d2-4acb-f6af-e994f1a651f7"
      },
      "source": [
        "greeting(\"Akshay\",22)"
      ],
      "execution_count": 9,
      "outputs": [
        {
          "output_type": "stream",
          "text": [
            "my name is Akshay and my age is 22\n"
          ],
          "name": "stdout"
        }
      ]
    },
    {
      "cell_type": "code",
      "metadata": {
        "id": "k-_eqELz_s6j"
      },
      "source": [
        "#positional \n",
        "#and keyword argument (we need to pass key + value in the function in case of kwargs)\n",
        "def greeting(name,age=20):\n",
        "  print(f'my name is {name} and my age is {age}')"
      ],
      "execution_count": 15,
      "outputs": []
    },
    {
      "cell_type": "code",
      "metadata": {
        "id": "NKBEHLXz_s6j",
        "colab": {
          "base_uri": "https://localhost:8080/"
        },
        "outputId": "25385d96-5b20-4457-b446-7becfeaab9a6"
      },
      "source": [
        "greeting('abcd',27)"
      ],
      "execution_count": 16,
      "outputs": [
        {
          "output_type": "stream",
          "text": [
            "my name is abcd and my age is 27\n"
          ],
          "name": "stdout"
        }
      ]
    },
    {
      "cell_type": "code",
      "metadata": {
        "id": "C551p1ND_s6j"
      },
      "source": [
        "#more on *args and **kwargs"
      ],
      "execution_count": null,
      "outputs": []
    },
    {
      "cell_type": "code",
      "metadata": {
        "id": "eH-rSkxN_s6j"
      },
      "source": [
        "def greetings(*args,**kwargs):\n",
        "  print(args)\n",
        "  print(kwargs)"
      ],
      "execution_count": 12,
      "outputs": []
    },
    {
      "cell_type": "code",
      "metadata": {
        "id": "WQxXH0B1_s6j",
        "outputId": "93f514f4-be5d-4acc-cf0b-9d3377924a22"
      },
      "source": [
        "greetings(\"abcd\",\"kummar\",age=20,dob=1990)"
      ],
      "execution_count": null,
      "outputs": [
        {
          "output_type": "stream",
          "text": [
            "('abcd', 'kummar')\n",
            "{'age': 20, 'dob': 1990}\n"
          ],
          "name": "stdout"
        }
      ]
    },
    {
      "cell_type": "markdown",
      "metadata": {
        "id": "dnSULvxJ_s6j"
      },
      "source": [
        "### OOPs Concept"
      ]
    },
    {
      "cell_type": "code",
      "metadata": {
        "id": "FVnxoySF_s6j",
        "colab": {
          "base_uri": "https://localhost:8080/"
        },
        "outputId": "2c0a7e80-2795-4293-ca48-44dbf05f7b38"
      },
      "source": [
        "#bad practice style of creation of objects\n",
        "class Person:\n",
        "  pass\n",
        "sudh_joe=Person()\n",
        "sudh_joe.name=\"sudh\"\n",
        "sudh_joe.surname='kumar'\n",
        "sudh_joe.year_of_bearth=1998\n",
        "\n",
        "aks=Person()\n",
        "aks.name=\"Akash\"\n",
        "aks.surname=\"Verma\"\n",
        "aks.yob=2012\n",
        "aks.age=8\n",
        "\n",
        "\n",
        "print(sudh_joe)\n",
        "print(\"%s %s was born in %d.\" %(sudh_joe.name,sudh_joe.surname,sudh_joe.year_of_bearth) )"
      ],
      "execution_count": 17,
      "outputs": [
        {
          "output_type": "stream",
          "text": [
            "<__main__.Person object at 0x7f6637b49ba8>\n",
            "sudh kumar was born in 1998.\n"
          ],
          "name": "stdout"
        }
      ]
    },
    {
      "cell_type": "code",
      "metadata": {
        "id": "yFjCbhmy_s6k",
        "colab": {
          "base_uri": "https://localhost:8080/"
        },
        "outputId": "295fdb48-dc02-4021-fecc-3f9978f68ab7"
      },
      "source": [
        "#good style of creating the objects of a class\n",
        "class Person:\n",
        "  def __init__(a,name,surname,year):\n",
        "    a.name=name\n",
        "    a.sur=surname\n",
        "    a.year=year\n",
        "\n",
        "  def age(a, current_year):\n",
        "    return current_year-a.year\n",
        "  \n",
        "  def UPPER_String(a):\n",
        "    return a.name.upper()\n",
        "  def __str__(a):\n",
        "    return \"%s %s was born in %d.\" % (a.name,a.sur,a.year)\n",
        "  \n",
        "\n",
        "alex=Person('Alex',\"jattinx\",1958)\n",
        "print(alex)\n",
        "print(alex.age(2020))  \n",
        "print(alex.UPPER_String())\n",
        "print(alex.__dict__)"
      ],
      "execution_count": 19,
      "outputs": [
        {
          "output_type": "stream",
          "text": [
            "Alex jattinx was born in 1958.\n",
            "62\n",
            "ALEX\n",
            "{'name': 'Alex', 'sur': 'jattinx', 'year': 1958}\n"
          ],
          "name": "stdout"
        }
      ]
    },
    {
      "cell_type": "markdown",
      "metadata": {
        "id": "dE9P5gqa_s6k"
      },
      "source": [
        "**Protect your abstraction**\n",
        "* _(single) : protected\n",
        "* __(private): private\n",
        "* everything else is public"
      ]
    },
    {
      "cell_type": "code",
      "metadata": {
        "id": "6zS-mlYo_s6k",
        "colab": {
          "base_uri": "https://localhost:8080/"
        },
        "outputId": "532f6d3e-1d96-4f01-f6c9-b9a5730763af"
      },
      "source": [
        "class Person:\n",
        "  def __init__(self,name,surname,year):\n",
        "    self._name=name\n",
        "    self._sur=surname\n",
        "    self._year=year\n",
        "\n",
        "  def age(self, current_year):\n",
        "    return current_year-self._year\n",
        "  \n",
        "  def UPPER_String(self):\n",
        "    return a.name.upper()\n",
        "  def __str__(self):\n",
        "    return \"%s %s was born in %d.\" % (self._name,self._sur,self._year)\n",
        "  \n",
        "\n",
        "alex=Person('Alex','vateran',1994)\n",
        "print(alex)\n",
        "print(alex._name)\n",
        "alex.__dict__ # check how they store in memory "
      ],
      "execution_count": 20,
      "outputs": [
        {
          "output_type": "stream",
          "text": [
            "Alex vateran was born in 1994.\n",
            "Alex\n"
          ],
          "name": "stdout"
        },
        {
          "output_type": "execute_result",
          "data": {
            "text/plain": [
              "{'_name': 'Alex', '_sur': 'vateran', '_year': 1994}"
            ]
          },
          "metadata": {
            "tags": []
          },
          "execution_count": 20
        }
      ]
    },
    {
      "cell_type": "code",
      "metadata": {
        "id": "a7nOV2FO_s6k",
        "colab": {
          "base_uri": "https://localhost:8080/"
        },
        "outputId": "521dccc8-1ee3-402c-ed6c-41be7ec9442b"
      },
      "source": [
        "class Person:\n",
        "  def __init__(self,name,surname,year):\n",
        "    self.__name=name\n",
        "    self.__sur=surname\n",
        "    self.__year=year\n",
        "\n",
        "  def age(self, current_year):\n",
        "    return current_year-self.__year\n",
        "  \n",
        "  def __str__(self):\n",
        "    return \"%s %s was born in %d.\" % (self.__name,self.__sur,self.__year)\n",
        "\n",
        "\n",
        "alex=Person('Alex','vateran',1994)\n",
        "print(alex)\n",
        "#print(alex.__name)\n",
        "alex.__dict__ # check how they store in memory "
      ],
      "execution_count": 21,
      "outputs": [
        {
          "output_type": "stream",
          "text": [
            "Alex vateran was born in 1994.\n"
          ],
          "name": "stdout"
        },
        {
          "output_type": "execute_result",
          "data": {
            "text/plain": [
              "{'_Person__name': 'Alex', '_Person__sur': 'vateran', '_Person__year': 1994}"
            ]
          },
          "metadata": {
            "tags": []
          },
          "execution_count": 21
        }
      ]
    },
    {
      "cell_type": "markdown",
      "metadata": {
        "id": "qTvkYni0_s6k"
      },
      "source": [
        "***In terms of some notation we will be able do abstraction in python.***"
      ]
    },
    {
      "cell_type": "markdown",
      "metadata": {
        "id": "MA1dHkUS_s6k"
      },
      "source": [
        "**Inheritence**"
      ]
    },
    {
      "cell_type": "code",
      "metadata": {
        "id": "a9rWus_b_s6k",
        "outputId": "5a169f8c-ee3e-4bc6-f90d-065300972942"
      },
      "source": [
        "class Student(Person):\n",
        "  def __init__(self,stu_id,*args):\n",
        "    super(Student,self).__init__(*args)\n",
        "    self.stu_id=stu_id\n",
        "\n",
        "charlie=Student(101,'aks','kumar',1960)\n",
        "print(charlie.stu_id)\n",
        "print(type(charlie))\n",
        "print(isinstance(charlie,Person))\n",
        "print(isinstance(charlie,object))\n",
        "print(charlie.name)\n",
        "print(charlie.age(2014))\n",
        "print(charlie.stu_id)\n",
        "print(charlie.UPPER_String())\n",
        "print(charlie.sur)\n",
        "print(charlie.__dict__)"
      ],
      "execution_count": null,
      "outputs": [
        {
          "output_type": "stream",
          "text": [
            "101\n",
            "<class '__main__.Student'>\n",
            "True\n",
            "True\n",
            "aks\n",
            "54\n",
            "101\n",
            "AKS\n",
            "kumar\n",
            "{'name': 'aks', 'sur': 'kumar', 'year': 1960, 'stu_id': 101}\n"
          ],
          "name": "stdout"
        }
      ]
    },
    {
      "cell_type": "code",
      "metadata": {
        "id": "uAlyN8Ei_s6k",
        "outputId": "ab4d17b4-e711-431c-fa81-58ba42e89273"
      },
      "source": [
        "#multiplie inheritance\n",
        "class A:\n",
        "  def __init__(self,x,y):\n",
        "    self.x=x\n",
        "    self.y=y\n",
        "\n",
        "  def test(self):\n",
        "    print(\"class A method\")\n",
        "  \n",
        "\n",
        "class B:\n",
        "  def __init__(self,a,b):\n",
        "    self.a=a\n",
        "    self.b=b\n",
        "\n",
        "  def test(self):\n",
        "    print(\"class B method\")\n",
        "\n",
        "class C(A,B):\n",
        "  \n",
        "  obja=A(\"ajs\",21)\n",
        "  objb=B(\"awd\",20)\n",
        "  obja.test()\n",
        "  objb.test()"
      ],
      "execution_count": null,
      "outputs": [
        {
          "output_type": "stream",
          "text": [
            "class A method\n",
            "class B method\n"
          ],
          "name": "stdout"
        }
      ]
    },
    {
      "cell_type": "code",
      "metadata": {
        "id": "NwK3f6kz_s6l",
        "outputId": "bb42d6d1-15eb-49a6-b5b7-a41978f02814"
      },
      "source": [
        "#method overriding\n",
        "class Student(Person):\n",
        "  def __init__(self,stu_id,*args):\n",
        "    super(Student,self).__init__(*args)\n",
        "    self.stu_id=stu_id\n",
        "  \n",
        "  def __str__(self):\n",
        "    return super(Student,self).__str__()+\"and has is is %d\" % self.stu_id\n",
        "\n",
        "\n",
        "charlie=Student(101,'aks','kumar',1960)\n",
        "print(charlie)\n",
        "print(charlie.__dict__)"
      ],
      "execution_count": null,
      "outputs": [
        {
          "output_type": "stream",
          "text": [
            "aks kumar was born in 1960.and has is is 101\n",
            "{'name': 'aks', 'sur': 'kumar', 'year': 1960, 'stu_id': 101}\n"
          ],
          "name": "stdout"
        }
      ]
    },
    {
      "cell_type": "markdown",
      "metadata": {
        "id": "9c_6b1U__s6l"
      },
      "source": [
        "* Encapsulation: Hiding the actual implementation black box for a method just know the use of it, thats it!\n",
        "\n",
        "* So encapsulation also a kind of reusability concept\n",
        "\n",
        "* 1.Composite Encapsulation we just use those methods or classes which is developed by someone by assuming faith of them"
      ]
    },
    {
      "cell_type": "code",
      "metadata": {
        "id": "pmSOvNiX_s6l",
        "outputId": "7de3f69b-ea63-4154-e920-a8cdd6069d37"
      },
      "source": [
        "class Tyres:\n",
        "    def __init__(self, branch, belted_bias, opt_pressure):\n",
        "        self.branch = branch\n",
        "        self.belted_bias = belted_bias\n",
        "        self.opt_pressure = opt_pressure\n",
        "        \n",
        "    def __str__(self):\n",
        "        return (\"Tyres: \\n \\tBranch: \" + self.branch +\n",
        "               \"\\n \\tBelted-bias: \" + str(self.belted_bias) + \n",
        "               \"\\n \\tOptimal pressure: \" + str(self.opt_pressure))\n",
        "        \n",
        "class Engine:\n",
        "    def __init__(self, fuel_type, noise_level):\n",
        "        self.fuel_type = fuel_type\n",
        "        self.noise_level = noise_level\n",
        "        \n",
        "    def __str__(self):\n",
        "        return (\"Engine: \\n \\tFuel type: \" + self.fuel_type +\n",
        "                \"\\n \\tNoise level:\" + str(self.noise_level))\n",
        "        \n",
        "class Body:\n",
        "    def __init__(self, size):\n",
        "        self.size = size\n",
        "        \n",
        "    def __str__(self):\n",
        "        return \"Body:\\n \\tSize: \" + self.size\n",
        "        \n",
        "class Car:\n",
        "    def __init__(self, tyres, engine, body):\n",
        "        self.tyres = tyres\n",
        "        self.engine = engine\n",
        "        self.body = body\n",
        "        \n",
        "    def __str__(self):\n",
        "        return str(self.tyres) + \"\\n\" + str(self.engine) + \"\\n\" + str(self.body)\n",
        "\n",
        "        \n",
        "t = Tyres('Pirelli', True, 2.0)\n",
        "e = Engine('Diesel', 3)\n",
        "b = Body('Medium')\n",
        "c = Car(t, e, b)\n",
        "print(c)"
      ],
      "execution_count": null,
      "outputs": [
        {
          "output_type": "stream",
          "text": [
            "Tyres: \n",
            " \tBranch: Pirelli\n",
            " \tBelted-bias: True\n",
            " \tOptimal pressure: 2.0\n",
            "Engine: \n",
            " \tFuel type: Diesel\n",
            " \tNoise level:3\n",
            "Body:\n",
            " \tSize: Medium\n"
          ],
          "name": "stdout"
        }
      ]
    },
    {
      "cell_type": "code",
      "metadata": {
        "id": "HK77r2Nu_s6l",
        "outputId": "f7f85151-6680-4cf1-f08c-1c850edaf4bb"
      },
      "source": [
        "#Dynamic Extension:\n",
        "class Dog:\n",
        "  def __init__(self,name,year,breed):\n",
        "    self.name=name\n",
        "    self.year_of_birth=year\n",
        "    self.breed=breed\n",
        "\n",
        "  def __str__(self):\n",
        "    return \"%s is a %s born in %d.\" % (self.name,self.breed,self.year_of_birth)\n",
        "\n",
        "kud=Dog(\"Kudarvajka\",2002,\"pitbull\")\n",
        "print(kud)"
      ],
      "execution_count": null,
      "outputs": [
        {
          "output_type": "stream",
          "text": [
            "Kudarvajka is a pitbull born in 2002.\n"
          ],
          "name": "stdout"
        }
      ]
    },
    {
      "cell_type": "code",
      "metadata": {
        "id": "jUs06j_7_s6l",
        "outputId": "d1bab790-9d6d-4a50-b654-b3edf4d3f39e"
      },
      "source": [
        "class Student:\n",
        "  def __init__(self,anagraphic,stu_id):\n",
        "    self.anagraphic=anagraphic\n",
        "    self.stu_id=stu_id\n",
        "\n",
        "  def __str__(self):\n",
        "    return str(self.anagraphic) + \" Student id: %d\" % self.stu_id\n",
        "\n",
        "\n",
        "alex_student=Student(\"aks\",101)\n",
        "kud_stu= Student(kud,102)\n",
        "\n",
        "print(alex_student)\n",
        "print(kud_stu)"
      ],
      "execution_count": null,
      "outputs": [
        {
          "output_type": "stream",
          "text": [
            "aks Student id: 101\n",
            "Kudarvajka is a pitbull born in 2002. Student id: 102\n"
          ],
          "name": "stdout"
        }
      ]
    },
    {
      "cell_type": "markdown",
      "metadata": {
        "id": "g0ExfbyY_s6l"
      },
      "source": [
        "#### Polymorphism and Duck Typing"
      ]
    },
    {
      "cell_type": "code",
      "metadata": {
        "id": "4s58XIXZ_s6m",
        "outputId": "651f3838-57b9-44ad-9ac6-faaab291bc63"
      },
      "source": [
        "def test_poly(a,b):\n",
        "  return a + b\n",
        "\n",
        "print(test_poly(2,7))\n",
        "print(test_poly('Aks','kumar'))\n",
        "print(test_poly([2,3,4,5],[-1,-2]))"
      ],
      "execution_count": null,
      "outputs": [
        {
          "output_type": "stream",
          "text": [
            "9\n",
            "Akskumar\n",
            "[2, 3, 4, 5, -1, -2]\n"
          ],
          "name": "stdout"
        }
      ]
    },
    {
      "cell_type": "markdown",
      "metadata": {
        "id": "tYMQFPjw_s6m"
      },
      "source": [
        "## Exception Handling"
      ]
    },
    {
      "cell_type": "code",
      "metadata": {
        "id": "0ZlU_oNr_s6m",
        "outputId": "faadb79a-d37f-4b56-f292-692a9ec97fbc"
      },
      "source": [
        "f=open('trgyyec.txt')"
      ],
      "execution_count": null,
      "outputs": [
        {
          "output_type": "error",
          "ename": "FileNotFoundError",
          "evalue": "[Errno 2] No such file or directory: 'trgyyec.txt'",
          "traceback": [
            "\u001b[0;31m---------------------------------------------------------------------------\u001b[0m",
            "\u001b[0;31mFileNotFoundError\u001b[0m                         Traceback (most recent call last)",
            "\u001b[0;32m<ipython-input-53-6aa541290605>\u001b[0m in \u001b[0;36m<module>\u001b[0;34m\u001b[0m\n\u001b[0;32m----> 1\u001b[0;31m \u001b[0mf\u001b[0m\u001b[0;34m=\u001b[0m\u001b[0mopen\u001b[0m\u001b[0;34m(\u001b[0m\u001b[0;34m'trgyyec.txt'\u001b[0m\u001b[0;34m)\u001b[0m\u001b[0;34m\u001b[0m\u001b[0;34m\u001b[0m\u001b[0m\n\u001b[0m",
            "\u001b[0;31mFileNotFoundError\u001b[0m: [Errno 2] No such file or directory: 'trgyyec.txt'"
          ]
        }
      ]
    },
    {
      "cell_type": "markdown",
      "metadata": {
        "id": "Z9GG43xm_s6m"
      },
      "source": [
        "* **we need to handle it** "
      ]
    },
    {
      "cell_type": "code",
      "metadata": {
        "id": "ZTx60pIt_s6m",
        "outputId": "6b60e6d1-fd19-4fec-c779-ae16736cb5e5"
      },
      "source": [
        "try:\n",
        "  f=open('test.txt')\n",
        "  print(f.read())\n",
        "\n",
        "except IOError:\n",
        "  print('file not found')\n",
        "\n",
        "else:\n",
        "  print('content written successfully')\n",
        "  f.close()"
      ],
      "execution_count": null,
      "outputs": [
        {
          "output_type": "stream",
          "text": [
            "this is good initiative\n",
            "content written successfully\n"
          ],
          "name": "stdout"
        }
      ]
    },
    {
      "cell_type": "code",
      "metadata": {
        "id": "abN4DlWY_s6m",
        "outputId": "7ec9a52d-a82d-4e43-f80b-cf4130896047"
      },
      "source": [
        "try:\n",
        "  f=open('test.txt','w') #permission with write\n",
        "  print(f.write(\"not go fast\"))\n",
        "\n",
        "except IOError:\n",
        "  print('file not found')\n",
        "\n",
        "else:\n",
        "  print('content written successfully')\n",
        "  f.close()"
      ],
      "execution_count": null,
      "outputs": [
        {
          "output_type": "stream",
          "text": [
            "11\n",
            "content written successfully\n"
          ],
          "name": "stdout"
        }
      ]
    },
    {
      "cell_type": "markdown",
      "metadata": {
        "id": "DuMBqyHS_s6n"
      },
      "source": [
        "* **else only executed when try successfully executed just like for-else statement**"
      ]
    },
    {
      "cell_type": "markdown",
      "metadata": {
        "id": "wiFmum5f_s6n"
      },
      "source": [
        "* **Use of except: also work when we dont know about exception**"
      ]
    },
    {
      "cell_type": "code",
      "metadata": {
        "id": "dJxtx9Zb_s6n"
      },
      "source": [
        "def test():\n",
        "  try:\n",
        "    val=int(input(\"enter integer\"))\n",
        "  except:\n",
        "    print(\"looks like you didn't input integer\")\n",
        "  else:\n",
        "    print(\"successfully executed\")\n",
        "  finally:\n",
        "    print('i am finally, closed all the resources')\n",
        "  try:\n",
        "    print(\"value:\",val)\n",
        "  except:\n",
        "    print('not consist value')"
      ],
      "execution_count": null,
      "outputs": []
    },
    {
      "cell_type": "markdown",
      "metadata": {
        "id": "C7KCssc5_s6n"
      },
      "source": [
        "* **Compare both the below output**"
      ]
    },
    {
      "cell_type": "code",
      "metadata": {
        "id": "h26MuwFT_s6n",
        "outputId": "ee3e805c-c863-41df-8383-15ea14415fe7"
      },
      "source": [
        "test()"
      ],
      "execution_count": null,
      "outputs": [
        {
          "output_type": "stream",
          "text": [
            "enter integerdhi3\n",
            "looks like you didn't input integer\n",
            "i am finally, closed all the resources\n",
            "not consist value\n"
          ],
          "name": "stdout"
        }
      ]
    },
    {
      "cell_type": "code",
      "metadata": {
        "id": "1UbJsIvQ_s6n",
        "outputId": "c746b586-4702-45f9-c854-2212208ae196"
      },
      "source": [
        "test()"
      ],
      "execution_count": null,
      "outputs": [
        {
          "output_type": "stream",
          "text": [
            "enter integer45\n",
            "successfully executed\n",
            "i am finally, closed all the resources\n",
            "value: 45\n"
          ],
          "name": "stdout"
        }
      ]
    },
    {
      "cell_type": "code",
      "metadata": {
        "id": "8cZB6YC5_s6n"
      },
      "source": [
        "#best example\n",
        "def test1():\n",
        "  while True:\n",
        "      try:\n",
        "        val=int(input(\"enter integer: \"))\n",
        "      except:\n",
        "        print(\"looks like you didn't input integer, please enter correct input again\")\n",
        "        continue\n",
        "      else:\n",
        "        print('yep,  we got an integer')\n",
        "        break\n",
        "      finally:\n",
        "        print('i am finally, and closed all resources')\n"
      ],
      "execution_count": null,
      "outputs": []
    },
    {
      "cell_type": "code",
      "metadata": {
        "id": "LcLrubS8_s6n",
        "outputId": "d6f58a7b-ffb7-428a-98e0-0ca3776e2fec"
      },
      "source": [
        "test1()"
      ],
      "execution_count": null,
      "outputs": [
        {
          "output_type": "stream",
          "text": [
            "enter integer: udhie\n",
            "looks like you didn't input integer, please enter correct input again\n",
            "i am finally, and closed all resources\n",
            "enter integer: etygr\n",
            "looks like you didn't input integer, please enter correct input again\n",
            "i am finally, and closed all resources\n",
            "enter integer: 23\n",
            "yep,  we got an integer\n",
            "i am finally, and closed all resources\n"
          ],
          "name": "stdout"
        }
      ]
    },
    {
      "cell_type": "code",
      "metadata": {
        "id": "dzDk7Vf9_s6n"
      },
      "source": [
        "#another best example like tossing game chances\n",
        "def test2():\n",
        "  count=5\n",
        "  while count >= 1:\n",
        "      try:\n",
        "        val=int(input(\"enter integer: \"))\n",
        "      except:\n",
        "         count -= 1\n",
        "         print(\"looks like you didn't input integer, please enter correct input again, you have left with \",count,\"chances now\")\n",
        "         continue\n",
        "      else:\n",
        "        print('yep,  we got an integer')\n",
        "        break\n",
        "      finally:\n",
        "        print('i am finally, and closed all resources')\n",
        "  if(count==0):\n",
        "    print('all chances gone, please try aftersome time')"
      ],
      "execution_count": null,
      "outputs": []
    },
    {
      "cell_type": "code",
      "metadata": {
        "id": "y8FqOU1b_s6o",
        "outputId": "4a0bda51-a39e-41a9-a0ad-7363c2873db8"
      },
      "source": [
        "test2()"
      ],
      "execution_count": null,
      "outputs": [
        {
          "output_type": "stream",
          "text": [
            "enter integer: budhie\n",
            "looks like you didn't input integer, please enter correct input again, you have left with  4 chances now\n",
            "i am finally, and closed all resources\n",
            "enter integer: dbi3jee\n",
            "looks like you didn't input integer, please enter correct input again, you have left with  3 chances now\n",
            "i am finally, and closed all resources\n",
            "enter integer: 21\n",
            "yep,  we got an integer\n",
            "i am finally, and closed all resources\n"
          ],
          "name": "stdout"
        }
      ]
    },
    {
      "cell_type": "markdown",
      "metadata": {
        "id": "ok3W5Ytn_s6o"
      },
      "source": [
        "* **Use except only when doesn't know about specific error, then use only at the end of all except blocks**"
      ]
    },
    {
      "cell_type": "code",
      "metadata": {
        "id": "PzV6VaB9_s6o",
        "outputId": "4a64342c-89e4-48e9-d7f0-39722e4cb8a0"
      },
      "source": [
        "#multiple except through one try\n",
        "def Example():\n",
        "  try:\n",
        "    val=int(input(\"enter integer\"))\n",
        "  except ValueError:\n",
        "    print('Value Error')\n",
        "  except:\n",
        "    print(\"looks like you didn't input integer\")\n",
        "  else:\n",
        "    print(\"successfully executed\")\n",
        "  finally:\n",
        "    print('i am finally, closed all the resources')\n",
        "  try:\n",
        "    print(\"value:\",val)\n",
        "  except:\n",
        "    print('not consist value')\n",
        "\n",
        "    \n",
        "Example()\n"
      ],
      "execution_count": null,
      "outputs": [
        {
          "output_type": "stream",
          "text": [
            "enter integervygw\n",
            "Value Error\n",
            "i am finally, closed all the resources\n",
            "not consist value\n"
          ],
          "name": "stdout"
        }
      ]
    },
    {
      "cell_type": "code",
      "metadata": {
        "id": "ram6SztK_s6o"
      },
      "source": [
        "def askint():\n",
        "        try:\n",
        "            val = int(input(\"Please enter an integer: \"))\n",
        "        except:\n",
        "            print(\"Looks like you did not enter an integer!\")\n",
        "            try:\n",
        "                val = int(input(\"Try again-Please enter an integer: \"))\n",
        "                print(\"your entered value: \",val)\n",
        "            except:\n",
        "                print(\"handle it: \")\n",
        "        finally:\n",
        "            print(\"Finally, I executed!\")"
      ],
      "execution_count": null,
      "outputs": []
    },
    {
      "cell_type": "code",
      "metadata": {
        "id": "PDilamaV_s6o",
        "outputId": "80bf69da-b8c5-4618-8d64-9af6ad580189"
      },
      "source": [
        "askint()"
      ],
      "execution_count": null,
      "outputs": [
        {
          "output_type": "stream",
          "text": [
            "Please enter an integer: huirurhr\n",
            "Looks like you did not enter an integer!\n",
            "Try again-Please enter an integer: 45\n",
            "your entered value:  45\n",
            "Finally, I executed!\n"
          ],
          "name": "stdout"
        }
      ]
    },
    {
      "cell_type": "markdown",
      "metadata": {
        "id": "T0vNnlTX_s6p"
      },
      "source": [
        "## raise exception"
      ]
    },
    {
      "cell_type": "code",
      "metadata": {
        "id": "JlZ92dwb_s6p",
        "outputId": "095d00ba-0db9-43fa-fb90-cd28af411187"
      },
      "source": [
        "try:\n",
        "    num = int(input(\"Enter a positive integer:\"))\n",
        "    if num <= 0:\n",
        "        raise ValueError(\"Error Oops!: Entered negative number\")\n",
        "except ValueError as e:\n",
        "    print(e)"
      ],
      "execution_count": null,
      "outputs": [
        {
          "output_type": "stream",
          "text": [
            "Enter a positive integer:-8\n",
            "Error Oops!: Entered negative number\n"
          ],
          "name": "stdout"
        }
      ]
    },
    {
      "cell_type": "markdown",
      "metadata": {
        "id": "eLxH12dA_s6p"
      },
      "source": [
        "## File Handling Concept"
      ]
    },
    {
      "cell_type": "markdown",
      "metadata": {
        "id": "togUXdSo_s6p"
      },
      "source": [
        "* 1.Creating File* \n",
        "* 2.read() \n",
        "* 3.readlines() \n",
        "* 4.seek() \n",
        "* 5.WRITE| \n",
        "* 6.open(parameters) \n",
        "* 7.write() \n",
        "* 8.Iteration Over the File |StringIO|\n",
        "* 9.close()\n",
        "* 10.tell() return current position of file pointer"
      ]
    },
    {
      "cell_type": "markdown",
      "metadata": {
        "id": "Y0NSrbcj_s6p"
      },
      "source": [
        "**File magic function in order to crete a file**"
      ]
    },
    {
      "cell_type": "markdown",
      "metadata": {
        "id": "Yh9jlVKm_s6p"
      },
      "source": [
        "### creating file"
      ]
    },
    {
      "cell_type": "code",
      "metadata": {
        "id": "mgt1Vret_s6p",
        "outputId": "d2ea7b39-42cf-4653-fe21-7fa9711647e6"
      },
      "source": [
        "%%writefile test.txt\n",
        "Hello, this is a quick test file,akshay leading file"
      ],
      "execution_count": null,
      "outputs": [
        {
          "output_type": "stream",
          "text": [
            "Writing test.txt\n"
          ],
          "name": "stdout"
        }
      ]
    },
    {
      "cell_type": "code",
      "metadata": {
        "id": "TvgIzkQa_s6p",
        "outputId": "e559811a-d3b0-4a7b-fb1f-eb58387bb7bf"
      },
      "source": [
        "pwd()"
      ],
      "execution_count": null,
      "outputs": [
        {
          "output_type": "execute_result",
          "data": {
            "text/plain": [
              "'/Users/akshaysingh/Desktop/Machine Learning/Python_Revision'"
            ]
          },
          "metadata": {
            "tags": []
          },
          "execution_count": 15
        }
      ]
    },
    {
      "cell_type": "markdown",
      "metadata": {
        "id": "jyXwWg06_s6q"
      },
      "source": [
        "### open file"
      ]
    },
    {
      "cell_type": "code",
      "metadata": {
        "id": "CHpz-pU8_s6q"
      },
      "source": [
        "my_file=open('test.txt')"
      ],
      "execution_count": null,
      "outputs": []
    },
    {
      "cell_type": "code",
      "metadata": {
        "id": "XghPnA69_s6q",
        "outputId": "eb9dd7d0-7cbd-4bf4-bdfb-1e5a069e5ee1"
      },
      "source": [
        "my_file"
      ],
      "execution_count": null,
      "outputs": [
        {
          "output_type": "execute_result",
          "data": {
            "text/plain": [
              "<_io.TextIOWrapper name='test.txt' mode='r' encoding='UTF-8'>"
            ]
          },
          "metadata": {
            "tags": []
          },
          "execution_count": 17
        }
      ]
    },
    {
      "cell_type": "markdown",
      "metadata": {
        "id": "NfHW1yWe_s6q"
      },
      "source": [
        "### read file"
      ]
    },
    {
      "cell_type": "code",
      "metadata": {
        "id": "-TEfVlex_s6q",
        "outputId": "fae26cd2-2748-456f-ed5d-fa12cf2dff47"
      },
      "source": [
        "my_file.read()"
      ],
      "execution_count": null,
      "outputs": [
        {
          "output_type": "execute_result",
          "data": {
            "text/plain": [
              "'Hello, this is a quick test file,akshay leading file\\n'"
            ]
          },
          "metadata": {
            "tags": []
          },
          "execution_count": 18
        }
      ]
    },
    {
      "cell_type": "code",
      "metadata": {
        "id": "u3OkzKN8_s6q",
        "outputId": "a6479bc7-8e2e-423b-971c-462c025a6634"
      },
      "source": [
        "my_file.read()"
      ],
      "execution_count": null,
      "outputs": [
        {
          "output_type": "execute_result",
          "data": {
            "text/plain": [
              "''"
            ]
          },
          "metadata": {
            "tags": []
          },
          "execution_count": 19
        }
      ]
    },
    {
      "cell_type": "markdown",
      "metadata": {
        "id": "fMobTf1M_s6q"
      },
      "source": [
        "### moving cursor in order to read a file"
      ]
    },
    {
      "cell_type": "code",
      "metadata": {
        "id": "-gSo8uuD_s6r",
        "outputId": "3780bcf1-0425-425b-884c-29dc4bf4252b"
      },
      "source": [
        "my_file.seek(12)"
      ],
      "execution_count": null,
      "outputs": [
        {
          "output_type": "execute_result",
          "data": {
            "text/plain": [
              "12"
            ]
          },
          "metadata": {
            "tags": []
          },
          "execution_count": 20
        }
      ]
    },
    {
      "cell_type": "code",
      "metadata": {
        "id": "2Khrl30W_s6r",
        "outputId": "e5d15e98-7c6a-4b5a-dc10-dd06a21d569c"
      },
      "source": [
        "my_file.read()"
      ],
      "execution_count": null,
      "outputs": [
        {
          "output_type": "execute_result",
          "data": {
            "text/plain": [
              "'is a quick test file,akshay leading file\\n'"
            ]
          },
          "metadata": {
            "tags": []
          },
          "execution_count": 21
        }
      ]
    },
    {
      "cell_type": "code",
      "metadata": {
        "id": "yxAD1nHy_s6r"
      },
      "source": [
        "#read() method with arguments\n",
        "my_file.read(4)"
      ],
      "execution_count": null,
      "outputs": []
    },
    {
      "cell_type": "code",
      "metadata": {
        "id": "aDnrQ7QT_s6r"
      },
      "source": [
        "#return current position of pointer \n",
        "f.tell()"
      ],
      "execution_count": null,
      "outputs": []
    },
    {
      "cell_type": "code",
      "metadata": {
        "id": "3da6BArn_s6r",
        "outputId": "160d9ec2-8b72-4751-ad33-4a55344bbeb3"
      },
      "source": [
        "my_file.seek(0)"
      ],
      "execution_count": null,
      "outputs": [
        {
          "output_type": "execute_result",
          "data": {
            "text/plain": [
              "0"
            ]
          },
          "metadata": {
            "tags": []
          },
          "execution_count": 22
        }
      ]
    },
    {
      "cell_type": "markdown",
      "metadata": {
        "id": "UTT_M9k5_s6r"
      },
      "source": [
        "#### readlines() method returning a list of file content"
      ]
    },
    {
      "cell_type": "code",
      "metadata": {
        "id": "j4smJopG_s6r",
        "outputId": "8e5b7b1c-a869-4f3f-d859-894511de71a9"
      },
      "source": [
        "my_file.readlines()"
      ],
      "execution_count": null,
      "outputs": [
        {
          "output_type": "execute_result",
          "data": {
            "text/plain": [
              "['Hello, this is a quick test file,akshay leading file\\n']"
            ]
          },
          "metadata": {
            "tags": []
          },
          "execution_count": 23
        }
      ]
    },
    {
      "cell_type": "markdown",
      "metadata": {
        "id": "fzjtrC4B_s6s"
      },
      "source": [
        "### 2nd argument in open function(file permission)"
      ]
    },
    {
      "cell_type": "code",
      "metadata": {
        "id": "3ikMTWmg_s6s"
      },
      "source": [
        "myfile=open('test.txt','w+')"
      ],
      "execution_count": null,
      "outputs": []
    },
    {
      "cell_type": "code",
      "metadata": {
        "id": "TdBp1ECO_s6s",
        "outputId": "0b7e9656-be03-4579-c9a3-4fdec7a1a7a9"
      },
      "source": [
        "myfile.write(\"this is good initiative\")"
      ],
      "execution_count": null,
      "outputs": [
        {
          "output_type": "execute_result",
          "data": {
            "text/plain": [
              "23"
            ]
          },
          "metadata": {
            "tags": []
          },
          "execution_count": 25
        }
      ]
    },
    {
      "cell_type": "code",
      "metadata": {
        "id": "P5B00HK3_s6s",
        "outputId": "f27f39b4-397f-4ab7-dc37-f9e16507cc3b"
      },
      "source": [
        "myfile.seek(0)"
      ],
      "execution_count": null,
      "outputs": [
        {
          "output_type": "execute_result",
          "data": {
            "text/plain": [
              "0"
            ]
          },
          "metadata": {
            "tags": []
          },
          "execution_count": 26
        }
      ]
    },
    {
      "cell_type": "code",
      "metadata": {
        "id": "zEmWJV2__s6s",
        "outputId": "1cd36ff0-9b83-4e03-ab75-54f837e3e009"
      },
      "source": [
        "myfile.read()"
      ],
      "execution_count": null,
      "outputs": [
        {
          "output_type": "execute_result",
          "data": {
            "text/plain": [
              "'this is good initiative'"
            ]
          },
          "metadata": {
            "tags": []
          },
          "execution_count": 27
        }
      ]
    },
    {
      "cell_type": "code",
      "metadata": {
        "id": "YYP_tdQg_s6s",
        "outputId": "014940d2-6255-4e45-f47a-c0c7f404a3da"
      },
      "source": [
        "%%writefile temp.txt\n",
        "firstl line\n",
        "second line\n",
        "third line"
      ],
      "execution_count": null,
      "outputs": [
        {
          "output_type": "stream",
          "text": [
            "Writing temp.txt\n"
          ],
          "name": "stdout"
        }
      ]
    },
    {
      "cell_type": "code",
      "metadata": {
        "id": "98xi77MC_s6s"
      },
      "source": [
        "ob_file=open('temp.txt')"
      ],
      "execution_count": null,
      "outputs": []
    },
    {
      "cell_type": "code",
      "metadata": {
        "id": "WfJRF4qK_s6s",
        "outputId": "ab287d97-3a34-4e82-daf4-dcbf2583cd35"
      },
      "source": [
        "ob_file.read()"
      ],
      "execution_count": null,
      "outputs": [
        {
          "output_type": "execute_result",
          "data": {
            "text/plain": [
              "'firstl line\\nsecond line\\nthird line\\n'"
            ]
          },
          "metadata": {
            "tags": []
          },
          "execution_count": 30
        }
      ]
    },
    {
      "cell_type": "code",
      "metadata": {
        "id": "8HKVbk4N_s6t",
        "outputId": "a525c73b-275e-4514-c800-7e36c2225881"
      },
      "source": [
        "ob_file.seek(0)"
      ],
      "execution_count": null,
      "outputs": [
        {
          "output_type": "execute_result",
          "data": {
            "text/plain": [
              "0"
            ]
          },
          "metadata": {
            "tags": []
          },
          "execution_count": 31
        }
      ]
    },
    {
      "cell_type": "code",
      "metadata": {
        "id": "zLXWKzj7_s6t",
        "outputId": "a3c9adba-5652-4fa2-bd13-cfaeae9c6343"
      },
      "source": [
        "ob_file.readlines()"
      ],
      "execution_count": null,
      "outputs": [
        {
          "output_type": "execute_result",
          "data": {
            "text/plain": [
              "['firstl line\\n', 'second line\\n', 'third line\\n']"
            ]
          },
          "metadata": {
            "tags": []
          },
          "execution_count": 32
        }
      ]
    },
    {
      "cell_type": "code",
      "metadata": {
        "id": "PGvEVRLQ_s6t",
        "outputId": "5b80e092-55ca-4a63-eecf-30271ff51233"
      },
      "source": [
        "lineList=[]\n",
        "for line in open('temp.txt'):\n",
        "  lineList.append(line)\n",
        "\n",
        "lineList"
      ],
      "execution_count": null,
      "outputs": [
        {
          "output_type": "execute_result",
          "data": {
            "text/plain": [
              "['firstl line\\n', 'second line\\n', 'third line\\n']"
            ]
          },
          "metadata": {
            "tags": []
          },
          "execution_count": 33
        }
      ]
    },
    {
      "cell_type": "markdown",
      "metadata": {
        "id": "vPGAnUs3_s6t"
      },
      "source": [
        "## os module "
      ]
    },
    {
      "cell_type": "markdown",
      "metadata": {
        "id": "YK_GMeZt_s6t"
      },
      "source": [
        "* **os module in Python which brings the support of file rename/delete operations.**"
      ]
    },
    {
      "cell_type": "markdown",
      "metadata": {
        "id": "CjObNfdL_s6t"
      },
      "source": [
        "* **Specific methods:**\n",
        "    * os.rename()\n",
        "    * os.remove()\n",
        "    * os.getcwd()\n",
        "    * os.listdir()\n",
        "    * os.mkdir()\n",
        "    * os.rmdir()"
      ]
    },
    {
      "cell_type": "code",
      "metadata": {
        "id": "2NDISzUT_s6t"
      },
      "source": [
        "#reame operation\n",
        "os.rename(\"test.txt\", \"sample.txt\")"
      ],
      "execution_count": null,
      "outputs": []
    },
    {
      "cell_type": "code",
      "metadata": {
        "id": "CkBVqeP-_s6t"
      },
      "source": [
        "#Delete a file sample.txt\n",
        "os.remove(\"sample.txt\")"
      ],
      "execution_count": null,
      "outputs": []
    },
    {
      "cell_type": "code",
      "metadata": {
        "id": "INbnHE1H_s6t"
      },
      "source": [
        "#List Directories and Files in current working directory\n",
        "os.listdir(os.getcwd())"
      ],
      "execution_count": null,
      "outputs": []
    },
    {
      "cell_type": "code",
      "metadata": {
        "id": "N2hU7tto_s6t"
      },
      "source": [
        "#Making New Directory\n",
        "os.mkdir('test')"
      ],
      "execution_count": null,
      "outputs": []
    },
    {
      "cell_type": "code",
      "metadata": {
        "id": "eCyXnknN_s6u"
      },
      "source": [
        "#However, note that rmdir() method can only remove empty directories.\n",
        "os.rmdir('test')"
      ],
      "execution_count": null,
      "outputs": []
    },
    {
      "cell_type": "markdown",
      "metadata": {
        "id": "vtRON4vJ_s6u"
      },
      "source": [
        "### stringIO by which string treated as file"
      ]
    },
    {
      "cell_type": "code",
      "metadata": {
        "id": "6LkiuOiL_s6u"
      },
      "source": [
        "from io import StringIO"
      ],
      "execution_count": null,
      "outputs": []
    },
    {
      "cell_type": "code",
      "metadata": {
        "id": "gXRI-d6__s6u"
      },
      "source": [
        "msg=\"file handling concept in pyhton\""
      ],
      "execution_count": null,
      "outputs": []
    },
    {
      "cell_type": "code",
      "metadata": {
        "id": "pJmS03Oc_s6u"
      },
      "source": [
        "#Now we have an object f that we will be able to treat just like a file. For example:\n",
        "f = StringIO(msg)"
      ],
      "execution_count": null,
      "outputs": []
    },
    {
      "cell_type": "code",
      "metadata": {
        "id": "cA-F4f9C_s6u",
        "outputId": "bc593cdb-2d7b-4b65-e067-787f446255a0"
      },
      "source": [
        "f.read()"
      ],
      "execution_count": null,
      "outputs": [
        {
          "output_type": "execute_result",
          "data": {
            "text/plain": [
              "'file handling concept in pyhton'"
            ]
          },
          "metadata": {
            "tags": []
          },
          "execution_count": 38
        }
      ]
    },
    {
      "cell_type": "code",
      "metadata": {
        "id": "uCwONyjT_s6u",
        "outputId": "f5801f9f-93ef-4f97-f1c6-c09df38decab"
      },
      "source": [
        "f.write(\" Learn Conceptually\")"
      ],
      "execution_count": null,
      "outputs": [
        {
          "output_type": "execute_result",
          "data": {
            "text/plain": [
              "19"
            ]
          },
          "metadata": {
            "tags": []
          },
          "execution_count": 39
        }
      ]
    },
    {
      "cell_type": "code",
      "metadata": {
        "id": "ztcYXjbz_s6v",
        "outputId": "5bbd954a-f971-4354-b83a-49db78bb18e3"
      },
      "source": [
        "f.seek(0)"
      ],
      "execution_count": null,
      "outputs": [
        {
          "output_type": "execute_result",
          "data": {
            "text/plain": [
              "0"
            ]
          },
          "metadata": {
            "tags": []
          },
          "execution_count": 40
        }
      ]
    },
    {
      "cell_type": "code",
      "metadata": {
        "id": "WyZZr1NU_s6v",
        "outputId": "e62d08b0-7220-4bc3-db29-e8f3f8c37e42"
      },
      "source": [
        "f.read()"
      ],
      "execution_count": null,
      "outputs": [
        {
          "output_type": "execute_result",
          "data": {
            "text/plain": [
              "'file handling concept in pyhton Learn Conceptually'"
            ]
          },
          "metadata": {
            "tags": []
          },
          "execution_count": 41
        }
      ]
    },
    {
      "cell_type": "code",
      "metadata": {
        "id": "XOjeBjjr_s6v",
        "outputId": "51420334-71a9-485c-9a44-5de6664cf108"
      },
      "source": [
        "pwd()"
      ],
      "execution_count": null,
      "outputs": [
        {
          "output_type": "execute_result",
          "data": {
            "text/plain": [
              "'/Users/akshaysingh/Desktop/Machine Learning/Python_Revision'"
            ]
          },
          "metadata": {
            "tags": []
          },
          "execution_count": 42
        }
      ]
    },
    {
      "cell_type": "markdown",
      "metadata": {
        "id": "0-mMXPS6_s6v"
      },
      "source": [
        "## Database connectivity and operations using Python."
      ]
    },
    {
      "cell_type": "code",
      "metadata": {
        "id": "HOuuQ_Uh_s6v"
      },
      "source": [
        "import sqlite3 as sql"
      ],
      "execution_count": null,
      "outputs": []
    },
    {
      "cell_type": "markdown",
      "metadata": {
        "id": "Dmt2GjaJ_s6v"
      },
      "source": [
        "##### this will create a database on memory"
      ]
    },
    {
      "cell_type": "code",
      "metadata": {
        "id": "0x4xiPq3_s6v",
        "outputId": "b0e64cdb-e0e5-4487-de3d-80bf3dc86cef"
      },
      "source": [
        "#create database\n",
        "db=sql.connect(\"myDatabase.db\")\n",
        "#create table on database\n",
        "db.execute(\"create table grades1(id int,name txt,score int)\")\n",
        "#insert values into table grades1\n",
        "db.execute(\"insert into grades1(id, name, score) values (101, 'John',99 )\")\n",
        "db.execute(\"insert into grades1(id, name, score) values (102, 'gary',90 )\")\n",
        "db.execute(\"insert into grades1(id, name, score) values(103, 'James', 80 )\")\n",
        "db.execute(\"insert into grades1(id, name, score) values(104, 'Cathy', 85 )\")\n",
        "db.execute(\"insert into grades1(id, name, score) values(105, 'Kris',95 )\")"
      ],
      "execution_count": null,
      "outputs": [
        {
          "output_type": "execute_result",
          "data": {
            "text/plain": [
              "<sqlite3.Cursor at 0x1120e0ea0>"
            ]
          },
          "metadata": {
            "tags": []
          },
          "execution_count": 44
        }
      ]
    },
    {
      "cell_type": "code",
      "metadata": {
        "id": "Co7BtYW6_s6v"
      },
      "source": [
        "#save database\n",
        "db.commit()"
      ],
      "execution_count": null,
      "outputs": []
    },
    {
      "cell_type": "markdown",
      "metadata": {
        "id": "j_qe68ds_s6w"
      },
      "source": [
        "#### fetching value from database"
      ]
    },
    {
      "cell_type": "code",
      "metadata": {
        "id": "IEYAd3Kl_s6w",
        "outputId": "55a89ac8-75ab-4730-f02c-bd439a85e039"
      },
      "source": [
        "results= db.execute(\"select *from grades1 order by id\")\n",
        "for rows in results:\n",
        "    print(rows)\n",
        "print(\"-\" * 80)"
      ],
      "execution_count": null,
      "outputs": [
        {
          "output_type": "stream",
          "text": [
            "(101, 'John', 99)\n",
            "(102, 'gary', 90)\n",
            "(103, 'James', 80)\n",
            "(104, 'Cathy', 85)\n",
            "(105, 'Kris', 95)\n",
            "--------------------------------------------------------------------------------\n"
          ],
          "name": "stdout"
        }
      ]
    },
    {
      "cell_type": "code",
      "metadata": {
        "id": "tx2zbwFr_s6w",
        "outputId": "804e8098-2843-430e-de00-b66e7eafb845"
      },
      "source": [
        "results= db.execute(\"select *from grades1 order by score\")\n",
        "for rows in results:\n",
        "    print(rows)\n",
        "print(\"-\" * 80)\n"
      ],
      "execution_count": null,
      "outputs": [
        {
          "output_type": "stream",
          "text": [
            "(103, 'James', 80)\n",
            "(104, 'Cathy', 85)\n",
            "(102, 'gary', 90)\n",
            "(105, 'Kris', 95)\n",
            "(101, 'John', 99)\n",
            "--------------------------------------------------------------------------------\n"
          ],
          "name": "stdout"
        }
      ]
    },
    {
      "cell_type": "code",
      "metadata": {
        "id": "aocsGS_D_s6w",
        "outputId": "13828724-9995-4285-b3f6-15185738b7c9"
      },
      "source": [
        "results= db.execute(\"select *from grades1 order by name\")\n",
        "for rows in results:\n",
        "    print(rows)\n",
        "print(\"-\" * 80)"
      ],
      "execution_count": null,
      "outputs": [
        {
          "output_type": "stream",
          "text": [
            "(104, 'Cathy', 85)\n",
            "(103, 'James', 80)\n",
            "(101, 'John', 99)\n",
            "(105, 'Kris', 95)\n",
            "(102, 'gary', 90)\n",
            "--------------------------------------------------------------------------------\n"
          ],
          "name": "stdout"
        }
      ]
    },
    {
      "cell_type": "code",
      "metadata": {
        "id": "xYAjNYpg_s6w",
        "outputId": "6464d260-2630-441c-e8cb-bf5836dc5023"
      },
      "source": [
        "results= db.execute(\"select *from grades1 where score >= 90\")\n",
        "for rows in results:\n",
        "    print(rows)\n",
        "print(\"-\" * 80)"
      ],
      "execution_count": null,
      "outputs": [
        {
          "output_type": "stream",
          "text": [
            "(101, 'John', 99)\n",
            "(102, 'gary', 90)\n",
            "(105, 'Kris', 95)\n",
            "--------------------------------------------------------------------------------\n"
          ],
          "name": "stdout"
        }
      ]
    },
    {
      "cell_type": "code",
      "metadata": {
        "id": "plNu30-r_s6w",
        "outputId": "e1a896c7-559b-4c06-d45a-cfd28d01d5b7"
      },
      "source": [
        "results = db.execute(\"select name, score from grades1 order by score desc \")\n",
        "for row in results:\n",
        "    print(row)\n",
        "print(\"-\" * 80 )"
      ],
      "execution_count": null,
      "outputs": [
        {
          "output_type": "stream",
          "text": [
            "('John', 99)\n",
            "('Kris', 95)\n",
            "('gary', 90)\n",
            "('Cathy', 85)\n",
            "('James', 80)\n",
            "--------------------------------------------------------------------------------\n"
          ],
          "name": "stdout"
        }
      ]
    },
    {
      "cell_type": "code",
      "metadata": {
        "id": "tNKZ98zR_s6w",
        "outputId": "d44b4311-99ac-4876-b378-0ff51d99f55a"
      },
      "source": [
        "pwd()"
      ],
      "execution_count": null,
      "outputs": [
        {
          "output_type": "execute_result",
          "data": {
            "text/plain": [
              "'/Users/akshaysingh/Desktop/Machine Learning/Python_Revision'"
            ]
          },
          "metadata": {
            "tags": []
          },
          "execution_count": 51
        }
      ]
    },
    {
      "cell_type": "markdown",
      "metadata": {
        "id": "4Lq_igds_s6w"
      },
      "source": [
        "## Modules and Packages"
      ]
    },
    {
      "cell_type": "markdown",
      "metadata": {
        "id": "FK3GMx8n_s6x"
      },
      "source": [
        "* **Modules in Python are simply Python files with the .py extension, which implement a set of functions. Modules are imported from other modules using the import command.**"
      ]
    },
    {
      "cell_type": "code",
      "metadata": {
        "id": "7Lq9LP9u_s6x"
      },
      "source": [
        "# import the library\n",
        "import math"
      ],
      "execution_count": null,
      "outputs": []
    },
    {
      "cell_type": "code",
      "metadata": {
        "id": "q4JBZt6r_s6x",
        "outputId": "461135cf-cf43-4888-8782-3058e41bc83b"
      },
      "source": [
        "# use it (ceiling rounding)\n",
        "print(math.ceil(2.4))\n",
        "print(math.floor(23.56))\n",
        "print(math.sqrt(16))\n",
        "print(round(math.log2(34),4))"
      ],
      "execution_count": null,
      "outputs": [
        {
          "output_type": "stream",
          "text": [
            "3\n",
            "23\n",
            "4.0\n",
            "5.0875\n"
          ],
          "name": "stdout"
        }
      ]
    },
    {
      "cell_type": "markdown",
      "metadata": {
        "id": "o1VJjDqb_s6x"
      },
      "source": [
        "### Exploring built-in modules"
      ]
    },
    {
      "cell_type": "code",
      "metadata": {
        "id": "yv-JyXXD_s6x",
        "outputId": "cfed5012-e0ee-4f50-ada6-891791c54bc8"
      },
      "source": [
        "print(dir(math))"
      ],
      "execution_count": null,
      "outputs": [
        {
          "output_type": "stream",
          "text": [
            "['__doc__', '__file__', '__loader__', '__name__', '__package__', '__spec__', 'acos', 'acosh', 'asin', 'asinh', 'atan', 'atan2', 'atanh', 'ceil', 'copysign', 'cos', 'cosh', 'degrees', 'e', 'erf', 'erfc', 'exp', 'expm1', 'fabs', 'factorial', 'floor', 'fmod', 'frexp', 'fsum', 'gamma', 'gcd', 'hypot', 'inf', 'isclose', 'isfinite', 'isinf', 'isnan', 'ldexp', 'lgamma', 'log', 'log10', 'log1p', 'log2', 'modf', 'nan', 'pi', 'pow', 'radians', 'remainder', 'sin', 'sinh', 'sqrt', 'tan', 'tanh', 'tau', 'trunc']\n"
          ],
          "name": "stdout"
        }
      ]
    },
    {
      "cell_type": "markdown",
      "metadata": {
        "id": "XqjLAvWx_s6x"
      },
      "source": [
        "**While exploring modules in Python, two important functions come in handy - the dir and help functions and shift + Tab also very handy**"
      ]
    },
    {
      "cell_type": "code",
      "metadata": {
        "id": "57qmKW3P_s6x",
        "outputId": "d0bb257d-05a7-4f2a-b82b-b4b4f60310ab"
      },
      "source": [
        "help(math.ceil)"
      ],
      "execution_count": null,
      "outputs": [
        {
          "output_type": "stream",
          "text": [
            "Help on built-in function ceil in module math:\n",
            "\n",
            "ceil(x, /)\n",
            "    Return the ceiling of x as an Integral.\n",
            "    \n",
            "    This is the smallest integer >= x.\n",
            "\n"
          ],
          "name": "stdout"
        }
      ]
    },
    {
      "cell_type": "markdown",
      "metadata": {
        "id": "rYeItwOj_s6x"
      },
      "source": [
        "### Writing modules"
      ]
    },
    {
      "cell_type": "markdown",
      "metadata": {
        "id": "vhuJzGyC_s6x"
      },
      "source": [
        "* **Writing Python modules is very simple. To create a module of your own, simply create a new .py file with the module name, and then import it**"
      ]
    },
    {
      "cell_type": "markdown",
      "metadata": {
        "id": "8EosrKDk_s6x"
      },
      "source": [
        "### Writing packages"
      ]
    },
    {
      "cell_type": "markdown",
      "metadata": {
        "id": "cQJOImFJ_s6x"
      },
      "source": [
        "* **Packages are name-spaces which contain multiple packages and modules themselves. They are simply directories, but with a twist.**"
      ]
    },
    {
      "cell_type": "markdown",
      "metadata": {
        "id": "bfemMnZL_s6y"
      },
      "source": [
        "***The twist is, each package in Python is a directory which MUST contain a special file called _init_.py. This file can be empty, and it indicates that the directory it contains is a Python package, so it can be imported the same way a module can be imported.***"
      ]
    },
    {
      "cell_type": "markdown",
      "metadata": {
        "id": "gQLnQGG8_s6y"
      },
      "source": [
        "* **for example, If we create a directory called foo, which marks the package name, we can then create a module inside that package called bar. We also must not forget to add the _init_.py file inside the foo directory.**\n",
        "\n",
        "***To use the module bar, we can import it in two ways:***"
      ]
    },
    {
      "cell_type": "markdown",
      "metadata": {
        "id": "NX7oAk3K_s6y"
      },
      "source": [
        "* **NOTE: what should be in init.py module in side package(folder)**\n",
        "    * NOTE this module can either empty or may be contain some initialization code itself \n",
        "    * example by which we can access or import a module from inside some nested packages "
      ]
    },
    {
      "cell_type": "markdown",
      "metadata": {
        "id": "Rwcwjj1u_s6y"
      },
      "source": [
        "<img src=\"PackageModuleStructure.jpg\">"
      ]
    },
    {
      "cell_type": "markdown",
      "metadata": {
        "id": "Sixj7Aa7_s6y"
      },
      "source": [
        "* ***Example in order to access open module:***\n",
        "    * import Game.Image.open"
      ]
    },
    {
      "cell_type": "markdown",
      "metadata": {
        "id": "Uz8HZQ1k_s6y"
      },
      "source": [
        "### Importing Modules\n",
        "* **import all from a module**\n",
        "    * from math import *\n",
        "* **import only module**\n",
        "    * import module_name\n",
        "* **import specific method from module**\n",
        "    * From math import sqrt"
      ]
    },
    {
      "cell_type": "markdown",
      "metadata": {
        "id": "XuTogoth_s6y"
      },
      "source": [
        "### getting name of all methods inside a module  -->  dir(module_name) "
      ]
    },
    {
      "cell_type": "code",
      "metadata": {
        "id": "kQ5t2BZ3_s6y"
      },
      "source": [
        "# Just an example, this won't work\n",
        "import foo.bar"
      ],
      "execution_count": null,
      "outputs": []
    },
    {
      "cell_type": "code",
      "metadata": {
        "id": "EPdYug55_s6y"
      },
      "source": [
        "# OR could do it this way\n",
        "from foo import bar"
      ],
      "execution_count": null,
      "outputs": []
    },
    {
      "cell_type": "markdown",
      "metadata": {
        "id": "R13srzRi_s6y"
      },
      "source": [
        "**The _init_.py file can also decide which modules the package exports as the API, while keeping other modules internal, by overriding the _all_ variable, like so:**"
      ]
    },
    {
      "cell_type": "code",
      "metadata": {
        "id": "sxOpXcgP_s6y"
      },
      "source": [
        "__init__.py:\n",
        "\n",
        "__all__ = [\"bar\"]"
      ],
      "execution_count": null,
      "outputs": []
    },
    {
      "cell_type": "code",
      "metadata": {
        "id": "ghh1UiiJ_s6z",
        "outputId": "4fff5a06-9963-4aca-b90c-18ccb6a45276"
      },
      "source": [
        "pwd()"
      ],
      "execution_count": null,
      "outputs": [
        {
          "output_type": "execute_result",
          "data": {
            "text/plain": [
              "'/Users/akshaysingh/Desktop/Machine Learning/Python_Revision'"
            ]
          },
          "metadata": {
            "tags": []
          },
          "execution_count": 1
        }
      ]
    },
    {
      "cell_type": "markdown",
      "metadata": {
        "id": "rZp7rTVk_s60"
      },
      "source": [
        "## Pyhton Debugger(PDB)"
      ]
    },
    {
      "cell_type": "markdown",
      "metadata": {
        "id": "9Z4z-9Mf_s60"
      },
      "source": [
        "* PDB pdb implements an interactive debugging environment for Python programs.It includes features to let you pause your program, look at the values of variables, and watch program execution step-by-step, so you can understand what your program actually does and find bugs in the logic."
      ]
    },
    {
      "cell_type": "markdown",
      "metadata": {
        "id": "-pFRTuUh_s60"
      },
      "source": [
        "* ***mainly use features to keep track of logic bug***    \n",
        "    * c : continue\n",
        "    * q: quit(left some error)\n",
        "    * h: help(give you all option needed with pdb)\n",
        "    *  list\n",
        "    * p: print\n",
        "    * p locals()\n",
        "    * p globals()"
      ]
    },
    {
      "cell_type": "code",
      "metadata": {
        "id": "3AwokV5f_s60",
        "outputId": "d558f0cc-97d4-47b6-fe51-a94e372a5826"
      },
      "source": [
        "def test_pdb(num):\n",
        "  for i in range(num):\n",
        "     pdb.set_trace() # breakpoint\n",
        "     print(i)\n",
        "\n",
        "test_pdb(5)"
      ],
      "execution_count": null,
      "outputs": [
        {
          "output_type": "stream",
          "text": [
            "> <ipython-input-5-dd130199fde2>(4)test_pdb()\n",
            "-> print(i)\n",
            "(Pdb) c\n",
            "0\n",
            "> <ipython-input-5-dd130199fde2>(3)test_pdb()\n",
            "-> pdb.set_trace() # breakpoint\n",
            "(Pdb) p locals()\n",
            "{'num': 5, 'i': 1}\n",
            "(Pdb) c\n",
            "1\n",
            "> <ipython-input-5-dd130199fde2>(4)test_pdb()\n",
            "-> print(i)\n",
            "(Pdb) p locals()\n",
            "{'num': 5, 'i': 2}\n",
            "(Pdb) h\n",
            "\n",
            "Documented commands (type help <topic>):\n",
            "========================================\n",
            "EOF    c          d        h         list      q        rv       undisplay\n",
            "a      cl         debug    help      ll        quit     s        unt      \n",
            "alias  clear      disable  ignore    longlist  r        source   until    \n",
            "args   commands   display  interact  n         restart  step     up       \n",
            "b      condition  down     j         next      return   tbreak   w        \n",
            "break  cont       enable   jump      p         retval   u        whatis   \n",
            "bt     continue   exit     l         pp        run      unalias  where    \n",
            "\n",
            "Miscellaneous help topics:\n",
            "==========================\n",
            "exec  pdb\n",
            "\n",
            "(Pdb) c\n",
            "2\n",
            "> <ipython-input-5-dd130199fde2>(3)test_pdb()\n",
            "-> pdb.set_trace() # breakpoint\n",
            "(Pdb) c\n",
            "3\n",
            "> <ipython-input-5-dd130199fde2>(4)test_pdb()\n",
            "-> print(i)\n",
            "(Pdb) p locals()\n",
            "{'num': 5, 'i': 4}\n",
            "(Pdb) c\n",
            "4\n"
          ],
          "name": "stdout"
        }
      ]
    },
    {
      "cell_type": "code",
      "metadata": {
        "id": "jfZ9gtW1_s60",
        "outputId": "aa8aa5d2-6149-4ba3-f769-e6fb4d9531b0"
      },
      "source": [
        "import pandas as pd\n",
        "df = pd.DataFrame({'key1': [1,2],'key2': ['a','b'], 'key3': ['fugrr','dfwy']})\n",
        "df"
      ],
      "execution_count": null,
      "outputs": [
        {
          "output_type": "execute_result",
          "data": {
            "text/html": [
              "<div>\n",
              "<style scoped>\n",
              "    .dataframe tbody tr th:only-of-type {\n",
              "        vertical-align: middle;\n",
              "    }\n",
              "\n",
              "    .dataframe tbody tr th {\n",
              "        vertical-align: top;\n",
              "    }\n",
              "\n",
              "    .dataframe thead th {\n",
              "        text-align: right;\n",
              "    }\n",
              "</style>\n",
              "<table border=\"1\" class=\"dataframe\">\n",
              "  <thead>\n",
              "    <tr style=\"text-align: right;\">\n",
              "      <th></th>\n",
              "      <th>key1</th>\n",
              "      <th>key2</th>\n",
              "      <th>key3</th>\n",
              "    </tr>\n",
              "  </thead>\n",
              "  <tbody>\n",
              "    <tr>\n",
              "      <th>0</th>\n",
              "      <td>1</td>\n",
              "      <td>a</td>\n",
              "      <td>fugrr</td>\n",
              "    </tr>\n",
              "    <tr>\n",
              "      <th>1</th>\n",
              "      <td>2</td>\n",
              "      <td>b</td>\n",
              "      <td>dfwy</td>\n",
              "    </tr>\n",
              "  </tbody>\n",
              "</table>\n",
              "</div>"
            ],
            "text/plain": [
              "   key1 key2   key3\n",
              "0     1    a  fugrr\n",
              "1     2    b   dfwy"
            ]
          },
          "metadata": {
            "tags": []
          },
          "execution_count": 2
        }
      ]
    },
    {
      "cell_type": "code",
      "metadata": {
        "id": "TPKzclw4_s60"
      },
      "source": [
        "df=None"
      ],
      "execution_count": null,
      "outputs": []
    },
    {
      "cell_type": "code",
      "metadata": {
        "id": "SFp4nq0T_s61",
        "outputId": "92a723c6-f7ff-4a48-d442-58ee82fb4500"
      },
      "source": [
        "df.head()"
      ],
      "execution_count": null,
      "outputs": [
        {
          "output_type": "error",
          "ename": "AttributeError",
          "evalue": "'NoneType' object has no attribute 'head'",
          "traceback": [
            "\u001b[0;31m---------------------------------------------------------------------------\u001b[0m",
            "\u001b[0;31mAttributeError\u001b[0m                            Traceback (most recent call last)",
            "\u001b[0;32m<ipython-input-4-c42a15b2c7cf>\u001b[0m in \u001b[0;36m<module>\u001b[0;34m\u001b[0m\n\u001b[0;32m----> 1\u001b[0;31m \u001b[0mdf\u001b[0m\u001b[0;34m.\u001b[0m\u001b[0mhead\u001b[0m\u001b[0;34m(\u001b[0m\u001b[0;34m)\u001b[0m\u001b[0;34m\u001b[0m\u001b[0;34m\u001b[0m\u001b[0m\n\u001b[0m",
            "\u001b[0;31mAttributeError\u001b[0m: 'NoneType' object has no attribute 'head'"
          ]
        }
      ]
    },
    {
      "cell_type": "code",
      "metadata": {
        "id": "wELEh8mz_s61"
      },
      "source": [
        ""
      ],
      "execution_count": null,
      "outputs": []
    }
  ]
}