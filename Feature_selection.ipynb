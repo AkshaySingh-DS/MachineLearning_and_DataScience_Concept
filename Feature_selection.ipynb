{
 "cells": [
  {
   "cell_type": "markdown",
   "metadata": {},
   "source": [
    "<h1><center>Abhishek Thakur Book Concept<center></h2>"
   ]
  },
  {
   "cell_type": "markdown",
   "metadata": {},
   "source": [
    "### Chapter - Feature Selection"
   ]
  },
  {
   "cell_type": "markdown",
   "metadata": {},
   "source": [
    "* Topic Covered:\n",
    "    * VarianceThreshold method\n",
    "    * Correlation method\n",
    "    * Univariate feature selection(smart way)\n",
    "    * Greedy Method\n",
    "        * Exact greedy\n",
    "        * RFE \n",
    "        * forward feature selection\n",
    "    * Model Based Selection\n",
    "        * Using our own method\n",
    "        * Using Scikit learn SelectFromModel\n",
    "        * Using scikit-learn pipeline method"
   ]
  },
  {
   "cell_type": "markdown",
   "metadata": {},
   "source": [
    "Feature selction is **\"the\"** most critical step in Feature Engineering Task. We have to be very careful when we select feature using techniques.\n",
    "\n",
    "**Why we need:**\n",
    "    \n",
    "   Let say we have thousands of feature most of them may useless for our model. So for better model preparation we have to select some of them and vice versa remove most of them. One more issue that may occur i.e well know problem `Curse of dimensionality` which is nothing but when we have lot of features, we must also have a lot of training samples to captures all features, and it also takes lot of training time (even some distance metric like Euclidean wouldn't give the actual distance in high dim space.This is also be one of reason why we do feature selection.\n",
    "   2nd Reason we just want those which are useful or add some value to the target or my object.\n",
    "   \n",
    "* Now discuss what are the various way to do it."
   ]
  },
  {
   "cell_type": "markdown",
   "metadata": {},
   "source": [
    "**Method - 1:Constant Feature Removing**\n",
    "   - Simplest Approach:\n",
    "        Very first step remove features which have ***`very low variance`***(these feature are constant features that doesn't add anything to model and unneccesarily increase the model training complexity)"
   ]
  },
  {
   "cell_type": "code",
   "execution_count": 6,
   "metadata": {},
   "outputs": [],
   "source": [
    "import numpy as np\n",
    "import pandas as pd\n",
    "import matplotlib.pyplot as plt\n",
    "%matplotlib inline"
   ]
  },
  {
   "cell_type": "code",
   "execution_count": 2,
   "metadata": {},
   "outputs": [
    {
     "data": {
      "text/html": [
       "<div>\n",
       "<style scoped>\n",
       "    .dataframe tbody tr th:only-of-type {\n",
       "        vertical-align: middle;\n",
       "    }\n",
       "\n",
       "    .dataframe tbody tr th {\n",
       "        vertical-align: top;\n",
       "    }\n",
       "\n",
       "    .dataframe thead th {\n",
       "        text-align: right;\n",
       "    }\n",
       "</style>\n",
       "<table border=\"1\" class=\"dataframe\">\n",
       "  <thead>\n",
       "    <tr style=\"text-align: right;\">\n",
       "      <th></th>\n",
       "      <th>feature_1</th>\n",
       "      <th>feature_2</th>\n",
       "    </tr>\n",
       "  </thead>\n",
       "  <tbody>\n",
       "    <tr>\n",
       "      <th>0</th>\n",
       "      <td>6152</td>\n",
       "      <td>22260</td>\n",
       "    </tr>\n",
       "    <tr>\n",
       "      <th>1</th>\n",
       "      <td>8779</td>\n",
       "      <td>21060</td>\n",
       "    </tr>\n",
       "    <tr>\n",
       "      <th>2</th>\n",
       "      <td>3040</td>\n",
       "      <td>23961</td>\n",
       "    </tr>\n",
       "    <tr>\n",
       "      <th>3</th>\n",
       "      <td>6405</td>\n",
       "      <td>24901</td>\n",
       "    </tr>\n",
       "    <tr>\n",
       "      <th>4</th>\n",
       "      <td>6624</td>\n",
       "      <td>23473</td>\n",
       "    </tr>\n",
       "    <tr>\n",
       "      <th>5</th>\n",
       "      <td>7644</td>\n",
       "      <td>25467</td>\n",
       "    </tr>\n",
       "  </tbody>\n",
       "</table>\n",
       "</div>"
      ],
      "text/plain": [
       "   feature_1  feature_2\n",
       "0       6152      22260\n",
       "1       8779      21060\n",
       "2       3040      23961\n",
       "3       6405      24901\n",
       "4       6624      23473\n",
       "5       7644      25467"
      ]
     },
     "execution_count": 2,
     "metadata": {},
     "output_type": "execute_result"
    }
   ],
   "source": [
    "#scikit-learn provide VarianceThreshold that does this job precisely\n",
    "features = {\n",
    "    \n",
    "    'ID': np.random.randint(1000, 10010, 22),\n",
    "    'Sales_price': np.random.randint(10000, 40000, 22),\n",
    "    'N_Item': np.random.randint(10,11,22)\n",
    "}\n",
    "\n",
    "#craete small fake dataframe for demonstration purpose\n",
    "\n",
    "df = pd.DataFrame(features)\n",
    "\n",
    "#removing features which have variance less than 0.2 .\n",
    "from sklearn.feature_selection import VarianceThreshold\n",
    "\n",
    "var_thresh = VarianceThreshold(threshold = 0.2)\n",
    "\n",
    "#remove features whose variance close to 0.(constant features)\n",
    "\n",
    "transformed_data = var_thresh.fit_transform(df)\n",
    "\n",
    "df2 = pd.DataFrame(transformed_data,\n",
    "             columns = [ f\"feature_{i}\" for i in range(1, transformed_data.shape[1]+1) ]\n",
    ")\n",
    "df2.head(6)"
   ]
  },
  {
   "cell_type": "markdown",
   "metadata": {},
   "source": [
    "Feature_3 has been removed which have variance less than 0.2"
   ]
  },
  {
   "cell_type": "markdown",
   "metadata": {},
   "source": [
    "**Method - 2:(Using Pearson Correlation)**\n",
    "   - Approach:\n",
    "   \n",
    "        Features which have ***`very high correlation`***, remove them. Let say we've two features in Dataset which are highly correlated then remove one of them and retain only one for modelling. "
   ]
  },
  {
   "cell_type": "code",
   "execution_count": 3,
   "metadata": {},
   "outputs": [
    {
     "data": {
      "text/html": [
       "<div>\n",
       "<style scoped>\n",
       "    .dataframe tbody tr th:only-of-type {\n",
       "        vertical-align: middle;\n",
       "    }\n",
       "\n",
       "    .dataframe tbody tr th {\n",
       "        vertical-align: top;\n",
       "    }\n",
       "\n",
       "    .dataframe thead th {\n",
       "        text-align: right;\n",
       "    }\n",
       "</style>\n",
       "<table border=\"1\" class=\"dataframe\">\n",
       "  <thead>\n",
       "    <tr style=\"text-align: right;\">\n",
       "      <th></th>\n",
       "      <th>MedInc</th>\n",
       "      <th>HouseAge</th>\n",
       "      <th>AveRooms</th>\n",
       "      <th>AveBedrms</th>\n",
       "      <th>Population</th>\n",
       "      <th>AveOccup</th>\n",
       "      <th>Latitude</th>\n",
       "      <th>Longitude</th>\n",
       "      <th>MedIncsqrt</th>\n",
       "    </tr>\n",
       "  </thead>\n",
       "  <tbody>\n",
       "    <tr>\n",
       "      <th>0</th>\n",
       "      <td>8.3252</td>\n",
       "      <td>41.0</td>\n",
       "      <td>6.984127</td>\n",
       "      <td>1.023810</td>\n",
       "      <td>322.0</td>\n",
       "      <td>2.555556</td>\n",
       "      <td>37.88</td>\n",
       "      <td>-122.23</td>\n",
       "      <td>2.885342</td>\n",
       "    </tr>\n",
       "    <tr>\n",
       "      <th>1</th>\n",
       "      <td>8.3014</td>\n",
       "      <td>21.0</td>\n",
       "      <td>6.238137</td>\n",
       "      <td>0.971880</td>\n",
       "      <td>2401.0</td>\n",
       "      <td>2.109842</td>\n",
       "      <td>37.86</td>\n",
       "      <td>-122.22</td>\n",
       "      <td>2.881215</td>\n",
       "    </tr>\n",
       "    <tr>\n",
       "      <th>2</th>\n",
       "      <td>7.2574</td>\n",
       "      <td>52.0</td>\n",
       "      <td>8.288136</td>\n",
       "      <td>1.073446</td>\n",
       "      <td>496.0</td>\n",
       "      <td>2.802260</td>\n",
       "      <td>37.85</td>\n",
       "      <td>-122.24</td>\n",
       "      <td>2.693956</td>\n",
       "    </tr>\n",
       "    <tr>\n",
       "      <th>3</th>\n",
       "      <td>5.6431</td>\n",
       "      <td>52.0</td>\n",
       "      <td>5.817352</td>\n",
       "      <td>1.073059</td>\n",
       "      <td>558.0</td>\n",
       "      <td>2.547945</td>\n",
       "      <td>37.85</td>\n",
       "      <td>-122.25</td>\n",
       "      <td>2.375521</td>\n",
       "    </tr>\n",
       "    <tr>\n",
       "      <th>4</th>\n",
       "      <td>3.8462</td>\n",
       "      <td>52.0</td>\n",
       "      <td>6.281853</td>\n",
       "      <td>1.081081</td>\n",
       "      <td>565.0</td>\n",
       "      <td>2.181467</td>\n",
       "      <td>37.85</td>\n",
       "      <td>-122.25</td>\n",
       "      <td>1.961173</td>\n",
       "    </tr>\n",
       "  </tbody>\n",
       "</table>\n",
       "</div>"
      ],
      "text/plain": [
       "   MedInc  HouseAge  AveRooms  AveBedrms  Population  AveOccup  Latitude  \\\n",
       "0  8.3252      41.0  6.984127   1.023810       322.0  2.555556     37.88   \n",
       "1  8.3014      21.0  6.238137   0.971880      2401.0  2.109842     37.86   \n",
       "2  7.2574      52.0  8.288136   1.073446       496.0  2.802260     37.85   \n",
       "3  5.6431      52.0  5.817352   1.073059       558.0  2.547945     37.85   \n",
       "4  3.8462      52.0  6.281853   1.081081       565.0  2.181467     37.85   \n",
       "\n",
       "   Longitude  MedIncsqrt  \n",
       "0    -122.23    2.885342  \n",
       "1    -122.22    2.881215  \n",
       "2    -122.24    2.693956  \n",
       "3    -122.25    2.375521  \n",
       "4    -122.25    1.961173  "
      ]
     },
     "execution_count": 3,
     "metadata": {},
     "output_type": "execute_result"
    }
   ],
   "source": [
    "from sklearn.datasets import fetch_california_housing\n",
    "\n",
    "#fetching a dataset which gives us dictionary \n",
    "#consist the information about data\n",
    "data = fetch_california_housing()\n",
    "\n",
    "X = data[\"data\"]\n",
    "col_names = data[\"feature_names\"]\n",
    "y = data['target']\n",
    "\n",
    "#convert it into pandas dataframe\n",
    "\n",
    "df = pd.DataFrame(X, columns = col_names)\n",
    "df.head()\n",
    "\n",
    "#creating a highly correlated feature\n",
    "\n",
    "df.loc[: , 'MedIncsqrt'] = df.MedInc.apply(lambda m : np.sqrt(m))\n",
    "df.head()"
   ]
  },
  {
   "cell_type": "code",
   "execution_count": 4,
   "metadata": {},
   "outputs": [
    {
     "data": {
      "text/html": [
       "<div>\n",
       "<style scoped>\n",
       "    .dataframe tbody tr th:only-of-type {\n",
       "        vertical-align: middle;\n",
       "    }\n",
       "\n",
       "    .dataframe tbody tr th {\n",
       "        vertical-align: top;\n",
       "    }\n",
       "\n",
       "    .dataframe thead th {\n",
       "        text-align: right;\n",
       "    }\n",
       "</style>\n",
       "<table border=\"1\" class=\"dataframe\">\n",
       "  <thead>\n",
       "    <tr style=\"text-align: right;\">\n",
       "      <th></th>\n",
       "      <th>MedInc</th>\n",
       "      <th>HouseAge</th>\n",
       "      <th>AveRooms</th>\n",
       "      <th>AveBedrms</th>\n",
       "      <th>Population</th>\n",
       "      <th>AveOccup</th>\n",
       "      <th>Latitude</th>\n",
       "      <th>Longitude</th>\n",
       "      <th>MedIncsqrt</th>\n",
       "    </tr>\n",
       "  </thead>\n",
       "  <tbody>\n",
       "    <tr>\n",
       "      <th>MedInc</th>\n",
       "      <td>1.000000</td>\n",
       "      <td>-0.119034</td>\n",
       "      <td>0.326895</td>\n",
       "      <td>-0.062040</td>\n",
       "      <td>0.004834</td>\n",
       "      <td>0.018766</td>\n",
       "      <td>-0.079809</td>\n",
       "      <td>-0.015176</td>\n",
       "      <td>0.984329</td>\n",
       "    </tr>\n",
       "    <tr>\n",
       "      <th>HouseAge</th>\n",
       "      <td>-0.119034</td>\n",
       "      <td>1.000000</td>\n",
       "      <td>-0.153277</td>\n",
       "      <td>-0.077747</td>\n",
       "      <td>-0.296244</td>\n",
       "      <td>0.013191</td>\n",
       "      <td>0.011173</td>\n",
       "      <td>-0.108197</td>\n",
       "      <td>-0.132797</td>\n",
       "    </tr>\n",
       "    <tr>\n",
       "      <th>AveRooms</th>\n",
       "      <td>0.326895</td>\n",
       "      <td>-0.153277</td>\n",
       "      <td>1.000000</td>\n",
       "      <td>0.847621</td>\n",
       "      <td>-0.072213</td>\n",
       "      <td>-0.004852</td>\n",
       "      <td>0.106389</td>\n",
       "      <td>-0.027540</td>\n",
       "      <td>0.326688</td>\n",
       "    </tr>\n",
       "    <tr>\n",
       "      <th>AveBedrms</th>\n",
       "      <td>-0.062040</td>\n",
       "      <td>-0.077747</td>\n",
       "      <td>0.847621</td>\n",
       "      <td>1.000000</td>\n",
       "      <td>-0.066197</td>\n",
       "      <td>-0.006181</td>\n",
       "      <td>0.069721</td>\n",
       "      <td>0.013344</td>\n",
       "      <td>-0.066910</td>\n",
       "    </tr>\n",
       "    <tr>\n",
       "      <th>Population</th>\n",
       "      <td>0.004834</td>\n",
       "      <td>-0.296244</td>\n",
       "      <td>-0.072213</td>\n",
       "      <td>-0.066197</td>\n",
       "      <td>1.000000</td>\n",
       "      <td>0.069863</td>\n",
       "      <td>-0.108785</td>\n",
       "      <td>0.099773</td>\n",
       "      <td>0.018415</td>\n",
       "    </tr>\n",
       "    <tr>\n",
       "      <th>AveOccup</th>\n",
       "      <td>0.018766</td>\n",
       "      <td>0.013191</td>\n",
       "      <td>-0.004852</td>\n",
       "      <td>-0.006181</td>\n",
       "      <td>0.069863</td>\n",
       "      <td>1.000000</td>\n",
       "      <td>0.002366</td>\n",
       "      <td>0.002476</td>\n",
       "      <td>0.015266</td>\n",
       "    </tr>\n",
       "    <tr>\n",
       "      <th>Latitude</th>\n",
       "      <td>-0.079809</td>\n",
       "      <td>0.011173</td>\n",
       "      <td>0.106389</td>\n",
       "      <td>0.069721</td>\n",
       "      <td>-0.108785</td>\n",
       "      <td>0.002366</td>\n",
       "      <td>1.000000</td>\n",
       "      <td>-0.924664</td>\n",
       "      <td>-0.084303</td>\n",
       "    </tr>\n",
       "    <tr>\n",
       "      <th>Longitude</th>\n",
       "      <td>-0.015176</td>\n",
       "      <td>-0.108197</td>\n",
       "      <td>-0.027540</td>\n",
       "      <td>0.013344</td>\n",
       "      <td>0.099773</td>\n",
       "      <td>0.002476</td>\n",
       "      <td>-0.924664</td>\n",
       "      <td>1.000000</td>\n",
       "      <td>-0.015569</td>\n",
       "    </tr>\n",
       "    <tr>\n",
       "      <th>MedIncsqrt</th>\n",
       "      <td>0.984329</td>\n",
       "      <td>-0.132797</td>\n",
       "      <td>0.326688</td>\n",
       "      <td>-0.066910</td>\n",
       "      <td>0.018415</td>\n",
       "      <td>0.015266</td>\n",
       "      <td>-0.084303</td>\n",
       "      <td>-0.015569</td>\n",
       "      <td>1.000000</td>\n",
       "    </tr>\n",
       "  </tbody>\n",
       "</table>\n",
       "</div>"
      ],
      "text/plain": [
       "              MedInc  HouseAge  AveRooms  AveBedrms  Population  AveOccup  \\\n",
       "MedInc      1.000000 -0.119034  0.326895  -0.062040    0.004834  0.018766   \n",
       "HouseAge   -0.119034  1.000000 -0.153277  -0.077747   -0.296244  0.013191   \n",
       "AveRooms    0.326895 -0.153277  1.000000   0.847621   -0.072213 -0.004852   \n",
       "AveBedrms  -0.062040 -0.077747  0.847621   1.000000   -0.066197 -0.006181   \n",
       "Population  0.004834 -0.296244 -0.072213  -0.066197    1.000000  0.069863   \n",
       "AveOccup    0.018766  0.013191 -0.004852  -0.006181    0.069863  1.000000   \n",
       "Latitude   -0.079809  0.011173  0.106389   0.069721   -0.108785  0.002366   \n",
       "Longitude  -0.015176 -0.108197 -0.027540   0.013344    0.099773  0.002476   \n",
       "MedIncsqrt  0.984329 -0.132797  0.326688  -0.066910    0.018415  0.015266   \n",
       "\n",
       "            Latitude  Longitude  MedIncsqrt  \n",
       "MedInc     -0.079809  -0.015176    0.984329  \n",
       "HouseAge    0.011173  -0.108197   -0.132797  \n",
       "AveRooms    0.106389  -0.027540    0.326688  \n",
       "AveBedrms   0.069721   0.013344   -0.066910  \n",
       "Population -0.108785   0.099773    0.018415  \n",
       "AveOccup    0.002366   0.002476    0.015266  \n",
       "Latitude    1.000000  -0.924664   -0.084303  \n",
       "Longitude  -0.924664   1.000000   -0.015569  \n",
       "MedIncsqrt -0.084303  -0.015569    1.000000  "
      ]
     },
     "execution_count": 4,
     "metadata": {},
     "output_type": "execute_result"
    }
   ],
   "source": [
    "#get correlation metrics(pearson)\n",
    "\n",
    "df.corr(method =\"pearson\")"
   ]
  },
  {
   "cell_type": "markdown",
   "metadata": {},
   "source": [
    "Here MedInc and MedIncsqrt are highly correlated with pearson score 0.98 approx. So we have to remove one of the feature from df.\n",
    "\n",
    "NOTE: **`Correlation and Causation are different`** i.e. if two features are correlated it is not meaning that one causes the other for that purpose we've to look at the **causion Models** which is separate statistical analysis than correlation Model. "
   ]
  },
  {
   "cell_type": "markdown",
   "metadata": {},
   "source": [
    "**Method - 3:(Univariate Feature Selection)**\n",
    "   - Approach:\n",
    "   \n",
    "       Try to get the score of each feature against a target. Most popular methods are as follows :-\n",
    "        * chi^2\n",
    "        * Anova\n",
    "        * F-test\n",
    "        * Mutual Information\n",
    "        \n",
    "    There are two ways of using this in scikit-learn that is below:-\n",
    "       * SelectKBest: Select Top k features.\n",
    "       * SeletPercentile: Slect top features based on percentage.\n",
    " \n",
    "* NOTE:\n",
    "     * if we know assumption of Anova/Chi2/etc that is okay then we know where to apply otherwise using SelectKBest/SelectPercentile carelessly might throw out many features for the wrong reasons."
   ]
  },
  {
   "cell_type": "code",
   "execution_count": 5,
   "metadata": {},
   "outputs": [],
   "source": [
    "from sklearn.feature_selection import chi2\n",
    "from sklearn.feature_selection import f_classif\n",
    "from sklearn.feature_selection import mutual_info_classif\n",
    "from sklearn.feature_selection import f_regression\n",
    "from sklearn.feature_selection import mutual_info_regression\n",
    "from sklearn.feature_selection import SelectKBest\n",
    "from sklearn.feature_selection import SelectPercentile"
   ]
  },
  {
   "cell_type": "code",
   "execution_count": 6,
   "metadata": {},
   "outputs": [
    {
     "data": {
      "text/plain": [
       "\"ufs = UnivariateFeatureSelection(problem_type = 'regression', \\n        n_feature = 0.1,\\n        scoring = f_regresion\\n)\\n\\nufs.fit(X,y)\\nX_transformed = ufs.transform(X)\\n\\n\""
      ]
     },
     "execution_count": 6,
     "metadata": {},
     "output_type": "execute_result"
    }
   ],
   "source": [
    "#custom wrapper to perform univariate feature selection \n",
    "#for \"almost\" any new problem\n",
    "\n",
    "class UnivariateFeatureSelection:\n",
    "    \n",
    "    def __init__(self, problem_type, n_feature, scoring):\n",
    "        \n",
    "        #for classification\n",
    "        if problem_type == 'classification':\n",
    "            valid_scoring = {\n",
    "                \"f_classif\" : f_classif,\n",
    "                \"chi2\" : chi2,\n",
    "                \"mutual_info_classif\" : mutual_info_classif\n",
    "            }\n",
    "       #for regression\n",
    "        else:\n",
    "            valid_scoring = {\n",
    "                \"f_regression\" : f_regression,\n",
    "                \"mutual_info_regression\" : mutual_info_regression\n",
    "            }\n",
    "        if scoring not in valid_scoring:\n",
    "            raise Exception(\"Invalid Scoring Method\")\n",
    "        \n",
    "        #if i want exact number of feature like 5,6 features  \n",
    "        if isinstance(n_feature, int):\n",
    "            self.selection = SelectKBest(valid_scoring[scoring],\n",
    "                                k = n_feature\n",
    "                    )\n",
    "            \n",
    "        #if i want as percentage of feature \n",
    "        elif isinstance(n_feature, float):\n",
    "            self.selection = SelectPercentile(\n",
    "                        valid_scoring[scoring],\n",
    "                        percentile = n_feature * 100\n",
    "            )\n",
    "        else:\n",
    "            raise Exception(\"invalid type of feature\")\n",
    "    \n",
    "    #fitting my data \n",
    "    def fit(self, X, y):\n",
    "        return self.selection.fit(X, y)\n",
    "    \n",
    "    #transforming my data \n",
    "    def transform(self):\n",
    "        return self.selection.transform(X)\n",
    "    \n",
    "    #fit_transform in single line \n",
    "    def fit_transform(self):\n",
    "        return self.selection.fit_transform(X, y)\n",
    "    \n",
    "#how to use this wrapper effectively\n",
    "#Code -> \n",
    "\n",
    "\"\"\"ufs = UnivariateFeatureSelection(problem_type = 'regression', \n",
    "        n_feature = 0.1,\n",
    "        scoring = f_regresion\n",
    ")\n",
    "\n",
    "ufs.fit(X,y)\n",
    "X_transformed = ufs.transform(X)\"\"\""
   ]
  },
  {
   "cell_type": "markdown",
   "metadata": {},
   "source": [
    "* NOTE:\n",
    "    * ***Chi2*** test suitable for only non-negative dataset.\n",
    "    * This technique pretty much good when we build NLP model besded on TF-IDF/BOW model.\n",
    "    * When use this feature selection method it is better to t start with less features to create rather than 100 of features in very first place.\n",
    "    * However this is not a best approach but on some extent it works well for some poblems."
   ]
  },
  {
   "cell_type": "markdown",
   "metadata": {},
   "source": [
    "**Method - 4:(Greedy feature Selection)**\n",
    "   - Approach:\n",
    "   \n",
    "       Since univariate feature selection may or may not work well. That's is why people refer **model based feature selection Approach**.\n",
    "       Steps in Greedy:\n",
    "           i) Choose the model first.\n",
    "           ii)Select the loss/scoring function.\n",
    "           iii) Iterative approach evaluate each feature and add it to the list of \"good\" feature iff it imporoves the previous score/loss.\n",
    "           \n",
    "* NOTE: \n",
    "    only disadvantages is that we need to fit the model each time when we evaluate feature. So time complexity get increased. \n",
    "    Moreover there is a high chance of overfitting if this feature selection method we did not use properly.(Why?)\n",
    "    And Also this is not exact forward feature selection because complexity of forward feature selection may be high but greedy doing job smartly."
   ]
  },
  {
   "cell_type": "code",
   "execution_count": 8,
   "metadata": {},
   "outputs": [],
   "source": [
    "from sklearn import linear_model\n",
    "from sklearn import metrics\n",
    "from sklearn.datasets import make_classification"
   ]
  },
  {
   "cell_type": "code",
   "execution_count": 11,
   "metadata": {},
   "outputs": [],
   "source": [
    "#custom wrapper for greedy feature selection\n",
    "#for almost any problem\n",
    "class GreedyFeatureSelection:\n",
    "    \n",
    "    #calculate AUC_score using linear model(we can select any model) \n",
    "    def evaluate_score(self, X, y):\n",
    "        model = linear_model.LogisticRegression()\n",
    "        model.fit(X, y)\n",
    "        predictions = model.predict_proba(X)[:, 1]\n",
    "        auc_scores = metrics.roc_auc_score(y, predictions)\n",
    "        return auc_scores\n",
    "        \n",
    "    #actual method for feature selection\n",
    "    def feature_selection(self, X, y):\n",
    "        \n",
    "        #good features and best scores list\n",
    "        good_features = []\n",
    "        best_scores = []\n",
    "        \n",
    "        #number of features in dataset\n",
    "        n_features = X.shape[1]\n",
    "        \n",
    "        \n",
    "        #infinite iterative loop \n",
    "        while True:\n",
    "            \n",
    "            #for every roud current feature as None and best_score as 0.\n",
    "            current_feature = None \n",
    "            best_score = 0\n",
    "            \n",
    "            #iterative approach for selcting single feature\n",
    "            for feature in range(n_features):\n",
    "                \n",
    "                #if feature aleady in good_feature list skip that one\n",
    "                if feature in good_features:\n",
    "                    continue\n",
    "                 \n",
    "                #create list that includes all features which are already good + current one\n",
    "                select_features = good_features + [feature]\n",
    "                \n",
    "                #prepare data\n",
    "                X_train = X[ : , select_features]\n",
    "                \n",
    "                #get auc_roc score\n",
    "                score = self.evaluate_score(X_train, y)\n",
    "\n",
    "                if score > best_score:\n",
    "                    best_score = score\n",
    "                    current_feature = feature\n",
    "                    \n",
    "          # add it to good feature list\n",
    "            if current_feature != None:\n",
    "                good_features.append(feature)\n",
    "                best_scores.append(best_score)\n",
    "                \n",
    "          # if in previous round my score wouldn't incearse than exit while loop  \n",
    "            if len(best_scores) > 2:\n",
    "                if best_scores[-2] > best_scores[-1]:\n",
    "                    break\n",
    "                \n",
    "         \n",
    "        #why removing last feature ? becoz previous score doesn't improove\n",
    "        return best_scores[:-1], good_features[:-1]\n",
    "            \n",
    "    \n",
    "    #call function call the class on these parameter\n",
    "    def __call__(self, X, y):\n",
    "        scores, features = self.feature_selection(X, y)\n",
    "        return X[:, features], scores"
   ]
  },
  {
   "cell_type": "code",
   "execution_count": 12,
   "metadata": {},
   "outputs": [
    {
     "name": "stdout",
     "output_type": "stream",
     "text": [
      "(1000, 100)\n",
      "(1000, 2)\n"
     ]
    }
   ],
   "source": [
    "#demo check for above \n",
    "if __name__ ==\"__main__\":\n",
    "    #Generate a random n-class classification problem.\n",
    "    X, y = make_classification(n_samples = 1000,\n",
    "                        n_features = 100,\n",
    "                        n_classes = 2)\n",
    "    X_transformed, scores = GreedyFeatureSelection()(X,y)\n",
    "    print(X.shape)\n",
    "    print(X_transformed.shape)"
   ]
  },
  {
   "cell_type": "markdown",
   "metadata": {},
   "source": [
    "**Method - 4:(Another Greedy mmethod - Recursive Feature Elimination(RFE))**\n",
    "   - Approach:\n",
    "       instead of selecting features one by one, we are removing features one by one.\n",
    "       - we start with all features and remove one feature in every iteration that provide the least score/loss to the model.\n",
    "     Challange is, how to know which feature will give us least score ?\n",
    "           - in case of linear SVM or logistic regression using the coefficient which is close to 0 are less imporatnat and in tree based approach by knowing the feature importance.\n",
    "           \n",
    "           \n",
    "* NOTE: \n",
    "   * Coefficient is more +ve which important for +ve class and Coefficient which are more -ve important for -ve class. \n",
    "   * we have the ability to select the n_features that we want."
   ]
  },
  {
   "cell_type": "code",
   "execution_count": 13,
   "metadata": {},
   "outputs": [
    {
     "name": "stdout",
     "output_type": "stream",
     "text": [
      "(20640, 8)\n"
     ]
    }
   ],
   "source": [
    "#get data for demonstration purpose \n",
    "from sklearn.datasets import fetch_california_housing\n",
    "\n",
    "#fetch_california_housing \n",
    "data = fetch_california_housing()\n",
    "X = data['data']\n",
    "col_names = data['feature_names']\n",
    "y = data['target']\n",
    "print(X.shape)"
   ]
  },
  {
   "cell_type": "code",
   "execution_count": 14,
   "metadata": {},
   "outputs": [
    {
     "name": "stdout",
     "output_type": "stream",
     "text": [
      "[[   8.3252   37.88   -122.23  ]\n",
      " [   8.3014   37.86   -122.22  ]\n",
      " [   7.2574   37.85   -122.24  ]\n",
      " ...\n",
      " [   1.7      39.43   -121.22  ]\n",
      " [   1.8672   39.43   -121.32  ]\n",
      " [   2.3886   39.37   -121.24  ]]\n"
     ]
    }
   ],
   "source": [
    "#No need to create the Wrapper, scikit-learn already has implementation for RFE.\n",
    "from sklearn.feature_selection import RFE\n",
    "from sklearn.linear_model import LinearRegression\n",
    "\n",
    "#initialize the model\n",
    "LR_model = LinearRegression()\n",
    "\n",
    "#initialize RFE for above model with required number of feature(Top feature that we want to retain)\n",
    "\n",
    "rfe = RFE(estimator = LR_model,\n",
    "    n_features_to_select = 3\n",
    ")\n",
    "\n",
    "#fit RFE\n",
    "rfe.fit(X, y)\n",
    "\n",
    "#Getting the transfomed data with selected columns\n",
    "X_transformed = rfe.transform(X)\n",
    "\n",
    "#we can also use rfe.fit_transform(X, y) directly\n",
    "print(X_transformed)"
   ]
  },
  {
   "cell_type": "markdown",
   "metadata": {},
   "source": [
    "* The above two approach are greedy method RFE, and greedy feature selection "
   ]
  },
  {
   "cell_type": "markdown",
   "metadata": {},
   "source": [
    "**Method - 5:(Model Based Selection)**\n",
    "   - Approach:\n",
    "       Selecting features based on ***Coefficients/importance of features(Tree based).***\n",
    "       \n",
    "       Procedure - we need to select the threshold, coeff > threshold then we keep the feature otherwise remove.\n",
    "   - 2nd approach can be using the model which support **L1 Norm(L1 regularizer(Lasso Penalization))** which create the sparsity i.e makes the most of the coefficient zero which are less important. And we select only feature with non-zero coefficient.  \n",
    "   \n",
    "**NOTE:**\n",
    "     * So in short we can get important features based on one model and then train another model based on features we had got from previous model. "
   ]
  },
  {
   "cell_type": "code",
   "execution_count": 15,
   "metadata": {},
   "outputs": [
    {
     "data": {
      "image/png": "[encoded data removed]",
      "text/plain": [
       "<Figure size 432x288 with 1 Axes>"
      ]
     },
     "metadata": {
      "needs_background": "light"
     },
     "output_type": "display_data"
    }
   ],
   "source": [
    "#get all dependencies\n",
    "from sklearn.datasets import load_diabetes\n",
    "from sklearn.ensemble import RandomForestRegressor\n",
    "import pandas as pd\n",
    "import numpy as np\n",
    "\n",
    "#load diabetes data for demonstration purpose\n",
    "data = load_diabetes()\n",
    "X = data['data']\n",
    "y = data['target']\n",
    "colm_names = data['feature_names']\n",
    "\n",
    "#initialize the model\n",
    "RF_model = RandomForestRegressor()\n",
    "RF_model.fit(X, y)\n",
    "\n",
    "#get the importance by using the coefficient \n",
    "importances = RF_model.feature_importances_\n",
    "\n",
    "#get indices according to the accending order of coefficient \n",
    "idxs = np.argsort(importances)\n",
    "\n",
    "plt.title(\"Features Imporatanaces\")\n",
    "plt.grid()\n",
    "plt.barh(range(len(idxs)), importances[idxs])\n",
    "plt.yticks(range(len(idxs)), [colm_names[i] for i in idxs])\n",
    "plt.ylabel('Columns')\n",
    "\n",
    "plt.xlabel('RandomForestFeature imporatance')\n",
    "plt.show()"
   ]
  },
  {
   "cell_type": "markdown",
   "metadata": {},
   "source": [
    "**Method - 6:(Scikit-learn SelectFromModel class)**\n",
    "   - Approach:\n",
    "       idea is same as above but it will give the important features directly based on model that we've chosen."
   ]
  },
  {
   "cell_type": "code",
   "execution_count": 16,
   "metadata": {},
   "outputs": [
    {
     "name": "stdout",
     "output_type": "stream",
     "text": [
      "['bmi', 's5']\n"
     ]
    }
   ],
   "source": [
    "from sklearn.feature_selection import SelectFromModel\n",
    "\n",
    "sfm = SelectFromModel(estimator = RF_model)\n",
    "X_transformed = sfm.fit_transform(X, y)\n",
    "support = sfm.get_support()\n",
    "\n",
    "#support return the True for those feature which are selected and False for those which are not selected\n",
    "\n",
    "#get feature names\n",
    "\n",
    "print([x for x, y in zip(colm_names, support) if y == True])"
   ]
  },
  {
   "cell_type": "markdown",
   "metadata": {},
   "source": [
    "From method - 5 we we can clearly see that we selected right features."
   ]
  },
  {
   "cell_type": "markdown",
   "metadata": {},
   "source": [
    "* Using Sklearn Pipeline method with less code.(same thing achieve automatically)"
   ]
  },
  {
   "cell_type": "code",
   "execution_count": 26,
   "metadata": {},
   "outputs": [
    {
     "data": {
      "text/plain": [
       "1.0"
      ]
     },
     "execution_count": 26,
     "metadata": {},
     "output_type": "execute_result"
    }
   ],
   "source": [
    "#we can also do same thing using sklern pipeline\n",
    "from sklearn.svm import LinearSVC\n",
    "from sklearn.ensemble import RandomForestClassifier\n",
    "from sklearn.model_selection import train_test_split\n",
    "from sklearn.pipeline import Pipeline\n",
    "from sklearn.linear_model import LogisticRegression \n",
    "\n",
    "#create dummy data\n",
    "X, y = make_classification(random_state=0)\n",
    "\n",
    "#split data into train and test\n",
    "X_train, X_test, y_train, y_test = train_test_split(X, y, random_state=0)\n",
    "\n",
    "#creating pipeline object with feature selection and classification model\n",
    "pipe = Pipeline([('feature selection', SelectFromModel(LogisticRegression(penalty='l2'))), \n",
    "               ('classification', RandomForestClassifier())]\n",
    ")\n",
    "\n",
    "#fit data into model\n",
    "pipe.fit(X, y)\n",
    "\n",
    "#get the score how good my model is?\n",
    "pipe.score(X_test, y_test)"
   ]
  },
  {
   "cell_type": "markdown",
   "metadata": {},
   "source": [
    "* here we are creating the model RandomForest based on selected features from LogisticRegression.\n",
    "* However in above we may overfit.\n",
    "* Order of tuples in pipe are very crucial.\n",
    "* But we are just reducing the code and precisely using the pipeline concept."
   ]
  },
  {
   "cell_type": "markdown",
   "metadata": {},
   "source": [
    "**Method - 7:(mlextend SequentialFeatureSelector wrapper)**\n",
    "   - Approach:\n",
    "       * it is same as method-4 greedy approach.\n",
    "       * it is exact forward feature selection \n",
    "       * mlxtend feature selector uses cross validation internally, and we set our desired folds.(More Robust Approach)\n",
    "       * Any method above is not guaranteed to get good results i.e AUC_score/accuracy then what we can do?\n",
    "           * Well, we could compare the resultant accuracies of the full model built using the selected features with the resultant accuracies of another full model using all of the features,\n",
    "           * if score not imporiving we change training algorithm to see how the selected feature performing diffrently.\n",
    "           * Such a feature selection method can be an effective part of a disciplined machine learning pipeline. "
   ]
  },
  {
   "cell_type": "code",
   "execution_count": null,
   "metadata": {},
   "outputs": [
    {
     "name": "stderr",
     "output_type": "stream",
     "text": [
      "[Parallel(n_jobs=1)]: Using backend SequentialBackend with 1 concurrent workers.\n",
      "[Parallel(n_jobs=1)]: Done   1 out of   1 | elapsed:    2.8s remaining:    0.0s\n",
      "[Parallel(n_jobs=1)]: Done  13 out of  13 | elapsed:   35.7s finished\n",
      "\n",
      "[2020-11-06 11:18:50] Features: 1/5 -- score: 0.7817733990147783[Parallel(n_jobs=1)]: Using backend SequentialBackend with 1 concurrent workers.\n",
      "[Parallel(n_jobs=1)]: Done   1 out of   1 | elapsed:    2.6s remaining:    0.0s\n",
      "[Parallel(n_jobs=1)]: Done  12 out of  12 | elapsed:   35.3s finished\n",
      "\n",
      "[2020-11-06 11:19:26] Features: 2/5 -- score: 0.9647783251231526[Parallel(n_jobs=1)]: Using backend SequentialBackend with 1 concurrent workers.\n",
      "[Parallel(n_jobs=1)]: Done   1 out of   1 | elapsed:    2.6s remaining:    0.0s\n",
      "[Parallel(n_jobs=1)]: Done  11 out of  11 | elapsed:   30.1s finished\n",
      "\n",
      "[2020-11-06 11:19:56] Features: 3/5 -- score: 0.9928571428571429[Parallel(n_jobs=1)]: Using backend SequentialBackend with 1 concurrent workers.\n",
      "[Parallel(n_jobs=1)]: Done   1 out of   1 | elapsed:    2.6s remaining:    0.0s\n"
     ]
    }
   ],
   "source": [
    "#data preparation for demontration purpose like fully actual project \n",
    "from sklearn.datasets import load_wine\n",
    "from sklearn.model_selection import train_test_split\n",
    "\n",
    "data = load_wine()\n",
    "X = data['data']\n",
    "y = data['target']\n",
    "\n",
    "X_train, x_test, Y_train, y_test = train_test_split(X, y , test_size = 0.2, random_state = 0)\n",
    "\n",
    "#now use model for forward selection\n",
    "\n",
    "from sklearn.ensemble import RandomForestClassifier\n",
    "from mlxtend.feature_selection import SequentialFeatureSelector as SFS\n",
    "\n",
    "model = RandomForestClassifier()\n",
    "sfs = SFS(model,\n",
    "          k_features = 5,\n",
    "          forward = True,\n",
    "          floating = False,\n",
    "          verbose = 2,\n",
    "          scoring = \"accuracy\",\n",
    "          cv = 5)\n",
    "sfs.fit(X_train, Y_train)"
   ]
  },
  {
   "cell_type": "code",
   "execution_count": 36,
   "metadata": {},
   "outputs": [
    {
     "data": {
      "text/plain": [
       "[0, 1, 3, 4, 6, 8, 9, 10]"
      ]
     },
     "execution_count": 36,
     "metadata": {},
     "output_type": "execute_result"
    }
   ],
   "source": [
    "good_features = list(sfs.k_feature_idx_)\n",
    "good_features"
   ]
  },
  {
   "cell_type": "code",
   "execution_count": 37,
   "metadata": {},
   "outputs": [
    {
     "name": "stdout",
     "output_type": "stream",
     "text": [
      "Test_Accuracy :  0.9444444444444444\n",
      "Train_Accuracy :  1.0\n"
     ]
    }
   ],
   "source": [
    "# Build full model with selected features\n",
    "# we can apply CV also based on hyperparametrs below is just a demonstration\n",
    "from sklearn.metrics import accuracy_score as acc\n",
    "\n",
    "#training\n",
    "clf = RandomForestClassifier(n_estimators = 200)\n",
    "clf.fit(X_train[:, good_features], Y_train)\n",
    "\n",
    "#testing the model\n",
    "y_test_pred = clf.predict(x_test[:, good_features])\n",
    "Y_train_pred = clf.predict(X_train[:, good_features])\n",
    "print('Test_Accuracy : ', acc(y_test, y_test_pred))\n",
    "print('Train_Accuracy : ', acc(Y_train, Y_train_pred))"
   ]
  },
  {
   "cell_type": "code",
   "execution_count": 38,
   "metadata": {},
   "outputs": [
    {
     "name": "stdout",
     "output_type": "stream",
     "text": [
      "Test_Accuracy :  0.9722222222222222\n",
      "Train_Accuracy :  1.0\n"
     ]
    }
   ],
   "source": [
    "# Build full model on ALL features, for comparison\n",
    "#training\n",
    "clf = RandomForestClassifier(n_estimators = 200)\n",
    "clf.fit(X_train, Y_train)\n",
    "\n",
    "#testing\n",
    "y_train_pred = clf.predict(X_train)\n",
    "y_test_pred = clf.predict(x_test)\n",
    "\n",
    "#score\n",
    "print('Test_Accuracy : ', acc(y_test, y_test_pred))\n",
    "print('Train_Accuracy : ', acc(Y_train, Y_train_pred))"
   ]
  },
  {
   "cell_type": "markdown",
   "metadata": {},
   "source": [
    "* **`Crucial Note Point for all above feature selection including current one`**:\n",
    "    \n",
    "*Keep in mind that step forward (or step backward(RFE)) methods, specifically, can provide problems **when dealing with especially large or highly-dimensional datasets.** There are ways of getting around (or trying to get around) these sticking points, such as **sampling from the data to find the feature subset which works best,** and then **using these features for the modeling process on the full dataset.** Of course, these are not the only disciplined approaches to feature selection either, and so checking out alternatives may be warranted when dealing with these larger datasets.*"
   ]
  },
  {
   "cell_type": "markdown",
   "metadata": {},
   "source": [
    "</h1><center>---FINISH---<center></h1>"
   ]
  }
 ],
 "metadata": {
  "kernelspec": {
   "display_name": "Python 3",
   "language": "python",
   "name": "python3"
  },
  "language_info": {
   "codemirror_mode": {
    "name": "ipython",
    "version": 3
   },
   "file_extension": ".py",
   "mimetype": "text/x-python",
   "name": "python",
   "nbconvert_exporter": "python",
   "pygments_lexer": "ipython3",
   "version": "3.7.4"
  }
 },
 "nbformat": 4,
 "nbformat_minor": 2
}
